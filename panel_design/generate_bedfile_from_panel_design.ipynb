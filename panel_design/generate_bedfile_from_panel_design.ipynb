{
 "cells": [
  {
   "cell_type": "markdown",
   "id": "63577f54",
   "metadata": {},
   "source": [
    "# Generate bed files from panel design files"
   ]
  },
  {
   "cell_type": "code",
   "execution_count": 1,
   "id": "14f5bdf7",
   "metadata": {},
   "outputs": [
    {
     "name": "stdout",
     "output_type": "stream",
     "text": [
      "Processing Lung_panel_version_1.1...\n",
      "Processing CRC_panel_version_3.1...\n",
      "Processing CRC_panel_version_1.1...\n",
      "Processing CRC_panel_version_1.2...\n",
      "Processing CRC_panel_version_2.1...\n",
      "Processing Truong_amplicon_PBMC_v1.1...\n",
      "Processing Runs_tracking...\n"
     ]
    }
   ],
   "source": [
    "import pandas as pd \n",
    "import numpy as np\n",
    "import pathlib \n",
    "import os \n",
    "import warnings\n",
    "warnings.filterwarnings(\"ignore\")\n",
    "\n",
    "xls = pd.ExcelFile('./All_panel_designs_20250601.xlsx')\n",
    "df = dict()\n",
    "for sheet_name in xls.sheet_names:\n",
    "    print(f\"Processing {sheet_name}...\")\n",
    "    df[sheet_name] = pd.read_excel(\"./All_panel_designs_20250601.xlsx\", sheet_name=sheet_name)    \n",
    "    if sheet_name != \"Runs_tracking\":\n",
    "        beddf = df[sheet_name][[\"Amplicon\", \"hg19\"]]\n",
    "        beddf[\"hg19\"] = beddf[\"hg19\"].apply(lambda x: x.replace(\" \", \"\").replace(\"Chr\", \"chr\"))  # Remove any extra spaces\n",
    "        beddf[\"chrom\"] = beddf[\"hg19\"].apply(lambda x: x.split(\":\")[0]) \n",
    "        beddf[\"start\"] = beddf[\"hg19\"].apply(lambda x: int(x.split(\":\")[1].split(\"-\")[0]))\n",
    "        beddf[\"end\"] = beddf[\"hg19\"].apply(lambda x: int(x.split(\":\")[1].split(\"-\")[1]))\n",
    "        beddf[[\"chrom\", \"start\", \"end\", \"Amplicon\"]].\\\n",
    "            sort_values(by = \"Amplicon\").\\\n",
    "                to_csv(\n",
    "                    f\"./beds/{sheet_name}.bed\", \n",
    "                    sep=\"\\t\", \n",
    "                    header=False, \n",
    "                    index=False\n",
    "                )"
   ]
  },
  {
   "cell_type": "markdown",
   "id": "b909de02",
   "metadata": {},
   "source": [
    "# Generate run list from Runs tracking sheet"
   ]
  },
  {
   "cell_type": "code",
   "execution_count": 2,
   "id": "6a3b0db9",
   "metadata": {},
   "outputs": [],
   "source": [
    "for pic in [\"Vi\", \"Truong\"]:\n",
    "    os.system(f\"mkdir -p {'../experiments/runs_group_by_panels/' + pic}\")\n",
    "    rundf = df[\"Runs_tracking\"].copy()\n",
    "    rundf = rundf[rundf[\"Name\"] == pic]\n",
    "    rundf[\"panel_version_name\"] = rundf[\"Panel version\"].apply(lambda x: x.replace(\"panel version \", \"v\"))\n",
    "\n",
    "    # save run lists summary\n",
    "    for panel_version in rundf.panel_version_name.unique():\n",
    "        pd.DataFrame(data = rundf[rundf[\"panel_version_name\"] ==  panel_version].Run.unique()).to_csv(\n",
    "            f\"../experiments/runs_group_by_panels/{pic}/\" + panel_version + \".txt\",\n",
    "            sep=\"\\t\",\n",
    "            header=False,\n",
    "            index=False\n",
    "        )"
   ]
  },
  {
   "cell_type": "code",
   "execution_count": 3,
   "id": "12444eae",
   "metadata": {},
   "outputs": [],
   "source": [
    "maindf = df[\"Runs_tracking\"].copy()"
   ]
  },
  {
   "cell_type": "code",
   "execution_count": 7,
   "id": "6f89b86e",
   "metadata": {},
   "outputs": [
    {
     "data": {
      "text/html": [
       "<div>\n",
       "<style scoped>\n",
       "    .dataframe tbody tr th:only-of-type {\n",
       "        vertical-align: middle;\n",
       "    }\n",
       "\n",
       "    .dataframe tbody tr th {\n",
       "        vertical-align: top;\n",
       "    }\n",
       "\n",
       "    .dataframe thead th {\n",
       "        text-align: right;\n",
       "    }\n",
       "</style>\n",
       "<table border=\"1\" class=\"dataframe\">\n",
       "  <thead>\n",
       "    <tr style=\"text-align: right;\">\n",
       "      <th></th>\n",
       "      <th>Run</th>\n",
       "      <th>SampleID</th>\n",
       "      <th>UMI</th>\n",
       "      <th>Panel version</th>\n",
       "      <th>Name</th>\n",
       "    </tr>\n",
       "  </thead>\n",
       "  <tbody>\n",
       "    <tr>\n",
       "      <th>565</th>\n",
       "      <td>R7332</td>\n",
       "      <td>DMR1</td>\n",
       "      <td>No</td>\n",
       "      <td>Truong_amplicon_PBMC_v1.1</td>\n",
       "      <td>Truong</td>\n",
       "    </tr>\n",
       "    <tr>\n",
       "      <th>566</th>\n",
       "      <td>R7332</td>\n",
       "      <td>DMR2</td>\n",
       "      <td>No</td>\n",
       "      <td>Truong_amplicon_PBMC_v1.1</td>\n",
       "      <td>Truong</td>\n",
       "    </tr>\n",
       "    <tr>\n",
       "      <th>567</th>\n",
       "      <td>R7332</td>\n",
       "      <td>DMR3</td>\n",
       "      <td>No</td>\n",
       "      <td>Truong_amplicon_PBMC_v1.1</td>\n",
       "      <td>Truong</td>\n",
       "    </tr>\n",
       "  </tbody>\n",
       "</table>\n",
       "</div>"
      ],
      "text/plain": [
       "       Run SampleID UMI              Panel version    Name\n",
       "565  R7332     DMR1  No  Truong_amplicon_PBMC_v1.1  Truong\n",
       "566  R7332     DMR2  No  Truong_amplicon_PBMC_v1.1  Truong\n",
       "567  R7332     DMR3  No  Truong_amplicon_PBMC_v1.1  Truong"
      ]
     },
     "execution_count": 7,
     "metadata": {},
     "output_type": "execute_result"
    }
   ],
   "source": [
    "maindf[maindf[\"Run\"] == \"R7332\"]"
   ]
  },
  {
   "cell_type": "code",
   "execution_count": 6,
   "id": "26b7c6cd",
   "metadata": {},
   "outputs": [
    {
     "data": {
      "text/plain": [
       "['R5057',\n",
       " 'R6801',\n",
       " 'R6829',\n",
       " 'R6873',\n",
       " 'R6914',\n",
       " 'R6958',\n",
       " 'R6973',\n",
       " 'R7002',\n",
       " 'R7090',\n",
       " 'R7135',\n",
       " 'R7150',\n",
       " 'R7151',\n",
       " 'R7182',\n",
       " 'R7212',\n",
       " 'R7240',\n",
       " 'R7249',\n",
       " 'R7266',\n",
       " 'R7288',\n",
       " 'R7297',\n",
       " 'R7312',\n",
       " 'R7331',\n",
       " 'R7332',\n",
       " 'R7347',\n",
       " 'R7353']"
      ]
     },
     "execution_count": 6,
     "metadata": {},
     "output_type": "execute_result"
    }
   ],
   "source": [
    "sorted(maindf.Run.unique())"
   ]
  }
 ],
 "metadata": {
  "kernelspec": {
   "display_name": "nextflow_dev",
   "language": "python",
   "name": "python3"
  },
  "language_info": {
   "codemirror_mode": {
    "name": "ipython",
    "version": 3
   },
   "file_extension": ".py",
   "mimetype": "text/x-python",
   "name": "python",
   "nbconvert_exporter": "python",
   "pygments_lexer": "ipython3",
   "version": "3.13.2"
  }
 },
 "nbformat": 4,
 "nbformat_minor": 5
}
