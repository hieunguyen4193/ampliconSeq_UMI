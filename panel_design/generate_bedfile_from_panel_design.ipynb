{
 "cells": [
  {
   "cell_type": "code",
   "execution_count": 1,
   "id": "14f5bdf7",
   "metadata": {},
   "outputs": [
    {
     "name": "stdout",
     "output_type": "stream",
     "text": [
      "Processing Lung_panel_version_1.1...\n",
      "Processing CRC_panel_version_3.1...\n",
      "Processing CRC_panel_version_1.1...\n",
      "Processing CRC_panel_version_1.2...\n",
      "Processing CRC_panel_version_2.1...\n",
      "Processing Truong_amplicon_PBMC_v1.1...\n"
     ]
    }
   ],
   "source": [
    "import pandas as pd \n",
    "import numpy as np\n",
    "import pathlib \n",
    "import os \n",
    "import warnings\n",
    "warnings.filterwarnings(\"ignore\")\n",
    "\n",
    "xls = pd.ExcelFile('./All_panel_designs_20250601.xlsx')\n",
    "df = dict()\n",
    "for sheet_name in [item for item in xls.sheet_names if item != \"Runs_tracking\"]:\n",
    "    print(f\"Processing {sheet_name}...\")\n",
    "    df[sheet_name] = pd.read_excel(\"./All_panel_designs_20250601.xlsx\", sheet_name=sheet_name)    \n",
    "    beddf = df[sheet_name][[\"Amplicon\", \"hg19\"]]\n",
    "    beddf[\"hg19\"] = beddf[\"hg19\"].apply(lambda x: x.replace(\" \", \"\"))  # Remove any extra spaces\n",
    "    beddf[\"chrom\"] = beddf[\"hg19\"].apply(lambda x: x.split(\":\")[0]) \n",
    "    beddf[\"start\"] = beddf[\"hg19\"].apply(lambda x: int(x.split(\":\")[1].split(\"-\")[0]))\n",
    "    beddf[\"end\"] = beddf[\"hg19\"].apply(lambda x: int(x.split(\":\")[1].split(\"-\")[1]))\n",
    "    beddf[[\"chrom\", \"start\", \"end\", \"Amplicon\"]].\\\n",
    "        sort_values(by = \"Amplicon\").\\\n",
    "            to_csv(\n",
    "                f\"./beds/{sheet_name}.bed\", \n",
    "                sep=\"\\t\", \n",
    "                header=False, \n",
    "                index=False\n",
    "            )"
   ]
  }
 ],
 "metadata": {
  "kernelspec": {
   "display_name": "nextflow_dev",
   "language": "python",
   "name": "python3"
  },
  "language_info": {
   "codemirror_mode": {
    "name": "ipython",
    "version": 3
   },
   "file_extension": ".py",
   "mimetype": "text/x-python",
   "name": "python",
   "nbconvert_exporter": "python",
   "pygments_lexer": "ipython3",
   "version": "3.13.2"
  }
 },
 "nbformat": 4,
 "nbformat_minor": 5
}
