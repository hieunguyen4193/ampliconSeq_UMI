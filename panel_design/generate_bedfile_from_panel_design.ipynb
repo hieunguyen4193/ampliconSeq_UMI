{
 "cells": [
  {
   "cell_type": "markdown",
   "id": "63577f54",
   "metadata": {},
   "source": [
    "# Generate bed files from panel design files"
   ]
  },
  {
   "cell_type": "code",
   "execution_count": 1,
   "id": "14f5bdf7",
   "metadata": {},
   "outputs": [
    {
     "name": "stdout",
     "output_type": "stream",
     "text": [
      "Processing Lung_panel_version_1.1...\n",
      "Processing CRC_panel_version_3.1...\n",
      "Processing CRC_panel_version_1.1...\n",
      "Processing CRC_panel_version_1.2...\n",
      "Processing CRC_panel_version_2.1...\n",
      "Processing Truong_amplicon_PBMC_v1.1...\n",
      "Processing Runs_tracking...\n"
     ]
    }
   ],
   "source": [
    "import pandas as pd \n",
    "import numpy as np\n",
    "import pathlib \n",
    "import os \n",
    "import warnings\n",
    "warnings.filterwarnings(\"ignore\")\n",
    "\n",
    "xls = pd.ExcelFile('./All_panel_designs_20250601.xlsx')\n",
    "df = dict()\n",
    "for sheet_name in xls.sheet_names:\n",
    "    print(f\"Processing {sheet_name}...\")\n",
    "    df[sheet_name] = pd.read_excel(\"./All_panel_designs_20250601.xlsx\", sheet_name=sheet_name)    \n",
    "    if sheet_name != \"Runs_tracking\":\n",
    "        beddf = df[sheet_name][[\"Amplicon\", \"hg19\"]]\n",
    "        beddf[\"hg19\"] = beddf[\"hg19\"].apply(lambda x: x.replace(\" \", \"\").replace(\"Chr\", \"chr\"))  # Remove any extra spaces\n",
    "        beddf[\"chrom\"] = beddf[\"hg19\"].apply(lambda x: x.split(\":\")[0]) \n",
    "        beddf[\"start\"] = beddf[\"hg19\"].apply(lambda x: int(x.split(\":\")[1].split(\"-\")[0]))\n",
    "        beddf[\"end\"] = beddf[\"hg19\"].apply(lambda x: int(x.split(\":\")[1].split(\"-\")[1]))\n",
    "        beddf[[\"chrom\", \"start\", \"end\", \"Amplicon\"]].\\\n",
    "            sort_values(by = \"Amplicon\").\\\n",
    "                to_csv(\n",
    "                    f\"./beds/{sheet_name}.bed\", \n",
    "                    sep=\"\\t\", \n",
    "                    header=False, \n",
    "                    index=False\n",
    "                )"
   ]
  },
  {
   "cell_type": "markdown",
   "id": "b909de02",
   "metadata": {},
   "source": [
    "# Generate run list from Runs tracking sheet"
   ]
  },
  {
   "cell_type": "code",
   "execution_count": 4,
   "id": "6a3b0db9",
   "metadata": {},
   "outputs": [],
   "source": [
    "for pic in [\"Vi\", \"Truong\"]:\n",
    "    os.system(f\"mkdir -p {'../experiments/runs_group_by_panels/' + pic}\")\n",
    "    rundf = df[\"Runs_tracking\"].copy()\n",
    "    rundf = rundf[rundf[\"Name\"] == pic]\n",
    "    rundf[\"panel_version_name\"] = rundf[\"Panel version\"].apply(lambda x: x.replace(\"panel version \", \"v\"))\n",
    "\n",
    "    # save run lists summary\n",
    "    for panel_version in rundf.panel_version_name.unique():\n",
    "        pd.DataFrame(data = rundf[rundf[\"panel_version_name\"] ==  panel_version].Run.unique()).to_csv(\n",
    "            f\"../experiments/runs_group_by_panels/{pic}/\" + panel_version + \".txt\",\n",
    "            sep=\"\\t\",\n",
    "            header=False,\n",
    "            index=False\n",
    "        )"
   ]
  },
  {
   "cell_type": "code",
   "execution_count": null,
   "id": "a8b8cf88",
   "metadata": {},
   "outputs": [],
   "source": [
    "df"
   ]
  }
 ],
 "metadata": {
  "kernelspec": {
   "display_name": "nextflow_dev",
   "language": "python",
   "name": "python3"
  },
  "language_info": {
   "codemirror_mode": {
    "name": "ipython",
    "version": 3
   },
   "file_extension": ".py",
   "mimetype": "text/x-python",
   "name": "python",
   "nbconvert_exporter": "python",
   "pygments_lexer": "ipython3",
   "version": "3.13.2"
  }
 },
 "nbformat": 4,
 "nbformat_minor": 5
}
