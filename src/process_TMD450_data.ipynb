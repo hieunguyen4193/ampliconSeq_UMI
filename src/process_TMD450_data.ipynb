{
 "cells": [
  {
   "cell_type": "code",
   "execution_count": 1,
   "id": "9747eb15",
   "metadata": {},
   "outputs": [
    {
     "name": "stderr",
     "output_type": "stream",
     "text": [
      "100%|██████████| 9439/9439 [00:01<00:00, 7378.42it/s]\n",
      "100%|██████████| 9439/9439 [00:01<00:00, 8273.92it/s]\n",
      "100%|██████████| 9439/9439 [00:01<00:00, 8429.04it/s]\n",
      "100%|██████████| 9439/9439 [00:01<00:00, 8411.08it/s]\n",
      "100%|██████████| 9439/9439 [00:01<00:00, 8434.62it/s]\n"
     ]
    }
   ],
   "source": [
    "import pandas as pd \n",
    "import numpy as np \n",
    "import matplotlib.pyplot as plt \n",
    "import seaborn as sns \n",
    "import os\n",
    "import pathlib\n",
    "import pysam\n",
    "import pyfaidx\n",
    "import warnings\n",
    "from tqdm import tqdm\n",
    "warnings.filterwarnings(\"ignore\")\n",
    "from panel_configs import *\n",
    "from liftover_TMD450 import *\n",
    "from helper_functions import *\n",
    "\n",
    "\n",
    "pic = \"Vi\"  \n",
    "for region_version in regions[pic].keys():\n",
    "    # INPUT\n",
    "    path_to_all_fa = \"/media/hieunguyen/GSHD_HN01/storage/resources/hg19\"\n",
    "    maindir = \"/media/hieunguyen/HNHD01/raw_data/targetMethyl_analysis\"\n",
    "    outputdir = \"/media/hieunguyen/HNSD01/src/ampliconSeq_UMI/CONTROL114_ref_data\"\n",
    "    # region_version = \"CRC_1.1\"\n",
    "    output_version = \"20250601\"\n",
    "    control114_cov = \"/media/hieunguyen/HNHD01/raw_data/targetMethyl_analysis/CONTROL114/65-CONTROL114CT836T_M550-M750.cg_cov.bed\"\n",
    "    beddir = \"../panel_design/beds\"\n",
    "\n",
    "    ##### MAIN RUN\n",
    "    covdf = pd.read_csv(control114_cov, sep = \"\\t\", header = None)\n",
    "\n",
    "    regiondf = pd.read_csv(os.path.join(beddir, regions[pic][region_version]), sep = \"\\t\", header = None)\n",
    "    regiondf.columns = [\"chrom\", \"start\", \"end\", \"amplicon_name\"]\n",
    "    regiondf = regiondf[[\"chrom\", \"start\", \"end\", \"amplicon_name\"]]\n",
    "    regiondf[\"region_name\"] = regiondf[[\"chrom\", \"start\", \"end\"]].apply(\n",
    "        lambda x: f\"region_{x[0]}_{x[1]}_{x[2]}\", axis = 1\n",
    "    )\n",
    "    regiondf[\"bam_region\"] = regiondf[[\"chrom\", \"start\", \"end\"]].apply(\n",
    "        lambda x: f\"{x[0].replace('chr', '')}:{x[1]}-{x[2]}\", axis = 1\n",
    "    )\n",
    "\n",
    "    ##### get list of all real cpg for this panel\n",
    "    real_cpgdf = pd.DataFrame()\n",
    "    for region in regiondf.region_name.unique():\n",
    "        chrom = region.split(\"_\")[1].replace(\"chr\", \"\")\n",
    "        start = int(region.split(\"_\")[2])\n",
    "        end = int(region.split(\"_\")[3])\n",
    "        refseq = pyfaidx.Fasta(os.path.join(path_to_all_fa, \"chr{}.fa\".format(chrom)))\n",
    "        refseq_at_region = str.upper(refseq.get_seq(name = \"chr{}\".format(chrom), start = start, end = end).seq)\n",
    "\n",
    "        all_cpg_in_cluster = [m.start(0) for m in re.finditer(\"CG\", refseq_at_region)]\n",
    "        cpg_coords = [f\"chr{chrom}:{item + start}-{item + start + 1}\" for item in all_cpg_in_cluster]\n",
    "\n",
    "        tmp_real_cpgdf = pd.DataFrame(data = cpg_coords, columns = [\"CpG\"])\n",
    "        tmp_real_cpgdf[\"region\"] = region\n",
    "        real_cpgdf = pd.concat([real_cpgdf, tmp_real_cpgdf], axis = 0)\n",
    "\n",
    "    real_cpgdf = real_cpgdf[[\"region\", \"CpG\"]]\n",
    "\n",
    "    tqdm.pandas()\n",
    "\n",
    "    path_to_save_cov = os.path.join(outputdir, f\"region_version_{region_version}\")\n",
    "    os.system(f\"mkdir -p {path_to_save_cov}\")\n",
    "\n",
    "    covdfhg19 = liftOver_hg38_to_hg19(covdf)\n",
    "    covdfhg19[\"seq\"] = covdfhg19[[\"chrom\", \"start\"]].progress_apply(lambda x: get_refseq(path_to_all_fa= path_to_all_fa, \n",
    "                                                                            chrom = x[0], start = x[1], end = x[1] + 1), axis = 1)\n",
    "    covdfhg19[\"strand\"] = covdfhg19[\"seq\"].apply(lambda x: \"+\" if x != \"CG\" else \"-\")\n",
    "    covdfhg19_raw = covdfhg19.copy()\n",
    "    covdfhg19[\"start\"] = covdfhg19[[\"seq\", \"start\"]].apply(lambda x: x[1] + 1 if x[0] != \"CG\" else x[1], axis = 1)\n",
    "\n",
    "    strand_name = {\"+\": \"plus\", \"-\": \"minus\"}\n",
    "\n",
    "    for strand in [\"+\", \"-\"]:\n",
    "        for region in regiondf.region_name.unique():\n",
    "                chrom = region.split(\"_\")[1]\n",
    "                start = int(region.split(\"_\")[2])\n",
    "                end = int(region.split(\"_\")[3])\n",
    "                save_covdf = covdfhg19[(covdfhg19[\"chrom\"] == chrom) & \n",
    "                    (covdfhg19[\"start\"] >= start) & (covdfhg19[\"start\"] <= end) & (covdfhg19[\"strand\"] == strand)]\n",
    "                save_covdf[\"CpG\"] = save_covdf[[\"chrom\", \"start\"]].apply(lambda x: f\"{str(x[0])}:{x[1]}-{x[1] + 1}\", axis = 1)\n",
    "                save_covdf[\"check_context\"] = save_covdf[\"CpG\"].apply(lambda x: \"CpG_context\" if x in real_cpgdf[\"CpG\"].values else \"False\")\n",
    "                save_covdf.to_excel(f\"{path_to_save_cov}/{region}_strand_{strand_name[strand]}.xlsx\", index = False)\n",
    "                "
   ]
  },
  {
   "cell_type": "code",
   "execution_count": 3,
   "id": "35f86bb0",
   "metadata": {},
   "outputs": [
    {
     "data": {
      "text/plain": [
       "array(['-', '+'], dtype=object)"
      ]
     },
     "execution_count": 3,
     "metadata": {},
     "output_type": "execute_result"
    }
   ],
   "source": [
    "covdfhg19.strand.unique()"
   ]
  }
 ],
 "metadata": {
  "kernelspec": {
   "display_name": "nextflow_dev",
   "language": "python",
   "name": "python3"
  },
  "language_info": {
   "codemirror_mode": {
    "name": "ipython",
    "version": 3
   },
   "file_extension": ".py",
   "mimetype": "text/x-python",
   "name": "python",
   "nbconvert_exporter": "python",
   "pygments_lexer": "ipython3",
   "version": "3.13.2"
  }
 },
 "nbformat": 4,
 "nbformat_minor": 5
}
