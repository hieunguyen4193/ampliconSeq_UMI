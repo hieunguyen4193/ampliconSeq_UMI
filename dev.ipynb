{
 "cells": [
  {
   "cell_type": "code",
   "execution_count": 3,
   "id": "02f71934",
   "metadata": {},
   "outputs": [
    {
     "data": {
      "text/plain": [
       "'TCCCCTTTCTCTCTTCATTTTGGGTGGCGTTCTCCAGCTCTAGTGCAGACAATTAGCATGATTTCTCCACTCTGGGCACGTCCCCTTTGTACCACTCGGAGTTTCTCTGCCCGAACACAACCCTGCCAACTTCCCTCTGAATACAC'"
      ]
     },
     "execution_count": 3,
     "metadata": {},
     "output_type": "execute_result"
    }
   ],
   "source": [
    "import pandas as pd \n",
    "import numpy as np \n",
    "import matplotlib.pyplot as plt \n",
    "import seaborn as sns \n",
    "import os\n",
    "import pathlib\n",
    "import pysam\n",
    "import pyfaidx\n",
    "import warnings\n",
    "import re\n",
    "import argparse\n",
    "import sys\n",
    "\n",
    "region = \"chr11_124805885_124806030\"\n",
    "path_to_all_fa = \"/media/hieunguyen/GSHD_HN01/storage/resources/hg19\"\n",
    "chrom = region.split(\"_\")[0].replace(\"chr\", \"\")\n",
    "start = int(region.split(\"_\")[1])\n",
    "end = int(region.split(\"_\")[2])\n",
    "refseq = pyfaidx.Fasta(os.path.join(path_to_all_fa, \"chr{}.fa\".format(chrom)))\n",
    "refseq_at_region = str.upper(refseq.get_seq(name = \"chr{}\".format(chrom), start = start, end = end).seq)\n",
    "refseq_at_region"
   ]
  }
 ],
 "metadata": {
  "kernelspec": {
   "display_name": "pytorch",
   "language": "python",
   "name": "python3"
  },
  "language_info": {
   "codemirror_mode": {
    "name": "ipython",
    "version": 3
   },
   "file_extension": ".py",
   "mimetype": "text/x-python",
   "name": "python",
   "nbconvert_exporter": "python",
   "pygments_lexer": "ipython3",
   "version": "3.9.19"
  }
 },
 "nbformat": 4,
 "nbformat_minor": 5
}
