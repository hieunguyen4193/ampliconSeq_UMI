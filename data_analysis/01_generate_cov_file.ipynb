{
 "cells": [
  {
   "cell_type": "code",
   "execution_count": null,
   "id": "d998eaa1",
   "metadata": {},
   "outputs": [],
   "source": [
    "import pandas as pd \n",
    "import numpy as np \n",
    "import matplotlib.pyplot as plt \n",
    "import seaborn as sns \n",
    "import os\n",
    "import pathlib\n",
    "import pysam\n",
    "import pyfaidx\n",
    "import warnings\n",
    "import re\n",
    "import argparse\n",
    "import sys\n",
    "from tqdm import tqdm \n",
    "tqdm.pandas()\n",
    "warnings.filterwarnings(\"ignore\")\n",
    "\n",
    "path_to_all_fa = \"/media/hieunguyen/GSHD_HN01/storage/resources/hg19\"\n",
    "paneldf = pd.read_excel(\"../metadata/Amplicon_Panel Lung_bedfile.xlsx\", index_col = [0]).reset_index()\n",
    "genome_version = \"hg19\"\n",
    "# output_type = \"connor\"\n",
    "output_type = \"raw\"\n",
    "\n",
    "path_to_main_output = \"/media/hieunguyen/HNHD01/outdir/ampliconSeq/R7288/data_analysis\"\n",
    "path_to_01_output = os.path.join(path_to_main_output, output_type, \"01_output\")\n",
    "os.system(f\"mkdir -p {path_to_01_output}\")\n",
    "\n",
    "def get_refseq(path_to_all_fa, chrom, start, end):\n",
    "        refseq = pyfaidx.Fasta(os.path.join(path_to_all_fa, \"{}.fa\".format(chrom)))\n",
    "        return(str.upper(refseq.get_seq(name = \"{}\".format(chrom), start = start, end = end).seq))\n",
    "\n",
    "##### get list of all real cpg for this panel\n",
    "cpgdf = pd.DataFrame()\n",
    "for region in paneldf[genome_version].unique():\n",
    "    region_name = paneldf[paneldf[genome_version] == region][\"index\"].values[0]\n",
    "    chrom = region.split(\":\")[0].replace(\"chr\", \"\")\n",
    "    start = int(region.split(\":\")[1].split(\"-\")[0])\n",
    "    end = int(region.split(\":\")[1].split(\"-\")[1])\n",
    "    refseq = pyfaidx.Fasta(os.path.join(path_to_all_fa, \"chr{}.fa\".format(chrom)))\n",
    "    refseq_at_region = str.upper(refseq.get_seq(name = \"chr{}\".format(chrom), start = start, end = end).seq)\n",
    "\n",
    "    all_cpg_in_cluster = [m.start(0) for m in re.finditer(\"CG\", refseq_at_region)]\n",
    "    cpg_coords = [f\"chr{chrom}:{item + start}-{item + start + 1}\" for item in all_cpg_in_cluster]\n",
    "\n",
    "    tmp_cpgdf = pd.DataFrame(data = cpg_coords, columns = [\"CpG\"])\n",
    "    tmp_cpgdf[\"region\"] = region\n",
    "    tmp_cpgdf[\"region_name\"] = region_name\n",
    "    cpgdf = pd.concat([cpgdf, tmp_cpgdf], axis = 0)\n",
    "\n",
    "cpgdf = cpgdf[[\"region\", \"CpG\", \"region_name\"]]\n",
    "\n",
    "covdir = \"/media/hieunguyen/HNHD01/outdir/ampliconSeq/R7288/BISMARK_COV\"\n",
    "\n",
    "# fetch .connor.bam files only, UMI pre-processed files\n",
    "if output_type == \"connor\":\n",
    "    all_cov_files = [item for item in pathlib.Path(covdir).glob(\"*.cov\") if \"connor\" in item.name]\n",
    "if output_type == \"raw\":\n",
    "    all_cov_files = [item for item in pathlib.Path(covdir).glob(\"*.cov\") if \"trimmed\" in item.name]\n",
    "\n",
    "print(f\"Number of input cov file in this folder: {len(all_cov_files)}\")\n",
    "metadata = pd.DataFrame(data = [str(item) for item in all_cov_files], columns = [\"path\"])\n",
    "metadata[\"SampleID\"] = metadata[\"path\"].apply(lambda x: x.split(\"/\")[-1].split(\".connor\")[0].split(\"_\")[0].split(\"-\")[1])\n",
    "metadata[\"Sample\"] = metadata[\"SampleID\"].apply(lambda x: x.replace(\"TM\", \"\") if \"PANEL\" in x else f\"S{x.split('S')[1]}\")\n",
    "metadata[\"amplicon\"] = metadata[[\"SampleID\", \"Sample\"]].apply(lambda x: x[0].replace(\"TM\", \"\").replace(x[1], \"\"), axis = 1)\n",
    "metadata[\"BAM\"] = metadata[\"path\"].apply(lambda x: x.replace(\"bedGraph.gz.bismark.zero.cov\", \"bam\").replace(\"BISMARK_COV\", \"BISMARK_ALIGNMENT\"))\n",
    "\n",
    "proc_cov_path = []\n",
    "for input_cov_file in metadata.path.to_list():\n",
    "    sampleid = input_cov_file.split(\"/\")[-1].split(\".connor\")[0]\n",
    "    if os.path.isfile(os.path.join(path_to_01_output, f\"{sampleid}_cov.xlsx\")) == False:\n",
    "        covdf = pd.read_csv(input_cov_file, header = None, sep = \"\\t\")\n",
    "        covdf.columns = [\"chrom\", \"start\", \"end\", \"meth_density\", \"countC\", \"countT\"]\n",
    "        covdf = covdf[covdf[\"chrom\"].isin([\"chrX\", \"chrY\", \"chrMT\"]) == False]\n",
    "        covdf = covdf[covdf[\"chrom\"].str.contains(\"chrUn\") == False]\n",
    "        covdf = covdf[covdf[\"chrom\"].str.contains(\"_\") == False]\n",
    "        covdf[\"seq\"] = covdf[[\"chrom\", \"start\"]].progress_apply(lambda x: get_refseq(path_to_all_fa= path_to_all_fa, \n",
    "                                                                chrom = x[0], start = x[1], end = x[1] + 1), axis = 1)\n",
    "        covdf[\"strand\"] = covdf[\"seq\"].apply(lambda x: \"+\" if x != \"CG\" else \"-\")\n",
    "        covdf_raw = covdf.copy()\n",
    "        covdf[\"start\"] = covdf[[\"seq\", \"start\"]].apply(lambda x: x[1] + 1 if x[0] != \"CG\" else x[1], axis = 1)\n",
    "\n",
    "        covdf[\"chrom\"] = covdf[\"chrom\"].apply(lambda x: str(x))\n",
    "        covdf[\"CpG\"] = covdf[[\"chrom\", \"start\"]].apply(lambda x: f\"{str(x[0])}:{x[1]}-{x[1] + 1}\", axis = 1)\n",
    "        covdf[\"check_context\"] = covdf[\"CpG\"].apply(lambda x: \"CpG_context\" if x in cpgdf[\"CpG\"].values else \"False\")\n",
    "        covdf[\"amplicon\"] = covdf[\"CpG\"].apply(lambda x: cpgdf[cpgdf[\"CpG\"] == x][\"region_name\"].values[0] if x in cpgdf[\"CpG\"].values else \"NA\")\n",
    "\n",
    "        covdf.to_excel(os.path.join(path_to_01_output, f\"{sampleid}_cov.xlsx\"), index = False)\n",
    "        proc_cov_path.append(os.path.join(path_to_01_output, f\"{sampleid}_cov.xlsx\"))\n",
    "    else:\n",
    "        proc_cov_path.append(os.path.join(path_to_01_output, f\"{sampleid}_cov.xlsx\"))\n",
    "metadata[\"proc_cov_path\"] = proc_cov_path"
   ]
  },
  {
   "cell_type": "markdown",
   "id": "6c87a077",
   "metadata": {},
   "source": [
    "# Plot: S1 --> S5 and methylation density of all captured CpG in the amplicon region"
   ]
  },
  {
   "cell_type": "code",
   "execution_count": null,
   "id": "bc4f1c4b",
   "metadata": {},
   "outputs": [],
   "source": [
    "os.system(f\"mkdir -p {os.path.join(path_to_01_output, 'S1_to_S5_in_amplicons')}\")\n",
    "\n",
    "# for amplicon in paneldf[\"index\"].unique():\n",
    "for amplicon in [\"L11\"]:\n",
    "    tmp_metadata = metadata[metadata[\"amplicon\"] == amplicon].sort_values(by = \"Sample\")\n",
    "    covdf = pd.DataFrame(data = cpgdf[cpgdf[\"region_name\"] == amplicon][\"CpG\"].values, columns = [\"CpG\"])\n",
    "        \n",
    "    if tmp_metadata.shape[0] > 1:\n",
    "        for i in range(tmp_metadata.shape[0]):\n",
    "            p = tmp_metadata.iloc[i][\"proc_cov_path\"]\n",
    "            sample  = tmp_metadata.iloc[i][\"Sample\"]\n",
    "            tmp_covdf = pd.read_excel(p)[[\"CpG\", \"meth_density\"]]\n",
    "            tmp_covdf.columns = [\"CpG\", f\"{amplicon}_{sample}\"]\n",
    "            covdf = covdf.merge(tmp_covdf, right_on = \"CpG\", left_on = \"CpG\")\n",
    "        if covdf.shape[0] > 1:\n",
    "            plt.figure(figsize=(12, 6))\n",
    "            covdf.set_index(\"CpG\").T.plot.line()\n",
    "            plt.legend(bbox_to_anchor=(1.05, 1), loc='upper left', borderaxespad=0.)\n",
    "            plt.tight_layout()\n",
    "            plt.title(f\"Methylation Density in {amplicon} Amplicon, {output_type} \\n Samples: {', '.join(tmp_metadata['Sample'].unique())}\")\n",
    "            plt.savefig(os.path.join(path_to_01_output, \"S1_to_S5_in_amplicons\", f\"{amplicon}_methylation_density.png\"), dpi=300, bbox_inches='tight')\n"
   ]
  },
  {
   "cell_type": "code",
   "execution_count": null,
   "id": "9a97037b",
   "metadata": {},
   "outputs": [],
   "source": [
    "tmp_metadata"
   ]
  },
  {
   "cell_type": "code",
   "execution_count": null,
   "id": "d5523e7e",
   "metadata": {},
   "outputs": [],
   "source": [
    "covdf"
   ]
  },
  {
   "cell_type": "markdown",
   "id": "02bd8019",
   "metadata": {},
   "source": [
    "# Count reads in regions"
   ]
  },
  {
   "cell_type": "code",
   "execution_count": null,
   "id": "a2e38b7a",
   "metadata": {},
   "outputs": [],
   "source": [
    "# all_BAMs = metadata[\"BAM\"].unique().tolist()\n",
    "# for file in all_BAMs:\n",
    "#     os.system(f\"samtools sort {file} -o {file.replace('.bam', '.sorted.bam')}\")\n",
    "#     os.system(f\"samtools index {file.replace('.bam', '.sorted.bam')}\")"
   ]
  },
  {
   "cell_type": "code",
   "execution_count": null,
   "id": "b9f73c9e",
   "metadata": {},
   "outputs": [],
   "source": [
    "###### count on/off target reads\n",
    "def count_read_in_region(bam_path, region, chr_mode = False):\n",
    "    all_reads = []\n",
    "    bamfile = pysam.AlignmentFile(bam_path, \"rb\")\n",
    "    if chr_mode:\n",
    "        region = f\"chr{region}\"\n",
    "    fetched_obj = bamfile.fetch(region = region)\n",
    "    for read in fetched_obj:\n",
    "        all_reads.append(read)\n",
    "    return(len(all_reads))\n",
    "\n",
    "rerun = False\n",
    "if os.path.isfile(os.path.join(path_to_01_output, f\"read_count_in_region.xlsx\")) == False or rerun == True:\n",
    "    tqdm.pandas()\n",
    "    metadata[\"num_total_reads\"] = metadata[\"BAM\"].progress_apply(lambda x: int(pysam.samtools.view(\"-c\", x.replace(\".bam\", \".sorted.bam\"), catch_stdout=True)))\n",
    "\n",
    "    for bam_region in tqdm(paneldf[genome_version].unique()):\n",
    "        region_name = paneldf[paneldf[genome_version] == bam_region][\"index\"].values[0]\n",
    "        metadata[f\"count_{region_name}\"] = metadata[\"BAM\"].apply(lambda x: count_read_in_region(x.replace(\".bam\", \".sorted.bam\"), bam_region))\n",
    "        metadata[f\"pct_{region_name}\"] = metadata[f\"count_{region_name}\"] / metadata[\"num_total_reads\"] * 100\n",
    "        \n",
    "    metadata.to_excel(os.path.join(path_to_01_output, f\"read_count_in_region.xlsx\"), index = False)\n",
    "else:\n",
    "    print(\"File already exists, skip counting reads in regions. Reading existing data... \")\n",
    "    metadata = pd.read_excel(os.path.join(path_to_01_output, f\"read_count_in_region.xlsx\"))\n",
    "\n",
    "plotdf = metadata.sort_values(by = \"amplicon\")[[item for item in metadata.columns if \"pct\" in item] + [\"SampleID\"]].sort_values(by = \"SampleID\").set_index(\"SampleID\")\n",
    "plt.figure(figsize=(35, 20))\n",
    "sns.heatmap(plotdf,cmap=\"YlGnBu\", fmt=\".2f\", annot=True, linewidths=.5, linecolor='black', cbar_kws={\"label\": \"Percentage of reads in region (%)\"})"
   ]
  },
  {
   "cell_type": "code",
   "execution_count": null,
   "id": "9aac4cf0",
   "metadata": {},
   "outputs": [],
   "source": [
    "plotdf = metadata.sort_values(by = \"amplicon\")[[item for item in metadata.columns if \"count\" in item] + [\"SampleID\"]].sort_values(by = \"SampleID\").set_index(\"SampleID\")\n",
    "plt.figure(figsize=(20, 20))\n",
    "sns.heatmap(plotdf,cmap=\"YlGnBu\", fmt=\".2f\", annot=True, linewidths=.5, linecolor='black', cbar_kws={\"label\": \"Percentage of reads in region (%)\"})"
   ]
  },
  {
   "cell_type": "code",
   "execution_count": null,
   "id": "317ddd10",
   "metadata": {},
   "outputs": [],
   "source": [
    "methdf = pd.DataFrame()\n",
    "for sampleid in tqdm(metadata.SampleID.unique()):\n",
    "    covdf = pd.read_excel(metadata[metadata[\"SampleID\"] == sampleid][\"proc_cov_path\"].values[0])\n",
    "    covdf[covdf[\"check_context\"] == \"CpG_context\"]\n",
    "    tmpdf = pd.DataFrame(data = [sampleid], columns = [\"SampleID\"])\n",
    "    for amplicon in paneldf[\"index\"].unique():\n",
    "        tmpdf[amplicon] = covdf[covdf[\"amplicon\"] == amplicon][\"meth_density\"].mean()\n",
    "    tmpdf.fillna(0, inplace = True)\n",
    "    methdf = pd.concat([methdf, tmpdf], axis = 0)\n",
    "methdf.sort_values(by = \"SampleID\", inplace = True)\n"
   ]
  },
  {
   "cell_type": "code",
   "execution_count": null,
   "id": "bf6bcbda",
   "metadata": {},
   "outputs": [],
   "source": [
    "plt.figure(figsize=(35, 20))\n",
    "sns.heatmap(methdf.set_index(\"SampleID\"),cmap=\"YlGnBu\", fmt=\".2f\", annot=True, linewidths=.5, linecolor='black', cbar_kws={\"label\": \"Average amplicon methylation density (%)\"})"
   ]
  },
  {
   "cell_type": "code",
   "execution_count": null,
   "id": "f8ba014a",
   "metadata": {},
   "outputs": [],
   "source": [
    "cpg_count_amplicon = cpgdf.groupby(\"region_name\")[\"CpG\"].count().reset_index()\n",
    "cpg_count_amplicon"
   ]
  },
  {
   "cell_type": "code",
   "execution_count": null,
   "id": "a15e6c22",
   "metadata": {},
   "outputs": [],
   "source": [
    "methdf = pd.DataFrame()\n",
    "for sampleid in tqdm(metadata.SampleID.unique()):\n",
    "    covdf = pd.read_excel(metadata[metadata[\"SampleID\"] == sampleid][\"proc_cov_path\"].values[0])\n",
    "    covdf[covdf[\"check_context\"] == \"CpG_context\"]\n",
    "    tmpdf = pd.DataFrame(data = [sampleid], columns = [\"SampleID\"])\n",
    "    for amplicon in paneldf[\"index\"].unique():\n",
    "        tmpdf[amplicon] = 100 * len(covdf[covdf[\"amplicon\"] == amplicon].CpG.unique())/ cpg_count_amplicon[cpg_count_amplicon[\"region_name\"] == amplicon][\"CpG\"].values[0]\n",
    "    tmpdf.fillna(0, inplace = True)\n",
    "    methdf = pd.concat([methdf, tmpdf], axis = 0)\n",
    "methdf.sort_values(by = \"SampleID\", inplace = True)"
   ]
  },
  {
   "cell_type": "code",
   "execution_count": null,
   "id": "91d7a92b",
   "metadata": {},
   "outputs": [],
   "source": [
    "plt.figure(figsize=(35, 20))\n",
    "sns.heatmap(methdf.set_index(\"SampleID\"),cmap=\"YlGnBu\", fmt=\".2f\", annot=True, linewidths=.5, linecolor='black', cbar_kws={\"label\": \"Average amplicon methylation density (%)\"})"
   ]
  }
 ],
 "metadata": {
  "kernelspec": {
   "display_name": "pytorch",
   "language": "python",
   "name": "python3"
  },
  "language_info": {
   "codemirror_mode": {
    "name": "ipython",
    "version": 3
   },
   "file_extension": ".py",
   "mimetype": "text/x-python",
   "name": "python",
   "nbconvert_exporter": "python",
   "pygments_lexer": "ipython3",
   "version": "3.9.19"
  }
 },
 "nbformat": 4,
 "nbformat_minor": 5
}
