{
 "cells": [
  {
   "cell_type": "code",
   "execution_count": 17,
   "id": "c927c1a7",
   "metadata": {},
   "outputs": [
    {
     "name": "stdout",
     "output_type": "stream",
     "text": [
      "number of files in this metadata dir: 27\n"
     ]
    }
   ],
   "source": [
    "import pandas as pd \n",
    "import os \n",
    "import pathlib \n",
    "\n",
    "files = [item for item in pathlib.Path(\"noUMI_runs\").glob(\"*\")]\n",
    "\n",
    "print(f\"number of files in this metadata dir: {len(files)}\")\n",
    "\n",
    "df = pd.DataFrame()\n",
    "for file in files:\n",
    "    run = file.name.replace(\".csv\", \"\").replace(\"target_methylation_\", \"\")\n",
    "    tmpdf = pd.read_csv(file, sep=\",\")\n",
    "    tmpdf[\"SampleID\"] = tmpdf[\"SampleID\"].apply(lambda x: f\"{run}_{x}\")\n",
    "    df = pd.concat([df, tmpdf], ignore_index=True)\n",
    "\n",
    "df.columns = [\"SampleID\", \"FASTQ1\", \"FASTQ2\"]\n",
    "df.to_csv(\"SampleSheet_noUMI_runs.csv\", index=False)"
   ]
  },
  {
   "cell_type": "code",
   "execution_count": null,
   "id": "a9694ab0",
   "metadata": {},
   "outputs": [],
   "source": []
  }
 ],
 "metadata": {
  "kernelspec": {
   "display_name": "nextflow_dev",
   "language": "python",
   "name": "python3"
  },
  "language_info": {
   "codemirror_mode": {
    "name": "ipython",
    "version": 3
   },
   "file_extension": ".py",
   "mimetype": "text/x-python",
   "name": "python",
   "nbconvert_exporter": "python",
   "pygments_lexer": "ipython3",
   "version": "3.13.2"
  }
 },
 "nbformat": 4,
 "nbformat_minor": 5
}
