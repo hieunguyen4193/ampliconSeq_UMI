{
 "cells": [
  {
   "cell_type": "markdown",
   "id": "12a462e0",
   "metadata": {},
   "source": [
    "# Generate FASTA primer files for Vi CRC and Lung amplicon-seq panels"
   ]
  },
  {
   "cell_type": "code",
   "execution_count": 1,
   "id": "710408da",
   "metadata": {},
   "outputs": [],
   "source": [
    "# import pandas as pd \n",
    "# import os \n",
    "\n",
    "# '''\n",
    "# take the list of Forward and Reverse primers from the design panel file\n",
    "# and generate two FASTA files, one for forward primers and one for reverse primers\n",
    "# the FASTA files will be named forward_primers.fa and reverse_primers.fa\n",
    "# the FASTA headers will be in the format:\n",
    "# >{name}_{Gene}_{hg19}\n",
    "# where name is the name of the primer, Gene is the gene name, and hg19 is the hg19 coordinate\n",
    "# These fasta files will be used with cutadapt to remove the primers from the reads. \n",
    "# '''\n",
    "# pic = \"Vi\"\n",
    "\n",
    "# all_sheets = [\"Lung panel\", \"CRC panel_Version 1\", \"CRC_panel Version 2\", \"CRC panel_Version 3\"]\n",
    "\n",
    "# for sheet_name in all_sheets:\n",
    "#     maindf = pd.read_excel(\"./panel_design/Amplicon_Panel Lung_bedfile.xlsx\", sheet_name=sheet_name)\n",
    "#     maindf = maindf[[\"Amplicon\", \"hg19\", 'Forward Primer Seq', 'Reverse Primer Seq']]\n",
    "#     for col in maindf.columns:\n",
    "#         maindf[col] = maindf[col].apply(lambda x: x.replace(\" \", \"\"))\n",
    "\n",
    "#     path_to_save_primers = \"./primers/20250526\"\n",
    "#     os.system(f\"mkdir -p {path_to_save_primers}\")\n",
    "\n",
    "#     with open(os.path.join(path_to_save_primers, f\"{pic}_{sheet_name.replace(\" \", \"_\")}.forward_primers.fa\"), \"w\") as fasta_file:\n",
    "#         for idx, row in maindf.iterrows():\n",
    "#             fasta_file.write(f\">{row['Amplicon']}_{row['hg19']}\\n{row['Forward Primer Seq']}\\n\")\n",
    "\n",
    "#     with open(os.path.join(path_to_save_primers, f\"{pic}_{sheet_name.replace(\" \", \"_\")}.reverse_primers.fa\"), \"w\") as fasta_file:\n",
    "#         for idx, row in maindf.iterrows():\n",
    "#             fasta_file.write(f\">{row['Amplicon']}_{row['hg19']}\\n{row['Reverse Primer Seq']}\\n\")"
   ]
  },
  {
   "cell_type": "code",
   "execution_count": 13,
   "id": "1f80a9b0",
   "metadata": {},
   "outputs": [
    {
     "name": "stdout",
     "output_type": "stream",
     "text": [
      "Number of region in this primer 17\n",
      "Number of ALL region in MEREG primer 17\n",
      "Number of region in this primer 6\n",
      "Number of ALL region in MEREG primer 23\n",
      "Number of region in this primer 9\n",
      "Number of ALL region in MEREG primer 32\n",
      "Number of region in this primer 6\n",
      "Number of ALL region in MEREG primer 38\n"
     ]
    }
   ],
   "source": [
    "import pandas as pd \n",
    "import os \n",
    "\n",
    "'''\n",
    "take the list of Forward and Reverse primers from the design panel file\n",
    "and generate two FASTA files, one for forward primers and one for reverse primers\n",
    "the FASTA files will be named forward_primers.fa and reverse_primers.fa\n",
    "the FASTA headers will be in the format:\n",
    ">{name}_{Gene}_{hg19}\n",
    "where name is the name of the primer, Gene is the gene name, and hg19 is the hg19 coordinate\n",
    "These fasta files will be used with cutadapt to remove the primers from the reads. \n",
    "'''\n",
    "pic = \"Vi\"\n",
    "amplicon_version = \"20250605\"\n",
    "\n",
    "xls = pd.ExcelFile(\"./panel_design/All_panel_designs_20250601.xlsx\")\n",
    "all_sheets = xls.sheet_names\n",
    "\n",
    "excluded_sheets = [ 'CRC_panel_version_1.1',\n",
    "                    'Truong_amplicon_PBMC_v1.1',\n",
    "                    'Runs_tracking']\n",
    "\n",
    "merge_primerdf = pd.DataFrame()\n",
    "for sheet_name in [item for item in all_sheets if item not in excluded_sheets]:\n",
    "    maindf = pd.read_excel(\"./panel_design/All_panel_designs_20250601.xlsx\", sheet_name=sheet_name)\n",
    "    maindf = maindf[[\"Amplicon\", \"hg19\", 'Forward Primer Seq', 'Reverse Primer Seq']]\n",
    "    for col in maindf.columns:\n",
    "        maindf[col] = maindf[col].apply(lambda x: x.replace(\" \", \"\"))\n",
    "    print(f\"Number of region in this primer {maindf.shape[0]}\")\n",
    "\n",
    "    merge_primerdf = pd.concat([merge_primerdf, maindf], axis = 0)\n",
    "    print(f\"Number of ALL region in MEREG primer {merge_primerdf.shape[0]}\")\n",
    "    \n",
    "    path_to_save_primers = f\"./primers/{amplicon_version}\"\n",
    "    os.system(f\"mkdir -p {path_to_save_primers}\")\n",
    "\n",
    "    with open(os.path.join(path_to_save_primers, f\"{pic}_{sheet_name.replace(\" \", \"_\")}.forward_primers.fa\"), \"w\") as fasta_file:\n",
    "        for idx, row in maindf.iterrows():\n",
    "            fasta_file.write(f\">{row['Amplicon']}_{row['hg19']}\\n{row['Forward Primer Seq']}\\n\")\n",
    "\n",
    "    with open(os.path.join(path_to_save_primers, f\"{pic}_{sheet_name.replace(\" \", \"_\")}.reverse_primers.fa\"), \"w\") as fasta_file:\n",
    "        for idx, row in maindf.iterrows():\n",
    "            fasta_file.write(f\">{row['Amplicon']}_{row['hg19']}\\n{row['Reverse Primer Seq']}\\n\")\n",
    "\n",
    "with open(os.path.join(path_to_save_primers, f\"{pic}_merge_all_primers.forward_primers.fa\"), \"w\") as fasta_file:\n",
    "    for idx, row in merge_primerdf.iterrows():\n",
    "        fasta_file.write(f\">{row['Amplicon']}_{row['hg19']}\\n{row['Forward Primer Seq']}\\n\")\n",
    "\n",
    "with open(os.path.join(path_to_save_primers, f\"{pic}_merge_all_primers.reverse_primers.fa\"), \"w\") as fasta_file:\n",
    "    for idx, row in merge_primerdf.iterrows():\n",
    "        fasta_file.write(f\">{row['Amplicon']}_{row['hg19']}\\n{row['Reverse Primer Seq']}\\n\")"
   ]
  }
 ],
 "metadata": {
  "kernelspec": {
   "display_name": "nextflow_dev",
   "language": "python",
   "name": "python3"
  },
  "language_info": {
   "codemirror_mode": {
    "name": "ipython",
    "version": 3
   },
   "file_extension": ".py",
   "mimetype": "text/x-python",
   "name": "python",
   "nbconvert_exporter": "python",
   "pygments_lexer": "ipython3",
   "version": "3.13.2"
  }
 },
 "nbformat": 4,
 "nbformat_minor": 5
}
