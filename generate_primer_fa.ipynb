{
 "cells": [
  {
   "cell_type": "code",
   "execution_count": null,
   "id": "710408da",
   "metadata": {},
   "outputs": [],
   "source": [
    "import pandas as pd \n",
    "import os \n",
    "\n",
    "'''\n",
    "take the list of Forward and Reverse primers from the design panel file\n",
    "and generate two FASTA files, one for forward primers and one for reverse primers\n",
    "the FASTA files will be named forward_primers.fa and reverse_primers.fa\n",
    "the FASTA headers will be in the format:\n",
    ">{name}_{Gene}_{hg19}\n",
    "where name is the name of the primer, Gene is the gene name, and hg19 is the hg19 coordinate\n",
    "These fasta files will be used with cutadapt to remove the primers from the reads. \n",
    "'''\n",
    "\n",
    "maindf = pd.read_excel(\"./metadata/Amplicon_Panel Lung_bedfile.xlsx\")\n",
    "\n",
    "maindf.columns = [\"name\"] + maindf.columns[1:].tolist()\n",
    "maindf.columns\n",
    "maindf = maindf[[\"name\", \"Gene\", \"hg19\", 'Forward Primer Seq', 'Reverse Primer Seq']]\n",
    "for col in maindf.columns:\n",
    "    maindf[col] = maindf[col].apply(lambda x: x.replace(\" \", \"\"))\n",
    "path_to_save_primers = \"./primers/20250526\"\n",
    "os.system(f\"mkdir -p {path_to_save_primers}\")\n",
    "\n",
    "with open(os.path.join(path_to_save_primers, \"forward_primers.fa\"), \"w\") as fasta_file:\n",
    "    for idx, row in maindf.iterrows():\n",
    "        fasta_file.write(f\">{row['name']}_{row['Gene']}_{row['hg19']}\\n{row['Forward Primer Seq']}\\n\")\n",
    "\n",
    "with open(os.path.join(path_to_save_primers, \"reverse_primers.fa\"), \"w\") as fasta_file:\n",
    "    for idx, row in maindf.iterrows():\n",
    "        fasta_file.write(f\">{row['name']}_{row['Gene']}_{row['hg19']}\\n{row['Reverse Primer Seq']}\\n\")"
   ]
  }
 ],
 "metadata": {
  "kernelspec": {
   "display_name": "pytorch",
   "language": "python",
   "name": "python3"
  },
  "language_info": {
   "codemirror_mode": {
    "name": "ipython",
    "version": 3
   },
   "file_extension": ".py",
   "mimetype": "text/x-python",
   "name": "python",
   "nbconvert_exporter": "python",
   "pygments_lexer": "ipython3",
   "version": "3.9.19"
  }
 },
 "nbformat": 4,
 "nbformat_minor": 5
}
