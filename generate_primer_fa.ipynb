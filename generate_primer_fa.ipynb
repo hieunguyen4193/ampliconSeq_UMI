{
 "cells": [
  {
   "cell_type": "markdown",
   "id": "12a462e0",
   "metadata": {},
   "source": [
    "# Generate FASTA primer files for Vi CRC and Lung amplicon-seq panels"
   ]
  },
  {
   "cell_type": "code",
   "execution_count": 1,
   "id": "710408da",
   "metadata": {},
   "outputs": [],
   "source": [
    "import pandas as pd \n",
    "import os \n",
    "\n",
    "'''\n",
    "take the list of Forward and Reverse primers from the design panel file\n",
    "and generate two FASTA files, one for forward primers and one for reverse primers\n",
    "the FASTA files will be named forward_primers.fa and reverse_primers.fa\n",
    "the FASTA headers will be in the format:\n",
    ">{name}_{Gene}_{hg19}\n",
    "where name is the name of the primer, Gene is the gene name, and hg19 is the hg19 coordinate\n",
    "These fasta files will be used with cutadapt to remove the primers from the reads. \n",
    "'''\n",
    "pic = \"Vi\"\n",
    "\n",
    "all_sheets = [\"Lung panel\", \"CRC panel_Version 1\", \"CRC_panel Version 2\", \"CRC panel_Version 3\"]\n",
    "\n",
    "for sheet_name in all_sheets:\n",
    "    maindf = pd.read_excel(\"./panel_design/Amplicon_Panel Lung_bedfile.xlsx\", sheet_name=sheet_name)\n",
    "    maindf = maindf[[\"Amplicon\", \"hg19\", 'Forward Primer Seq', 'Reverse Primer Seq']]\n",
    "    for col in maindf.columns:\n",
    "        maindf[col] = maindf[col].apply(lambda x: x.replace(\" \", \"\"))\n",
    "\n",
    "    path_to_save_primers = \"./primers/20250526\"\n",
    "    os.system(f\"mkdir -p {path_to_save_primers}\")\n",
    "\n",
    "    with open(os.path.join(path_to_save_primers, f\"{pic}_{sheet_name.replace(\" \", \"_\")}.forward_primers.fa\"), \"w\") as fasta_file:\n",
    "        for idx, row in maindf.iterrows():\n",
    "            fasta_file.write(f\">{row['Amplicon']}_{row['hg19']}\\n{row['Forward Primer Seq']}\\n\")\n",
    "\n",
    "    with open(os.path.join(path_to_save_primers, f\"{pic}_{sheet_name.replace(\" \", \"_\")}.reverse_primers.fa\"), \"w\") as fasta_file:\n",
    "        for idx, row in maindf.iterrows():\n",
    "            fasta_file.write(f\">{row['Amplicon']}_{row['hg19']}\\n{row['Reverse Primer Seq']}\\n\")"
   ]
  },
  {
   "cell_type": "code",
   "execution_count": 2,
   "id": "f96efaf8",
   "metadata": {},
   "outputs": [
    {
     "data": {
      "text/plain": [
       "'CRC_panel_Version_3'"
      ]
     },
     "execution_count": 2,
     "metadata": {},
     "output_type": "execute_result"
    }
   ],
   "source": [
    "sheet_name.replace(\" \", \"_\")"
   ]
  }
 ],
 "metadata": {
  "kernelspec": {
   "display_name": "nextflow_dev",
   "language": "python",
   "name": "python3"
  },
  "language_info": {
   "codemirror_mode": {
    "name": "ipython",
    "version": 3
   },
   "file_extension": ".py",
   "mimetype": "text/x-python",
   "name": "python",
   "nbconvert_exporter": "python",
   "pygments_lexer": "ipython3",
   "version": "3.13.2"
  }
 },
 "nbformat": 4,
 "nbformat_minor": 5
}
