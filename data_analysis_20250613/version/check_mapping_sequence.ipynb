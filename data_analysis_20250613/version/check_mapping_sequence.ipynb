{
 "cells": [
  {
   "cell_type": "code",
   "execution_count": null,
   "id": "8bf55f51",
   "metadata": {},
   "outputs": [
    {
     "data": {
      "text/plain": [
       "[]"
      ]
     },
     "execution_count": 16,
     "metadata": {},
     "output_type": "execute_result"
    }
   ],
   "source": [
    "import pysam\n",
    "import pyfaidx\n",
    "import os \n",
    "import re\n",
    "path_to_all_fa = \"/home/hieunguyen/resources/hg19\"\n",
    "genome_version = \"hg19\"\n",
    "\n",
    "seq = \"TTGTAATTGGTAAAGAAGTAGTAGTTATTTATATTGGTA\"\n",
    "\n",
    "region = \"chr6:28477950-28478062\"\n",
    "chrom = region.split(\":\")[0].replace(\"Chr\", \"chr\").replace(\"chr\", \"\")\n",
    "start = int(region.split(\":\")[1].split(\"-\")[0])\n",
    "end = int(region.split(\":\")[1].split(\"-\")[1])\n",
    "\n",
    "def get_refseq(path_to_all_fa, chrom, start, end):\n",
    "        refseq = pyfaidx.Fasta(os.path.join(path_to_all_fa, \"{}.fa\".format(chrom)))\n",
    "        return(str.upper(refseq.get_seq(name = \"{}\".format(chrom), start = start, end = end).seq))\n",
    "\n",
    "refseq = pyfaidx.Fasta(os.path.join(path_to_all_fa, \"chr{}.fa\".format(chrom)))\n",
    "refseq_at_region = str.upper(refseq.get_seq(name = \"chr{}\".format(chrom), start = start, end = end).seq)\n",
    "\n",
    "all_cpg_in_cluster = [m.start(0) for m in re.finditer(seq, refseq_at_region)]\n",
    "all_cpg_in_cluster\n"
   ]
  },
  {
   "cell_type": "markdown",
   "id": "706f1a1a",
   "metadata": {},
   "source": [
    "bismark --multicore 20 --genome \"/workdir/resources/hg19\" --non_directional -1 4-TMC455_S7528-S7728.CutAdapt_R1.fastq.gz -2 4-TMC455_S7528-S7728.CutAdapt_R2.fastq.gz --ambiguous --ambig_bam"
   ]
  }
 ],
 "metadata": {
  "kernelspec": {
   "display_name": "nextflow_dev",
   "language": "python",
   "name": "python3"
  },
  "language_info": {
   "codemirror_mode": {
    "name": "ipython",
    "version": 3
   },
   "file_extension": ".py",
   "mimetype": "text/x-python",
   "name": "python",
   "nbconvert_exporter": "python",
   "pygments_lexer": "ipython3",
   "version": "3.13.2"
  }
 },
 "nbformat": 4,
 "nbformat_minor": 5
}
