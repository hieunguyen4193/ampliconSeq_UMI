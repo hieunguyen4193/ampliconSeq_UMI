{
 "cells": [
  {
   "cell_type": "markdown",
   "id": "d941f744",
   "metadata": {},
   "source": [
    "# Overview: checking metadata and samplesheet for all RUNS"
   ]
  },
  {
   "cell_type": "markdown",
   "id": "da652c79",
   "metadata": {},
   "source": [
    "## Preparation"
   ]
  },
  {
   "cell_type": "code",
   "execution_count": 1,
   "id": "4510d8e5",
   "metadata": {},
   "outputs": [
    {
     "name": "stdout",
     "output_type": "stream",
     "text": [
      "All available runs: R7288, R7297, R7312, R7331, R7347, R7353, R7373, R7374, R7393, R7400\n"
     ]
    }
   ],
   "source": [
    "import pandas as pd \n",
    "import numpy as np \n",
    "import matplotlib.pyplot as plt \n",
    "import seaborn as sns \n",
    "import os\n",
    "import pathlib\n",
    "import pysam\n",
    "import pyfaidx\n",
    "import warnings\n",
    "import re\n",
    "import argparse\n",
    "import sys\n",
    "import subprocess\n",
    "from tqdm import tqdm \n",
    "\n",
    "tqdm.pandas()\n",
    "warnings.filterwarnings(\"ignore\")\n",
    "\n",
    "main_outptudir = \"/workdir/outdir/pipeline_output\"\n",
    "umt_distance = 0\n",
    "analysis_output_version = \"20250614\"\n",
    "name = \"Vi\"\n",
    "\n",
    "path_to_main_output = os.path.join(main_outptudir, \"data_analysis\", name, analysis_output_version)\n",
    "path_to_01_output = os.path.join(path_to_main_output, \"01_output\")\n",
    "os.system(f\"mkdir -p {path_to_01_output}\")\n",
    "\n",
    "rundf = pd.read_excel(\"../panel_design/All_panel_designs_20250601.xlsx\", sheet_name=\"Runs_tracking\")\n",
    "rundf.columns = [\"Run\", \"SampleID\", \"UMI\", \"Panel_version\", \"Name\", \"amplicon_name\", \"serial\"]\n",
    "\n",
    "umi_rundf = rundf[(rundf[\"UMI\"] == \"Yes\") & (rundf[\"Name\"] == name) ]\n",
    "\n",
    "collect_all_sample_sheets = [item for item in pathlib.Path(\"../experiments/\").glob(\"SampleSheet_batch_*.csv\")]\n",
    "\n",
    "samplesheet = pd.DataFrame()\n",
    "for file in collect_all_sample_sheets:\n",
    "    df = pd.read_csv(file, sep=\",\")\n",
    "    df[\"batch\"] = file.name.replace(\".csv\", \"\")\n",
    "    samplesheet = pd.concat([samplesheet, df], ignore_index=True)\n",
    "\n",
    "samplesheet.columns = [\"filename\", \"FASTQ1\", \"FASTQ2\", \"batch\"]\n",
    "samplesheet[\"Run\"] = samplesheet[\"FASTQ1\"].apply(lambda x: x.split(\"/\")[5] if x.split(\"/\")[5] != \"2025\" else x.split(\"/\")[6])\n",
    "samplesheet[\"SampleID\"] = samplesheet[\"filename\"].apply(lambda x: x.split(\"_\")[0].split(\"-\")[1])\n",
    "print(f\"All available runs: {\", \".join(sorted(samplesheet['Run'].unique()))}\")"
   ]
  },
  {
   "cell_type": "markdown",
   "id": "db80ab64",
   "metadata": {},
   "source": [
    "## Check if there is any missing FASTQ samples"
   ]
  },
  {
   "cell_type": "code",
   "execution_count": 2,
   "id": "f8de7362",
   "metadata": {},
   "outputs": [
    {
     "data": {
      "text/html": [
       "<div>\n",
       "<style scoped>\n",
       "    .dataframe tbody tr th:only-of-type {\n",
       "        vertical-align: middle;\n",
       "    }\n",
       "\n",
       "    .dataframe tbody tr th {\n",
       "        vertical-align: top;\n",
       "    }\n",
       "\n",
       "    .dataframe thead th {\n",
       "        text-align: right;\n",
       "    }\n",
       "</style>\n",
       "<table border=\"1\" class=\"dataframe\">\n",
       "  <thead>\n",
       "    <tr style=\"text-align: right;\">\n",
       "      <th></th>\n",
       "      <th>Run</th>\n",
       "      <th>SampleID</th>\n",
       "      <th>UMI</th>\n",
       "      <th>Panel_version</th>\n",
       "      <th>Name</th>\n",
       "      <th>amplicon_name</th>\n",
       "      <th>serial</th>\n",
       "    </tr>\n",
       "  </thead>\n",
       "  <tbody>\n",
       "    <tr>\n",
       "      <th>754</th>\n",
       "      <td>R7434</td>\n",
       "      <td>TMPC4S1</td>\n",
       "      <td>Yes</td>\n",
       "      <td>CRC_panel version 1.2</td>\n",
       "      <td>Vi</td>\n",
       "      <td>H1, H3</td>\n",
       "      <td>S1</td>\n",
       "    </tr>\n",
       "    <tr>\n",
       "      <th>755</th>\n",
       "      <td>R7434</td>\n",
       "      <td>TMPC4S2</td>\n",
       "      <td>Yes</td>\n",
       "      <td>CRC_panel version 1.2</td>\n",
       "      <td>Vi</td>\n",
       "      <td>H1, H3</td>\n",
       "      <td>S2</td>\n",
       "    </tr>\n",
       "    <tr>\n",
       "      <th>756</th>\n",
       "      <td>R7434</td>\n",
       "      <td>TMPC4S3</td>\n",
       "      <td>Yes</td>\n",
       "      <td>CRC_panel version 1.2</td>\n",
       "      <td>Vi</td>\n",
       "      <td>H1, H3</td>\n",
       "      <td>S3</td>\n",
       "    </tr>\n",
       "    <tr>\n",
       "      <th>758</th>\n",
       "      <td>R7434</td>\n",
       "      <td>TMPC4S5</td>\n",
       "      <td>Yes</td>\n",
       "      <td>CRC_panel version 1.2</td>\n",
       "      <td>Vi</td>\n",
       "      <td>H1, H3</td>\n",
       "      <td>S5</td>\n",
       "    </tr>\n",
       "    <tr>\n",
       "      <th>759</th>\n",
       "      <td>R7434</td>\n",
       "      <td>TMPC4S6</td>\n",
       "      <td>Yes</td>\n",
       "      <td>CRC_panel version 1.2</td>\n",
       "      <td>Vi</td>\n",
       "      <td>H1, H3</td>\n",
       "      <td>S6</td>\n",
       "    </tr>\n",
       "    <tr>\n",
       "      <th>760</th>\n",
       "      <td>R7434</td>\n",
       "      <td>TMPC4S7</td>\n",
       "      <td>Yes</td>\n",
       "      <td>CRC_panel version 1.2</td>\n",
       "      <td>Vi</td>\n",
       "      <td>H1, H3</td>\n",
       "      <td>S7</td>\n",
       "    </tr>\n",
       "    <tr>\n",
       "      <th>761</th>\n",
       "      <td>R7434</td>\n",
       "      <td>TMPL7S1</td>\n",
       "      <td>Yes</td>\n",
       "      <td>Lung_panel version 1.1</td>\n",
       "      <td>Vi</td>\n",
       "      <td>L1, L2, L3</td>\n",
       "      <td>S1</td>\n",
       "    </tr>\n",
       "    <tr>\n",
       "      <th>762</th>\n",
       "      <td>R7434</td>\n",
       "      <td>TMPL7S2</td>\n",
       "      <td>Yes</td>\n",
       "      <td>Lung_panel version 1.1</td>\n",
       "      <td>Vi</td>\n",
       "      <td>L1, L2, L3</td>\n",
       "      <td>S2</td>\n",
       "    </tr>\n",
       "    <tr>\n",
       "      <th>763</th>\n",
       "      <td>R7434</td>\n",
       "      <td>TMPL7S3</td>\n",
       "      <td>Yes</td>\n",
       "      <td>Lung_panel version 1.1</td>\n",
       "      <td>Vi</td>\n",
       "      <td>L1, L2, L3</td>\n",
       "      <td>S3</td>\n",
       "    </tr>\n",
       "    <tr>\n",
       "      <th>764</th>\n",
       "      <td>R7434</td>\n",
       "      <td>TMPL7S4</td>\n",
       "      <td>Yes</td>\n",
       "      <td>Lung_panel version 1.1</td>\n",
       "      <td>Vi</td>\n",
       "      <td>L1, L2, L3</td>\n",
       "      <td>S4</td>\n",
       "    </tr>\n",
       "    <tr>\n",
       "      <th>765</th>\n",
       "      <td>R7434</td>\n",
       "      <td>TMPL7S5</td>\n",
       "      <td>Yes</td>\n",
       "      <td>Lung_panel version 1.1</td>\n",
       "      <td>Vi</td>\n",
       "      <td>L1, L2, L3</td>\n",
       "      <td>S5</td>\n",
       "    </tr>\n",
       "    <tr>\n",
       "      <th>766</th>\n",
       "      <td>R7434</td>\n",
       "      <td>TMPL7S6</td>\n",
       "      <td>Yes</td>\n",
       "      <td>Lung_panel version 1.1</td>\n",
       "      <td>Vi</td>\n",
       "      <td>L1, L2, L3</td>\n",
       "      <td>S6</td>\n",
       "    </tr>\n",
       "    <tr>\n",
       "      <th>767</th>\n",
       "      <td>R7434</td>\n",
       "      <td>TMPL7S7</td>\n",
       "      <td>Yes</td>\n",
       "      <td>Lung_panel version 1.1</td>\n",
       "      <td>Vi</td>\n",
       "      <td>L1, L2, L3</td>\n",
       "      <td>S7</td>\n",
       "    </tr>\n",
       "    <tr>\n",
       "      <th>768</th>\n",
       "      <td>R7434</td>\n",
       "      <td>TMCONTROL146</td>\n",
       "      <td>Yes</td>\n",
       "      <td>Lung_panel version 1.1</td>\n",
       "      <td>Vi</td>\n",
       "      <td>L1, L2, L3</td>\n",
       "      <td>cfDNA</td>\n",
       "    </tr>\n",
       "  </tbody>\n",
       "</table>\n",
       "</div>"
      ],
      "text/plain": [
       "       Run      SampleID  UMI           Panel_version Name amplicon_name  \\\n",
       "754  R7434       TMPC4S1  Yes   CRC_panel version 1.2   Vi        H1, H3   \n",
       "755  R7434       TMPC4S2  Yes   CRC_panel version 1.2   Vi        H1, H3   \n",
       "756  R7434       TMPC4S3  Yes   CRC_panel version 1.2   Vi        H1, H3   \n",
       "758  R7434       TMPC4S5  Yes   CRC_panel version 1.2   Vi        H1, H3   \n",
       "759  R7434       TMPC4S6  Yes   CRC_panel version 1.2   Vi        H1, H3   \n",
       "760  R7434       TMPC4S7  Yes   CRC_panel version 1.2   Vi        H1, H3   \n",
       "761  R7434       TMPL7S1  Yes  Lung_panel version 1.1   Vi    L1, L2, L3   \n",
       "762  R7434       TMPL7S2  Yes  Lung_panel version 1.1   Vi    L1, L2, L3   \n",
       "763  R7434       TMPL7S3  Yes  Lung_panel version 1.1   Vi    L1, L2, L3   \n",
       "764  R7434       TMPL7S4  Yes  Lung_panel version 1.1   Vi    L1, L2, L3   \n",
       "765  R7434       TMPL7S5  Yes  Lung_panel version 1.1   Vi    L1, L2, L3   \n",
       "766  R7434       TMPL7S6  Yes  Lung_panel version 1.1   Vi    L1, L2, L3   \n",
       "767  R7434       TMPL7S7  Yes  Lung_panel version 1.1   Vi    L1, L2, L3   \n",
       "768  R7434  TMCONTROL146  Yes  Lung_panel version 1.1   Vi    L1, L2, L3   \n",
       "\n",
       "    serial  \n",
       "754     S1  \n",
       "755     S2  \n",
       "756     S3  \n",
       "758     S5  \n",
       "759     S6  \n",
       "760     S7  \n",
       "761     S1  \n",
       "762     S2  \n",
       "763     S3  \n",
       "764     S4  \n",
       "765     S5  \n",
       "766     S6  \n",
       "767     S7  \n",
       "768  cfDNA  "
      ]
     },
     "execution_count": 2,
     "metadata": {},
     "output_type": "execute_result"
    }
   ],
   "source": [
    "missing_fastq = [item for item in umi_rundf.SampleID.unique() if item not in samplesheet.SampleID.unique()]\n",
    "\n",
    "umi_rundf[umi_rundf.SampleID.isin(missing_fastq)]\n"
   ]
  },
  {
   "cell_type": "markdown",
   "id": "96bb5f1b",
   "metadata": {},
   "source": [
    "## Match output paths to main metadata"
   ]
  },
  {
   "cell_type": "markdown",
   "id": "0fe5891c",
   "metadata": {},
   "source": [
    "since there is duplicated SampleID, we should merge labcode and Run together to make them unique"
   ]
  },
  {
   "cell_type": "code",
   "execution_count": 3,
   "id": "226d925b",
   "metadata": {},
   "outputs": [
    {
     "name": "stdout",
     "output_type": "stream",
     "text": [
      "working on column: unmapped_bam\n"
     ]
    },
    {
     "name": "stderr",
     "output_type": "stream",
     "text": [
      "100%|██████████| 314/314 [02:38<00:00,  1.98it/s]\n"
     ]
    },
    {
     "name": "stdout",
     "output_type": "stream",
     "text": [
      "working on column: connor_annotated\n"
     ]
    },
    {
     "name": "stderr",
     "output_type": "stream",
     "text": [
      "100%|██████████| 314/314 [02:57<00:00,  1.77it/s]\n"
     ]
    },
    {
     "name": "stdout",
     "output_type": "stream",
     "text": [
      "working on column: connor_fastq\n"
     ]
    },
    {
     "name": "stderr",
     "output_type": "stream",
     "text": [
      "100%|██████████| 314/314 [00:02<00:00, 118.58it/s]\n"
     ]
    },
    {
     "name": "stdout",
     "output_type": "stream",
     "text": [
      "working on column: umi_bam\n"
     ]
    },
    {
     "name": "stderr",
     "output_type": "stream",
     "text": [
      "100%|██████████| 314/314 [00:00<00:00, 335.41it/s]\n"
     ]
    },
    {
     "name": "stdout",
     "output_type": "stream",
     "text": [
      "working on column: non_umi_bam\n"
     ]
    },
    {
     "name": "stderr",
     "output_type": "stream",
     "text": [
      "100%|██████████| 314/314 [02:23<00:00,  2.18it/s]\n"
     ]
    },
    {
     "name": "stdout",
     "output_type": "stream",
     "text": [
      "working on column: UMI_cov_file\n"
     ]
    },
    {
     "name": "stderr",
     "output_type": "stream",
     "text": [
      "100%|██████████| 314/314 [00:00<00:00, 478.60it/s]\n"
     ]
    }
   ],
   "source": [
    "rerun = True\n",
    "if (os.path.isfile(os.path.join(path_to_01_output, \"UMI_runs_tracking.xlsx\")) == False) | (rerun  == True):\n",
    "    umi_rundf[\"uniqueID\"] = umi_rundf[[\"SampleID\", \"Run\"]].apply(lambda x: f\"{x[0]}_{x[1]}\", axis=1)\n",
    "    samplesheet[\"uniqueID\"] = samplesheet[[\"SampleID\", \"Run\"]].apply(lambda x: f\"{x[0]}_{x[1]}\", axis=1)\n",
    "\n",
    "    final_umi_rundf = umi_rundf.merge(samplesheet.drop([\"SampleID\", \"Run\"], axis = 1), left_on = \"uniqueID\", right_on = \"uniqueID\")\n",
    "    final_umi_rundf[\"UMI_cov_file\"] = final_umi_rundf[[\"batch\", \"filename\"]].apply(lambda x: os.path.join(\n",
    "        main_outptudir, x[0], f\"UMT_DISTANCE_{umt_distance}\", \"BISMARK_COV\", f\"{x[1]}.connor_R1_bismark_bt2_pe.bedGraph.gz.bismark.zero.cov\"\n",
    "    ), axis = 1)\n",
    "    final_umi_rundf[\"nonUMI_cov_file\"] = final_umi_rundf[[\"batch\", \"filename\"]].apply(lambda x: os.path.join(\n",
    "        main_outptudir, x[0], f\"UMT_DISTANCE_{umt_distance}\", \"BISMARK_COV\", f\"{x[1]}.CutAdapt_R1_bismark_bt2_pe.bedGraph.gz.bismark.zero.cov\"\n",
    "    ), axis = 1)\n",
    "\n",
    "    final_umi_rundf[\"check_UMI\"] = final_umi_rundf[\"UMI_cov_file\"].apply(lambda x: os.path.exists(x))\n",
    "    final_umi_rundf[\"check_nonUMI\"] = final_umi_rundf[\"nonUMI_cov_file\"].apply(lambda x: os.path.exists(x))\n",
    "\n",
    "    final_umi_rundf[\"unmapped_bam\"] = final_umi_rundf[[\"batch\", \"filename\"]].apply(\n",
    "        lambda x: os.path.join(main_outptudir, x[0], f\"UMT_DISTANCE_{umt_distance}\", \"BISMARK_ALIGNMENT_UNMAPPED_BAM\", f\"{x[1]}_R1.UMIprocessed_bismark_bt2_pe.bam\"), axis = 1\n",
    "    )\n",
    "    final_umi_rundf[\"connor_annotated\"] = final_umi_rundf[[\"batch\", \"filename\"]].apply(\n",
    "        lambda x: os.path.join(main_outptudir, x[0], f\"UMT_DISTANCE_{umt_distance}\", \"CONNOR_UMI_OUTPUT\", f\"{x[1]}.connor.fully_annotated.bam\"), axis = 1\n",
    "    )\n",
    "    final_umi_rundf[\"connor_fastq\"] = final_umi_rundf[[\"batch\", \"filename\"]].apply(\n",
    "        lambda x: os.path.join(main_outptudir, x[0], f\"UMT_DISTANCE_{umt_distance}\", \"CONNOR_UMI_OUTPUT\", f\"{x[1]}.connor_R1.fastq.gz\"), axis = 1\n",
    "    )\n",
    "    final_umi_rundf[\"umi_bam\"] = final_umi_rundf[[\"batch\", \"filename\"]].apply(\n",
    "        lambda x: os.path.join(main_outptudir, x[0], f\"UMT_DISTANCE_{umt_distance}\", \"BISMARK_ALIGNMENT\", f\"{x[1]}.connor_R1_bismark_bt2_pe.sorted.bam\"), axis = 1\n",
    "    )\n",
    "    final_umi_rundf[\"non_umi_bam\"] = final_umi_rundf[[\"batch\", \"filename\"]].apply(\n",
    "        lambda x: os.path.join(main_outptudir, x[0], f\"UMT_DISTANCE_{umt_distance}\", \"BISMARK_ALIGNMENT\", f\"{x[1]}.CutAdapt_R1_bismark_bt2_pe.sorted.bam\"), axis = 1\n",
    "    )\n",
    "\n",
    "    tqdm.pandas()\n",
    "    for col in [\"unmapped_bam\", \"connor_annotated\", \"connor_fastq\", \"umi_bam\", \"non_umi_bam\" , \"UMI_cov_file\"]:\n",
    "        print(f\"working on column: {col}\")\n",
    "        def _get_line_count(x):\n",
    "            check_file = os.path.exists(x)\n",
    "            x_raw = x.replace(\".sorted.bam\", \".bam\")\n",
    "            if check_file == False:\n",
    "                if os.path.exists(x_raw) == True: \n",
    "                    # print(f\"sorted bam file is not available, but raw bam file is available, sorting and indexing it now...\")\n",
    "                    os.system(f\"samtools sort -@ 15 {x_raw} -o {x}\")\n",
    "                    os.system(f\"samtools index {x}\")\n",
    "                else:\n",
    "                    # rint(f\"File {x} does not exist, skipping line count for this file.\")\n",
    "                    return 0\n",
    "            if \".bam\" in x:\n",
    "                result = subprocess.run(f\"samtools view {x} -c\", shell=True, capture_output=True, text=True)\n",
    "            elif \".fastq.gz\" in x:\n",
    "                result = subprocess.run(f\"zcat {x} | wc -l\", shell=True, capture_output=True, text=True)\n",
    "            else:\n",
    "                result = subprocess.run(f\"cat {x} | wc -l\", shell=True, capture_output=True, text=True)\n",
    "            return int(result.stdout.strip())\n",
    "            \n",
    "        final_umi_rundf[f\"count_{col}\"] = final_umi_rundf[col].progress_apply(_get_line_count)    \n",
    "\n",
    "    final_umi_rundf.to_excel(os.path.join(path_to_01_output, \"UMI_runs_tracking.xlsx\"), index=False)\n",
    "else:\n",
    "    print(\"reading in saved processed UMI runs tracking file...\")\n",
    "    final_umi_rundf = pd.read_excel(os.path.join(path_to_01_output, \"UMI_runs_tracking.xlsx\"))"
   ]
  },
  {
   "cell_type": "markdown",
   "id": "7b8f0dec",
   "metadata": {},
   "source": [
    "# Helper functions"
   ]
  },
  {
   "cell_type": "code",
   "execution_count": 4,
   "id": "9ccb84ce",
   "metadata": {},
   "outputs": [
    {
     "name": "stdout",
     "output_type": "stream",
     "text": [
      "working on panel: Lung_panel_version_1.1, with 17 regions\n",
      "outputdf shape after adding region chr5:40681300-40881381: (2429, 3)\n",
      "working on panel: Lung_panel_version_1.1, with 17 regions\n",
      "outputdf shape after adding region chr5:40681281-40881401: (2456, 3)\n",
      "working on panel: CRC_panel_version_1.2, with 9 regions\n",
      "outputdf shape after adding region chr17:75369589-75369671: (126, 3)\n",
      "working on panel: CRC_panel_version_1.2, with 9 regions\n",
      "outputdf shape after adding region chr17:75369563-75369688: (140, 3)\n",
      "working on panel: CRC_panel_version_3.1, with 6 regions\n",
      "outputdf shape after adding region chr16:85654146-85654238: (33, 3)\n",
      "working on panel: CRC_panel_version_3.1, with 6 regions\n",
      "outputdf shape after adding region chr16:85654124-85654259: (38, 3)\n",
      "working on panel: CRC_panel_version_1.1, with 8 regions\n",
      "outputdf shape after adding region chr17:75369629-75369739: (118, 3)\n",
      "working on panel: CRC_panel_version_1.1, with 8 regions\n",
      "outputdf shape after adding region chr17:75369604-75369763: (129, 3)\n"
     ]
    }
   ],
   "source": [
    "# panel_name = \"Lung_panel version 1.1\"\n",
    "# cpgdf = pd.DataFrame()\n",
    "# panel_name = panel_name.replace(\" \", \"_\")\n",
    "# paneldf = pd.read_excel(\"../panel_design/All_panel_designs_20250601.xlsx\", sheet_name=panel_name)\n",
    "# paneldf[f\"{genome_version}_org\"] = paneldf[genome_version].values\n",
    "# paneldf[\"lengthF\"] = paneldf[\"Forward Primer Seq\"].apply(lambda x: len(x))\n",
    "# paneldf[\"lengthR\"] = paneldf[\"Reverse Primer Seq\"].apply(lambda x: len(x))\n",
    "\n",
    "def _remove_primer_coords(x, lenF, lenR):\n",
    "    chrom = x.split(\":\")[0]\n",
    "    start = int(x.split(\":\")[1].split(\"-\")[0])\n",
    "    end = int(x.split(\":\")[1].split(\"-\")[1])\n",
    "    start = start + lenF - 1\n",
    "    end = end - lenR + 1\n",
    "    return f\"{chrom}:{start}-{end}\"\n",
    "\n",
    "def get_refseq(path_to_all_fa, chrom, start, end):\n",
    "        refseq = pyfaidx.Fasta(os.path.join(path_to_all_fa, \"{}.fa\".format(chrom)))\n",
    "        return(str.upper(refseq.get_seq(name = \"{}\".format(chrom), start = start, end = end).seq))\n",
    "\n",
    "path_to_all_fa = \"/home/hieunguyen/resources/hg19\"\n",
    "genome_version = \"hg19\"\n",
    "\n",
    "##### get list of all real cpg for this panel\n",
    "all_cpgdf = dict()\n",
    "all_cpgdf_with_primer = dict()\n",
    "for panel_name in final_umi_rundf.Panel_version.unique():\n",
    "    \n",
    "    panel_name = panel_name.replace(\" \", \"_\")\n",
    "    paneldf = pd.read_excel(\"../panel_design/All_panel_designs_20250601.xlsx\", sheet_name=panel_name)\n",
    "    paneldf[f\"{genome_version}_org\"] = paneldf[genome_version].values\n",
    "    paneldf[\"lengthF\"] = paneldf[\"Forward Primer Seq\"].apply(lambda x: len(x))\n",
    "    paneldf[\"lengthR\"] = paneldf[\"Reverse Primer Seq\"].apply(lambda x: len(x))\n",
    "    paneldf[genome_version] = paneldf[[genome_version, \"lengthF\", \"lengthR\"]].apply(lambda x:_remove_primer_coords(x[0], x[1], x[2]), axis = 1)\n",
    "\n",
    "    def generate_cpgdf(region_col, paneldf):\n",
    "        outputdf = pd.DataFrame()\n",
    "        print(f\"working on panel: {panel_name}, with {len(paneldf[region_col].unique())} regions\")\n",
    "        for region in paneldf[region_col].unique():\n",
    "            region_name = paneldf[paneldf[region_col] == region][\"Amplicon\"].values[0]\n",
    "            chrom = region.split(\":\")[0].replace(\"Chr\", \"chr\").replace(\"chr\", \"\")\n",
    "            start = int(region.split(\":\")[1].split(\"-\")[0])\n",
    "            end = int(region.split(\":\")[1].split(\"-\")[1])\n",
    "            refseq = pyfaidx.Fasta(os.path.join(path_to_all_fa, \"chr{}.fa\".format(chrom)))\n",
    "            refseq_at_region = str.upper(refseq.get_seq(name = \"chr{}\".format(chrom), start = start, end = end).seq)\n",
    "\n",
    "            all_cpg_in_cluster = [m.start(0) for m in re.finditer(\"CG\", refseq_at_region)]\n",
    "            cpg_coords = [f\"chr{chrom}:{item + start}-{item + start + 1}\" for item in all_cpg_in_cluster]\n",
    "\n",
    "            tmp_outputdf = pd.DataFrame(data = cpg_coords, columns = [\"CpG\"])\n",
    "            tmp_outputdf[\"region\"] = region\n",
    "            tmp_outputdf[\"region_name\"] = region_name\n",
    "            outputdf = pd.concat([outputdf, tmp_outputdf], axis = 0)\n",
    "        print(f\"outputdf shape after adding region {region}: {outputdf.shape}\")\n",
    "        return outputdf\n",
    "    \n",
    "    cpgdf = generate_cpgdf(genome_version, paneldf)\n",
    "    cpgdf_with_primer = generate_cpgdf(f\"{genome_version}_org\", paneldf)\n",
    "    \n",
    "    cpgdf = cpgdf[[\"region\", \"CpG\", \"region_name\"]]\n",
    "    all_cpgdf[panel_name] = cpgdf.copy()\n",
    "\n",
    "    cpgdf_with_primer = cpgdf_with_primer[[\"region\", \"CpG\", \"region_name\"]]\n",
    "    all_cpgdf_with_primer[panel_name] = cpgdf_with_primer.copy()\n",
    "\n",
    "\n",
    "# for i in all_cpgdf.keys():\n",
    "#     tmpdf1 = all_cpgdf[i].copy()\n",
    "#     tmpdf2 = all_cpgdf_with_primer[i].copy()\n",
    "#     assert tmpdf1.shape[0] == tmpdf2.shape[0], f\"Error: {i} cpgdf and cpgdf_with_primer have different number of rows\"\n"
   ]
  },
  {
   "cell_type": "markdown",
   "id": "502edd17",
   "metadata": {},
   "source": [
    "# PROCESSING COV FILES"
   ]
  },
  {
   "cell_type": "code",
   "execution_count": 5,
   "id": "e434815b",
   "metadata": {},
   "outputs": [
    {
     "name": "stdout",
     "output_type": "stream",
     "text": [
      "Processing /workdir/outdir/pipeline_output/SampleSheet_batch_20250604/UMT_DISTANCE_0/BISMARK_COV/1-TML1S1_S7501-S7701.connor_R1_bismark_bt2_pe.bedGraph.gz.bismark.zero.cov for panel Lung_panel_version_1.1...\n"
     ]
    },
    {
     "name": "stderr",
     "output_type": "stream",
     "text": [
      "100%|██████████| 4/4 [00:00<00:00, 5199.01it/s]\n"
     ]
    },
    {
     "name": "stdout",
     "output_type": "stream",
     "text": [
      "Processing /workdir/outdir/pipeline_output/SampleSheet_batch_20250604/UMT_DISTANCE_0/BISMARK_COV/2-TML1S2_S7502-S7702.connor_R1_bismark_bt2_pe.bedGraph.gz.bismark.zero.cov for panel Lung_panel_version_1.1...\n"
     ]
    },
    {
     "name": "stderr",
     "output_type": "stream",
     "text": [
      "100%|██████████| 4/4 [00:00<00:00, 3964.37it/s]\n"
     ]
    },
    {
     "name": "stdout",
     "output_type": "stream",
     "text": [
      "Processing /workdir/outdir/pipeline_output/SampleSheet_batch_20250604/UMT_DISTANCE_0/BISMARK_COV/3-TML1S3_S7503-S7703.connor_R1_bismark_bt2_pe.bedGraph.gz.bismark.zero.cov for panel Lung_panel_version_1.1...\n"
     ]
    },
    {
     "name": "stderr",
     "output_type": "stream",
     "text": [
      "100%|██████████| 4/4 [00:00<00:00, 4000.29it/s]\n"
     ]
    },
    {
     "name": "stdout",
     "output_type": "stream",
     "text": [
      "Processing /workdir/outdir/pipeline_output/SampleSheet_batch_20250604/UMT_DISTANCE_0/BISMARK_COV/4-TML1S4_S7504-S7704.connor_R1_bismark_bt2_pe.bedGraph.gz.bismark.zero.cov for panel Lung_panel_version_1.1...\n"
     ]
    },
    {
     "name": "stderr",
     "output_type": "stream",
     "text": [
      "100%|██████████| 4/4 [00:00<00:00, 4410.41it/s]\n"
     ]
    },
    {
     "name": "stdout",
     "output_type": "stream",
     "text": [
      "Processing /workdir/outdir/pipeline_output/SampleSheet_batch_20250604/UMT_DISTANCE_0/BISMARK_COV/5-TML1S5_S7505-S7705.connor_R1_bismark_bt2_pe.bedGraph.gz.bismark.zero.cov for panel Lung_panel_version_1.1...\n"
     ]
    },
    {
     "name": "stderr",
     "output_type": "stream",
     "text": [
      "100%|██████████| 4/4 [00:00<00:00, 3949.44it/s]\n"
     ]
    },
    {
     "name": "stdout",
     "output_type": "stream",
     "text": [
      "Processing /workdir/outdir/pipeline_output/SampleSheet_batch_20250604/UMT_DISTANCE_0/BISMARK_COV/6-TML2S1_S7506-S7706.connor_R1_bismark_bt2_pe.bedGraph.gz.bismark.zero.cov for panel Lung_panel_version_1.1...\n"
     ]
    },
    {
     "name": "stderr",
     "output_type": "stream",
     "text": [
      "100%|██████████| 14/14 [00:00<00:00, 7666.83it/s]\n"
     ]
    },
    {
     "name": "stdout",
     "output_type": "stream",
     "text": [
      "Processing /workdir/outdir/pipeline_output/SampleSheet_batch_20250604/UMT_DISTANCE_0/BISMARK_COV/7-TML2S2_S7507-S7707.connor_R1_bismark_bt2_pe.bedGraph.gz.bismark.zero.cov for panel Lung_panel_version_1.1...\n"
     ]
    },
    {
     "name": "stderr",
     "output_type": "stream",
     "text": [
      "100%|██████████| 15/15 [00:00<00:00, 7643.61it/s]\n"
     ]
    },
    {
     "name": "stdout",
     "output_type": "stream",
     "text": [
      "Processing /workdir/outdir/pipeline_output/SampleSheet_batch_20250604/UMT_DISTANCE_0/BISMARK_COV/8-TML2S3_S7508-S7708.connor_R1_bismark_bt2_pe.bedGraph.gz.bismark.zero.cov for panel Lung_panel_version_1.1...\n"
     ]
    },
    {
     "name": "stderr",
     "output_type": "stream",
     "text": [
      "100%|██████████| 14/14 [00:00<00:00, 8146.54it/s]\n"
     ]
    },
    {
     "name": "stdout",
     "output_type": "stream",
     "text": [
      "Processing /workdir/outdir/pipeline_output/SampleSheet_batch_20250604/UMT_DISTANCE_0/BISMARK_COV/9-TML2S4_S7509-S7709.connor_R1_bismark_bt2_pe.bedGraph.gz.bismark.zero.cov for panel Lung_panel_version_1.1...\n"
     ]
    },
    {
     "name": "stderr",
     "output_type": "stream",
     "text": [
      "100%|██████████| 14/14 [00:00<00:00, 8146.54it/s]\n"
     ]
    },
    {
     "name": "stdout",
     "output_type": "stream",
     "text": [
      "Processing /workdir/outdir/pipeline_output/SampleSheet_batch_20250604/UMT_DISTANCE_0/BISMARK_COV/10-TML2S5_S7510-S7710.connor_R1_bismark_bt2_pe.bedGraph.gz.bismark.zero.cov for panel Lung_panel_version_1.1...\n"
     ]
    },
    {
     "name": "stderr",
     "output_type": "stream",
     "text": [
      "100%|██████████| 14/14 [00:00<00:00, 9081.39it/s]\n"
     ]
    },
    {
     "name": "stdout",
     "output_type": "stream",
     "text": [
      "Processing /workdir/outdir/pipeline_output/SampleSheet_batch_20250604/UMT_DISTANCE_0/BISMARK_COV/11-TML3S1_S7511-S7711.connor_R1_bismark_bt2_pe.bedGraph.gz.bismark.zero.cov for panel Lung_panel_version_1.1...\n"
     ]
    },
    {
     "name": "stderr",
     "output_type": "stream",
     "text": [
      "100%|██████████| 13/13 [00:00<00:00, 7941.44it/s]\n"
     ]
    },
    {
     "name": "stdout",
     "output_type": "stream",
     "text": [
      "Processing /workdir/outdir/pipeline_output/SampleSheet_batch_20250604/UMT_DISTANCE_0/BISMARK_COV/12-TML3S2_S7512-S7712.connor_R1_bismark_bt2_pe.bedGraph.gz.bismark.zero.cov for panel Lung_panel_version_1.1...\n"
     ]
    },
    {
     "name": "stderr",
     "output_type": "stream",
     "text": [
      "100%|██████████| 13/13 [00:00<00:00, 8024.42it/s]\n"
     ]
    },
    {
     "name": "stdout",
     "output_type": "stream",
     "text": [
      "Processing /workdir/outdir/pipeline_output/SampleSheet_batch_20250604/UMT_DISTANCE_0/BISMARK_COV/13-TML3S3_S7513-S7713.connor_R1_bismark_bt2_pe.bedGraph.gz.bismark.zero.cov for panel Lung_panel_version_1.1...\n"
     ]
    },
    {
     "name": "stderr",
     "output_type": "stream",
     "text": [
      "100%|██████████| 14/14 [00:00<00:00, 8079.29it/s]\n"
     ]
    },
    {
     "name": "stdout",
     "output_type": "stream",
     "text": [
      "Processing /workdir/outdir/pipeline_output/SampleSheet_batch_20250604/UMT_DISTANCE_0/BISMARK_COV/14-TML3S4_S7514-S7714.connor_R1_bismark_bt2_pe.bedGraph.gz.bismark.zero.cov for panel Lung_panel_version_1.1...\n"
     ]
    },
    {
     "name": "stderr",
     "output_type": "stream",
     "text": [
      "100%|██████████| 13/13 [00:00<00:00, 7744.06it/s]\n"
     ]
    },
    {
     "name": "stdout",
     "output_type": "stream",
     "text": [
      "Processing /workdir/outdir/pipeline_output/SampleSheet_batch_20250604/UMT_DISTANCE_0/BISMARK_COV/15-TML3S5_S7515-S7715.connor_R1_bismark_bt2_pe.bedGraph.gz.bismark.zero.cov for panel Lung_panel_version_1.1...\n"
     ]
    },
    {
     "name": "stderr",
     "output_type": "stream",
     "text": [
      "100%|██████████| 13/13 [00:00<00:00, 9226.05it/s]\n"
     ]
    },
    {
     "name": "stdout",
     "output_type": "stream",
     "text": [
      "Processing /workdir/outdir/pipeline_output/SampleSheet_batch_20250604/UMT_DISTANCE_0/BISMARK_COV/16-TML5S1_S7516-S7716.connor_R1_bismark_bt2_pe.bedGraph.gz.bismark.zero.cov for panel Lung_panel_version_1.1...\n"
     ]
    },
    {
     "name": "stderr",
     "output_type": "stream",
     "text": [
      "100%|██████████| 9/9 [00:00<00:00, 7067.73it/s]\n"
     ]
    },
    {
     "name": "stdout",
     "output_type": "stream",
     "text": [
      "Processing /workdir/outdir/pipeline_output/SampleSheet_batch_20250604/UMT_DISTANCE_0/BISMARK_COV/17-TML5S2_S7517-S7717.connor_R1_bismark_bt2_pe.bedGraph.gz.bismark.zero.cov for panel Lung_panel_version_1.1...\n"
     ]
    },
    {
     "name": "stderr",
     "output_type": "stream",
     "text": [
      "100%|██████████| 9/9 [00:00<00:00, 7104.98it/s]\n"
     ]
    },
    {
     "name": "stdout",
     "output_type": "stream",
     "text": [
      "Processing /workdir/outdir/pipeline_output/SampleSheet_batch_20250604/UMT_DISTANCE_0/BISMARK_COV/18-TML5S3_S7518-S7718.connor_R1_bismark_bt2_pe.bedGraph.gz.bismark.zero.cov for panel Lung_panel_version_1.1...\n"
     ]
    },
    {
     "name": "stderr",
     "output_type": "stream",
     "text": [
      "100%|██████████| 9/9 [00:00<00:00, 7026.94it/s]\n"
     ]
    },
    {
     "name": "stdout",
     "output_type": "stream",
     "text": [
      "Processing /workdir/outdir/pipeline_output/SampleSheet_batch_20250604/UMT_DISTANCE_0/BISMARK_COV/19-TML5S4_S7519-S7719.connor_R1_bismark_bt2_pe.bedGraph.gz.bismark.zero.cov for panel Lung_panel_version_1.1...\n"
     ]
    },
    {
     "name": "stderr",
     "output_type": "stream",
     "text": [
      "100%|██████████| 9/9 [00:00<00:00, 6724.04it/s]\n"
     ]
    },
    {
     "name": "stdout",
     "output_type": "stream",
     "text": [
      "Processing /workdir/outdir/pipeline_output/SampleSheet_batch_20250604/UMT_DISTANCE_0/BISMARK_COV/20-TML5S5_S7520-S7720.connor_R1_bismark_bt2_pe.bedGraph.gz.bismark.zero.cov for panel Lung_panel_version_1.1...\n"
     ]
    },
    {
     "name": "stderr",
     "output_type": "stream",
     "text": [
      "100%|██████████| 9/9 [00:00<00:00, 6744.46it/s]\n"
     ]
    },
    {
     "name": "stdout",
     "output_type": "stream",
     "text": [
      "Processing /workdir/outdir/pipeline_output/SampleSheet_batch_20250604/UMT_DISTANCE_0/BISMARK_COV/21-TML8S1_S7521-S7721.connor_R1_bismark_bt2_pe.bedGraph.gz.bismark.zero.cov for panel Lung_panel_version_1.1...\n"
     ]
    },
    {
     "name": "stderr",
     "output_type": "stream",
     "text": [
      "100%|██████████| 16/16 [00:00<00:00, 8346.87it/s]\n"
     ]
    },
    {
     "name": "stdout",
     "output_type": "stream",
     "text": [
      "Processing /workdir/outdir/pipeline_output/SampleSheet_batch_20250604/UMT_DISTANCE_0/BISMARK_COV/22-TML8S2_S7522-S7722.connor_R1_bismark_bt2_pe.bedGraph.gz.bismark.zero.cov for panel Lung_panel_version_1.1...\n"
     ]
    },
    {
     "name": "stderr",
     "output_type": "stream",
     "text": [
      "100%|██████████| 16/16 [00:00<00:00, 8288.11it/s]\n"
     ]
    },
    {
     "name": "stdout",
     "output_type": "stream",
     "text": [
      "Processing /workdir/outdir/pipeline_output/SampleSheet_batch_20250604/UMT_DISTANCE_0/BISMARK_COV/23-TML8S3_S7523-S7723.connor_R1_bismark_bt2_pe.bedGraph.gz.bismark.zero.cov for panel Lung_panel_version_1.1...\n"
     ]
    },
    {
     "name": "stderr",
     "output_type": "stream",
     "text": [
      "100%|██████████| 16/16 [00:00<00:00, 8556.53it/s]\n"
     ]
    },
    {
     "name": "stdout",
     "output_type": "stream",
     "text": [
      "Processing /workdir/outdir/pipeline_output/SampleSheet_batch_20250604/UMT_DISTANCE_0/BISMARK_COV/24-TML8S4_S7524-S7724.connor_R1_bismark_bt2_pe.bedGraph.gz.bismark.zero.cov for panel Lung_panel_version_1.1...\n"
     ]
    },
    {
     "name": "stderr",
     "output_type": "stream",
     "text": [
      "100%|██████████| 16/16 [00:00<00:00, 8636.92it/s]\n"
     ]
    },
    {
     "name": "stdout",
     "output_type": "stream",
     "text": [
      "Processing /workdir/outdir/pipeline_output/SampleSheet_batch_20250604/UMT_DISTANCE_0/BISMARK_COV/25-TML8S5_S7525-S7725.connor_R1_bismark_bt2_pe.bedGraph.gz.bismark.zero.cov for panel Lung_panel_version_1.1...\n"
     ]
    },
    {
     "name": "stderr",
     "output_type": "stream",
     "text": [
      "100%|██████████| 16/16 [00:00<00:00, 9738.62it/s]\n"
     ]
    },
    {
     "name": "stdout",
     "output_type": "stream",
     "text": [
      "Processing /workdir/outdir/pipeline_output/SampleSheet_batch_20250604/UMT_DISTANCE_0/BISMARK_COV/26-TML9S1_S7526-S7726.connor_R1_bismark_bt2_pe.bedGraph.gz.bismark.zero.cov for panel Lung_panel_version_1.1...\n"
     ]
    },
    {
     "name": "stderr",
     "output_type": "stream",
     "text": [
      "100%|██████████| 15/15 [00:00<00:00, 8600.76it/s]\n"
     ]
    },
    {
     "name": "stdout",
     "output_type": "stream",
     "text": [
      "Processing /workdir/outdir/pipeline_output/SampleSheet_batch_20250604/UMT_DISTANCE_0/BISMARK_COV/27-TML9S2_S7527-S7727.connor_R1_bismark_bt2_pe.bedGraph.gz.bismark.zero.cov for panel Lung_panel_version_1.1...\n"
     ]
    },
    {
     "name": "stderr",
     "output_type": "stream",
     "text": [
      "100%|██████████| 20/20 [00:00<00:00, 8890.95it/s]\n"
     ]
    },
    {
     "name": "stdout",
     "output_type": "stream",
     "text": [
      "Processing /workdir/outdir/pipeline_output/SampleSheet_batch_20250604/UMT_DISTANCE_0/BISMARK_COV/28-TML9S3_S7528-S7728.connor_R1_bismark_bt2_pe.bedGraph.gz.bismark.zero.cov for panel Lung_panel_version_1.1...\n"
     ]
    },
    {
     "name": "stderr",
     "output_type": "stream",
     "text": [
      "100%|██████████| 15/15 [00:00<00:00, 8311.04it/s]\n"
     ]
    },
    {
     "name": "stdout",
     "output_type": "stream",
     "text": [
      "Processing /workdir/outdir/pipeline_output/SampleSheet_batch_20250604/UMT_DISTANCE_0/BISMARK_COV/29-TML9S4_S7529-S7729.connor_R1_bismark_bt2_pe.bedGraph.gz.bismark.zero.cov for panel Lung_panel_version_1.1...\n"
     ]
    },
    {
     "name": "stderr",
     "output_type": "stream",
     "text": [
      "100%|██████████| 16/16 [00:00<00:00, 8512.03it/s]\n"
     ]
    },
    {
     "name": "stdout",
     "output_type": "stream",
     "text": [
      "Processing /workdir/outdir/pipeline_output/SampleSheet_batch_20250604/UMT_DISTANCE_0/BISMARK_COV/30-TML9S5_S7530-S7730.connor_R1_bismark_bt2_pe.bedGraph.gz.bismark.zero.cov for panel Lung_panel_version_1.1...\n"
     ]
    },
    {
     "name": "stderr",
     "output_type": "stream",
     "text": [
      "100%|██████████| 18/18 [00:00<00:00, 9069.85it/s]\n"
     ]
    },
    {
     "name": "stdout",
     "output_type": "stream",
     "text": [
      "Processing /workdir/outdir/pipeline_output/SampleSheet_batch_20250604/UMT_DISTANCE_0/BISMARK_COV/31-TML10S1_S7531-S7731.connor_R1_bismark_bt2_pe.bedGraph.gz.bismark.zero.cov for panel Lung_panel_version_1.1...\n"
     ]
    },
    {
     "name": "stderr",
     "output_type": "stream",
     "text": [
      "100%|██████████| 12/12 [00:00<00:00, 7903.84it/s]\n"
     ]
    },
    {
     "name": "stdout",
     "output_type": "stream",
     "text": [
      "Processing /workdir/outdir/pipeline_output/SampleSheet_batch_20250604/UMT_DISTANCE_0/BISMARK_COV/32-TML10S2_S7532-S7732.connor_R1_bismark_bt2_pe.bedGraph.gz.bismark.zero.cov for panel Lung_panel_version_1.1...\n"
     ]
    },
    {
     "name": "stderr",
     "output_type": "stream",
     "text": [
      "100%|██████████| 12/12 [00:00<00:00, 8032.50it/s]\n"
     ]
    },
    {
     "name": "stdout",
     "output_type": "stream",
     "text": [
      "Processing /workdir/outdir/pipeline_output/SampleSheet_batch_20250604/UMT_DISTANCE_0/BISMARK_COV/33-TML10S3_S7533-S7733.connor_R1_bismark_bt2_pe.bedGraph.gz.bismark.zero.cov for panel Lung_panel_version_1.1...\n"
     ]
    },
    {
     "name": "stderr",
     "output_type": "stream",
     "text": [
      "100%|██████████| 12/12 [00:00<00:00, 7684.22it/s]\n"
     ]
    },
    {
     "name": "stdout",
     "output_type": "stream",
     "text": [
      "Processing /workdir/outdir/pipeline_output/SampleSheet_batch_20250604/UMT_DISTANCE_0/BISMARK_COV/34-TML10S4_S7534-S7734.connor_R1_bismark_bt2_pe.bedGraph.gz.bismark.zero.cov for panel Lung_panel_version_1.1...\n"
     ]
    },
    {
     "name": "stderr",
     "output_type": "stream",
     "text": [
      "100%|██████████| 12/12 [00:00<00:00, 7875.39it/s]\n"
     ]
    },
    {
     "name": "stdout",
     "output_type": "stream",
     "text": [
      "Processing /workdir/outdir/pipeline_output/SampleSheet_batch_20250604/UMT_DISTANCE_0/BISMARK_COV/35-TML10S5_S7535-S7735.connor_R1_bismark_bt2_pe.bedGraph.gz.bismark.zero.cov for panel Lung_panel_version_1.1...\n"
     ]
    },
    {
     "name": "stderr",
     "output_type": "stream",
     "text": [
      "100%|██████████| 12/12 [00:00<00:00, 8073.73it/s]\n"
     ]
    },
    {
     "name": "stdout",
     "output_type": "stream",
     "text": [
      "Input coverage file /workdir/outdir/pipeline_output/SampleSheet_batch_20250604/UMT_DISTANCE_0/BISMARK_COV/36-TML11S1_S7536-S7736.connor_R1_bismark_bt2_pe.bedGraph.gz.bismark.zero.cov does not exist, skipping...\n",
      "Processing /workdir/outdir/pipeline_output/SampleSheet_batch_20250604/UMT_DISTANCE_0/BISMARK_COV/37-TML11S2_S7537-S7737.connor_R1_bismark_bt2_pe.bedGraph.gz.bismark.zero.cov for panel Lung_panel_version_1.1...\n"
     ]
    },
    {
     "name": "stderr",
     "output_type": "stream",
     "text": [
      "100%|██████████| 13/13 [00:00<00:00, 7929.89it/s]\n"
     ]
    },
    {
     "name": "stdout",
     "output_type": "stream",
     "text": [
      "Processing /workdir/outdir/pipeline_output/SampleSheet_batch_20250604/UMT_DISTANCE_0/BISMARK_COV/38-TML11S3_S7538-S7738.connor_R1_bismark_bt2_pe.bedGraph.gz.bismark.zero.cov for panel Lung_panel_version_1.1...\n"
     ]
    },
    {
     "name": "stderr",
     "output_type": "stream",
     "text": [
      "100%|██████████| 13/13 [00:00<00:00, 8245.27it/s]\n"
     ]
    },
    {
     "name": "stdout",
     "output_type": "stream",
     "text": [
      "Processing /workdir/outdir/pipeline_output/SampleSheet_batch_20250604/UMT_DISTANCE_0/BISMARK_COV/39-TML11S4_S7539-S7739.connor_R1_bismark_bt2_pe.bedGraph.gz.bismark.zero.cov for panel Lung_panel_version_1.1...\n"
     ]
    },
    {
     "name": "stderr",
     "output_type": "stream",
     "text": [
      "100%|██████████| 13/13 [00:00<00:00, 8229.09it/s]\n"
     ]
    },
    {
     "name": "stdout",
     "output_type": "stream",
     "text": [
      "Processing /workdir/outdir/pipeline_output/SampleSheet_batch_20250604/UMT_DISTANCE_0/BISMARK_COV/40-TML11S5_S7540-S7740.connor_R1_bismark_bt2_pe.bedGraph.gz.bismark.zero.cov for panel Lung_panel_version_1.1...\n"
     ]
    },
    {
     "name": "stderr",
     "output_type": "stream",
     "text": [
      "100%|██████████| 13/13 [00:00<00:00, 7934.51it/s]\n"
     ]
    },
    {
     "name": "stdout",
     "output_type": "stream",
     "text": [
      "Processing /workdir/outdir/pipeline_output/SampleSheet_batch_20250604/UMT_DISTANCE_0/BISMARK_COV/41-TMPANEL1_S7541-S7741.connor_R1_bismark_bt2_pe.bedGraph.gz.bismark.zero.cov for panel Lung_panel_version_1.1...\n"
     ]
    },
    {
     "name": "stderr",
     "output_type": "stream",
     "text": [
      "100%|██████████| 13/13 [00:00<00:00, 7954.19it/s]\n"
     ]
    },
    {
     "name": "stdout",
     "output_type": "stream",
     "text": [
      "Processing /workdir/outdir/pipeline_output/SampleSheet_batch_20250604/UMT_DISTANCE_0/BISMARK_COV/42-TMPANEL2_S7542-S7742.connor_R1_bismark_bt2_pe.bedGraph.gz.bismark.zero.cov for panel Lung_panel_version_1.1...\n"
     ]
    },
    {
     "name": "stderr",
     "output_type": "stream",
     "text": [
      "100%|██████████| 26/26 [00:00<00:00, 9678.02it/s]\n"
     ]
    },
    {
     "name": "stdout",
     "output_type": "stream",
     "text": [
      "Input coverage file /workdir/outdir/pipeline_output/SampleSheet_batch_20250604/UMT_DISTANCE_0/BISMARK_COV/43-TMPANEL3_S7543-S7743.connor_R1_bismark_bt2_pe.bedGraph.gz.bismark.zero.cov does not exist, skipping...\n",
      "Processing /workdir/outdir/pipeline_output/SampleSheet_batch_20250604/UMT_DISTANCE_0/BISMARK_COV/44-TMPANEL4_S7544-S7744.connor_R1_bismark_bt2_pe.bedGraph.gz.bismark.zero.cov for panel Lung_panel_version_1.1...\n"
     ]
    },
    {
     "name": "stderr",
     "output_type": "stream",
     "text": [
      "100%|██████████| 35/35 [00:00<00:00, 10793.37it/s]\n"
     ]
    },
    {
     "name": "stdout",
     "output_type": "stream",
     "text": [
      "Processing /workdir/outdir/pipeline_output/SampleSheet_batch_20250604/UMT_DISTANCE_0/BISMARK_COV/1-TML4S1_S7546-S7746.connor_R1_bismark_bt2_pe.bedGraph.gz.bismark.zero.cov for panel Lung_panel_version_1.1...\n"
     ]
    },
    {
     "name": "stderr",
     "output_type": "stream",
     "text": [
      "100%|██████████| 6/6 [00:00<00:00, 5000.16it/s]\n"
     ]
    },
    {
     "name": "stdout",
     "output_type": "stream",
     "text": [
      "Processing /workdir/outdir/pipeline_output/SampleSheet_batch_20250604/UMT_DISTANCE_0/BISMARK_COV/2-TML4S2_S7547-S7747.connor_R1_bismark_bt2_pe.bedGraph.gz.bismark.zero.cov for panel Lung_panel_version_1.1...\n"
     ]
    },
    {
     "name": "stderr",
     "output_type": "stream",
     "text": [
      "100%|██████████| 5/5 [00:00<00:00, 5257.34it/s]\n"
     ]
    },
    {
     "name": "stdout",
     "output_type": "stream",
     "text": [
      "Processing /workdir/outdir/pipeline_output/SampleSheet_batch_20250604/UMT_DISTANCE_0/BISMARK_COV/3-TML4S3_S7548-S7748.connor_R1_bismark_bt2_pe.bedGraph.gz.bismark.zero.cov for panel Lung_panel_version_1.1...\n"
     ]
    },
    {
     "name": "stderr",
     "output_type": "stream",
     "text": [
      "100%|██████████| 8/8 [00:00<00:00, 6762.28it/s]\n"
     ]
    },
    {
     "name": "stdout",
     "output_type": "stream",
     "text": [
      "Processing /workdir/outdir/pipeline_output/SampleSheet_batch_20250604/UMT_DISTANCE_0/BISMARK_COV/4-TML4S4_S7549-S7749.connor_R1_bismark_bt2_pe.bedGraph.gz.bismark.zero.cov for panel Lung_panel_version_1.1...\n"
     ]
    },
    {
     "name": "stderr",
     "output_type": "stream",
     "text": [
      "100%|██████████| 7/7 [00:00<00:00, 6273.53it/s]\n"
     ]
    },
    {
     "name": "stdout",
     "output_type": "stream",
     "text": [
      "Processing /workdir/outdir/pipeline_output/SampleSheet_batch_20250604/UMT_DISTANCE_0/BISMARK_COV/5-TML4S5_S7550-S7750.connor_R1_bismark_bt2_pe.bedGraph.gz.bismark.zero.cov for panel Lung_panel_version_1.1...\n"
     ]
    },
    {
     "name": "stderr",
     "output_type": "stream",
     "text": [
      "100%|██████████| 8/8 [00:00<00:00, 6468.95it/s]\n"
     ]
    },
    {
     "name": "stdout",
     "output_type": "stream",
     "text": [
      "Processing /workdir/outdir/pipeline_output/SampleSheet_batch_20250604/UMT_DISTANCE_0/BISMARK_COV/6-TML7S1_S7551-S7751.connor_R1_bismark_bt2_pe.bedGraph.gz.bismark.zero.cov for panel Lung_panel_version_1.1...\n"
     ]
    },
    {
     "name": "stderr",
     "output_type": "stream",
     "text": [
      "100%|██████████| 9/9 [00:00<00:00, 6849.71it/s]\n"
     ]
    },
    {
     "name": "stdout",
     "output_type": "stream",
     "text": [
      "Processing /workdir/outdir/pipeline_output/SampleSheet_batch_20250604/UMT_DISTANCE_0/BISMARK_COV/7-TML7S2_S7552-S7752.connor_R1_bismark_bt2_pe.bedGraph.gz.bismark.zero.cov for panel Lung_panel_version_1.1...\n"
     ]
    },
    {
     "name": "stderr",
     "output_type": "stream",
     "text": [
      "100%|██████████| 9/9 [00:00<00:00, 7009.98it/s]\n"
     ]
    },
    {
     "name": "stdout",
     "output_type": "stream",
     "text": [
      "Processing /workdir/outdir/pipeline_output/SampleSheet_batch_20250604/UMT_DISTANCE_0/BISMARK_COV/8-TML7S3_S7553-S7753.connor_R1_bismark_bt2_pe.bedGraph.gz.bismark.zero.cov for panel Lung_panel_version_1.1...\n"
     ]
    },
    {
     "name": "stderr",
     "output_type": "stream",
     "text": [
      "100%|██████████| 9/9 [00:00<00:00, 6817.54it/s]\n"
     ]
    },
    {
     "name": "stdout",
     "output_type": "stream",
     "text": [
      "Processing /workdir/outdir/pipeline_output/SampleSheet_batch_20250604/UMT_DISTANCE_0/BISMARK_COV/9-TML7S4_S7554-S7754.connor_R1_bismark_bt2_pe.bedGraph.gz.bismark.zero.cov for panel Lung_panel_version_1.1...\n"
     ]
    },
    {
     "name": "stderr",
     "output_type": "stream",
     "text": [
      "100%|██████████| 10/10 [00:00<00:00, 6984.69it/s]\n"
     ]
    },
    {
     "name": "stdout",
     "output_type": "stream",
     "text": [
      "Processing /workdir/outdir/pipeline_output/SampleSheet_batch_20250604/UMT_DISTANCE_0/BISMARK_COV/10-TML7S5_S7555-S7755.connor_R1_bismark_bt2_pe.bedGraph.gz.bismark.zero.cov for panel Lung_panel_version_1.1...\n"
     ]
    },
    {
     "name": "stderr",
     "output_type": "stream",
     "text": [
      "100%|██████████| 9/9 [00:00<00:00, 7256.58it/s]\n"
     ]
    },
    {
     "name": "stdout",
     "output_type": "stream",
     "text": [
      "Processing /workdir/outdir/pipeline_output/SampleSheet_batch_20250604/UMT_DISTANCE_0/BISMARK_COV/11-TML12S1_S7556-S7756.connor_R1_bismark_bt2_pe.bedGraph.gz.bismark.zero.cov for panel Lung_panel_version_1.1...\n"
     ]
    },
    {
     "name": "stderr",
     "output_type": "stream",
     "text": [
      "100%|██████████| 7/7 [00:00<00:00, 7406.69it/s]\n"
     ]
    },
    {
     "name": "stdout",
     "output_type": "stream",
     "text": [
      "Processing /workdir/outdir/pipeline_output/SampleSheet_batch_20250604/UMT_DISTANCE_0/BISMARK_COV/12-TML12S2_S7557-S7757.connor_R1_bismark_bt2_pe.bedGraph.gz.bismark.zero.cov for panel Lung_panel_version_1.1...\n"
     ]
    },
    {
     "name": "stderr",
     "output_type": "stream",
     "text": [
      "100%|██████████| 7/7 [00:00<00:00, 7314.43it/s]\n"
     ]
    },
    {
     "name": "stdout",
     "output_type": "stream",
     "text": [
      "Processing /workdir/outdir/pipeline_output/SampleSheet_batch_20250604/UMT_DISTANCE_0/BISMARK_COV/13-TML12S3_S7558-S7758.connor_R1_bismark_bt2_pe.bedGraph.gz.bismark.zero.cov for panel Lung_panel_version_1.1...\n"
     ]
    },
    {
     "name": "stderr",
     "output_type": "stream",
     "text": [
      "100%|██████████| 7/7 [00:00<00:00, 6242.85it/s]\n"
     ]
    },
    {
     "name": "stdout",
     "output_type": "stream",
     "text": [
      "Processing /workdir/outdir/pipeline_output/SampleSheet_batch_20250604/UMT_DISTANCE_0/BISMARK_COV/14-TML12S4_S7559-S7759.connor_R1_bismark_bt2_pe.bedGraph.gz.bismark.zero.cov for panel Lung_panel_version_1.1...\n"
     ]
    },
    {
     "name": "stderr",
     "output_type": "stream",
     "text": [
      "100%|██████████| 7/7 [00:00<00:00, 6236.22it/s]\n"
     ]
    },
    {
     "name": "stdout",
     "output_type": "stream",
     "text": [
      "Processing /workdir/outdir/pipeline_output/SampleSheet_batch_20250604/UMT_DISTANCE_0/BISMARK_COV/15-TML12S5_S7560-S7760.connor_R1_bismark_bt2_pe.bedGraph.gz.bismark.zero.cov for panel Lung_panel_version_1.1...\n"
     ]
    },
    {
     "name": "stderr",
     "output_type": "stream",
     "text": [
      "100%|██████████| 7/7 [00:00<00:00, 6162.92it/s]\n"
     ]
    },
    {
     "name": "stdout",
     "output_type": "stream",
     "text": [
      "Processing /workdir/outdir/pipeline_output/SampleSheet_batch_20250604/UMT_DISTANCE_0/BISMARK_COV/16-TML13S1_S7561-S7761.connor_R1_bismark_bt2_pe.bedGraph.gz.bismark.zero.cov for panel Lung_panel_version_1.1...\n"
     ]
    },
    {
     "name": "stderr",
     "output_type": "stream",
     "text": [
      "100%|██████████| 7/7 [00:00<00:00, 6497.04it/s]\n"
     ]
    },
    {
     "name": "stdout",
     "output_type": "stream",
     "text": [
      "Processing /workdir/outdir/pipeline_output/SampleSheet_batch_20250604/UMT_DISTANCE_0/BISMARK_COV/17-TML13S2_S7562-S7762.connor_R1_bismark_bt2_pe.bedGraph.gz.bismark.zero.cov for panel Lung_panel_version_1.1...\n"
     ]
    },
    {
     "name": "stderr",
     "output_type": "stream",
     "text": [
      "100%|██████████| 9/9 [00:00<00:00, 6058.21it/s]\n"
     ]
    },
    {
     "name": "stdout",
     "output_type": "stream",
     "text": [
      "Processing /workdir/outdir/pipeline_output/SampleSheet_batch_20250604/UMT_DISTANCE_0/BISMARK_COV/18-TML13S3_S7563-S7763.connor_R1_bismark_bt2_pe.bedGraph.gz.bismark.zero.cov for panel Lung_panel_version_1.1...\n"
     ]
    },
    {
     "name": "stderr",
     "output_type": "stream",
     "text": [
      "100%|██████████| 8/8 [00:00<00:00, 6789.65it/s]\n"
     ]
    },
    {
     "name": "stdout",
     "output_type": "stream",
     "text": [
      "Processing /workdir/outdir/pipeline_output/SampleSheet_batch_20250604/UMT_DISTANCE_0/BISMARK_COV/19-TML13S4_S7564-S7764.connor_R1_bismark_bt2_pe.bedGraph.gz.bismark.zero.cov for panel Lung_panel_version_1.1...\n"
     ]
    },
    {
     "name": "stderr",
     "output_type": "stream",
     "text": [
      "100%|██████████| 7/7 [00:00<00:00, 6367.41it/s]\n"
     ]
    },
    {
     "name": "stdout",
     "output_type": "stream",
     "text": [
      "Processing /workdir/outdir/pipeline_output/SampleSheet_batch_20250604/UMT_DISTANCE_0/BISMARK_COV/20-TML13S5_S7565-S7765.connor_R1_bismark_bt2_pe.bedGraph.gz.bismark.zero.cov for panel Lung_panel_version_1.1...\n"
     ]
    },
    {
     "name": "stderr",
     "output_type": "stream",
     "text": [
      "100%|██████████| 7/7 [00:00<00:00, 7332.70it/s]\n"
     ]
    },
    {
     "name": "stdout",
     "output_type": "stream",
     "text": [
      "Processing /workdir/outdir/pipeline_output/SampleSheet_batch_20250604/UMT_DISTANCE_0/BISMARK_COV/21-TML6S1_S7566-S7766.connor_R1_bismark_bt2_pe.bedGraph.gz.bismark.zero.cov for panel Lung_panel_version_1.1...\n"
     ]
    },
    {
     "name": "stderr",
     "output_type": "stream",
     "text": [
      "100%|██████████| 15/15 [00:00<00:00, 8817.74it/s]\n"
     ]
    },
    {
     "name": "stdout",
     "output_type": "stream",
     "text": [
      "Processing /workdir/outdir/pipeline_output/SampleSheet_batch_20250604/UMT_DISTANCE_0/BISMARK_COV/22-TML6S2_S7567-S7767.connor_R1_bismark_bt2_pe.bedGraph.gz.bismark.zero.cov for panel Lung_panel_version_1.1...\n"
     ]
    },
    {
     "name": "stderr",
     "output_type": "stream",
     "text": [
      "100%|██████████| 16/16 [00:00<00:00, 7834.33it/s]\n"
     ]
    },
    {
     "name": "stdout",
     "output_type": "stream",
     "text": [
      "Processing /workdir/outdir/pipeline_output/SampleSheet_batch_20250604/UMT_DISTANCE_0/BISMARK_COV/23-TML6S3_S7568-S7768.connor_R1_bismark_bt2_pe.bedGraph.gz.bismark.zero.cov for panel Lung_panel_version_1.1...\n"
     ]
    },
    {
     "name": "stderr",
     "output_type": "stream",
     "text": [
      "100%|██████████| 15/15 [00:00<00:00, 8674.28it/s]\n"
     ]
    },
    {
     "name": "stdout",
     "output_type": "stream",
     "text": [
      "Processing /workdir/outdir/pipeline_output/SampleSheet_batch_20250604/UMT_DISTANCE_0/BISMARK_COV/24-TML6S4_S7569-S7769.connor_R1_bismark_bt2_pe.bedGraph.gz.bismark.zero.cov for panel Lung_panel_version_1.1...\n"
     ]
    },
    {
     "name": "stderr",
     "output_type": "stream",
     "text": [
      "100%|██████████| 21/21 [00:00<00:00, 9102.97it/s]\n"
     ]
    },
    {
     "name": "stdout",
     "output_type": "stream",
     "text": [
      "Processing /workdir/outdir/pipeline_output/SampleSheet_batch_20250604/UMT_DISTANCE_0/BISMARK_COV/25-TML6S5_S7570-S7770.connor_R1_bismark_bt2_pe.bedGraph.gz.bismark.zero.cov for panel Lung_panel_version_1.1...\n"
     ]
    },
    {
     "name": "stderr",
     "output_type": "stream",
     "text": [
      "100%|██████████| 24/24 [00:00<00:00, 9788.34it/s]\n"
     ]
    },
    {
     "name": "stdout",
     "output_type": "stream",
     "text": [
      "Processing /workdir/outdir/pipeline_output/SampleSheet_batch_20250604/UMT_DISTANCE_0/BISMARK_COV/26-TML14S1_S7571-S7771.connor_R1_bismark_bt2_pe.bedGraph.gz.bismark.zero.cov for panel Lung_panel_version_1.1...\n"
     ]
    },
    {
     "name": "stderr",
     "output_type": "stream",
     "text": [
      "100%|██████████| 24/24 [00:00<00:00, 9138.75it/s]\n"
     ]
    },
    {
     "name": "stdout",
     "output_type": "stream",
     "text": [
      "Processing /workdir/outdir/pipeline_output/SampleSheet_batch_20250604/UMT_DISTANCE_0/BISMARK_COV/27-TML14S2_S7572-S7772.connor_R1_bismark_bt2_pe.bedGraph.gz.bismark.zero.cov for panel Lung_panel_version_1.1...\n"
     ]
    },
    {
     "name": "stderr",
     "output_type": "stream",
     "text": [
      "100%|██████████| 18/18 [00:00<00:00, 9158.98it/s]\n"
     ]
    },
    {
     "name": "stdout",
     "output_type": "stream",
     "text": [
      "Processing /workdir/outdir/pipeline_output/SampleSheet_batch_20250604/UMT_DISTANCE_0/BISMARK_COV/28-TML14S3_S7573-S7773.connor_R1_bismark_bt2_pe.bedGraph.gz.bismark.zero.cov for panel Lung_panel_version_1.1...\n"
     ]
    },
    {
     "name": "stderr",
     "output_type": "stream",
     "text": [
      "100%|██████████| 9/9 [00:00<00:00, 7180.66it/s]\n"
     ]
    },
    {
     "name": "stdout",
     "output_type": "stream",
     "text": [
      "Processing /workdir/outdir/pipeline_output/SampleSheet_batch_20250604/UMT_DISTANCE_0/BISMARK_COV/29-TML14S4_S7574-S7774.connor_R1_bismark_bt2_pe.bedGraph.gz.bismark.zero.cov for panel Lung_panel_version_1.1...\n"
     ]
    },
    {
     "name": "stderr",
     "output_type": "stream",
     "text": [
      "100%|██████████| 9/9 [00:00<00:00, 7026.94it/s]\n"
     ]
    },
    {
     "name": "stdout",
     "output_type": "stream",
     "text": [
      "Processing /workdir/outdir/pipeline_output/SampleSheet_batch_20250604/UMT_DISTANCE_0/BISMARK_COV/30-TML14S5_S7575-S7775.connor_R1_bismark_bt2_pe.bedGraph.gz.bismark.zero.cov for panel Lung_panel_version_1.1...\n"
     ]
    },
    {
     "name": "stderr",
     "output_type": "stream",
     "text": [
      "100%|██████████| 10/10 [00:00<00:00, 7431.44it/s]\n"
     ]
    },
    {
     "name": "stdout",
     "output_type": "stream",
     "text": [
      "Processing /workdir/outdir/pipeline_output/SampleSheet_batch_20250604/UMT_DISTANCE_0/BISMARK_COV/31-TML15S1_S7576-S7776.connor_R1_bismark_bt2_pe.bedGraph.gz.bismark.zero.cov for panel Lung_panel_version_1.1...\n"
     ]
    },
    {
     "name": "stderr",
     "output_type": "stream",
     "text": [
      "100%|██████████| 11/11 [00:00<00:00, 7214.60it/s]\n"
     ]
    },
    {
     "name": "stdout",
     "output_type": "stream",
     "text": [
      "Processing /workdir/outdir/pipeline_output/SampleSheet_batch_20250604/UMT_DISTANCE_0/BISMARK_COV/32-TML15S2_S7577-S7777.connor_R1_bismark_bt2_pe.bedGraph.gz.bismark.zero.cov for panel Lung_panel_version_1.1...\n"
     ]
    },
    {
     "name": "stderr",
     "output_type": "stream",
     "text": [
      "100%|██████████| 5/5 [00:00<00:00, 5185.84it/s]\n"
     ]
    },
    {
     "name": "stdout",
     "output_type": "stream",
     "text": [
      "Processing /workdir/outdir/pipeline_output/SampleSheet_batch_20250604/UMT_DISTANCE_0/BISMARK_COV/33-TML15S3_S7578-S7778.connor_R1_bismark_bt2_pe.bedGraph.gz.bismark.zero.cov for panel Lung_panel_version_1.1...\n"
     ]
    },
    {
     "name": "stderr",
     "output_type": "stream",
     "text": [
      "100%|██████████| 7/7 [00:00<00:00, 6318.08it/s]\n"
     ]
    },
    {
     "name": "stdout",
     "output_type": "stream",
     "text": [
      "Processing /workdir/outdir/pipeline_output/SampleSheet_batch_20250604/UMT_DISTANCE_0/BISMARK_COV/34-TML15S4_S7579-S7779.connor_R1_bismark_bt2_pe.bedGraph.gz.bismark.zero.cov for panel Lung_panel_version_1.1...\n"
     ]
    },
    {
     "name": "stderr",
     "output_type": "stream",
     "text": [
      "100%|██████████| 7/7 [00:00<00:00, 5568.01it/s]\n"
     ]
    },
    {
     "name": "stdout",
     "output_type": "stream",
     "text": [
      "Processing /workdir/outdir/pipeline_output/SampleSheet_batch_20250604/UMT_DISTANCE_0/BISMARK_COV/35-TML15S5_S7580-S7780.connor_R1_bismark_bt2_pe.bedGraph.gz.bismark.zero.cov for panel Lung_panel_version_1.1...\n"
     ]
    },
    {
     "name": "stderr",
     "output_type": "stream",
     "text": [
      "100%|██████████| 6/6 [00:00<00:00, 5716.91it/s]\n"
     ]
    },
    {
     "name": "stdout",
     "output_type": "stream",
     "text": [
      "Processing /workdir/outdir/pipeline_output/SampleSheet_batch_20250604/UMT_DISTANCE_0/BISMARK_COV/36-TML16S1_S7581-S7781.connor_R1_bismark_bt2_pe.bedGraph.gz.bismark.zero.cov for panel Lung_panel_version_1.1...\n"
     ]
    },
    {
     "name": "stderr",
     "output_type": "stream",
     "text": [
      "100%|██████████| 6/6 [00:00<00:00, 7061.12it/s]\n"
     ]
    },
    {
     "name": "stdout",
     "output_type": "stream",
     "text": [
      "Processing /workdir/outdir/pipeline_output/SampleSheet_batch_20250604/UMT_DISTANCE_0/BISMARK_COV/37-TML16S2_S7582-S7782.connor_R1_bismark_bt2_pe.bedGraph.gz.bismark.zero.cov for panel Lung_panel_version_1.1...\n"
     ]
    },
    {
     "name": "stderr",
     "output_type": "stream",
     "text": [
      "100%|██████████| 6/6 [00:00<00:00, 5701.36it/s]\n"
     ]
    },
    {
     "name": "stdout",
     "output_type": "stream",
     "text": [
      "Processing /workdir/outdir/pipeline_output/SampleSheet_batch_20250604/UMT_DISTANCE_0/BISMARK_COV/38-TML16S3_S7583-S7783.connor_R1_bismark_bt2_pe.bedGraph.gz.bismark.zero.cov for panel Lung_panel_version_1.1...\n"
     ]
    },
    {
     "name": "stderr",
     "output_type": "stream",
     "text": [
      "100%|██████████| 6/6 [00:00<00:00, 5127.51it/s]\n"
     ]
    },
    {
     "name": "stdout",
     "output_type": "stream",
     "text": [
      "Processing /workdir/outdir/pipeline_output/SampleSheet_batch_20250604/UMT_DISTANCE_0/BISMARK_COV/39-TML16S4_S7584-S7784.connor_R1_bismark_bt2_pe.bedGraph.gz.bismark.zero.cov for panel Lung_panel_version_1.1...\n"
     ]
    },
    {
     "name": "stderr",
     "output_type": "stream",
     "text": [
      "100%|██████████| 6/6 [00:00<00:00, 5360.13it/s]\n"
     ]
    },
    {
     "name": "stdout",
     "output_type": "stream",
     "text": [
      "Processing /workdir/outdir/pipeline_output/SampleSheet_batch_20250604/UMT_DISTANCE_0/BISMARK_COV/40-TML16S5_S7585-S7785.connor_R1_bismark_bt2_pe.bedGraph.gz.bismark.zero.cov for panel Lung_panel_version_1.1...\n"
     ]
    },
    {
     "name": "stderr",
     "output_type": "stream",
     "text": [
      "100%|██████████| 6/6 [00:00<00:00, 5537.03it/s]\n"
     ]
    },
    {
     "name": "stdout",
     "output_type": "stream",
     "text": [
      "Processing /workdir/outdir/pipeline_output/SampleSheet_batch_20250604/UMT_DISTANCE_0/BISMARK_COV/41-TML17S1_S7586-S7786.connor_R1_bismark_bt2_pe.bedGraph.gz.bismark.zero.cov for panel Lung_panel_version_1.1...\n"
     ]
    },
    {
     "name": "stderr",
     "output_type": "stream",
     "text": [
      "100%|██████████| 6/6 [00:00<00:00, 5828.12it/s]\n"
     ]
    },
    {
     "name": "stdout",
     "output_type": "stream",
     "text": [
      "Processing /workdir/outdir/pipeline_output/SampleSheet_batch_20250604/UMT_DISTANCE_0/BISMARK_COV/42-TML17S2_S7587-S7787.connor_R1_bismark_bt2_pe.bedGraph.gz.bismark.zero.cov for panel Lung_panel_version_1.1...\n"
     ]
    },
    {
     "name": "stderr",
     "output_type": "stream",
     "text": [
      "100%|██████████| 6/6 [00:00<00:00, 6860.91it/s]\n"
     ]
    },
    {
     "name": "stdout",
     "output_type": "stream",
     "text": [
      "Processing /workdir/outdir/pipeline_output/SampleSheet_batch_20250604/UMT_DISTANCE_0/BISMARK_COV/43-TML17S3_S7588-S7788.connor_R1_bismark_bt2_pe.bedGraph.gz.bismark.zero.cov for panel Lung_panel_version_1.1...\n"
     ]
    },
    {
     "name": "stderr",
     "output_type": "stream",
     "text": [
      "100%|██████████| 6/6 [00:00<00:00, 5745.62it/s]\n"
     ]
    },
    {
     "name": "stdout",
     "output_type": "stream",
     "text": [
      "Processing /workdir/outdir/pipeline_output/SampleSheet_batch_20250604/UMT_DISTANCE_0/BISMARK_COV/44-TML17S4_S7589-S7789.connor_R1_bismark_bt2_pe.bedGraph.gz.bismark.zero.cov for panel Lung_panel_version_1.1...\n"
     ]
    },
    {
     "name": "stderr",
     "output_type": "stream",
     "text": [
      "100%|██████████| 6/6 [00:00<00:00, 5409.68it/s]\n"
     ]
    },
    {
     "name": "stdout",
     "output_type": "stream",
     "text": [
      "Processing /workdir/outdir/pipeline_output/SampleSheet_batch_20250604/UMT_DISTANCE_0/BISMARK_COV/45-TML17S5_S7590-S7790.connor_R1_bismark_bt2_pe.bedGraph.gz.bismark.zero.cov for panel Lung_panel_version_1.1...\n"
     ]
    },
    {
     "name": "stderr",
     "output_type": "stream",
     "text": [
      "100%|██████████| 6/6 [00:00<00:00, 5728.62it/s]\n"
     ]
    },
    {
     "name": "stdout",
     "output_type": "stream",
     "text": [
      "Processing /workdir/outdir/pipeline_output/SampleSheet_batch_20250604/UMT_DISTANCE_0/BISMARK_COV/1-TMPL1S1_S7509-S7709.connor_R1_bismark_bt2_pe.bedGraph.gz.bismark.zero.cov for panel Lung_panel_version_1.1...\n"
     ]
    },
    {
     "name": "stderr",
     "output_type": "stream",
     "text": [
      "100%|██████████| 43/43 [00:00<00:00, 11024.82it/s]\n"
     ]
    },
    {
     "name": "stdout",
     "output_type": "stream",
     "text": [
      "Processing /workdir/outdir/pipeline_output/SampleSheet_batch_20250604/UMT_DISTANCE_0/BISMARK_COV/2-TMPL1S2_S7510-S7710.connor_R1_bismark_bt2_pe.bedGraph.gz.bismark.zero.cov for panel Lung_panel_version_1.1...\n"
     ]
    },
    {
     "name": "stderr",
     "output_type": "stream",
     "text": [
      "100%|██████████| 27/27 [00:00<00:00, 10151.15it/s]\n"
     ]
    },
    {
     "name": "stdout",
     "output_type": "stream",
     "text": [
      "Processing /workdir/outdir/pipeline_output/SampleSheet_batch_20250604/UMT_DISTANCE_0/BISMARK_COV/3-TMPL1S3_S7511-S7711.connor_R1_bismark_bt2_pe.bedGraph.gz.bismark.zero.cov for panel Lung_panel_version_1.1...\n"
     ]
    },
    {
     "name": "stderr",
     "output_type": "stream",
     "text": [
      "100%|██████████| 27/27 [00:00<00:00, 10210.64it/s]\n"
     ]
    },
    {
     "name": "stdout",
     "output_type": "stream",
     "text": [
      "Processing /workdir/outdir/pipeline_output/SampleSheet_batch_20250604/UMT_DISTANCE_0/BISMARK_COV/4-TMPL1S4_S7512-S7712.connor_R1_bismark_bt2_pe.bedGraph.gz.bismark.zero.cov for panel Lung_panel_version_1.1...\n"
     ]
    },
    {
     "name": "stderr",
     "output_type": "stream",
     "text": [
      "100%|██████████| 43/43 [00:00<00:00, 11918.00it/s]\n"
     ]
    },
    {
     "name": "stdout",
     "output_type": "stream",
     "text": [
      "Processing /workdir/outdir/pipeline_output/SampleSheet_batch_20250604/UMT_DISTANCE_0/BISMARK_COV/5-TMPL1S5_S7513-S7713.connor_R1_bismark_bt2_pe.bedGraph.gz.bismark.zero.cov for panel Lung_panel_version_1.1...\n"
     ]
    },
    {
     "name": "stderr",
     "output_type": "stream",
     "text": [
      "100%|██████████| 27/27 [00:00<00:00, 10289.50it/s]\n"
     ]
    },
    {
     "name": "stdout",
     "output_type": "stream",
     "text": [
      "Input coverage file /workdir/outdir/pipeline_output/SampleSheet_batch_20250604/UMT_DISTANCE_0/BISMARK_COV/6-TMPL2S1_S7514-S7714.connor_R1_bismark_bt2_pe.bedGraph.gz.bismark.zero.cov does not exist, skipping...\n",
      "Input coverage file /workdir/outdir/pipeline_output/SampleSheet_batch_20250604/UMT_DISTANCE_0/BISMARK_COV/7-TMPL2S2_S7515-S7715.connor_R1_bismark_bt2_pe.bedGraph.gz.bismark.zero.cov does not exist, skipping...\n",
      "Processing /workdir/outdir/pipeline_output/SampleSheet_batch_20250604/UMT_DISTANCE_0/BISMARK_COV/8-TMPL2S3_S7516-S7716.connor_R1_bismark_bt2_pe.bedGraph.gz.bismark.zero.cov for panel Lung_panel_version_1.1...\n"
     ]
    },
    {
     "name": "stderr",
     "output_type": "stream",
     "text": [
      "100%|██████████| 26/26 [00:00<00:00, 11003.12it/s]\n"
     ]
    },
    {
     "name": "stdout",
     "output_type": "stream",
     "text": [
      "Input coverage file /workdir/outdir/pipeline_output/SampleSheet_batch_20250613_smallsize/UMT_DISTANCE_0/BISMARK_COV/9-TMPL2S4_S7517-S7717.connor_R1_bismark_bt2_pe.bedGraph.gz.bismark.zero.cov does not exist, skipping...\n",
      "Processing /workdir/outdir/pipeline_output/SampleSheet_batch_20250604/UMT_DISTANCE_0/BISMARK_COV/10-TMPL2S5_S7518-S7718.connor_R1_bismark_bt2_pe.bedGraph.gz.bismark.zero.cov for panel Lung_panel_version_1.1...\n"
     ]
    },
    {
     "name": "stderr",
     "output_type": "stream",
     "text": [
      "100%|██████████| 13/13 [00:00<00:00, 7728.70it/s]\n"
     ]
    },
    {
     "name": "stdout",
     "output_type": "stream",
     "text": [
      "Input coverage file /workdir/outdir/pipeline_output/SampleSheet_batch_20250604/UMT_DISTANCE_0/BISMARK_COV/11-TMPL3S1_S7519-S7719.connor_R1_bismark_bt2_pe.bedGraph.gz.bismark.zero.cov does not exist, skipping...\n",
      "Input coverage file /workdir/outdir/pipeline_output/SampleSheet_batch_20250604/UMT_DISTANCE_0/BISMARK_COV/12-TMPL3S2_S7520-S7720.connor_R1_bismark_bt2_pe.bedGraph.gz.bismark.zero.cov does not exist, skipping...\n",
      "Input coverage file /workdir/outdir/pipeline_output/SampleSheet_batch_20250604/UMT_DISTANCE_0/BISMARK_COV/13-TMPL3S3_S7521-S7721.connor_R1_bismark_bt2_pe.bedGraph.gz.bismark.zero.cov does not exist, skipping...\n",
      "Input coverage file /workdir/outdir/pipeline_output/SampleSheet_batch_20250604/UMT_DISTANCE_0/BISMARK_COV/14-TMPL3S4_S7522-S7722.connor_R1_bismark_bt2_pe.bedGraph.gz.bismark.zero.cov does not exist, skipping...\n",
      "Input coverage file /workdir/outdir/pipeline_output/SampleSheet_batch_20250604/UMT_DISTANCE_0/BISMARK_COV/15-TMPL3S5_S7523-S7723.connor_R1_bismark_bt2_pe.bedGraph.gz.bismark.zero.cov does not exist, skipping...\n",
      "Processing /workdir/outdir/pipeline_output/SampleSheet_batch_20250604/UMT_DISTANCE_0/BISMARK_COV/16-TMPL4S1_S7524-S7724.connor_R1_bismark_bt2_pe.bedGraph.gz.bismark.zero.cov for panel Lung_panel_version_1.1...\n"
     ]
    },
    {
     "name": "stderr",
     "output_type": "stream",
     "text": [
      "100%|██████████| 26/26 [00:00<00:00, 10737.68it/s]\n"
     ]
    },
    {
     "name": "stdout",
     "output_type": "stream",
     "text": [
      "Processing /workdir/outdir/pipeline_output/SampleSheet_batch_20250604/UMT_DISTANCE_0/BISMARK_COV/17-TMPL4S2_S7525-S7725.connor_R1_bismark_bt2_pe.bedGraph.gz.bismark.zero.cov for panel Lung_panel_version_1.1...\n"
     ]
    },
    {
     "name": "stderr",
     "output_type": "stream",
     "text": [
      "100%|██████████| 22/22 [00:00<00:00, 9688.65it/s]\n"
     ]
    },
    {
     "name": "stdout",
     "output_type": "stream",
     "text": [
      "Processing /workdir/outdir/pipeline_output/SampleSheet_batch_20250604/UMT_DISTANCE_0/BISMARK_COV/18-TMPL4S3_S7526-S7726.connor_R1_bismark_bt2_pe.bedGraph.gz.bismark.zero.cov for panel Lung_panel_version_1.1...\n"
     ]
    },
    {
     "name": "stderr",
     "output_type": "stream",
     "text": [
      "100%|██████████| 28/28 [00:00<00:00, 10020.52it/s]\n"
     ]
    },
    {
     "name": "stdout",
     "output_type": "stream",
     "text": [
      "Processing /workdir/outdir/pipeline_output/SampleSheet_batch_20250604/UMT_DISTANCE_0/BISMARK_COV/19-TMPL4S4_S7527-S7727.connor_R1_bismark_bt2_pe.bedGraph.gz.bismark.zero.cov for panel Lung_panel_version_1.1...\n"
     ]
    },
    {
     "name": "stderr",
     "output_type": "stream",
     "text": [
      "100%|██████████| 37/37 [00:00<00:00, 11041.57it/s]\n"
     ]
    },
    {
     "name": "stdout",
     "output_type": "stream",
     "text": [
      "Processing /workdir/outdir/pipeline_output/SampleSheet_batch_20250604/UMT_DISTANCE_0/BISMARK_COV/20-TMPL4S5_S7528-S7728.connor_R1_bismark_bt2_pe.bedGraph.gz.bismark.zero.cov for panel Lung_panel_version_1.1...\n"
     ]
    },
    {
     "name": "stderr",
     "output_type": "stream",
     "text": [
      "100%|██████████| 24/24 [00:00<00:00, 9397.25it/s]\n"
     ]
    },
    {
     "name": "stdout",
     "output_type": "stream",
     "text": [
      "Processing /workdir/outdir/pipeline_output/SampleSheet_batch_20250605/UMT_DISTANCE_0/BISMARK_COV/1-TMH1S1CF_S7501-S7701.connor_R1_bismark_bt2_pe.bedGraph.gz.bismark.zero.cov for panel CRC_panel_version_1.2...\n"
     ]
    },
    {
     "name": "stderr",
     "output_type": "stream",
     "text": [
      "100%|██████████| 15/15 [00:00<00:00, 8451.71it/s]\n"
     ]
    },
    {
     "name": "stdout",
     "output_type": "stream",
     "text": [
      "Processing /workdir/outdir/pipeline_output/SampleSheet_batch_20250605/UMT_DISTANCE_0/BISMARK_COV/2-TMH1S2CF_S7502-S7702.connor_R1_bismark_bt2_pe.bedGraph.gz.bismark.zero.cov for panel CRC_panel_version_1.2...\n"
     ]
    },
    {
     "name": "stderr",
     "output_type": "stream",
     "text": [
      "100%|██████████| 15/15 [00:00<00:00, 8518.08it/s]\n"
     ]
    },
    {
     "name": "stdout",
     "output_type": "stream",
     "text": [
      "Processing /workdir/outdir/pipeline_output/SampleSheet_batch_20250605/UMT_DISTANCE_0/BISMARK_COV/3-TMH1S3CF_S7503-S7703.connor_R1_bismark_bt2_pe.bedGraph.gz.bismark.zero.cov for panel CRC_panel_version_1.2...\n"
     ]
    },
    {
     "name": "stderr",
     "output_type": "stream",
     "text": [
      "100%|██████████| 15/15 [00:00<00:00, 8323.13it/s]\n"
     ]
    },
    {
     "name": "stdout",
     "output_type": "stream",
     "text": [
      "Processing /workdir/outdir/pipeline_output/SampleSheet_batch_20250605/UMT_DISTANCE_0/BISMARK_COV/4-TMH1S4CF_S7504-S7704.connor_R1_bismark_bt2_pe.bedGraph.gz.bismark.zero.cov for panel CRC_panel_version_1.2...\n"
     ]
    },
    {
     "name": "stderr",
     "output_type": "stream",
     "text": [
      "100%|██████████| 15/15 [00:00<00:00, 8417.79it/s]\n"
     ]
    },
    {
     "name": "stdout",
     "output_type": "stream",
     "text": [
      "Processing /workdir/outdir/pipeline_output/SampleSheet_batch_20250605/UMT_DISTANCE_0/BISMARK_COV/5-TMH1S5CF_S7505-S7705.connor_R1_bismark_bt2_pe.bedGraph.gz.bismark.zero.cov for panel CRC_panel_version_1.2...\n"
     ]
    },
    {
     "name": "stderr",
     "output_type": "stream",
     "text": [
      "100%|██████████| 15/15 [00:00<00:00, 8417.79it/s]\n"
     ]
    },
    {
     "name": "stdout",
     "output_type": "stream",
     "text": [
      "Processing /workdir/outdir/pipeline_output/SampleSheet_batch_20250605/UMT_DISTANCE_0/BISMARK_COV/6-TMH1S6CF_S7506-S7706.connor_R1_bismark_bt2_pe.bedGraph.gz.bismark.zero.cov for panel CRC_panel_version_1.2...\n"
     ]
    },
    {
     "name": "stderr",
     "output_type": "stream",
     "text": [
      "100%|██████████| 15/15 [00:00<00:00, 8842.52it/s]\n"
     ]
    },
    {
     "name": "stdout",
     "output_type": "stream",
     "text": [
      "Processing /workdir/outdir/pipeline_output/SampleSheet_batch_20250605/UMT_DISTANCE_0/BISMARK_COV/7-TMH1S7CF_S7507-S7707.connor_R1_bismark_bt2_pe.bedGraph.gz.bismark.zero.cov for panel CRC_panel_version_1.2...\n"
     ]
    },
    {
     "name": "stderr",
     "output_type": "stream",
     "text": [
      "100%|██████████| 15/15 [00:00<00:00, 8141.12it/s]\n"
     ]
    },
    {
     "name": "stdout",
     "output_type": "stream",
     "text": [
      "Processing /workdir/outdir/pipeline_output/SampleSheet_batch_20250605/UMT_DISTANCE_0/BISMARK_COV/8-TMH2S1CF_S7508-S7708.connor_R1_bismark_bt2_pe.bedGraph.gz.bismark.zero.cov for panel CRC_panel_version_1.2...\n"
     ]
    },
    {
     "name": "stderr",
     "output_type": "stream",
     "text": [
      "100%|██████████| 19/19 [00:00<00:00, 9376.61it/s]\n"
     ]
    },
    {
     "name": "stdout",
     "output_type": "stream",
     "text": [
      "Processing /workdir/outdir/pipeline_output/SampleSheet_batch_20250605/UMT_DISTANCE_0/BISMARK_COV/9-TMH2S2CF_S7524-S7724.connor_R1_bismark_bt2_pe.bedGraph.gz.bismark.zero.cov for panel CRC_panel_version_1.2...\n"
     ]
    },
    {
     "name": "stderr",
     "output_type": "stream",
     "text": [
      "100%|██████████| 19/19 [00:00<00:00, 9215.05it/s]\n"
     ]
    },
    {
     "name": "stdout",
     "output_type": "stream",
     "text": [
      "Processing /workdir/outdir/pipeline_output/SampleSheet_batch_20250605/UMT_DISTANCE_0/BISMARK_COV/10-TMH2S3CF_S7525-S7725.connor_R1_bismark_bt2_pe.bedGraph.gz.bismark.zero.cov for panel CRC_panel_version_1.2...\n"
     ]
    },
    {
     "name": "stderr",
     "output_type": "stream",
     "text": [
      "100%|██████████| 19/19 [00:00<00:00, 9200.16it/s]\n"
     ]
    },
    {
     "name": "stdout",
     "output_type": "stream",
     "text": [
      "Processing /workdir/outdir/pipeline_output/SampleSheet_batch_20250605/UMT_DISTANCE_0/BISMARK_COV/11-TMH2S4CF_S7526-S7726.connor_R1_bismark_bt2_pe.bedGraph.gz.bismark.zero.cov for panel CRC_panel_version_1.2...\n"
     ]
    },
    {
     "name": "stderr",
     "output_type": "stream",
     "text": [
      "100%|██████████| 19/19 [00:00<00:00, 8857.59it/s]\n"
     ]
    },
    {
     "name": "stdout",
     "output_type": "stream",
     "text": [
      "Processing /workdir/outdir/pipeline_output/SampleSheet_batch_20250605/UMT_DISTANCE_0/BISMARK_COV/12-TMH2S5CF_S7527-S7727.connor_R1_bismark_bt2_pe.bedGraph.gz.bismark.zero.cov for panel CRC_panel_version_1.2...\n"
     ]
    },
    {
     "name": "stderr",
     "output_type": "stream",
     "text": [
      "100%|██████████| 19/19 [00:00<00:00, 9420.95it/s]\n"
     ]
    },
    {
     "name": "stdout",
     "output_type": "stream",
     "text": [
      "Processing /workdir/outdir/pipeline_output/SampleSheet_batch_20250605/UMT_DISTANCE_0/BISMARK_COV/13-TMH2S6CF_S7528-S7728.connor_R1_bismark_bt2_pe.bedGraph.gz.bismark.zero.cov for panel CRC_panel_version_1.2...\n"
     ]
    },
    {
     "name": "stderr",
     "output_type": "stream",
     "text": [
      "100%|██████████| 19/19 [00:00<00:00, 10184.25it/s]\n"
     ]
    },
    {
     "name": "stdout",
     "output_type": "stream",
     "text": [
      "Processing /workdir/outdir/pipeline_output/SampleSheet_batch_20250605/UMT_DISTANCE_0/BISMARK_COV/14-TMH2S7CF_S7529-S7729.connor_R1_bismark_bt2_pe.bedGraph.gz.bismark.zero.cov for panel CRC_panel_version_1.2...\n"
     ]
    },
    {
     "name": "stderr",
     "output_type": "stream",
     "text": [
      "100%|██████████| 19/19 [00:00<00:00, 9358.99it/s]\n"
     ]
    },
    {
     "name": "stdout",
     "output_type": "stream",
     "text": [
      "Processing /workdir/outdir/pipeline_output/SampleSheet_batch_20250605/UMT_DISTANCE_0/BISMARK_COV/15-TMH3S1CF_S7557-S7757.connor_R1_bismark_bt2_pe.bedGraph.gz.bismark.zero.cov for panel CRC_panel_version_1.2...\n"
     ]
    },
    {
     "name": "stderr",
     "output_type": "stream",
     "text": [
      "100%|██████████| 10/10 [00:00<00:00, 7342.97it/s]\n"
     ]
    },
    {
     "name": "stdout",
     "output_type": "stream",
     "text": [
      "Processing /workdir/outdir/pipeline_output/SampleSheet_batch_20250605/UMT_DISTANCE_0/BISMARK_COV/16-TMH3S2CF_S7564-S7764.connor_R1_bismark_bt2_pe.bedGraph.gz.bismark.zero.cov for panel CRC_panel_version_1.2...\n"
     ]
    },
    {
     "name": "stderr",
     "output_type": "stream",
     "text": [
      "100%|██████████| 10/10 [00:00<00:00, 7328.86it/s]\n"
     ]
    },
    {
     "name": "stdout",
     "output_type": "stream",
     "text": [
      "Processing /workdir/outdir/pipeline_output/SampleSheet_batch_20250605/UMT_DISTANCE_0/BISMARK_COV/17-TMH3S3CF_S7565-S7765.connor_R1_bismark_bt2_pe.bedGraph.gz.bismark.zero.cov for panel CRC_panel_version_1.2...\n"
     ]
    },
    {
     "name": "stderr",
     "output_type": "stream",
     "text": [
      "100%|██████████| 10/10 [00:00<00:00, 7508.60it/s]\n"
     ]
    },
    {
     "name": "stdout",
     "output_type": "stream",
     "text": [
      "Processing /workdir/outdir/pipeline_output/SampleSheet_batch_20250605/UMT_DISTANCE_0/BISMARK_COV/18-TMH3S4CF_S7566-S7766.connor_R1_bismark_bt2_pe.bedGraph.gz.bismark.zero.cov for panel CRC_panel_version_1.2...\n"
     ]
    },
    {
     "name": "stderr",
     "output_type": "stream",
     "text": [
      "100%|██████████| 10/10 [00:00<00:00, 7348.11it/s]\n"
     ]
    },
    {
     "name": "stdout",
     "output_type": "stream",
     "text": [
      "Processing /workdir/outdir/pipeline_output/SampleSheet_batch_20250605/UMT_DISTANCE_0/BISMARK_COV/19-TMH3S5CF_S7567-S7767.connor_R1_bismark_bt2_pe.bedGraph.gz.bismark.zero.cov for panel CRC_panel_version_1.2...\n"
     ]
    },
    {
     "name": "stderr",
     "output_type": "stream",
     "text": [
      "100%|██████████| 10/10 [00:00<00:00, 7355.85it/s]\n"
     ]
    },
    {
     "name": "stdout",
     "output_type": "stream",
     "text": [
      "Processing /workdir/outdir/pipeline_output/SampleSheet_batch_20250605/UMT_DISTANCE_0/BISMARK_COV/20-TMH3S6CF_S7568-S7768.connor_R1_bismark_bt2_pe.bedGraph.gz.bismark.zero.cov for panel CRC_panel_version_1.2...\n"
     ]
    },
    {
     "name": "stderr",
     "output_type": "stream",
     "text": [
      "100%|██████████| 10/10 [00:00<00:00, 7230.31it/s]\n"
     ]
    },
    {
     "name": "stdout",
     "output_type": "stream",
     "text": [
      "Processing /workdir/outdir/pipeline_output/SampleSheet_batch_20250605/UMT_DISTANCE_0/BISMARK_COV/21-TMH3S7CF_S7569-S7769.connor_R1_bismark_bt2_pe.bedGraph.gz.bismark.zero.cov for panel CRC_panel_version_1.2...\n"
     ]
    },
    {
     "name": "stderr",
     "output_type": "stream",
     "text": [
      "100%|██████████| 10/10 [00:00<00:00, 7314.80it/s]\n"
     ]
    },
    {
     "name": "stdout",
     "output_type": "stream",
     "text": [
      "Processing /workdir/outdir/pipeline_output/SampleSheet_batch_20250605/UMT_DISTANCE_0/BISMARK_COV/22-TMH4S1CF_S7570-S7770.connor_R1_bismark_bt2_pe.bedGraph.gz.bismark.zero.cov for panel CRC_panel_version_1.2...\n"
     ]
    },
    {
     "name": "stderr",
     "output_type": "stream",
     "text": [
      "100%|██████████| 13/13 [00:00<00:00, 8227.85it/s]\n"
     ]
    },
    {
     "name": "stdout",
     "output_type": "stream",
     "text": [
      "Processing /workdir/outdir/pipeline_output/SampleSheet_batch_20250605/UMT_DISTANCE_0/BISMARK_COV/23-TMH4S2CF_S7571-S7771.connor_R1_bismark_bt2_pe.bedGraph.gz.bismark.zero.cov for panel CRC_panel_version_1.2...\n"
     ]
    },
    {
     "name": "stderr",
     "output_type": "stream",
     "text": [
      "100%|██████████| 13/13 [00:00<00:00, 8134.56it/s]\n"
     ]
    },
    {
     "name": "stdout",
     "output_type": "stream",
     "text": [
      "Input coverage file /workdir/outdir/pipeline_output/SampleSheet_batch_20250605/UMT_DISTANCE_0/BISMARK_COV/24-TMH4S3CF_S7572-S7772.connor_R1_bismark_bt2_pe.bedGraph.gz.bismark.zero.cov does not exist, skipping...\n",
      "Processing /workdir/outdir/pipeline_output/SampleSheet_batch_20250605/UMT_DISTANCE_0/BISMARK_COV/25-TMH4S4CF_S7573-S7773.connor_R1_bismark_bt2_pe.bedGraph.gz.bismark.zero.cov for panel CRC_panel_version_1.2...\n"
     ]
    },
    {
     "name": "stderr",
     "output_type": "stream",
     "text": [
      "100%|██████████| 13/13 [00:00<00:00, 8026.79it/s]\n"
     ]
    },
    {
     "name": "stdout",
     "output_type": "stream",
     "text": [
      "Processing /workdir/outdir/pipeline_output/SampleSheet_batch_20250605/UMT_DISTANCE_0/BISMARK_COV/26-TMH4S5CF_S7574-S7774.connor_R1_bismark_bt2_pe.bedGraph.gz.bismark.zero.cov for panel CRC_panel_version_1.2...\n"
     ]
    },
    {
     "name": "stderr",
     "output_type": "stream",
     "text": [
      "100%|██████████| 13/13 [00:00<00:00, 8105.54it/s]\n"
     ]
    },
    {
     "name": "stdout",
     "output_type": "stream",
     "text": [
      "Processing /workdir/outdir/pipeline_output/SampleSheet_batch_20250605/UMT_DISTANCE_0/BISMARK_COV/27-TMH4S6CF_S7575-S7775.connor_R1_bismark_bt2_pe.bedGraph.gz.bismark.zero.cov for panel CRC_panel_version_1.2...\n"
     ]
    },
    {
     "name": "stderr",
     "output_type": "stream",
     "text": [
      "100%|██████████| 13/13 [00:00<00:00, 8140.63it/s]\n"
     ]
    },
    {
     "name": "stdout",
     "output_type": "stream",
     "text": [
      "Processing /workdir/outdir/pipeline_output/SampleSheet_batch_20250605/UMT_DISTANCE_0/BISMARK_COV/28-TMH4S7CF_S7576-S7776.connor_R1_bismark_bt2_pe.bedGraph.gz.bismark.zero.cov for panel CRC_panel_version_1.2...\n"
     ]
    },
    {
     "name": "stderr",
     "output_type": "stream",
     "text": [
      "100%|██████████| 13/13 [00:00<00:00, 8371.86it/s]\n"
     ]
    },
    {
     "name": "stdout",
     "output_type": "stream",
     "text": [
      "Processing /workdir/outdir/pipeline_output/SampleSheet_batch_20250605/UMT_DISTANCE_0/BISMARK_COV/29-TMH5S1CF_S7577-S7777.connor_R1_bismark_bt2_pe.bedGraph.gz.bismark.zero.cov for panel CRC_panel_version_1.2...\n"
     ]
    },
    {
     "name": "stderr",
     "output_type": "stream",
     "text": [
      "100%|██████████| 16/16 [00:00<00:00, 8663.68it/s]\n"
     ]
    },
    {
     "name": "stdout",
     "output_type": "stream",
     "text": [
      "Processing /workdir/outdir/pipeline_output/SampleSheet_batch_20250605/UMT_DISTANCE_0/BISMARK_COV/30-TMH5S4CF_S7580-S7780.connor_R1_bismark_bt2_pe.bedGraph.gz.bismark.zero.cov for panel CRC_panel_version_1.2...\n"
     ]
    },
    {
     "name": "stderr",
     "output_type": "stream",
     "text": [
      "100%|██████████| 15/15 [00:00<00:00, 8921.52it/s]\n"
     ]
    },
    {
     "name": "stdout",
     "output_type": "stream",
     "text": [
      "Processing /workdir/outdir/pipeline_output/SampleSheet_batch_20250605/UMT_DISTANCE_0/BISMARK_COV/31-TMH5S5CF_S7581-S7781.connor_R1_bismark_bt2_pe.bedGraph.gz.bismark.zero.cov for panel CRC_panel_version_1.2...\n"
     ]
    },
    {
     "name": "stderr",
     "output_type": "stream",
     "text": [
      "100%|██████████| 16/16 [00:00<00:00, 8610.32it/s]\n"
     ]
    },
    {
     "name": "stdout",
     "output_type": "stream",
     "text": [
      "Processing /workdir/outdir/pipeline_output/SampleSheet_batch_20250605/UMT_DISTANCE_0/BISMARK_COV/32-TMH5S6CF_S7582-S7782.connor_R1_bismark_bt2_pe.bedGraph.gz.bismark.zero.cov for panel CRC_panel_version_1.2...\n"
     ]
    },
    {
     "name": "stderr",
     "output_type": "stream",
     "text": [
      "100%|██████████| 15/15 [00:00<00:00, 8540.05it/s]\n"
     ]
    },
    {
     "name": "stdout",
     "output_type": "stream",
     "text": [
      "Processing /workdir/outdir/pipeline_output/SampleSheet_batch_20250605/UMT_DISTANCE_0/BISMARK_COV/33-TMH5S7CF_S7583-S7783.connor_R1_bismark_bt2_pe.bedGraph.gz.bismark.zero.cov for panel CRC_panel_version_1.2...\n"
     ]
    },
    {
     "name": "stderr",
     "output_type": "stream",
     "text": [
      "100%|██████████| 15/15 [00:00<00:00, 8294.60it/s]\n"
     ]
    },
    {
     "name": "stdout",
     "output_type": "stream",
     "text": [
      "Processing /workdir/outdir/pipeline_output/SampleSheet_batch_20250605/UMT_DISTANCE_0/BISMARK_COV/34-TMS2S1CF_S7584-S7784.connor_R1_bismark_bt2_pe.bedGraph.gz.bismark.zero.cov for panel CRC_panel_version_1.2...\n"
     ]
    },
    {
     "name": "stderr",
     "output_type": "stream",
     "text": [
      "100%|██████████| 17/17 [00:00<00:00, 8941.96it/s]\n"
     ]
    },
    {
     "name": "stdout",
     "output_type": "stream",
     "text": [
      "Processing /workdir/outdir/pipeline_output/SampleSheet_batch_20250605/UMT_DISTANCE_0/BISMARK_COV/35-TMS2S7CF_S7590-S7790.connor_R1_bismark_bt2_pe.bedGraph.gz.bismark.zero.cov for panel CRC_panel_version_1.2...\n"
     ]
    },
    {
     "name": "stderr",
     "output_type": "stream",
     "text": [
      "100%|██████████| 18/18 [00:00<00:00, 9007.10it/s]\n"
     ]
    },
    {
     "name": "stdout",
     "output_type": "stream",
     "text": [
      "Processing /workdir/outdir/pipeline_output/SampleSheet_batch_20250605/UMT_DISTANCE_0/BISMARK_COV/36-TMS3S1CF_S7591-S7791.connor_R1_bismark_bt2_pe.bedGraph.gz.bismark.zero.cov for panel CRC_panel_version_1.2...\n"
     ]
    },
    {
     "name": "stderr",
     "output_type": "stream",
     "text": [
      "100%|██████████| 12/12 [00:00<00:00, 7831.28it/s]\n"
     ]
    },
    {
     "name": "stdout",
     "output_type": "stream",
     "text": [
      "Processing /workdir/outdir/pipeline_output/SampleSheet_batch_20250605/UMT_DISTANCE_0/BISMARK_COV/37-TMS3S2CF_S7592-S7792.connor_R1_bismark_bt2_pe.bedGraph.gz.bismark.zero.cov for panel CRC_panel_version_1.2...\n"
     ]
    },
    {
     "name": "stderr",
     "output_type": "stream",
     "text": [
      "100%|██████████| 12/12 [00:00<00:00, 7672.51it/s]\n"
     ]
    },
    {
     "name": "stdout",
     "output_type": "stream",
     "text": [
      "Processing /workdir/outdir/pipeline_output/SampleSheet_batch_20250605/UMT_DISTANCE_0/BISMARK_COV/38-TMS3S3CF_S7593-S7793.connor_R1_bismark_bt2_pe.bedGraph.gz.bismark.zero.cov for panel CRC_panel_version_1.2...\n"
     ]
    },
    {
     "name": "stderr",
     "output_type": "stream",
     "text": [
      "100%|██████████| 12/12 [00:00<00:00, 7868.01it/s]\n"
     ]
    },
    {
     "name": "stdout",
     "output_type": "stream",
     "text": [
      "Processing /workdir/outdir/pipeline_output/SampleSheet_batch_20250605/UMT_DISTANCE_0/BISMARK_COV/39-TMS3S4CF_S7533-S7733.connor_R1_bismark_bt2_pe.bedGraph.gz.bismark.zero.cov for panel CRC_panel_version_1.2...\n"
     ]
    },
    {
     "name": "stderr",
     "output_type": "stream",
     "text": [
      "100%|██████████| 12/12 [00:00<00:00, 8037.63it/s]\n"
     ]
    },
    {
     "name": "stdout",
     "output_type": "stream",
     "text": [
      "Processing /workdir/outdir/pipeline_output/SampleSheet_batch_20250605/UMT_DISTANCE_0/BISMARK_COV/40-TMS3S5CF_S7534-S7734.connor_R1_bismark_bt2_pe.bedGraph.gz.bismark.zero.cov for panel CRC_panel_version_1.2...\n"
     ]
    },
    {
     "name": "stderr",
     "output_type": "stream",
     "text": [
      "100%|██████████| 12/12 [00:00<00:00, 7787.66it/s]\n"
     ]
    },
    {
     "name": "stdout",
     "output_type": "stream",
     "text": [
      "Processing /workdir/outdir/pipeline_output/SampleSheet_batch_20250605/UMT_DISTANCE_0/BISMARK_COV/41-TMS3S6CF_S7535-S7735.connor_R1_bismark_bt2_pe.bedGraph.gz.bismark.zero.cov for panel CRC_panel_version_1.2...\n"
     ]
    },
    {
     "name": "stderr",
     "output_type": "stream",
     "text": [
      "100%|██████████| 12/12 [00:00<00:00, 7662.00it/s]\n"
     ]
    },
    {
     "name": "stdout",
     "output_type": "stream",
     "text": [
      "Processing /workdir/outdir/pipeline_output/SampleSheet_batch_20250605/UMT_DISTANCE_0/BISMARK_COV/42-TMS3S7CF_S7536-S7736.connor_R1_bismark_bt2_pe.bedGraph.gz.bismark.zero.cov for panel CRC_panel_version_1.2...\n"
     ]
    },
    {
     "name": "stderr",
     "output_type": "stream",
     "text": [
      "100%|██████████| 12/12 [00:00<00:00, 7681.88it/s]\n"
     ]
    },
    {
     "name": "stdout",
     "output_type": "stream",
     "text": [
      "Processing /workdir/outdir/pipeline_output/SampleSheet_batch_20250605/UMT_DISTANCE_0/BISMARK_COV/43-TMS4S1CF_S7537-S7737.connor_R1_bismark_bt2_pe.bedGraph.gz.bismark.zero.cov for panel CRC_panel_version_1.2...\n"
     ]
    },
    {
     "name": "stderr",
     "output_type": "stream",
     "text": [
      "100%|██████████| 18/18 [00:00<00:00, 8471.44it/s]\n"
     ]
    },
    {
     "name": "stdout",
     "output_type": "stream",
     "text": [
      "Input coverage file /workdir/outdir/pipeline_output/SampleSheet_batch_20250605/UMT_DISTANCE_0/BISMARK_COV/44-TMS4S2CF_S7538-S7738.connor_R1_bismark_bt2_pe.bedGraph.gz.bismark.zero.cov does not exist, skipping...\n",
      "Processing /workdir/outdir/pipeline_output/SampleSheet_batch_20250605/UMT_DISTANCE_0/BISMARK_COV/45-TMS4S3CF_S7539-S7739.connor_R1_bismark_bt2_pe.bedGraph.gz.bismark.zero.cov for panel CRC_panel_version_1.2...\n"
     ]
    },
    {
     "name": "stderr",
     "output_type": "stream",
     "text": [
      "100%|██████████| 18/18 [00:00<00:00, 8473.34it/s]\n"
     ]
    },
    {
     "name": "stdout",
     "output_type": "stream",
     "text": [
      "Processing /workdir/outdir/pipeline_output/SampleSheet_batch_20250605/UMT_DISTANCE_0/BISMARK_COV/46-TMS4S4CF_S7540-S7740.connor_R1_bismark_bt2_pe.bedGraph.gz.bismark.zero.cov for panel CRC_panel_version_1.2...\n"
     ]
    },
    {
     "name": "stderr",
     "output_type": "stream",
     "text": [
      "100%|██████████| 18/18 [00:00<00:00, 9079.67it/s]\n"
     ]
    },
    {
     "name": "stdout",
     "output_type": "stream",
     "text": [
      "Processing /workdir/outdir/pipeline_output/SampleSheet_batch_20250605/UMT_DISTANCE_0/BISMARK_COV/47-TMS4S5CF_S7541-S7741.connor_R1_bismark_bt2_pe.bedGraph.gz.bismark.zero.cov for panel CRC_panel_version_1.2...\n"
     ]
    },
    {
     "name": "stderr",
     "output_type": "stream",
     "text": [
      "100%|██████████| 18/18 [00:00<00:00, 8984.59it/s]\n"
     ]
    },
    {
     "name": "stdout",
     "output_type": "stream",
     "text": [
      "Processing /workdir/outdir/pipeline_output/SampleSheet_batch_20250605/UMT_DISTANCE_0/BISMARK_COV/48-TMS4S6CF_S7542-S7742.connor_R1_bismark_bt2_pe.bedGraph.gz.bismark.zero.cov for panel CRC_panel_version_1.2...\n"
     ]
    },
    {
     "name": "stderr",
     "output_type": "stream",
     "text": [
      "100%|██████████| 18/18 [00:00<00:00, 9207.01it/s]\n"
     ]
    },
    {
     "name": "stdout",
     "output_type": "stream",
     "text": [
      "Processing /workdir/outdir/pipeline_output/SampleSheet_batch_20250605/UMT_DISTANCE_0/BISMARK_COV/49-TMS4S7CF_S7543-S7743.connor_R1_bismark_bt2_pe.bedGraph.gz.bismark.zero.cov for panel CRC_panel_version_1.2...\n"
     ]
    },
    {
     "name": "stderr",
     "output_type": "stream",
     "text": [
      "100%|██████████| 18/18 [00:00<00:00, 8953.69it/s]\n"
     ]
    },
    {
     "name": "stdout",
     "output_type": "stream",
     "text": [
      "Processing /workdir/outdir/pipeline_output/SampleSheet_batch_20250605/UMT_DISTANCE_0/BISMARK_COV/50-TMS5S1CF_S7550-S7750.connor_R1_bismark_bt2_pe.bedGraph.gz.bismark.zero.cov for panel CRC_panel_version_1.2...\n"
     ]
    },
    {
     "name": "stderr",
     "output_type": "stream",
     "text": [
      "100%|██████████| 11/11 [00:00<00:00, 8816.61it/s]\n"
     ]
    },
    {
     "name": "stdout",
     "output_type": "stream",
     "text": [
      "Processing /workdir/outdir/pipeline_output/SampleSheet_batch_20250605/UMT_DISTANCE_0/BISMARK_COV/51-TMS5S2CF_S7551-S7751.connor_R1_bismark_bt2_pe.bedGraph.gz.bismark.zero.cov for panel CRC_panel_version_1.2...\n"
     ]
    },
    {
     "name": "stderr",
     "output_type": "stream",
     "text": [
      "100%|██████████| 11/11 [00:00<00:00, 8633.49it/s]\n"
     ]
    },
    {
     "name": "stdout",
     "output_type": "stream",
     "text": [
      "Processing /workdir/outdir/pipeline_output/SampleSheet_batch_20250605/UMT_DISTANCE_0/BISMARK_COV/52-TMS5S3CF_S7552-S7752.connor_R1_bismark_bt2_pe.bedGraph.gz.bismark.zero.cov for panel CRC_panel_version_1.2...\n"
     ]
    },
    {
     "name": "stderr",
     "output_type": "stream",
     "text": [
      "100%|██████████| 11/11 [00:00<00:00, 6664.36it/s]\n"
     ]
    },
    {
     "name": "stdout",
     "output_type": "stream",
     "text": [
      "Processing /workdir/outdir/pipeline_output/SampleSheet_batch_20250605/UMT_DISTANCE_0/BISMARK_COV/53-TMS5S4CF_S7553-S7753.connor_R1_bismark_bt2_pe.bedGraph.gz.bismark.zero.cov for panel CRC_panel_version_1.2...\n"
     ]
    },
    {
     "name": "stderr",
     "output_type": "stream",
     "text": [
      "100%|██████████| 11/11 [00:00<00:00, 6730.47it/s]\n"
     ]
    },
    {
     "name": "stdout",
     "output_type": "stream",
     "text": [
      "Processing /workdir/outdir/pipeline_output/SampleSheet_batch_20250605/UMT_DISTANCE_0/BISMARK_COV/54-TMS5S5CF_S7554-S7754.connor_R1_bismark_bt2_pe.bedGraph.gz.bismark.zero.cov for panel CRC_panel_version_1.2...\n"
     ]
    },
    {
     "name": "stderr",
     "output_type": "stream",
     "text": [
      "100%|██████████| 11/11 [00:00<00:00, 7685.71it/s]\n"
     ]
    },
    {
     "name": "stdout",
     "output_type": "stream",
     "text": [
      "Processing /workdir/outdir/pipeline_output/SampleSheet_batch_20250605/UMT_DISTANCE_0/BISMARK_COV/55-TMS5S6CF_S7555-S7755.connor_R1_bismark_bt2_pe.bedGraph.gz.bismark.zero.cov for panel CRC_panel_version_1.2...\n"
     ]
    },
    {
     "name": "stderr",
     "output_type": "stream",
     "text": [
      "100%|██████████| 11/11 [00:00<00:00, 7492.26it/s]\n"
     ]
    },
    {
     "name": "stdout",
     "output_type": "stream",
     "text": [
      "Processing /workdir/outdir/pipeline_output/SampleSheet_batch_20250605/UMT_DISTANCE_0/BISMARK_COV/56-TMS5S7CF_S7556-S7756.connor_R1_bismark_bt2_pe.bedGraph.gz.bismark.zero.cov for panel CRC_panel_version_3.1...\n"
     ]
    },
    {
     "name": "stderr",
     "output_type": "stream",
     "text": [
      "100%|██████████| 11/11 [00:00<00:00, 7793.47it/s]\n"
     ]
    },
    {
     "name": "stdout",
     "output_type": "stream",
     "text": [
      "Processing /workdir/outdir/pipeline_output/SampleSheet_batch_20250605/UMT_DISTANCE_0/BISMARK_COV/1-TMC155_S7525-S7725.connor_R1_bismark_bt2_pe.bedGraph.gz.bismark.zero.cov for panel CRC_panel_version_3.1...\n"
     ]
    },
    {
     "name": "stderr",
     "output_type": "stream",
     "text": [
      "100%|██████████| 5/5 [00:00<00:00, 4832.15it/s]\n"
     ]
    },
    {
     "name": "stdout",
     "output_type": "stream",
     "text": [
      "Processing /workdir/outdir/pipeline_output/SampleSheet_batch_20250605/UMT_DISTANCE_0/BISMARK_COV/2-TMC255_S7526-S7726.connor_R1_bismark_bt2_pe.bedGraph.gz.bismark.zero.cov for panel CRC_panel_version_3.1...\n"
     ]
    },
    {
     "name": "stderr",
     "output_type": "stream",
     "text": [
      "100%|██████████| 4/4 [00:00<00:00, 4934.48it/s]\n"
     ]
    },
    {
     "name": "stdout",
     "output_type": "stream",
     "text": [
      "Processing /workdir/outdir/pipeline_output/SampleSheet_batch_20250605/UMT_DISTANCE_0/BISMARK_COV/3-TMC355_S7527-S7727.connor_R1_bismark_bt2_pe.bedGraph.gz.bismark.zero.cov for panel CRC_panel_version_3.1...\n"
     ]
    },
    {
     "name": "stderr",
     "output_type": "stream",
     "text": [
      "100%|██████████| 13/13 [00:00<00:00, 7794.99it/s]\n"
     ]
    },
    {
     "name": "stdout",
     "output_type": "stream",
     "text": [
      "Input coverage file /workdir/outdir/pipeline_output/SampleSheet_batch_20250605/UMT_DISTANCE_0/BISMARK_COV/4-TMC455_S7528-S7728.connor_R1_bismark_bt2_pe.bedGraph.gz.bismark.zero.cov does not exist, skipping...\n",
      "Processing /workdir/outdir/pipeline_output/SampleSheet_batch_20250605/UMT_DISTANCE_0/BISMARK_COV/5-TMC555_S7529-S7729.connor_R1_bismark_bt2_pe.bedGraph.gz.bismark.zero.cov for panel CRC_panel_version_3.1...\n"
     ]
    },
    {
     "name": "stderr",
     "output_type": "stream",
     "text": [
      "100%|██████████| 5/5 [00:00<00:00, 4470.59it/s]\n"
     ]
    },
    {
     "name": "stdout",
     "output_type": "stream",
     "text": [
      "Processing /workdir/outdir/pipeline_output/SampleSheet_batch_20250605/UMT_DISTANCE_0/BISMARK_COV/6-TMC655_S7530-S7730.connor_R1_bismark_bt2_pe.bedGraph.gz.bismark.zero.cov for panel CRC_panel_version_3.1...\n"
     ]
    },
    {
     "name": "stderr",
     "output_type": "stream",
     "text": [
      "100%|██████████| 10/10 [00:00<00:00, 7179.57it/s]\n"
     ]
    },
    {
     "name": "stdout",
     "output_type": "stream",
     "text": [
      "Input coverage file /workdir/outdir/pipeline_output/SampleSheet_batch_20250605/UMT_DISTANCE_0/BISMARK_COV/1-TMM9P2S1CF_S7537-S7737.connor_R1_bismark_bt2_pe.bedGraph.gz.bismark.zero.cov does not exist, skipping...\n",
      "Processing /workdir/outdir/pipeline_output/SampleSheet_batch_20250605/UMT_DISTANCE_0/BISMARK_COV/2-TMM9P2S2CF_S7538-S7738.connor_R1_bismark_bt2_pe.bedGraph.gz.bismark.zero.cov for panel CRC_panel_version_1.2...\n"
     ]
    },
    {
     "name": "stderr",
     "output_type": "stream",
     "text": [
      "100%|██████████| 19/19 [00:00<00:00, 9115.97it/s]\n"
     ]
    },
    {
     "name": "stdout",
     "output_type": "stream",
     "text": [
      "Input coverage file /workdir/outdir/pipeline_output/SampleSheet_batch_20250605/UMT_DISTANCE_0/BISMARK_COV/3-TMM9P2S3CF_S7539-S7739.connor_R1_bismark_bt2_pe.bedGraph.gz.bismark.zero.cov does not exist, skipping...\n",
      "Input coverage file /workdir/outdir/pipeline_output/SampleSheet_batch_20250605/UMT_DISTANCE_0/BISMARK_COV/4-TMM9P2S4CF_S7540-S7740.connor_R1_bismark_bt2_pe.bedGraph.gz.bismark.zero.cov does not exist, skipping...\n",
      "Processing /workdir/outdir/pipeline_output/SampleSheet_batch_20250605/UMT_DISTANCE_0/BISMARK_COV/5-TMM9P2S5CF_S7541-S7741.connor_R1_bismark_bt2_pe.bedGraph.gz.bismark.zero.cov for panel CRC_panel_version_1.2...\n"
     ]
    },
    {
     "name": "stderr",
     "output_type": "stream",
     "text": [
      "100%|██████████| 17/17 [00:00<00:00, 9169.65it/s]\n"
     ]
    },
    {
     "name": "stdout",
     "output_type": "stream",
     "text": [
      "Processing /workdir/outdir/pipeline_output/SampleSheet_batch_20250605/UMT_DISTANCE_0/BISMARK_COV/6-TMM9P2S6CF_S7542-S7742.connor_R1_bismark_bt2_pe.bedGraph.gz.bismark.zero.cov for panel CRC_panel_version_1.2...\n"
     ]
    },
    {
     "name": "stderr",
     "output_type": "stream",
     "text": [
      "100%|██████████| 18/18 [00:00<00:00, 9155.65it/s]\n"
     ]
    },
    {
     "name": "stdout",
     "output_type": "stream",
     "text": [
      "Input coverage file /workdir/outdir/pipeline_output/SampleSheet_batch_20250605/UMT_DISTANCE_0/BISMARK_COV/7-TMM9P2S7CF_S7543-S7743.connor_R1_bismark_bt2_pe.bedGraph.gz.bismark.zero.cov does not exist, skipping...\n",
      "Processing /workdir/outdir/pipeline_output/SampleSheet_batch_20250605/UMT_DISTANCE_0/BISMARK_COV/8-TMPC1_S7501-S7701.connor_R1_bismark_bt2_pe.bedGraph.gz.bismark.zero.cov for panel CRC_panel_version_3.1...\n"
     ]
    },
    {
     "name": "stderr",
     "output_type": "stream",
     "text": [
      "100%|██████████| 26/26 [00:00<00:00, 10299.58it/s]\n"
     ]
    },
    {
     "name": "stdout",
     "output_type": "stream",
     "text": [
      "Processing /workdir/outdir/pipeline_output/SampleSheet_batch_20250605/UMT_DISTANCE_0/BISMARK_COV/9-TMPC2_S7502-S7702.connor_R1_bismark_bt2_pe.bedGraph.gz.bismark.zero.cov for panel CRC_panel_version_3.1...\n"
     ]
    },
    {
     "name": "stderr",
     "output_type": "stream",
     "text": [
      "100%|██████████| 7/7 [00:00<00:00, 6015.19it/s]\n"
     ]
    },
    {
     "name": "stdout",
     "output_type": "stream",
     "text": [
      "Processing /workdir/outdir/pipeline_output/SampleSheet_batch_20250605/UMT_DISTANCE_0/BISMARK_COV/10-TMPL5S1_S7503-S7703.connor_R1_bismark_bt2_pe.bedGraph.gz.bismark.zero.cov for panel Lung_panel_version_1.1...\n"
     ]
    },
    {
     "name": "stderr",
     "output_type": "stream",
     "text": [
      "100%|██████████| 9/9 [00:00<00:00, 6558.15it/s]\n"
     ]
    },
    {
     "name": "stdout",
     "output_type": "stream",
     "text": [
      "Processing /workdir/outdir/pipeline_output/SampleSheet_batch_20250605/UMT_DISTANCE_0/BISMARK_COV/11-TMPL5S2_S7504-S7704.connor_R1_bismark_bt2_pe.bedGraph.gz.bismark.zero.cov for panel Lung_panel_version_1.1...\n"
     ]
    },
    {
     "name": "stderr",
     "output_type": "stream",
     "text": [
      "100%|██████████| 9/9 [00:00<00:00, 6713.27it/s]\n"
     ]
    },
    {
     "name": "stdout",
     "output_type": "stream",
     "text": [
      "Processing /workdir/outdir/pipeline_output/SampleSheet_batch_20250605/UMT_DISTANCE_0/BISMARK_COV/12-TMPL5S3_S7505-S7705.connor_R1_bismark_bt2_pe.bedGraph.gz.bismark.zero.cov for panel Lung_panel_version_1.1...\n"
     ]
    },
    {
     "name": "stderr",
     "output_type": "stream",
     "text": [
      "100%|██████████| 22/22 [00:00<00:00, 9572.06it/s]\n"
     ]
    },
    {
     "name": "stdout",
     "output_type": "stream",
     "text": [
      "Input coverage file /workdir/outdir/pipeline_output/SampleSheet_batch_20250605/UMT_DISTANCE_0/BISMARK_COV/13-TMPL5S4_S7506-S7706.connor_R1_bismark_bt2_pe.bedGraph.gz.bismark.zero.cov does not exist, skipping...\n",
      "Processing /workdir/outdir/pipeline_output/SampleSheet_batch_20250605/UMT_DISTANCE_0/BISMARK_COV/14-TMPL5S5_S7507-S7707.connor_R1_bismark_bt2_pe.bedGraph.gz.bismark.zero.cov for panel Lung_panel_version_1.1...\n"
     ]
    },
    {
     "name": "stderr",
     "output_type": "stream",
     "text": [
      "100%|██████████| 26/26 [00:00<00:00, 9810.35it/s]\n"
     ]
    },
    {
     "name": "stdout",
     "output_type": "stream",
     "text": [
      "Processing /workdir/outdir/pipeline_output/SampleSheet_batch_20250605/UMT_DISTANCE_0/BISMARK_COV/15-TMPL6S1_S7508-S7708.connor_R1_bismark_bt2_pe.bedGraph.gz.bismark.zero.cov for panel Lung_panel_version_1.1...\n"
     ]
    },
    {
     "name": "stderr",
     "output_type": "stream",
     "text": [
      "100%|██████████| 35/35 [00:00<00:00, 10836.39it/s]\n"
     ]
    },
    {
     "name": "stdout",
     "output_type": "stream",
     "text": [
      "Processing /workdir/outdir/pipeline_output/SampleSheet_batch_20250605/UMT_DISTANCE_0/BISMARK_COV/16-TMPL6S2_S7545-S7745.connor_R1_bismark_bt2_pe.bedGraph.gz.bismark.zero.cov for panel Lung_panel_version_1.1...\n"
     ]
    },
    {
     "name": "stderr",
     "output_type": "stream",
     "text": [
      "100%|██████████| 28/28 [00:00<00:00, 9293.39it/s]\n"
     ]
    },
    {
     "name": "stdout",
     "output_type": "stream",
     "text": [
      "Input coverage file /workdir/outdir/pipeline_output/SampleSheet_batch_20250605/UMT_DISTANCE_0/BISMARK_COV/17-TMPL6S3_S7546-S7746.connor_R1_bismark_bt2_pe.bedGraph.gz.bismark.zero.cov does not exist, skipping...\n",
      "Processing /workdir/outdir/pipeline_output/SampleSheet_batch_20250605/UMT_DISTANCE_0/BISMARK_COV/18-TMPL6S4_S7547-S7747.connor_R1_bismark_bt2_pe.bedGraph.gz.bismark.zero.cov for panel Lung_panel_version_1.1...\n"
     ]
    },
    {
     "name": "stderr",
     "output_type": "stream",
     "text": [
      "100%|██████████| 7/7 [00:00<00:00, 7285.39it/s]\n"
     ]
    },
    {
     "name": "stdout",
     "output_type": "stream",
     "text": [
      "Processing /workdir/outdir/pipeline_output/SampleSheet_batch_20250605/UMT_DISTANCE_0/BISMARK_COV/19-TMPL6S5_S7548-S7748.connor_R1_bismark_bt2_pe.bedGraph.gz.bismark.zero.cov for panel Lung_panel_version_1.1...\n"
     ]
    },
    {
     "name": "stderr",
     "output_type": "stream",
     "text": [
      "100%|██████████| 35/35 [00:00<00:00, 10761.72it/s]\n"
     ]
    },
    {
     "name": "stdout",
     "output_type": "stream",
     "text": [
      "Processing /workdir/outdir/pipeline_output/SampleSheet_batch_20250607/UMT_DISTANCE_0/BISMARK_COV/17-TML1S1_S7537-S7737.connor_R1_bismark_bt2_pe.bedGraph.gz.bismark.zero.cov for panel Lung_panel_version_1.1...\n"
     ]
    },
    {
     "name": "stderr",
     "output_type": "stream",
     "text": [
      "100%|██████████| 4/4 [00:00<00:00, 4056.39it/s]\n"
     ]
    },
    {
     "name": "stdout",
     "output_type": "stream",
     "text": [
      "Processing /workdir/outdir/pipeline_output/SampleSheet_batch_20250607/UMT_DISTANCE_0/BISMARK_COV/18-TML2S1_S7538-S7738.connor_R1_bismark_bt2_pe.bedGraph.gz.bismark.zero.cov for panel Lung_panel_version_1.1...\n"
     ]
    },
    {
     "name": "stderr",
     "output_type": "stream",
     "text": [
      "100%|██████████| 14/14 [00:00<00:00, 8552.32it/s]\n"
     ]
    },
    {
     "name": "stdout",
     "output_type": "stream",
     "text": [
      "Processing /workdir/outdir/pipeline_output/SampleSheet_batch_20250607/UMT_DISTANCE_0/BISMARK_COV/19-TML3S1_S7539-S7739.connor_R1_bismark_bt2_pe.bedGraph.gz.bismark.zero.cov for panel Lung_panel_version_1.1...\n"
     ]
    },
    {
     "name": "stderr",
     "output_type": "stream",
     "text": [
      "100%|██████████| 13/13 [00:00<00:00, 8392.48it/s]\n"
     ]
    },
    {
     "name": "stdout",
     "output_type": "stream",
     "text": [
      "Processing /workdir/outdir/pipeline_output/SampleSheet_batch_20250607/UMT_DISTANCE_0/BISMARK_COV/20-TML5S1_S7540-S7740.connor_R1_bismark_bt2_pe.bedGraph.gz.bismark.zero.cov for panel Lung_panel_version_1.1...\n"
     ]
    },
    {
     "name": "stderr",
     "output_type": "stream",
     "text": [
      "100%|██████████| 9/9 [00:00<00:00, 6954.45it/s]\n"
     ]
    },
    {
     "name": "stdout",
     "output_type": "stream",
     "text": [
      "Input coverage file /workdir/outdir/pipeline_output/SampleSheet_batch_20250607/UMT_DISTANCE_0/BISMARK_COV/21-TML6S1_S7541-S7741.connor_R1_bismark_bt2_pe.bedGraph.gz.bismark.zero.cov does not exist, skipping...\n",
      "Processing /workdir/outdir/pipeline_output/SampleSheet_batch_20250607/UMT_DISTANCE_0/BISMARK_COV/22-TML8S1_S7542-S7742.connor_R1_bismark_bt2_pe.bedGraph.gz.bismark.zero.cov for panel Lung_panel_version_1.1...\n"
     ]
    },
    {
     "name": "stderr",
     "output_type": "stream",
     "text": [
      "100%|██████████| 28/28 [00:00<00:00, 9351.10it/s]\n"
     ]
    },
    {
     "name": "stdout",
     "output_type": "stream",
     "text": [
      "Processing /workdir/outdir/pipeline_output/SampleSheet_batch_20250607/UMT_DISTANCE_0/BISMARK_COV/23-TML9S1_S7543-S7743.connor_R1_bismark_bt2_pe.bedGraph.gz.bismark.zero.cov for panel Lung_panel_version_1.1...\n"
     ]
    },
    {
     "name": "stderr",
     "output_type": "stream",
     "text": [
      "100%|██████████| 15/15 [00:00<00:00, 8558.64it/s]\n"
     ]
    },
    {
     "name": "stdout",
     "output_type": "stream",
     "text": [
      "Processing /workdir/outdir/pipeline_output/SampleSheet_batch_20250607/UMT_DISTANCE_0/BISMARK_COV/24-TML12S1_S7544-S7744.connor_R1_bismark_bt2_pe.bedGraph.gz.bismark.zero.cov for panel Lung_panel_version_1.1...\n"
     ]
    },
    {
     "name": "stderr",
     "output_type": "stream",
     "text": [
      "100%|██████████| 7/7 [00:00<00:00, 6117.97it/s]\n"
     ]
    },
    {
     "name": "stdout",
     "output_type": "stream",
     "text": [
      "Processing /workdir/outdir/pipeline_output/SampleSheet_batch_20250607/UMT_DISTANCE_0/BISMARK_COV/25-TML1S2_S7545-S7745.connor_R1_bismark_bt2_pe.bedGraph.gz.bismark.zero.cov for panel Lung_panel_version_1.1...\n"
     ]
    },
    {
     "name": "stderr",
     "output_type": "stream",
     "text": [
      "100%|██████████| 4/4 [00:00<00:00, 4394.24it/s]\n"
     ]
    },
    {
     "name": "stdout",
     "output_type": "stream",
     "text": [
      "Processing /workdir/outdir/pipeline_output/SampleSheet_batch_20250607/UMT_DISTANCE_0/BISMARK_COV/26-TML2S2_S7546-S7746.connor_R1_bismark_bt2_pe.bedGraph.gz.bismark.zero.cov for panel Lung_panel_version_1.1...\n"
     ]
    },
    {
     "name": "stderr",
     "output_type": "stream",
     "text": [
      "100%|██████████| 14/14 [00:00<00:00, 9669.07it/s]\n"
     ]
    },
    {
     "name": "stdout",
     "output_type": "stream",
     "text": [
      "Processing /workdir/outdir/pipeline_output/SampleSheet_batch_20250607/UMT_DISTANCE_0/BISMARK_COV/27-TML3S2_S7547-S7747.connor_R1_bismark_bt2_pe.bedGraph.gz.bismark.zero.cov for panel Lung_panel_version_1.1...\n"
     ]
    },
    {
     "name": "stderr",
     "output_type": "stream",
     "text": [
      "100%|██████████| 13/13 [00:00<00:00, 7661.37it/s]\n"
     ]
    },
    {
     "name": "stdout",
     "output_type": "stream",
     "text": [
      "Processing /workdir/outdir/pipeline_output/SampleSheet_batch_20250607/UMT_DISTANCE_0/BISMARK_COV/28-TML5S2_S7548-S7748.connor_R1_bismark_bt2_pe.bedGraph.gz.bismark.zero.cov for panel Lung_panel_version_1.1...\n"
     ]
    },
    {
     "name": "stderr",
     "output_type": "stream",
     "text": [
      "100%|██████████| 9/9 [00:00<00:00, 6911.16it/s]\n"
     ]
    },
    {
     "name": "stdout",
     "output_type": "stream",
     "text": [
      "Input coverage file /workdir/outdir/pipeline_output/SampleSheet_batch_20250607/UMT_DISTANCE_0/BISMARK_COV/29-TML6S2_S7549-S7749.connor_R1_bismark_bt2_pe.bedGraph.gz.bismark.zero.cov does not exist, skipping...\n",
      "Processing /workdir/outdir/pipeline_output/SampleSheet_batch_20250607/UMT_DISTANCE_0/BISMARK_COV/30-TML8S2_S7550-S7750.connor_R1_bismark_bt2_pe.bedGraph.gz.bismark.zero.cov for panel Lung_panel_version_1.1...\n"
     ]
    },
    {
     "name": "stderr",
     "output_type": "stream",
     "text": [
      "100%|██████████| 16/16 [00:00<00:00, 8622.49it/s]\n"
     ]
    },
    {
     "name": "stdout",
     "output_type": "stream",
     "text": [
      "Processing /workdir/outdir/pipeline_output/SampleSheet_batch_20250607/UMT_DISTANCE_0/BISMARK_COV/31-TML9S2_S7551-S7751.connor_R1_bismark_bt2_pe.bedGraph.gz.bismark.zero.cov for panel Lung_panel_version_1.1...\n"
     ]
    },
    {
     "name": "stderr",
     "output_type": "stream",
     "text": [
      "100%|██████████| 15/15 [00:00<00:00, 8408.79it/s]\n"
     ]
    },
    {
     "name": "stdout",
     "output_type": "stream",
     "text": [
      "Processing /workdir/outdir/pipeline_output/SampleSheet_batch_20250607/UMT_DISTANCE_0/BISMARK_COV/32-TML12S2_S7552-S7752.connor_R1_bismark_bt2_pe.bedGraph.gz.bismark.zero.cov for panel Lung_panel_version_1.1...\n"
     ]
    },
    {
     "name": "stderr",
     "output_type": "stream",
     "text": [
      "100%|██████████| 7/7 [00:00<00:00, 5393.12it/s]\n"
     ]
    },
    {
     "name": "stdout",
     "output_type": "stream",
     "text": [
      "Processing /workdir/outdir/pipeline_output/SampleSheet_batch_20250607/UMT_DISTANCE_0/BISMARK_COV/33-TML1S3_S7553-S7753.connor_R1_bismark_bt2_pe.bedGraph.gz.bismark.zero.cov for panel Lung_panel_version_1.1...\n"
     ]
    },
    {
     "name": "stderr",
     "output_type": "stream",
     "text": [
      "100%|██████████| 4/4 [00:00<00:00, 5097.91it/s]\n"
     ]
    },
    {
     "name": "stdout",
     "output_type": "stream",
     "text": [
      "Processing /workdir/outdir/pipeline_output/SampleSheet_batch_20250607/UMT_DISTANCE_0/BISMARK_COV/34-TML2S3_S7554-S7754.connor_R1_bismark_bt2_pe.bedGraph.gz.bismark.zero.cov for panel Lung_panel_version_1.1...\n"
     ]
    },
    {
     "name": "stderr",
     "output_type": "stream",
     "text": [
      "100%|██████████| 14/14 [00:00<00:00, 8945.80it/s]\n"
     ]
    },
    {
     "name": "stdout",
     "output_type": "stream",
     "text": [
      "Processing /workdir/outdir/pipeline_output/SampleSheet_batch_20250607/UMT_DISTANCE_0/BISMARK_COV/35-TML3S3_S7555-S7755.connor_R1_bismark_bt2_pe.bedGraph.gz.bismark.zero.cov for panel Lung_panel_version_1.1...\n"
     ]
    },
    {
     "name": "stderr",
     "output_type": "stream",
     "text": [
      "100%|██████████| 13/13 [00:00<00:00, 8013.81it/s]\n"
     ]
    },
    {
     "name": "stdout",
     "output_type": "stream",
     "text": [
      "Processing /workdir/outdir/pipeline_output/SampleSheet_batch_20250607/UMT_DISTANCE_0/BISMARK_COV/36-TML5S3_S7556-S7756.connor_R1_bismark_bt2_pe.bedGraph.gz.bismark.zero.cov for panel Lung_panel_version_1.1...\n"
     ]
    },
    {
     "name": "stderr",
     "output_type": "stream",
     "text": [
      "100%|██████████| 9/9 [00:00<00:00, 7028.25it/s]\n"
     ]
    },
    {
     "name": "stdout",
     "output_type": "stream",
     "text": [
      "Processing /workdir/outdir/pipeline_output/SampleSheet_batch_20250607/UMT_DISTANCE_0/BISMARK_COV/37-TML6S3_S7557-S7757.connor_R1_bismark_bt2_pe.bedGraph.gz.bismark.zero.cov for panel Lung_panel_version_1.1...\n"
     ]
    },
    {
     "name": "stderr",
     "output_type": "stream",
     "text": [
      "100%|██████████| 15/15 [00:00<00:00, 8825.16it/s]\n"
     ]
    },
    {
     "name": "stdout",
     "output_type": "stream",
     "text": [
      "Processing /workdir/outdir/pipeline_output/SampleSheet_batch_20250607/UMT_DISTANCE_0/BISMARK_COV/38-TML8S3_S7558-S7758.connor_R1_bismark_bt2_pe.bedGraph.gz.bismark.zero.cov for panel Lung_panel_version_1.1...\n"
     ]
    },
    {
     "name": "stderr",
     "output_type": "stream",
     "text": [
      "100%|██████████| 16/16 [00:00<00:00, 9593.83it/s]\n"
     ]
    },
    {
     "name": "stdout",
     "output_type": "stream",
     "text": [
      "Processing /workdir/outdir/pipeline_output/SampleSheet_batch_20250607/UMT_DISTANCE_0/BISMARK_COV/39-TML9S3_S7559-S7759.connor_R1_bismark_bt2_pe.bedGraph.gz.bismark.zero.cov for panel Lung_panel_version_1.1...\n"
     ]
    },
    {
     "name": "stderr",
     "output_type": "stream",
     "text": [
      "100%|██████████| 14/14 [00:00<00:00, 8860.76it/s]\n"
     ]
    },
    {
     "name": "stdout",
     "output_type": "stream",
     "text": [
      "Processing /workdir/outdir/pipeline_output/SampleSheet_batch_20250607/UMT_DISTANCE_0/BISMARK_COV/40-TML12S3_S7560-S7760.connor_R1_bismark_bt2_pe.bedGraph.gz.bismark.zero.cov for panel Lung_panel_version_1.1...\n"
     ]
    },
    {
     "name": "stderr",
     "output_type": "stream",
     "text": [
      "100%|██████████| 7/7 [00:00<00:00, 6934.37it/s]\n"
     ]
    },
    {
     "name": "stdout",
     "output_type": "stream",
     "text": [
      "Processing /workdir/outdir/pipeline_output/SampleSheet_batch_20250607/UMT_DISTANCE_0/BISMARK_COV/41-TML1S4_S7561-S7761.connor_R1_bismark_bt2_pe.bedGraph.gz.bismark.zero.cov for panel Lung_panel_version_1.1...\n"
     ]
    },
    {
     "name": "stderr",
     "output_type": "stream",
     "text": [
      "100%|██████████| 4/4 [00:00<00:00, 5084.00it/s]\n"
     ]
    },
    {
     "name": "stdout",
     "output_type": "stream",
     "text": [
      "Processing /workdir/outdir/pipeline_output/SampleSheet_batch_20250607/UMT_DISTANCE_0/BISMARK_COV/42-TML2S4_S7562-S7762.connor_R1_bismark_bt2_pe.bedGraph.gz.bismark.zero.cov for panel Lung_panel_version_1.1...\n"
     ]
    },
    {
     "name": "stderr",
     "output_type": "stream",
     "text": [
      "100%|██████████| 14/14 [00:00<00:00, 9229.84it/s]\n"
     ]
    },
    {
     "name": "stdout",
     "output_type": "stream",
     "text": [
      "Processing /workdir/outdir/pipeline_output/SampleSheet_batch_20250607/UMT_DISTANCE_0/BISMARK_COV/43-TML3S4_S7563-S7763.connor_R1_bismark_bt2_pe.bedGraph.gz.bismark.zero.cov for panel Lung_panel_version_1.1...\n"
     ]
    },
    {
     "name": "stderr",
     "output_type": "stream",
     "text": [
      "100%|██████████| 13/13 [00:00<00:00, 8144.28it/s]\n"
     ]
    },
    {
     "name": "stdout",
     "output_type": "stream",
     "text": [
      "Processing /workdir/outdir/pipeline_output/SampleSheet_batch_20250607/UMT_DISTANCE_0/BISMARK_COV/44-TML5S4_S7564-S7764.connor_R1_bismark_bt2_pe.bedGraph.gz.bismark.zero.cov for panel Lung_panel_version_1.1...\n"
     ]
    },
    {
     "name": "stderr",
     "output_type": "stream",
     "text": [
      "100%|██████████| 9/9 [00:00<00:00, 7839.82it/s]\n"
     ]
    },
    {
     "name": "stdout",
     "output_type": "stream",
     "text": [
      "Input coverage file /workdir/outdir/pipeline_output/SampleSheet_batch_20250607/UMT_DISTANCE_0/BISMARK_COV/45-TML6S4_S7565-S7765.connor_R1_bismark_bt2_pe.bedGraph.gz.bismark.zero.cov does not exist, skipping...\n",
      "Processing /workdir/outdir/pipeline_output/SampleSheet_batch_20250607/UMT_DISTANCE_0/BISMARK_COV/46-TML8S4_S7566-S7766.connor_R1_bismark_bt2_pe.bedGraph.gz.bismark.zero.cov for panel Lung_panel_version_1.1...\n"
     ]
    },
    {
     "name": "stderr",
     "output_type": "stream",
     "text": [
      "100%|██████████| 16/16 [00:00<00:00, 8983.78it/s]\n"
     ]
    },
    {
     "name": "stdout",
     "output_type": "stream",
     "text": [
      "Processing /workdir/outdir/pipeline_output/SampleSheet_batch_20250607/UMT_DISTANCE_0/BISMARK_COV/47-TML9S4_S7567-S7767.connor_R1_bismark_bt2_pe.bedGraph.gz.bismark.zero.cov for panel Lung_panel_version_1.1...\n"
     ]
    },
    {
     "name": "stderr",
     "output_type": "stream",
     "text": [
      "100%|██████████| 19/19 [00:00<00:00, 9306.53it/s]\n"
     ]
    },
    {
     "name": "stdout",
     "output_type": "stream",
     "text": [
      "Processing /workdir/outdir/pipeline_output/SampleSheet_batch_20250607/UMT_DISTANCE_0/BISMARK_COV/48-TML12S4_S7568-S7768.connor_R1_bismark_bt2_pe.bedGraph.gz.bismark.zero.cov for panel Lung_panel_version_1.1...\n"
     ]
    },
    {
     "name": "stderr",
     "output_type": "stream",
     "text": [
      "100%|██████████| 7/7 [00:00<00:00, 5855.63it/s]\n"
     ]
    },
    {
     "name": "stdout",
     "output_type": "stream",
     "text": [
      "Processing /workdir/outdir/pipeline_output/SampleSheet_batch_20250607/UMT_DISTANCE_0/BISMARK_COV/49-TML1S5_S7569-S7769.connor_R1_bismark_bt2_pe.bedGraph.gz.bismark.zero.cov for panel Lung_panel_version_1.1...\n"
     ]
    },
    {
     "name": "stderr",
     "output_type": "stream",
     "text": [
      "100%|██████████| 4/4 [00:00<00:00, 4520.94it/s]\n"
     ]
    },
    {
     "name": "stdout",
     "output_type": "stream",
     "text": [
      "Processing /workdir/outdir/pipeline_output/SampleSheet_batch_20250607/UMT_DISTANCE_0/BISMARK_COV/50-TML2S5_S7570-S7770.connor_R1_bismark_bt2_pe.bedGraph.gz.bismark.zero.cov for panel Lung_panel_version_1.1...\n"
     ]
    },
    {
     "name": "stderr",
     "output_type": "stream",
     "text": [
      "100%|██████████| 14/14 [00:00<00:00, 9434.49it/s]\n"
     ]
    },
    {
     "name": "stdout",
     "output_type": "stream",
     "text": [
      "Processing /workdir/outdir/pipeline_output/SampleSheet_batch_20250607/UMT_DISTANCE_0/BISMARK_COV/51-TML3S5_S7571-S7771.connor_R1_bismark_bt2_pe.bedGraph.gz.bismark.zero.cov for panel Lung_panel_version_1.1...\n"
     ]
    },
    {
     "name": "stderr",
     "output_type": "stream",
     "text": [
      "100%|██████████| 13/13 [00:00<00:00, 8451.02it/s]\n"
     ]
    },
    {
     "name": "stdout",
     "output_type": "stream",
     "text": [
      "Processing /workdir/outdir/pipeline_output/SampleSheet_batch_20250607/UMT_DISTANCE_0/BISMARK_COV/52-TML5S5_S7572-S7772.connor_R1_bismark_bt2_pe.bedGraph.gz.bismark.zero.cov for panel Lung_panel_version_1.1...\n"
     ]
    },
    {
     "name": "stderr",
     "output_type": "stream",
     "text": [
      "100%|██████████| 9/9 [00:00<00:00, 6885.94it/s]\n"
     ]
    },
    {
     "name": "stdout",
     "output_type": "stream",
     "text": [
      "Processing /workdir/outdir/pipeline_output/SampleSheet_batch_20250607/UMT_DISTANCE_0/BISMARK_COV/53-TML6S5_S7573-S7773.connor_R1_bismark_bt2_pe.bedGraph.gz.bismark.zero.cov for panel Lung_panel_version_1.1...\n"
     ]
    },
    {
     "name": "stderr",
     "output_type": "stream",
     "text": [
      "100%|██████████| 15/15 [00:00<00:00, 9147.22it/s]\n"
     ]
    },
    {
     "name": "stdout",
     "output_type": "stream",
     "text": [
      "Processing /workdir/outdir/pipeline_output/SampleSheet_batch_20250607/UMT_DISTANCE_0/BISMARK_COV/54-TML8S5_S7574-S7774.connor_R1_bismark_bt2_pe.bedGraph.gz.bismark.zero.cov for panel Lung_panel_version_1.1...\n"
     ]
    },
    {
     "name": "stderr",
     "output_type": "stream",
     "text": [
      "100%|██████████| 16/16 [00:00<00:00, 8955.01it/s]\n"
     ]
    },
    {
     "name": "stdout",
     "output_type": "stream",
     "text": [
      "Processing /workdir/outdir/pipeline_output/SampleSheet_batch_20250607/UMT_DISTANCE_0/BISMARK_COV/55-TML9S5_S7575-S7775.connor_R1_bismark_bt2_pe.bedGraph.gz.bismark.zero.cov for panel Lung_panel_version_1.1...\n"
     ]
    },
    {
     "name": "stderr",
     "output_type": "stream",
     "text": [
      "100%|██████████| 14/14 [00:00<00:00, 9028.33it/s]\n"
     ]
    },
    {
     "name": "stdout",
     "output_type": "stream",
     "text": [
      "Processing /workdir/outdir/pipeline_output/SampleSheet_batch_20250607/UMT_DISTANCE_0/BISMARK_COV/56-TML12S5_S7576-S7776.connor_R1_bismark_bt2_pe.bedGraph.gz.bismark.zero.cov for panel Lung_panel_version_1.1...\n"
     ]
    },
    {
     "name": "stderr",
     "output_type": "stream",
     "text": [
      "100%|██████████| 2/2 [00:00<00:00, 3013.15it/s]\n"
     ]
    },
    {
     "name": "stdout",
     "output_type": "stream",
     "text": [
      "Processing /workdir/outdir/pipeline_output/SampleSheet_batch_20250607/UMT_DISTANCE_0/BISMARK_COV/57-TML1S6_S7577-S7777.connor_R1_bismark_bt2_pe.bedGraph.gz.bismark.zero.cov for panel Lung_panel_version_1.1...\n"
     ]
    },
    {
     "name": "stderr",
     "output_type": "stream",
     "text": [
      "100%|██████████| 6/6 [00:00<00:00, 7684.22it/s]\n"
     ]
    },
    {
     "name": "stdout",
     "output_type": "stream",
     "text": [
      "Processing /workdir/outdir/pipeline_output/SampleSheet_batch_20250607/UMT_DISTANCE_0/BISMARK_COV/58-TML2S6_S7578-S7778.connor_R1_bismark_bt2_pe.bedGraph.gz.bismark.zero.cov for panel Lung_panel_version_1.1...\n"
     ]
    },
    {
     "name": "stderr",
     "output_type": "stream",
     "text": [
      "100%|██████████| 14/14 [00:00<00:00, 7500.35it/s]\n"
     ]
    },
    {
     "name": "stdout",
     "output_type": "stream",
     "text": [
      "Processing /workdir/outdir/pipeline_output/SampleSheet_batch_20250607/UMT_DISTANCE_0/BISMARK_COV/59-TML3S6_S7579-S7779.connor_R1_bismark_bt2_pe.bedGraph.gz.bismark.zero.cov for panel Lung_panel_version_1.1...\n"
     ]
    },
    {
     "name": "stderr",
     "output_type": "stream",
     "text": [
      "100%|██████████| 13/13 [00:00<00:00, 8247.76it/s]\n"
     ]
    },
    {
     "name": "stdout",
     "output_type": "stream",
     "text": [
      "Processing /workdir/outdir/pipeline_output/SampleSheet_batch_20250607/UMT_DISTANCE_0/BISMARK_COV/60-TML5S6_S7580-S7780.connor_R1_bismark_bt2_pe.bedGraph.gz.bismark.zero.cov for panel Lung_panel_version_1.1...\n"
     ]
    },
    {
     "name": "stderr",
     "output_type": "stream",
     "text": [
      "100%|██████████| 12/12 [00:00<00:00, 8487.63it/s]\n"
     ]
    },
    {
     "name": "stdout",
     "output_type": "stream",
     "text": [
      "Processing /workdir/outdir/pipeline_output/SampleSheet_batch_20250607/UMT_DISTANCE_0/BISMARK_COV/61-TML6S6_S7581-S7781.connor_R1_bismark_bt2_pe.bedGraph.gz.bismark.zero.cov for panel Lung_panel_version_1.1...\n"
     ]
    },
    {
     "name": "stderr",
     "output_type": "stream",
     "text": [
      "100%|██████████| 15/15 [00:00<00:00, 9733.07it/s]\n"
     ]
    },
    {
     "name": "stdout",
     "output_type": "stream",
     "text": [
      "Processing /workdir/outdir/pipeline_output/SampleSheet_batch_20250607/UMT_DISTANCE_0/BISMARK_COV/62-TML8S6_S7582-S7782.connor_R1_bismark_bt2_pe.bedGraph.gz.bismark.zero.cov for panel Lung_panel_version_1.1...\n"
     ]
    },
    {
     "name": "stderr",
     "output_type": "stream",
     "text": [
      "100%|██████████| 16/16 [00:00<00:00, 9512.24it/s]\n"
     ]
    },
    {
     "name": "stdout",
     "output_type": "stream",
     "text": [
      "Processing /workdir/outdir/pipeline_output/SampleSheet_batch_20250607/UMT_DISTANCE_0/BISMARK_COV/63-TML9S6_S7583-S7783.connor_R1_bismark_bt2_pe.bedGraph.gz.bismark.zero.cov for panel Lung_panel_version_1.1...\n"
     ]
    },
    {
     "name": "stderr",
     "output_type": "stream",
     "text": [
      "100%|██████████| 15/15 [00:00<00:00, 8986.51it/s]\n"
     ]
    },
    {
     "name": "stdout",
     "output_type": "stream",
     "text": [
      "Processing /workdir/outdir/pipeline_output/SampleSheet_batch_20250607/UMT_DISTANCE_0/BISMARK_COV/64-TML12S6_S7584-S7784.connor_R1_bismark_bt2_pe.bedGraph.gz.bismark.zero.cov for panel Lung_panel_version_1.1...\n"
     ]
    },
    {
     "name": "stderr",
     "output_type": "stream",
     "text": [
      "100%|██████████| 7/7 [00:00<00:00, 5784.11it/s]\n"
     ]
    },
    {
     "name": "stdout",
     "output_type": "stream",
     "text": [
      "Processing /workdir/outdir/pipeline_output/SampleSheet_batch_20250607/UMT_DISTANCE_0/BISMARK_COV/17-TML1S7_S7525-S7725.connor_R1_bismark_bt2_pe.bedGraph.gz.bismark.zero.cov for panel Lung_panel_version_1.1...\n"
     ]
    },
    {
     "name": "stderr",
     "output_type": "stream",
     "text": [
      "100%|██████████| 4/4 [00:00<00:00, 4953.41it/s]\n"
     ]
    },
    {
     "name": "stdout",
     "output_type": "stream",
     "text": [
      "Processing /workdir/outdir/pipeline_output/SampleSheet_batch_20250607/UMT_DISTANCE_0/BISMARK_COV/18-TML2S7_S7526-S7726.connor_R1_bismark_bt2_pe.bedGraph.gz.bismark.zero.cov for panel Lung_panel_version_1.1...\n"
     ]
    },
    {
     "name": "stderr",
     "output_type": "stream",
     "text": [
      "100%|██████████| 14/14 [00:00<00:00, 8866.11it/s]\n"
     ]
    },
    {
     "name": "stdout",
     "output_type": "stream",
     "text": [
      "Processing /workdir/outdir/pipeline_output/SampleSheet_batch_20250607/UMT_DISTANCE_0/BISMARK_COV/19-TML3S7_S7527-S7727.connor_R1_bismark_bt2_pe.bedGraph.gz.bismark.zero.cov for panel Lung_panel_version_1.1...\n"
     ]
    },
    {
     "name": "stderr",
     "output_type": "stream",
     "text": [
      "100%|██████████| 13/13 [00:00<00:00, 8549.07it/s]\n"
     ]
    },
    {
     "name": "stdout",
     "output_type": "stream",
     "text": [
      "Processing /workdir/outdir/pipeline_output/SampleSheet_batch_20250607/UMT_DISTANCE_0/BISMARK_COV/20-TML5S7_S7528-S7728.connor_R1_bismark_bt2_pe.bedGraph.gz.bismark.zero.cov for panel Lung_panel_version_1.1...\n"
     ]
    },
    {
     "name": "stderr",
     "output_type": "stream",
     "text": [
      "100%|██████████| 9/9 [00:00<00:00, 7572.46it/s]\n"
     ]
    },
    {
     "name": "stdout",
     "output_type": "stream",
     "text": [
      "Processing /workdir/outdir/pipeline_output/SampleSheet_batch_20250607/UMT_DISTANCE_0/BISMARK_COV/21-TML6S7_S7529-S7729.connor_R1_bismark_bt2_pe.bedGraph.gz.bismark.zero.cov for panel Lung_panel_version_1.1...\n"
     ]
    },
    {
     "name": "stderr",
     "output_type": "stream",
     "text": [
      "100%|██████████| 15/15 [00:00<00:00, 8958.36it/s]\n"
     ]
    },
    {
     "name": "stdout",
     "output_type": "stream",
     "text": [
      "Processing /workdir/outdir/pipeline_output/SampleSheet_batch_20250607/UMT_DISTANCE_0/BISMARK_COV/22-TML8S7_S7530-S7730.connor_R1_bismark_bt2_pe.bedGraph.gz.bismark.zero.cov for panel Lung_panel_version_1.1...\n"
     ]
    },
    {
     "name": "stderr",
     "output_type": "stream",
     "text": [
      "100%|██████████| 16/16 [00:00<00:00, 7974.91it/s]\n"
     ]
    },
    {
     "name": "stdout",
     "output_type": "stream",
     "text": [
      "Processing /workdir/outdir/pipeline_output/SampleSheet_batch_20250607/UMT_DISTANCE_0/BISMARK_COV/23-TML9S7_S7531-S7731.connor_R1_bismark_bt2_pe.bedGraph.gz.bismark.zero.cov for panel Lung_panel_version_1.1...\n"
     ]
    },
    {
     "name": "stderr",
     "output_type": "stream",
     "text": [
      "100%|██████████| 14/14 [00:00<00:00, 7849.25it/s]\n"
     ]
    },
    {
     "name": "stdout",
     "output_type": "stream",
     "text": [
      "Processing /workdir/outdir/pipeline_output/SampleSheet_batch_20250607/UMT_DISTANCE_0/BISMARK_COV/24-TML12S7_S7532-S7732.connor_R1_bismark_bt2_pe.bedGraph.gz.bismark.zero.cov for panel Lung_panel_version_1.1...\n"
     ]
    },
    {
     "name": "stderr",
     "output_type": "stream",
     "text": [
      "100%|██████████| 7/7 [00:00<00:00, 6042.42it/s]\n"
     ]
    },
    {
     "name": "stdout",
     "output_type": "stream",
     "text": [
      "Processing /workdir/outdir/pipeline_output/SampleSheet_batch_20250607/UMT_DISTANCE_0/BISMARK_COV/25-TML3S138_S7533-S7733.connor_R1_bismark_bt2_pe.bedGraph.gz.bismark.zero.cov for panel Lung_panel_version_1.1...\n"
     ]
    },
    {
     "name": "stderr",
     "output_type": "stream",
     "text": [
      "100%|██████████| 13/13 [00:00<00:00, 7519.78it/s]\n"
     ]
    },
    {
     "name": "stdout",
     "output_type": "stream",
     "text": [
      "Processing /workdir/outdir/pipeline_output/SampleSheet_batch_20250607/UMT_DISTANCE_0/BISMARK_COV/26-TML3S238_S7534-S7734.connor_R1_bismark_bt2_pe.bedGraph.gz.bismark.zero.cov for panel Lung_panel_version_1.1...\n"
     ]
    },
    {
     "name": "stderr",
     "output_type": "stream",
     "text": [
      "100%|██████████| 13/13 [00:00<00:00, 8194.46it/s]\n"
     ]
    },
    {
     "name": "stdout",
     "output_type": "stream",
     "text": [
      "Input coverage file /workdir/outdir/pipeline_output/SampleSheet_batch_20250607/UMT_DISTANCE_0/BISMARK_COV/27-TML3S338_S7535-S7735.connor_R1_bismark_bt2_pe.bedGraph.gz.bismark.zero.cov does not exist, skipping...\n",
      "Processing /workdir/outdir/pipeline_output/SampleSheet_batch_20250607/UMT_DISTANCE_0/BISMARK_COV/28-TML3S438_S7536-S7736.connor_R1_bismark_bt2_pe.bedGraph.gz.bismark.zero.cov for panel Lung_panel_version_1.1...\n"
     ]
    },
    {
     "name": "stderr",
     "output_type": "stream",
     "text": [
      "100%|██████████| 13/13 [00:00<00:00, 8244.02it/s]\n"
     ]
    },
    {
     "name": "stdout",
     "output_type": "stream",
     "text": [
      "Input coverage file /workdir/outdir/pipeline_output/SampleSheet_batch_20250607/UMT_DISTANCE_0/BISMARK_COV/29-TML3S538_S7537-S7737.connor_R1_bismark_bt2_pe.bedGraph.gz.bismark.zero.cov does not exist, skipping...\n",
      "Input coverage file /workdir/outdir/pipeline_output/SampleSheet_batch_20250607/UMT_DISTANCE_0/BISMARK_COV/30-TML3S638_S7538-S7738.connor_R1_bismark_bt2_pe.bedGraph.gz.bismark.zero.cov does not exist, skipping...\n",
      "Processing /workdir/outdir/pipeline_output/SampleSheet_batch_20250607/UMT_DISTANCE_0/BISMARK_COV/31-TML3S738_S7539-S7739.connor_R1_bismark_bt2_pe.bedGraph.gz.bismark.zero.cov for panel Lung_panel_version_1.1...\n"
     ]
    },
    {
     "name": "stderr",
     "output_type": "stream",
     "text": [
      "100%|██████████| 13/13 [00:00<00:00, 7705.76it/s]\n"
     ]
    },
    {
     "name": "stdout",
     "output_type": "stream",
     "text": [
      "Input coverage file /workdir/outdir/pipeline_output/SampleSheet_batch_20250613_smallsize/UMT_DISTANCE_0/BISMARK_COV/1-TMPC3S1_S7585-S7785.connor_R1_bismark_bt2_pe.bedGraph.gz.bismark.zero.cov does not exist, skipping...\n",
      "Input coverage file /workdir/outdir/pipeline_output/SampleSheet_batch_20250613_smallsize/UMT_DISTANCE_0/BISMARK_COV/2-TMPC3S2_S7586-S7786.connor_R1_bismark_bt2_pe.bedGraph.gz.bismark.zero.cov does not exist, skipping...\n",
      "Input coverage file /workdir/outdir/pipeline_output/SampleSheet_batch_20250613_smallsize/UMT_DISTANCE_0/BISMARK_COV/3-TMPC3S3_S7542-S7742.connor_R1_bismark_bt2_pe.bedGraph.gz.bismark.zero.cov does not exist, skipping...\n",
      "Input coverage file /workdir/outdir/pipeline_output/SampleSheet_batch_20250613_smallsize/UMT_DISTANCE_0/BISMARK_COV/4-TMPC4S4_S7543-S7743.connor_R1_bismark_bt2_pe.bedGraph.gz.bismark.zero.cov does not exist, skipping...\n",
      "Input coverage file /workdir/outdir/pipeline_output/SampleSheet_batch_20250613_smallsize/UMT_DISTANCE_0/BISMARK_COV/5-TMPC3S5_S7544-S7744.connor_R1_bismark_bt2_pe.bedGraph.gz.bismark.zero.cov does not exist, skipping...\n",
      "Input coverage file /workdir/outdir/pipeline_output/SampleSheet_batch_20250613_smallsize/UMT_DISTANCE_0/BISMARK_COV/6-TMPC3S6_S7557-S7757.connor_R1_bismark_bt2_pe.bedGraph.gz.bismark.zero.cov does not exist, skipping...\n",
      "Input coverage file /workdir/outdir/pipeline_output/SampleSheet_batch_20250613_smallsize/UMT_DISTANCE_0/BISMARK_COV/7-TMPC3S7_S7558-S7758.connor_R1_bismark_bt2_pe.bedGraph.gz.bismark.zero.cov does not exist, skipping...\n",
      "Processing /workdir/outdir/pipeline_output/SampleSheet_batch_20250612/UMT_DISTANCE_0/BISMARK_COV/8-TMC1S1_S7581-S7781.connor_R1_bismark_bt2_pe.bedGraph.gz.bismark.zero.cov for panel CRC_panel_version_3.1...\n"
     ]
    },
    {
     "name": "stderr",
     "output_type": "stream",
     "text": [
      "100%|██████████| 5/5 [00:00<00:00, 5076.62it/s]\n"
     ]
    },
    {
     "name": "stdout",
     "output_type": "stream",
     "text": [
      "Processing /workdir/outdir/pipeline_output/SampleSheet_batch_20250612/UMT_DISTANCE_0/BISMARK_COV/9-TMC2S1_S7582-S7782.connor_R1_bismark_bt2_pe.bedGraph.gz.bismark.zero.cov for panel CRC_panel_version_3.1...\n"
     ]
    },
    {
     "name": "stderr",
     "output_type": "stream",
     "text": [
      "100%|██████████| 4/4 [00:00<00:00, 4460.84it/s]\n"
     ]
    },
    {
     "name": "stdout",
     "output_type": "stream",
     "text": [
      "Processing /workdir/outdir/pipeline_output/SampleSheet_batch_20250612/UMT_DISTANCE_0/BISMARK_COV/10-TMC3S1_S7583-S7783.connor_R1_bismark_bt2_pe.bedGraph.gz.bismark.zero.cov for panel CRC_panel_version_3.1...\n"
     ]
    },
    {
     "name": "stderr",
     "output_type": "stream",
     "text": [
      "100%|██████████| 10/10 [00:00<00:00, 6584.46it/s]\n"
     ]
    },
    {
     "name": "stdout",
     "output_type": "stream",
     "text": [
      "Input coverage file /workdir/outdir/pipeline_output/SampleSheet_batch_20250612/UMT_DISTANCE_0/BISMARK_COV/11-TMC4S1_S7584-S7784.connor_R1_bismark_bt2_pe.bedGraph.gz.bismark.zero.cov does not exist, skipping...\n",
      "Processing /workdir/outdir/pipeline_output/SampleSheet_batch_20250612/UMT_DISTANCE_0/BISMARK_COV/12-TMC5S1_S7546-S7746.connor_R1_bismark_bt2_pe.bedGraph.gz.bismark.zero.cov for panel CRC_panel_version_3.1...\n"
     ]
    },
    {
     "name": "stderr",
     "output_type": "stream",
     "text": [
      "100%|██████████| 7/7 [00:00<00:00, 5542.78it/s]\n"
     ]
    },
    {
     "name": "stdout",
     "output_type": "stream",
     "text": [
      "Processing /workdir/outdir/pipeline_output/SampleSheet_batch_20250612/UMT_DISTANCE_0/BISMARK_COV/13-TMC6S1_S7549-S7749.connor_R1_bismark_bt2_pe.bedGraph.gz.bismark.zero.cov for panel CRC_panel_version_3.1...\n"
     ]
    },
    {
     "name": "stderr",
     "output_type": "stream",
     "text": [
      "100%|██████████| 10/10 [00:00<00:00, 7057.55it/s]\n"
     ]
    },
    {
     "name": "stdout",
     "output_type": "stream",
     "text": [
      "Processing /workdir/outdir/pipeline_output/SampleSheet_batch_20250612/UMT_DISTANCE_0/BISMARK_COV/14-TMC1S2_S7502-S7702.connor_R1_bismark_bt2_pe.bedGraph.gz.bismark.zero.cov for panel CRC_panel_version_3.1...\n"
     ]
    },
    {
     "name": "stderr",
     "output_type": "stream",
     "text": [
      "100%|██████████| 5/5 [00:00<00:00, 4996.79it/s]\n"
     ]
    },
    {
     "name": "stdout",
     "output_type": "stream",
     "text": [
      "Processing /workdir/outdir/pipeline_output/SampleSheet_batch_20250612/UMT_DISTANCE_0/BISMARK_COV/15-TMC2S2_S7503-S7703.connor_R1_bismark_bt2_pe.bedGraph.gz.bismark.zero.cov for panel CRC_panel_version_3.1...\n"
     ]
    },
    {
     "name": "stderr",
     "output_type": "stream",
     "text": [
      "100%|██████████| 4/4 [00:00<00:00, 5356.71it/s]\n"
     ]
    },
    {
     "name": "stdout",
     "output_type": "stream",
     "text": [
      "Processing /workdir/outdir/pipeline_output/SampleSheet_batch_20250612/UMT_DISTANCE_0/BISMARK_COV/16-TMC3S2_S7504-S7704.connor_R1_bismark_bt2_pe.bedGraph.gz.bismark.zero.cov for panel CRC_panel_version_3.1...\n"
     ]
    },
    {
     "name": "stderr",
     "output_type": "stream",
     "text": [
      "100%|██████████| 2/2 [00:00<00:00, 2538.92it/s]\n"
     ]
    },
    {
     "name": "stdout",
     "output_type": "stream",
     "text": [
      "Input coverage file /workdir/outdir/pipeline_output/SampleSheet_batch_20250612/UMT_DISTANCE_0/BISMARK_COV/17-TMC4S2_S7505-S7705.connor_R1_bismark_bt2_pe.bedGraph.gz.bismark.zero.cov does not exist, skipping...\n",
      "Processing /workdir/outdir/pipeline_output/SampleSheet_batch_20250612/UMT_DISTANCE_0/BISMARK_COV/18-TMC5S2_S7506-S7706.connor_R1_bismark_bt2_pe.bedGraph.gz.bismark.zero.cov for panel CRC_panel_version_3.1...\n"
     ]
    },
    {
     "name": "stderr",
     "output_type": "stream",
     "text": [
      "100%|██████████| 3/3 [00:00<00:00, 3402.63it/s]\n"
     ]
    },
    {
     "name": "stdout",
     "output_type": "stream",
     "text": [
      "Processing /workdir/outdir/pipeline_output/SampleSheet_batch_20250612/UMT_DISTANCE_0/BISMARK_COV/19-TMC6S2_S7507-S7707.connor_R1_bismark_bt2_pe.bedGraph.gz.bismark.zero.cov for panel CRC_panel_version_3.1...\n"
     ]
    },
    {
     "name": "stderr",
     "output_type": "stream",
     "text": [
      "100%|██████████| 10/10 [00:00<00:00, 7977.00it/s]\n"
     ]
    },
    {
     "name": "stdout",
     "output_type": "stream",
     "text": [
      "Processing /workdir/outdir/pipeline_output/SampleSheet_batch_20250612/UMT_DISTANCE_0/BISMARK_COV/20-TMC1S3_S7508-S7708.connor_R1_bismark_bt2_pe.bedGraph.gz.bismark.zero.cov for panel CRC_panel_version_3.1...\n"
     ]
    },
    {
     "name": "stderr",
     "output_type": "stream",
     "text": [
      "100%|██████████| 5/5 [00:00<00:00, 5102.56it/s]\n"
     ]
    },
    {
     "name": "stdout",
     "output_type": "stream",
     "text": [
      "Processing /workdir/outdir/pipeline_output/SampleSheet_batch_20250612/UMT_DISTANCE_0/BISMARK_COV/21-TMC2S3_S7564-S7764.connor_R1_bismark_bt2_pe.bedGraph.gz.bismark.zero.cov for panel CRC_panel_version_3.1...\n"
     ]
    },
    {
     "name": "stderr",
     "output_type": "stream",
     "text": [
      "100%|██████████| 4/4 [00:00<00:00, 4159.98it/s]\n"
     ]
    },
    {
     "name": "stdout",
     "output_type": "stream",
     "text": [
      "Processing /workdir/outdir/pipeline_output/SampleSheet_batch_20250612/UMT_DISTANCE_0/BISMARK_COV/22-TMC3S3_S7540-S7740.connor_R1_bismark_bt2_pe.bedGraph.gz.bismark.zero.cov for panel CRC_panel_version_3.1...\n"
     ]
    },
    {
     "name": "stderr",
     "output_type": "stream",
     "text": [
      "100%|██████████| 1/1 [00:00<00:00, 1637.76it/s]\n"
     ]
    },
    {
     "name": "stdout",
     "output_type": "stream",
     "text": [
      "Input coverage file /workdir/outdir/pipeline_output/SampleSheet_batch_20250612/UMT_DISTANCE_0/BISMARK_COV/23-TMC4S3_S7556-S7756.connor_R1_bismark_bt2_pe.bedGraph.gz.bismark.zero.cov does not exist, skipping...\n",
      "Processing /workdir/outdir/pipeline_output/SampleSheet_batch_20250612/UMT_DISTANCE_0/BISMARK_COV/24-TMC5S3_S7511-S7711.connor_R1_bismark_bt2_pe.bedGraph.gz.bismark.zero.cov for panel CRC_panel_version_3.1...\n"
     ]
    },
    {
     "name": "stderr",
     "output_type": "stream",
     "text": [
      "100%|██████████| 5/5 [00:00<00:00, 4960.15it/s]\n"
     ]
    },
    {
     "name": "stdout",
     "output_type": "stream",
     "text": [
      "Processing /workdir/outdir/pipeline_output/SampleSheet_batch_20250612/UMT_DISTANCE_0/BISMARK_COV/26-TMC1S4_S7514-S7714.connor_R1_bismark_bt2_pe.bedGraph.gz.bismark.zero.cov for panel CRC_panel_version_3.1...\n"
     ]
    },
    {
     "name": "stderr",
     "output_type": "stream",
     "text": [
      "100%|██████████| 5/5 [00:00<00:00, 5374.56it/s]\n"
     ]
    },
    {
     "name": "stdout",
     "output_type": "stream",
     "text": [
      "Processing /workdir/outdir/pipeline_output/SampleSheet_batch_20250612/UMT_DISTANCE_0/BISMARK_COV/27-TMC2S4_S7515-S7715.connor_R1_bismark_bt2_pe.bedGraph.gz.bismark.zero.cov for panel CRC_panel_version_3.1...\n"
     ]
    },
    {
     "name": "stderr",
     "output_type": "stream",
     "text": [
      "100%|██████████| 4/4 [00:00<00:00, 4496.71it/s]\n"
     ]
    },
    {
     "name": "stdout",
     "output_type": "stream",
     "text": [
      "Input coverage file /workdir/outdir/pipeline_output/SampleSheet_batch_20250612/UMT_DISTANCE_0/BISMARK_COV/29-TMC4S4_S7517-S7717.connor_R1_bismark_bt2_pe.bedGraph.gz.bismark.zero.cov does not exist, skipping...\n",
      "Processing /workdir/outdir/pipeline_output/SampleSheet_batch_20250612/UMT_DISTANCE_0/BISMARK_COV/30-TMC5S4_S7518-S7718.connor_R1_bismark_bt2_pe.bedGraph.gz.bismark.zero.cov for panel CRC_panel_version_3.1...\n"
     ]
    },
    {
     "name": "stderr",
     "output_type": "stream",
     "text": [
      "100%|██████████| 5/5 [00:00<00:00, 6107.02it/s]\n"
     ]
    },
    {
     "name": "stdout",
     "output_type": "stream",
     "text": [
      "Processing /workdir/outdir/pipeline_output/SampleSheet_batch_20250612/UMT_DISTANCE_0/BISMARK_COV/31-TMC6S4_S7519-S7719.connor_R1_bismark_bt2_pe.bedGraph.gz.bismark.zero.cov for panel CRC_panel_version_3.1...\n"
     ]
    },
    {
     "name": "stderr",
     "output_type": "stream",
     "text": [
      "100%|██████████| 10/10 [00:00<00:00, 6907.62it/s]\n"
     ]
    },
    {
     "name": "stdout",
     "output_type": "stream",
     "text": [
      "Processing /workdir/outdir/pipeline_output/SampleSheet_batch_20250612/UMT_DISTANCE_0/BISMARK_COV/32-TMC1S5_S7520-S7720.connor_R1_bismark_bt2_pe.bedGraph.gz.bismark.zero.cov for panel CRC_panel_version_3.1...\n"
     ]
    },
    {
     "name": "stderr",
     "output_type": "stream",
     "text": [
      "100%|██████████| 5/5 [00:00<00:00, 4278.16it/s]\n"
     ]
    },
    {
     "name": "stdout",
     "output_type": "stream",
     "text": [
      "Processing /workdir/outdir/pipeline_output/SampleSheet_batch_20250612/UMT_DISTANCE_0/BISMARK_COV/33-TMC2S5_S7521-S7721.connor_R1_bismark_bt2_pe.bedGraph.gz.bismark.zero.cov for panel CRC_panel_version_3.1...\n"
     ]
    },
    {
     "name": "stderr",
     "output_type": "stream",
     "text": [
      "100%|██████████| 4/4 [00:00<00:00, 4073.13it/s]\n"
     ]
    },
    {
     "name": "stdout",
     "output_type": "stream",
     "text": [
      "Processing /workdir/outdir/pipeline_output/SampleSheet_batch_20250612/UMT_DISTANCE_0/BISMARK_COV/34-TMC3S5_S7522-S7722.connor_R1_bismark_bt2_pe.bedGraph.gz.bismark.zero.cov for panel CRC_panel_version_3.1...\n"
     ]
    },
    {
     "name": "stderr",
     "output_type": "stream",
     "text": [
      "100%|██████████| 10/10 [00:00<00:00, 7173.43it/s]\n"
     ]
    },
    {
     "name": "stdout",
     "output_type": "stream",
     "text": [
      "Input coverage file /workdir/outdir/pipeline_output/SampleSheet_batch_20250612/UMT_DISTANCE_0/BISMARK_COV/35-TMC4S5_S7523-S7723.connor_R1_bismark_bt2_pe.bedGraph.gz.bismark.zero.cov does not exist, skipping...\n",
      "Processing /workdir/outdir/pipeline_output/SampleSheet_batch_20250612/UMT_DISTANCE_0/BISMARK_COV/36-TMC5S5_S7524-S7724.connor_R1_bismark_bt2_pe.bedGraph.gz.bismark.zero.cov for panel CRC_panel_version_3.1...\n"
     ]
    },
    {
     "name": "stderr",
     "output_type": "stream",
     "text": [
      "100%|██████████| 5/5 [00:00<00:00, 4812.19it/s]\n"
     ]
    },
    {
     "name": "stdout",
     "output_type": "stream",
     "text": [
      "Processing /workdir/outdir/pipeline_output/SampleSheet_batch_20250612/UMT_DISTANCE_0/BISMARK_COV/37-TMC6S5_S7525-S7725.connor_R1_bismark_bt2_pe.bedGraph.gz.bismark.zero.cov for panel CRC_panel_version_3.1...\n"
     ]
    },
    {
     "name": "stderr",
     "output_type": "stream",
     "text": [
      "100%|██████████| 10/10 [00:00<00:00, 7125.90it/s]\n"
     ]
    },
    {
     "name": "stdout",
     "output_type": "stream",
     "text": [
      "Processing /workdir/outdir/pipeline_output/SampleSheet_batch_20250612/UMT_DISTANCE_0/BISMARK_COV/38-TMC1S6_S7526-S7726.connor_R1_bismark_bt2_pe.bedGraph.gz.bismark.zero.cov for panel CRC_panel_version_3.1...\n"
     ]
    },
    {
     "name": "stderr",
     "output_type": "stream",
     "text": [
      "100%|██████████| 5/5 [00:00<00:00, 4844.43it/s]\n"
     ]
    },
    {
     "name": "stdout",
     "output_type": "stream",
     "text": [
      "Processing /workdir/outdir/pipeline_output/SampleSheet_batch_20250612/UMT_DISTANCE_0/BISMARK_COV/39-TMC2S6_S7527-S7727.connor_R1_bismark_bt2_pe.bedGraph.gz.bismark.zero.cov for panel CRC_panel_version_3.1...\n"
     ]
    },
    {
     "name": "stderr",
     "output_type": "stream",
     "text": [
      "100%|██████████| 4/4 [00:00<00:00, 4357.72it/s]\n"
     ]
    },
    {
     "name": "stdout",
     "output_type": "stream",
     "text": [
      "Processing /workdir/outdir/pipeline_output/SampleSheet_batch_20250612/UMT_DISTANCE_0/BISMARK_COV/40-TMC3S6_S7528-S7728.connor_R1_bismark_bt2_pe.bedGraph.gz.bismark.zero.cov for panel CRC_panel_version_3.1...\n"
     ]
    },
    {
     "name": "stderr",
     "output_type": "stream",
     "text": [
      "100%|██████████| 10/10 [00:00<00:00, 6506.83it/s]\n"
     ]
    },
    {
     "name": "stdout",
     "output_type": "stream",
     "text": [
      "Input coverage file /workdir/outdir/pipeline_output/SampleSheet_batch_20250612/UMT_DISTANCE_0/BISMARK_COV/41-TMC4S6_S7529-S7729.connor_R1_bismark_bt2_pe.bedGraph.gz.bismark.zero.cov does not exist, skipping...\n",
      "Processing /workdir/outdir/pipeline_output/SampleSheet_batch_20250612/UMT_DISTANCE_0/BISMARK_COV/42-TMC5S6_S7530-S7730.connor_R1_bismark_bt2_pe.bedGraph.gz.bismark.zero.cov for panel CRC_panel_version_3.1...\n"
     ]
    },
    {
     "name": "stderr",
     "output_type": "stream",
     "text": [
      "100%|██████████| 3/3 [00:00<00:00, 3669.56it/s]\n"
     ]
    },
    {
     "name": "stdout",
     "output_type": "stream",
     "text": [
      "Input coverage file /workdir/outdir/pipeline_output/SampleSheet_batch_20250613_smallsize/UMT_DISTANCE_0/BISMARK_COV/43-TMC6S6_S7531-S7731.connor_R1_bismark_bt2_pe.bedGraph.gz.bismark.zero.cov does not exist, skipping...\n",
      "Processing /workdir/outdir/pipeline_output/SampleSheet_batch_20250612/UMT_DISTANCE_0/BISMARK_COV/44-TMC1S7_S7532-S7732.connor_R1_bismark_bt2_pe.bedGraph.gz.bismark.zero.cov for panel CRC_panel_version_3.1...\n"
     ]
    },
    {
     "name": "stderr",
     "output_type": "stream",
     "text": [
      "100%|██████████| 5/5 [00:00<00:00, 5180.71it/s]\n"
     ]
    },
    {
     "name": "stdout",
     "output_type": "stream",
     "text": [
      "Processing /workdir/outdir/pipeline_output/SampleSheet_batch_20250612/UMT_DISTANCE_0/BISMARK_COV/45-TMC2S7_S7533-S7733.connor_R1_bismark_bt2_pe.bedGraph.gz.bismark.zero.cov for panel CRC_panel_version_3.1...\n"
     ]
    },
    {
     "name": "stderr",
     "output_type": "stream",
     "text": [
      "100%|██████████| 4/4 [00:00<00:00, 4283.18it/s]\n"
     ]
    },
    {
     "name": "stdout",
     "output_type": "stream",
     "text": [
      "Processing /workdir/outdir/pipeline_output/SampleSheet_batch_20250612/UMT_DISTANCE_0/BISMARK_COV/46-TMC3S7_S7534-S7734.connor_R1_bismark_bt2_pe.bedGraph.gz.bismark.zero.cov for panel CRC_panel_version_3.1...\n"
     ]
    },
    {
     "name": "stderr",
     "output_type": "stream",
     "text": [
      "100%|██████████| 11/11 [00:00<00:00, 7567.22it/s]\n"
     ]
    },
    {
     "name": "stdout",
     "output_type": "stream",
     "text": [
      "Input coverage file /workdir/outdir/pipeline_output/SampleSheet_batch_20250612/UMT_DISTANCE_0/BISMARK_COV/47-TMC4S7_S7535-S7735.connor_R1_bismark_bt2_pe.bedGraph.gz.bismark.zero.cov does not exist, skipping...\n",
      "Processing /workdir/outdir/pipeline_output/SampleSheet_batch_20250612/UMT_DISTANCE_0/BISMARK_COV/48-TMC5S7_S7536-S7736.connor_R1_bismark_bt2_pe.bedGraph.gz.bismark.zero.cov for panel CRC_panel_version_3.1...\n"
     ]
    },
    {
     "name": "stderr",
     "output_type": "stream",
     "text": [
      "100%|██████████| 3/3 [00:00<00:00, 4040.76it/s]\n"
     ]
    },
    {
     "name": "stdout",
     "output_type": "stream",
     "text": [
      "Processing /workdir/outdir/pipeline_output/SampleSheet_batch_20250612/UMT_DISTANCE_0/BISMARK_COV/49-TMC6S7_S7541-S7741.connor_R1_bismark_bt2_pe.bedGraph.gz.bismark.zero.cov for panel CRC_panel_version_3.1...\n"
     ]
    },
    {
     "name": "stderr",
     "output_type": "stream",
     "text": [
      "100%|██████████| 10/10 [00:00<00:00, 6466.70it/s]\n"
     ]
    },
    {
     "name": "stdout",
     "output_type": "stream",
     "text": [
      "Processing /workdir/outdir/pipeline_output/SampleSheet_batch_20250612/UMT_DISTANCE_0/BISMARK_COV/1-TMPL5S1I3_S7561-S7761.connor_R1_bismark_bt2_pe.bedGraph.gz.bismark.zero.cov for panel Lung_panel_version_1.1...\n"
     ]
    },
    {
     "name": "stderr",
     "output_type": "stream",
     "text": [
      "100%|██████████| 42/42 [00:00<00:00, 11258.44it/s]\n"
     ]
    },
    {
     "name": "stdout",
     "output_type": "stream",
     "text": [
      "Processing /workdir/outdir/pipeline_output/SampleSheet_batch_20250612/UMT_DISTANCE_0/BISMARK_COV/2-TMPL5S2I3_S7562-S7762.connor_R1_bismark_bt2_pe.bedGraph.gz.bismark.zero.cov for panel Lung_panel_version_1.1...\n"
     ]
    },
    {
     "name": "stderr",
     "output_type": "stream",
     "text": [
      "100%|██████████| 40/40 [00:00<00:00, 10888.64it/s]\n"
     ]
    },
    {
     "name": "stdout",
     "output_type": "stream",
     "text": [
      "Processing /workdir/outdir/pipeline_output/SampleSheet_batch_20250612/UMT_DISTANCE_0/BISMARK_COV/3-TMPL5S3I3_S7563-S7763.connor_R1_bismark_bt2_pe.bedGraph.gz.bismark.zero.cov for panel Lung_panel_version_1.1...\n"
     ]
    },
    {
     "name": "stderr",
     "output_type": "stream",
     "text": [
      "100%|██████████| 41/41 [00:00<00:00, 11165.93it/s]\n"
     ]
    },
    {
     "name": "stdout",
     "output_type": "stream",
     "text": [
      "Processing /workdir/outdir/pipeline_output/SampleSheet_batch_20250612/UMT_DISTANCE_0/BISMARK_COV/4-TMPL5S4I3_S7564-S7764.connor_R1_bismark_bt2_pe.bedGraph.gz.bismark.zero.cov for panel Lung_panel_version_1.1...\n"
     ]
    },
    {
     "name": "stderr",
     "output_type": "stream",
     "text": [
      "100%|██████████| 25/25 [00:00<00:00, 9916.55it/s]\n"
     ]
    },
    {
     "name": "stdout",
     "output_type": "stream",
     "text": [
      "Processing /workdir/outdir/pipeline_output/SampleSheet_batch_20250612/UMT_DISTANCE_0/BISMARK_COV/5-TMPL5S5I3_S7585-S7785.connor_R1_bismark_bt2_pe.bedGraph.gz.bismark.zero.cov for panel Lung_panel_version_1.1...\n"
     ]
    },
    {
     "name": "stderr",
     "output_type": "stream",
     "text": [
      "100%|██████████| 26/26 [00:00<00:00, 10917.20it/s]\n"
     ]
    },
    {
     "name": "stdout",
     "output_type": "stream",
     "text": [
      "Processing /workdir/outdir/pipeline_output/SampleSheet_batch_20250612/UMT_DISTANCE_0/BISMARK_COV/6-TMPL5S6I3_S7586-S7786.connor_R1_bismark_bt2_pe.bedGraph.gz.bismark.zero.cov for panel Lung_panel_version_1.1...\n"
     ]
    },
    {
     "name": "stderr",
     "output_type": "stream",
     "text": [
      "100%|██████████| 41/41 [00:00<00:00, 11129.80it/s]\n"
     ]
    },
    {
     "name": "stdout",
     "output_type": "stream",
     "text": [
      "Processing /workdir/outdir/pipeline_output/SampleSheet_batch_20250612/UMT_DISTANCE_0/BISMARK_COV/7-TMPL5S7I3_S7587-S7787.connor_R1_bismark_bt2_pe.bedGraph.gz.bismark.zero.cov for panel Lung_panel_version_1.1...\n"
     ]
    },
    {
     "name": "stderr",
     "output_type": "stream",
     "text": [
      "100%|██████████| 57/57 [00:00<00:00, 11611.80it/s]\n"
     ]
    },
    {
     "name": "stdout",
     "output_type": "stream",
     "text": [
      "Processing /workdir/outdir/pipeline_output/SampleSheet_batch_20250612/UMT_DISTANCE_0/BISMARK_COV/8-TMPL6S1I3_S7588-S7788.connor_R1_bismark_bt2_pe.bedGraph.gz.bismark.zero.cov for panel Lung_panel_version_1.1...\n"
     ]
    },
    {
     "name": "stderr",
     "output_type": "stream",
     "text": [
      "100%|██████████| 36/36 [00:00<00:00, 10983.05it/s]\n"
     ]
    },
    {
     "name": "stdout",
     "output_type": "stream",
     "text": [
      "Processing /workdir/outdir/pipeline_output/SampleSheet_batch_20250612/UMT_DISTANCE_0/BISMARK_COV/9-TMPL6S2I3_S7589-S7789.connor_R1_bismark_bt2_pe.bedGraph.gz.bismark.zero.cov for panel Lung_panel_version_1.1...\n"
     ]
    },
    {
     "name": "stderr",
     "output_type": "stream",
     "text": [
      "100%|██████████| 35/35 [00:00<00:00, 11513.78it/s]\n"
     ]
    },
    {
     "name": "stdout",
     "output_type": "stream",
     "text": [
      "Processing /workdir/outdir/pipeline_output/SampleSheet_batch_20250612/UMT_DISTANCE_0/BISMARK_COV/10-TMPL6S3I3_S7590-S7790.connor_R1_bismark_bt2_pe.bedGraph.gz.bismark.zero.cov for panel Lung_panel_version_1.1...\n"
     ]
    },
    {
     "name": "stderr",
     "output_type": "stream",
     "text": [
      "100%|██████████| 13/13 [00:00<00:00, 8577.31it/s]\n"
     ]
    },
    {
     "name": "stdout",
     "output_type": "stream",
     "text": [
      "Processing /workdir/outdir/pipeline_output/SampleSheet_batch_20250612/UMT_DISTANCE_0/BISMARK_COV/11-TMPL6S4I3_S7591-S7791.connor_R1_bismark_bt2_pe.bedGraph.gz.bismark.zero.cov for panel Lung_panel_version_1.1...\n"
     ]
    },
    {
     "name": "stderr",
     "output_type": "stream",
     "text": [
      "100%|██████████| 35/35 [00:00<00:00, 10190.95it/s]\n"
     ]
    },
    {
     "name": "stdout",
     "output_type": "stream",
     "text": [
      "Processing /workdir/outdir/pipeline_output/SampleSheet_batch_20250612/UMT_DISTANCE_0/BISMARK_COV/12-TMPL6S5I3_S7592-S7792.connor_R1_bismark_bt2_pe.bedGraph.gz.bismark.zero.cov for panel Lung_panel_version_1.1...\n"
     ]
    },
    {
     "name": "stderr",
     "output_type": "stream",
     "text": [
      "100%|██████████| 15/15 [00:00<00:00, 8722.38it/s]\n"
     ]
    },
    {
     "name": "stdout",
     "output_type": "stream",
     "text": [
      "Processing /workdir/outdir/pipeline_output/SampleSheet_batch_20250612/UMT_DISTANCE_0/BISMARK_COV/13-TMPL6S6I3_S7593-S7793.connor_R1_bismark_bt2_pe.bedGraph.gz.bismark.zero.cov for panel Lung_panel_version_1.1...\n"
     ]
    },
    {
     "name": "stderr",
     "output_type": "stream",
     "text": [
      "100%|██████████| 35/35 [00:00<00:00, 11693.54it/s]\n"
     ]
    },
    {
     "name": "stdout",
     "output_type": "stream",
     "text": [
      "Processing /workdir/outdir/pipeline_output/SampleSheet_batch_20250612/UMT_DISTANCE_0/BISMARK_COV/14-TMPL6S7I3_S7594-S7794.connor_R1_bismark_bt2_pe.bedGraph.gz.bismark.zero.cov for panel Lung_panel_version_1.1...\n"
     ]
    },
    {
     "name": "stderr",
     "output_type": "stream",
     "text": [
      "100%|██████████| 35/35 [00:00<00:00, 11315.86it/s]\n"
     ]
    },
    {
     "name": "stdout",
     "output_type": "stream",
     "text": [
      "Processing /workdir/outdir/pipeline_output/SampleSheet_batch_20250604/UMT_DISTANCE_0/BISMARK_COV/1-TML1S1_S7501-S7701.CutAdapt_R1_bismark_bt2_pe.bedGraph.gz.bismark.zero.cov for panel Lung_panel_version_1.1...\n"
     ]
    },
    {
     "name": "stderr",
     "output_type": "stream",
     "text": [
      "100%|██████████| 13/13 [00:00<00:00, 8195.69it/s]\n"
     ]
    },
    {
     "name": "stdout",
     "output_type": "stream",
     "text": [
      "Processing /workdir/outdir/pipeline_output/SampleSheet_batch_20250604/UMT_DISTANCE_0/BISMARK_COV/2-TML1S2_S7502-S7702.CutAdapt_R1_bismark_bt2_pe.bedGraph.gz.bismark.zero.cov for panel Lung_panel_version_1.1...\n"
     ]
    },
    {
     "name": "stderr",
     "output_type": "stream",
     "text": [
      "100%|██████████| 14/14 [00:00<00:00, 8682.58it/s]\n"
     ]
    },
    {
     "name": "stdout",
     "output_type": "stream",
     "text": [
      "Processing /workdir/outdir/pipeline_output/SampleSheet_batch_20250604/UMT_DISTANCE_0/BISMARK_COV/3-TML1S3_S7503-S7703.CutAdapt_R1_bismark_bt2_pe.bedGraph.gz.bismark.zero.cov for panel Lung_panel_version_1.1...\n"
     ]
    },
    {
     "name": "stderr",
     "output_type": "stream",
     "text": [
      "100%|██████████| 14/14 [00:00<00:00, 9554.22it/s]\n"
     ]
    },
    {
     "name": "stdout",
     "output_type": "stream",
     "text": [
      "Processing /workdir/outdir/pipeline_output/SampleSheet_batch_20250604/UMT_DISTANCE_0/BISMARK_COV/4-TML1S4_S7504-S7704.CutAdapt_R1_bismark_bt2_pe.bedGraph.gz.bismark.zero.cov for panel Lung_panel_version_1.1...\n"
     ]
    },
    {
     "name": "stderr",
     "output_type": "stream",
     "text": [
      "100%|██████████| 9/9 [00:00<00:00, 6035.93it/s]\n"
     ]
    },
    {
     "name": "stdout",
     "output_type": "stream",
     "text": [
      "Processing /workdir/outdir/pipeline_output/SampleSheet_batch_20250604/UMT_DISTANCE_0/BISMARK_COV/5-TML1S5_S7505-S7705.CutAdapt_R1_bismark_bt2_pe.bedGraph.gz.bismark.zero.cov for panel Lung_panel_version_1.1...\n"
     ]
    },
    {
     "name": "stderr",
     "output_type": "stream",
     "text": [
      "100%|██████████| 10/10 [00:00<00:00, 7240.30it/s]\n"
     ]
    },
    {
     "name": "stdout",
     "output_type": "stream",
     "text": [
      "Processing /workdir/outdir/pipeline_output/SampleSheet_batch_20250604/UMT_DISTANCE_0/BISMARK_COV/6-TML2S1_S7506-S7706.CutAdapt_R1_bismark_bt2_pe.bedGraph.gz.bismark.zero.cov for panel Lung_panel_version_1.1...\n"
     ]
    },
    {
     "name": "stderr",
     "output_type": "stream",
     "text": [
      "100%|██████████| 21/21 [00:00<00:00, 8472.53it/s]\n"
     ]
    },
    {
     "name": "stdout",
     "output_type": "stream",
     "text": [
      "Processing /workdir/outdir/pipeline_output/SampleSheet_batch_20250604/UMT_DISTANCE_0/BISMARK_COV/7-TML2S2_S7507-S7707.CutAdapt_R1_bismark_bt2_pe.bedGraph.gz.bismark.zero.cov for panel Lung_panel_version_1.1...\n"
     ]
    },
    {
     "name": "stderr",
     "output_type": "stream",
     "text": [
      "100%|██████████| 22/22 [00:00<00:00, 9935.90it/s]\n"
     ]
    },
    {
     "name": "stdout",
     "output_type": "stream",
     "text": [
      "Processing /workdir/outdir/pipeline_output/SampleSheet_batch_20250604/UMT_DISTANCE_0/BISMARK_COV/8-TML2S3_S7508-S7708.CutAdapt_R1_bismark_bt2_pe.bedGraph.gz.bismark.zero.cov for panel Lung_panel_version_1.1...\n"
     ]
    },
    {
     "name": "stderr",
     "output_type": "stream",
     "text": [
      "100%|██████████| 20/20 [00:00<00:00, 9088.42it/s]\n"
     ]
    },
    {
     "name": "stdout",
     "output_type": "stream",
     "text": [
      "Processing /workdir/outdir/pipeline_output/SampleSheet_batch_20250604/UMT_DISTANCE_0/BISMARK_COV/9-TML2S4_S7509-S7709.CutAdapt_R1_bismark_bt2_pe.bedGraph.gz.bismark.zero.cov for panel Lung_panel_version_1.1...\n"
     ]
    },
    {
     "name": "stderr",
     "output_type": "stream",
     "text": [
      "100%|██████████| 21/21 [00:00<00:00, 9320.68it/s]\n"
     ]
    },
    {
     "name": "stdout",
     "output_type": "stream",
     "text": [
      "Processing /workdir/outdir/pipeline_output/SampleSheet_batch_20250604/UMT_DISTANCE_0/BISMARK_COV/10-TML2S5_S7510-S7710.CutAdapt_R1_bismark_bt2_pe.bedGraph.gz.bismark.zero.cov for panel Lung_panel_version_1.1...\n"
     ]
    },
    {
     "name": "stderr",
     "output_type": "stream",
     "text": [
      "100%|██████████| 33/33 [00:00<00:00, 9118.65it/s]\n"
     ]
    },
    {
     "name": "stdout",
     "output_type": "stream",
     "text": [
      "Processing /workdir/outdir/pipeline_output/SampleSheet_batch_20250604/UMT_DISTANCE_0/BISMARK_COV/11-TML3S1_S7511-S7711.CutAdapt_R1_bismark_bt2_pe.bedGraph.gz.bismark.zero.cov for panel Lung_panel_version_1.1...\n"
     ]
    },
    {
     "name": "stderr",
     "output_type": "stream",
     "text": [
      "100%|██████████| 27/27 [00:00<00:00, 10362.94it/s]\n"
     ]
    },
    {
     "name": "stdout",
     "output_type": "stream",
     "text": [
      "Processing /workdir/outdir/pipeline_output/SampleSheet_batch_20250604/UMT_DISTANCE_0/BISMARK_COV/12-TML3S2_S7512-S7712.CutAdapt_R1_bismark_bt2_pe.bedGraph.gz.bismark.zero.cov for panel Lung_panel_version_1.1...\n"
     ]
    },
    {
     "name": "stderr",
     "output_type": "stream",
     "text": [
      "100%|██████████| 18/18 [00:00<00:00, 9245.34it/s]\n"
     ]
    },
    {
     "name": "stdout",
     "output_type": "stream",
     "text": [
      "Processing /workdir/outdir/pipeline_output/SampleSheet_batch_20250604/UMT_DISTANCE_0/BISMARK_COV/13-TML3S3_S7513-S7713.CutAdapt_R1_bismark_bt2_pe.bedGraph.gz.bismark.zero.cov for panel Lung_panel_version_1.1...\n"
     ]
    },
    {
     "name": "stderr",
     "output_type": "stream",
     "text": [
      "100%|██████████| 19/19 [00:00<00:00, 9187.43it/s]\n"
     ]
    },
    {
     "name": "stdout",
     "output_type": "stream",
     "text": [
      "Processing /workdir/outdir/pipeline_output/SampleSheet_batch_20250604/UMT_DISTANCE_0/BISMARK_COV/14-TML3S4_S7514-S7714.CutAdapt_R1_bismark_bt2_pe.bedGraph.gz.bismark.zero.cov for panel Lung_panel_version_1.1...\n"
     ]
    },
    {
     "name": "stderr",
     "output_type": "stream",
     "text": [
      "100%|██████████| 20/20 [00:00<00:00, 10352.47it/s]\n"
     ]
    },
    {
     "name": "stdout",
     "output_type": "stream",
     "text": [
      "Processing /workdir/outdir/pipeline_output/SampleSheet_batch_20250604/UMT_DISTANCE_0/BISMARK_COV/15-TML3S5_S7515-S7715.CutAdapt_R1_bismark_bt2_pe.bedGraph.gz.bismark.zero.cov for panel Lung_panel_version_1.1...\n"
     ]
    },
    {
     "name": "stderr",
     "output_type": "stream",
     "text": [
      "100%|██████████| 34/34 [00:00<00:00, 10866.07it/s]\n"
     ]
    },
    {
     "name": "stdout",
     "output_type": "stream",
     "text": [
      "Processing /workdir/outdir/pipeline_output/SampleSheet_batch_20250604/UMT_DISTANCE_0/BISMARK_COV/16-TML5S1_S7516-S7716.CutAdapt_R1_bismark_bt2_pe.bedGraph.gz.bismark.zero.cov for panel Lung_panel_version_1.1...\n"
     ]
    },
    {
     "name": "stderr",
     "output_type": "stream",
     "text": [
      "100%|██████████| 36/36 [00:00<00:00, 10792.29it/s]\n"
     ]
    },
    {
     "name": "stdout",
     "output_type": "stream",
     "text": [
      "Processing /workdir/outdir/pipeline_output/SampleSheet_batch_20250604/UMT_DISTANCE_0/BISMARK_COV/17-TML5S2_S7517-S7717.CutAdapt_R1_bismark_bt2_pe.bedGraph.gz.bismark.zero.cov for panel Lung_panel_version_1.1...\n"
     ]
    },
    {
     "name": "stderr",
     "output_type": "stream",
     "text": [
      "100%|██████████| 16/16 [00:00<00:00, 8797.70it/s]\n"
     ]
    },
    {
     "name": "stdout",
     "output_type": "stream",
     "text": [
      "Processing /workdir/outdir/pipeline_output/SampleSheet_batch_20250604/UMT_DISTANCE_0/BISMARK_COV/18-TML5S3_S7518-S7718.CutAdapt_R1_bismark_bt2_pe.bedGraph.gz.bismark.zero.cov for panel Lung_panel_version_1.1...\n"
     ]
    },
    {
     "name": "stderr",
     "output_type": "stream",
     "text": [
      "100%|██████████| 21/21 [00:00<00:00, 9450.68it/s]\n"
     ]
    },
    {
     "name": "stdout",
     "output_type": "stream",
     "text": [
      "Processing /workdir/outdir/pipeline_output/SampleSheet_batch_20250604/UMT_DISTANCE_0/BISMARK_COV/19-TML5S4_S7519-S7719.CutAdapt_R1_bismark_bt2_pe.bedGraph.gz.bismark.zero.cov for panel Lung_panel_version_1.1...\n"
     ]
    },
    {
     "name": "stderr",
     "output_type": "stream",
     "text": [
      "100%|██████████| 15/15 [00:00<00:00, 8177.09it/s]\n"
     ]
    },
    {
     "name": "stdout",
     "output_type": "stream",
     "text": [
      "Processing /workdir/outdir/pipeline_output/SampleSheet_batch_20250604/UMT_DISTANCE_0/BISMARK_COV/20-TML5S5_S7520-S7720.CutAdapt_R1_bismark_bt2_pe.bedGraph.gz.bismark.zero.cov for panel Lung_panel_version_1.1...\n"
     ]
    },
    {
     "name": "stderr",
     "output_type": "stream",
     "text": [
      "100%|██████████| 15/15 [00:00<00:00, 8295.70it/s]\n"
     ]
    },
    {
     "name": "stdout",
     "output_type": "stream",
     "text": [
      "Processing /workdir/outdir/pipeline_output/SampleSheet_batch_20250604/UMT_DISTANCE_0/BISMARK_COV/21-TML8S1_S7521-S7721.CutAdapt_R1_bismark_bt2_pe.bedGraph.gz.bismark.zero.cov for panel Lung_panel_version_1.1...\n"
     ]
    },
    {
     "name": "stderr",
     "output_type": "stream",
     "text": [
      "100%|██████████| 38/38 [00:00<00:00, 11059.09it/s]\n"
     ]
    },
    {
     "name": "stdout",
     "output_type": "stream",
     "text": [
      "Processing /workdir/outdir/pipeline_output/SampleSheet_batch_20250604/UMT_DISTANCE_0/BISMARK_COV/22-TML8S2_S7522-S7722.CutAdapt_R1_bismark_bt2_pe.bedGraph.gz.bismark.zero.cov for panel Lung_panel_version_1.1...\n"
     ]
    },
    {
     "name": "stderr",
     "output_type": "stream",
     "text": [
      "100%|██████████| 32/32 [00:00<00:00, 10896.06it/s]\n"
     ]
    },
    {
     "name": "stdout",
     "output_type": "stream",
     "text": [
      "Processing /workdir/outdir/pipeline_output/SampleSheet_batch_20250604/UMT_DISTANCE_0/BISMARK_COV/23-TML8S3_S7523-S7723.CutAdapt_R1_bismark_bt2_pe.bedGraph.gz.bismark.zero.cov for panel Lung_panel_version_1.1...\n"
     ]
    },
    {
     "name": "stderr",
     "output_type": "stream",
     "text": [
      "100%|██████████| 34/34 [00:00<00:00, 10111.77it/s]\n"
     ]
    },
    {
     "name": "stdout",
     "output_type": "stream",
     "text": [
      "Processing /workdir/outdir/pipeline_output/SampleSheet_batch_20250604/UMT_DISTANCE_0/BISMARK_COV/24-TML8S4_S7524-S7724.CutAdapt_R1_bismark_bt2_pe.bedGraph.gz.bismark.zero.cov for panel Lung_panel_version_1.1...\n"
     ]
    },
    {
     "name": "stderr",
     "output_type": "stream",
     "text": [
      "100%|██████████| 26/26 [00:00<00:00, 10448.59it/s]\n"
     ]
    },
    {
     "name": "stdout",
     "output_type": "stream",
     "text": [
      "Processing /workdir/outdir/pipeline_output/SampleSheet_batch_20250604/UMT_DISTANCE_0/BISMARK_COV/25-TML8S5_S7525-S7725.CutAdapt_R1_bismark_bt2_pe.bedGraph.gz.bismark.zero.cov for panel Lung_panel_version_1.1...\n"
     ]
    },
    {
     "name": "stderr",
     "output_type": "stream",
     "text": [
      "100%|██████████| 27/27 [00:00<00:00, 10012.04it/s]\n"
     ]
    },
    {
     "name": "stdout",
     "output_type": "stream",
     "text": [
      "Processing /workdir/outdir/pipeline_output/SampleSheet_batch_20250604/UMT_DISTANCE_0/BISMARK_COV/26-TML9S1_S7526-S7726.CutAdapt_R1_bismark_bt2_pe.bedGraph.gz.bismark.zero.cov for panel Lung_panel_version_1.1...\n"
     ]
    },
    {
     "name": "stderr",
     "output_type": "stream",
     "text": [
      "100%|██████████| 32/32 [00:00<00:00, 10175.72it/s]\n"
     ]
    },
    {
     "name": "stdout",
     "output_type": "stream",
     "text": [
      "Processing /workdir/outdir/pipeline_output/SampleSheet_batch_20250604/UMT_DISTANCE_0/BISMARK_COV/27-TML9S2_S7527-S7727.CutAdapt_R1_bismark_bt2_pe.bedGraph.gz.bismark.zero.cov for panel Lung_panel_version_1.1...\n"
     ]
    },
    {
     "name": "stderr",
     "output_type": "stream",
     "text": [
      "100%|██████████| 53/53 [00:00<00:00, 11543.76it/s]\n"
     ]
    },
    {
     "name": "stdout",
     "output_type": "stream",
     "text": [
      "Processing /workdir/outdir/pipeline_output/SampleSheet_batch_20250604/UMT_DISTANCE_0/BISMARK_COV/28-TML9S3_S7528-S7728.CutAdapt_R1_bismark_bt2_pe.bedGraph.gz.bismark.zero.cov for panel Lung_panel_version_1.1...\n"
     ]
    },
    {
     "name": "stderr",
     "output_type": "stream",
     "text": [
      "100%|██████████| 28/28 [00:00<00:00, 9925.67it/s]\n"
     ]
    },
    {
     "name": "stdout",
     "output_type": "stream",
     "text": [
      "Processing /workdir/outdir/pipeline_output/SampleSheet_batch_20250604/UMT_DISTANCE_0/BISMARK_COV/29-TML9S4_S7529-S7729.CutAdapt_R1_bismark_bt2_pe.bedGraph.gz.bismark.zero.cov for panel Lung_panel_version_1.1...\n"
     ]
    },
    {
     "name": "stderr",
     "output_type": "stream",
     "text": [
      "100%|██████████| 42/42 [00:00<00:00, 11177.71it/s]\n"
     ]
    },
    {
     "name": "stdout",
     "output_type": "stream",
     "text": [
      "Processing /workdir/outdir/pipeline_output/SampleSheet_batch_20250604/UMT_DISTANCE_0/BISMARK_COV/30-TML9S5_S7530-S7730.CutAdapt_R1_bismark_bt2_pe.bedGraph.gz.bismark.zero.cov for panel Lung_panel_version_1.1...\n"
     ]
    },
    {
     "name": "stderr",
     "output_type": "stream",
     "text": [
      "100%|██████████| 32/32 [00:00<00:00, 10697.20it/s]\n"
     ]
    },
    {
     "name": "stdout",
     "output_type": "stream",
     "text": [
      "Processing /workdir/outdir/pipeline_output/SampleSheet_batch_20250604/UMT_DISTANCE_0/BISMARK_COV/31-TML10S1_S7531-S7731.CutAdapt_R1_bismark_bt2_pe.bedGraph.gz.bismark.zero.cov for panel Lung_panel_version_1.1...\n"
     ]
    },
    {
     "name": "stderr",
     "output_type": "stream",
     "text": [
      "100%|██████████| 15/15 [00:00<00:00, 8735.71it/s]\n"
     ]
    },
    {
     "name": "stdout",
     "output_type": "stream",
     "text": [
      "Processing /workdir/outdir/pipeline_output/SampleSheet_batch_20250604/UMT_DISTANCE_0/BISMARK_COV/32-TML10S2_S7532-S7732.CutAdapt_R1_bismark_bt2_pe.bedGraph.gz.bismark.zero.cov for panel Lung_panel_version_1.1...\n"
     ]
    },
    {
     "name": "stderr",
     "output_type": "stream",
     "text": [
      "100%|██████████| 15/15 [00:00<00:00, 8360.74it/s]\n"
     ]
    },
    {
     "name": "stdout",
     "output_type": "stream",
     "text": [
      "Processing /workdir/outdir/pipeline_output/SampleSheet_batch_20250604/UMT_DISTANCE_0/BISMARK_COV/33-TML10S3_S7533-S7733.CutAdapt_R1_bismark_bt2_pe.bedGraph.gz.bismark.zero.cov for panel Lung_panel_version_1.1...\n"
     ]
    },
    {
     "name": "stderr",
     "output_type": "stream",
     "text": [
      "100%|██████████| 35/35 [00:00<00:00, 10488.76it/s]\n"
     ]
    },
    {
     "name": "stdout",
     "output_type": "stream",
     "text": [
      "Processing /workdir/outdir/pipeline_output/SampleSheet_batch_20250604/UMT_DISTANCE_0/BISMARK_COV/34-TML10S4_S7534-S7734.CutAdapt_R1_bismark_bt2_pe.bedGraph.gz.bismark.zero.cov for panel Lung_panel_version_1.1...\n"
     ]
    },
    {
     "name": "stderr",
     "output_type": "stream",
     "text": [
      "100%|██████████| 19/19 [00:00<00:00, 9458.96it/s]\n"
     ]
    },
    {
     "name": "stdout",
     "output_type": "stream",
     "text": [
      "Processing /workdir/outdir/pipeline_output/SampleSheet_batch_20250604/UMT_DISTANCE_0/BISMARK_COV/35-TML10S5_S7535-S7735.CutAdapt_R1_bismark_bt2_pe.bedGraph.gz.bismark.zero.cov for panel Lung_panel_version_1.1...\n"
     ]
    },
    {
     "name": "stderr",
     "output_type": "stream",
     "text": [
      "100%|██████████| 16/16 [00:00<00:00, 8797.70it/s]\n"
     ]
    },
    {
     "name": "stdout",
     "output_type": "stream",
     "text": [
      "Processing /workdir/outdir/pipeline_output/SampleSheet_batch_20250604/UMT_DISTANCE_0/BISMARK_COV/36-TML11S1_S7536-S7736.CutAdapt_R1_bismark_bt2_pe.bedGraph.gz.bismark.zero.cov for panel Lung_panel_version_1.1...\n"
     ]
    },
    {
     "name": "stderr",
     "output_type": "stream",
     "text": [
      "100%|██████████| 4/4 [00:00<00:00, 4355.46it/s]\n"
     ]
    },
    {
     "name": "stdout",
     "output_type": "stream",
     "text": [
      "Processing /workdir/outdir/pipeline_output/SampleSheet_batch_20250604/UMT_DISTANCE_0/BISMARK_COV/37-TML11S2_S7537-S7737.CutAdapt_R1_bismark_bt2_pe.bedGraph.gz.bismark.zero.cov for panel Lung_panel_version_1.1...\n"
     ]
    },
    {
     "name": "stderr",
     "output_type": "stream",
     "text": [
      "100%|██████████| 15/15 [00:00<00:00, 7816.44it/s]\n"
     ]
    },
    {
     "name": "stdout",
     "output_type": "stream",
     "text": [
      "Processing /workdir/outdir/pipeline_output/SampleSheet_batch_20250604/UMT_DISTANCE_0/BISMARK_COV/38-TML11S3_S7538-S7738.CutAdapt_R1_bismark_bt2_pe.bedGraph.gz.bismark.zero.cov for panel Lung_panel_version_1.1...\n"
     ]
    },
    {
     "name": "stderr",
     "output_type": "stream",
     "text": [
      "100%|██████████| 15/15 [00:00<00:00, 8468.78it/s]\n"
     ]
    },
    {
     "name": "stdout",
     "output_type": "stream",
     "text": [
      "Processing /workdir/outdir/pipeline_output/SampleSheet_batch_20250604/UMT_DISTANCE_0/BISMARK_COV/39-TML11S4_S7539-S7739.CutAdapt_R1_bismark_bt2_pe.bedGraph.gz.bismark.zero.cov for panel Lung_panel_version_1.1...\n"
     ]
    },
    {
     "name": "stderr",
     "output_type": "stream",
     "text": [
      "100%|██████████| 19/19 [00:00<00:00, 9018.99it/s]\n"
     ]
    },
    {
     "name": "stdout",
     "output_type": "stream",
     "text": [
      "Processing /workdir/outdir/pipeline_output/SampleSheet_batch_20250604/UMT_DISTANCE_0/BISMARK_COV/40-TML11S5_S7540-S7740.CutAdapt_R1_bismark_bt2_pe.bedGraph.gz.bismark.zero.cov for panel Lung_panel_version_1.1...\n"
     ]
    },
    {
     "name": "stderr",
     "output_type": "stream",
     "text": [
      "100%|██████████| 36/36 [00:00<00:00, 10547.29it/s]\n"
     ]
    },
    {
     "name": "stdout",
     "output_type": "stream",
     "text": [
      "Processing /workdir/outdir/pipeline_output/SampleSheet_batch_20250604/UMT_DISTANCE_0/BISMARK_COV/41-TMPANEL1_S7541-S7741.CutAdapt_R1_bismark_bt2_pe.bedGraph.gz.bismark.zero.cov for panel Lung_panel_version_1.1...\n"
     ]
    },
    {
     "name": "stderr",
     "output_type": "stream",
     "text": [
      "100%|██████████| 53/53 [00:00<00:00, 11720.87it/s]\n"
     ]
    },
    {
     "name": "stdout",
     "output_type": "stream",
     "text": [
      "Processing /workdir/outdir/pipeline_output/SampleSheet_batch_20250604/UMT_DISTANCE_0/BISMARK_COV/42-TMPANEL2_S7542-S7742.CutAdapt_R1_bismark_bt2_pe.bedGraph.gz.bismark.zero.cov for panel Lung_panel_version_1.1...\n"
     ]
    },
    {
     "name": "stderr",
     "output_type": "stream",
     "text": [
      "100%|██████████| 61/61 [00:00<00:00, 11831.33it/s]\n"
     ]
    },
    {
     "name": "stdout",
     "output_type": "stream",
     "text": [
      "Processing /workdir/outdir/pipeline_output/SampleSheet_batch_20250604/UMT_DISTANCE_0/BISMARK_COV/43-TMPANEL3_S7543-S7743.CutAdapt_R1_bismark_bt2_pe.bedGraph.gz.bismark.zero.cov for panel Lung_panel_version_1.1...\n"
     ]
    },
    {
     "name": "stderr",
     "output_type": "stream",
     "text": [
      "100%|██████████| 28/28 [00:00<00:00, 9726.73it/s]\n"
     ]
    },
    {
     "name": "stdout",
     "output_type": "stream",
     "text": [
      "Processing /workdir/outdir/pipeline_output/SampleSheet_batch_20250604/UMT_DISTANCE_0/BISMARK_COV/44-TMPANEL4_S7544-S7744.CutAdapt_R1_bismark_bt2_pe.bedGraph.gz.bismark.zero.cov for panel Lung_panel_version_1.1...\n"
     ]
    },
    {
     "name": "stderr",
     "output_type": "stream",
     "text": [
      "100%|██████████| 51/51 [00:00<00:00, 11564.55it/s]\n"
     ]
    },
    {
     "name": "stdout",
     "output_type": "stream",
     "text": [
      "Processing /workdir/outdir/pipeline_output/SampleSheet_batch_20250604/UMT_DISTANCE_0/BISMARK_COV/1-TML4S1_S7546-S7746.CutAdapt_R1_bismark_bt2_pe.bedGraph.gz.bismark.zero.cov for panel Lung_panel_version_1.1...\n"
     ]
    },
    {
     "name": "stderr",
     "output_type": "stream",
     "text": [
      "100%|██████████| 62/62 [00:00<00:00, 12126.79it/s]\n"
     ]
    },
    {
     "name": "stdout",
     "output_type": "stream",
     "text": [
      "Processing /workdir/outdir/pipeline_output/SampleSheet_batch_20250604/UMT_DISTANCE_0/BISMARK_COV/2-TML4S2_S7547-S7747.CutAdapt_R1_bismark_bt2_pe.bedGraph.gz.bismark.zero.cov for panel Lung_panel_version_1.1...\n"
     ]
    },
    {
     "name": "stderr",
     "output_type": "stream",
     "text": [
      "100%|██████████| 77/77 [00:00<00:00, 12182.17it/s]\n"
     ]
    },
    {
     "name": "stdout",
     "output_type": "stream",
     "text": [
      "Processing /workdir/outdir/pipeline_output/SampleSheet_batch_20250604/UMT_DISTANCE_0/BISMARK_COV/3-TML4S3_S7548-S7748.CutAdapt_R1_bismark_bt2_pe.bedGraph.gz.bismark.zero.cov for panel Lung_panel_version_1.1...\n"
     ]
    },
    {
     "name": "stderr",
     "output_type": "stream",
     "text": [
      "100%|██████████| 28/28 [00:00<00:00, 10266.68it/s]\n"
     ]
    },
    {
     "name": "stdout",
     "output_type": "stream",
     "text": [
      "Processing /workdir/outdir/pipeline_output/SampleSheet_batch_20250604/UMT_DISTANCE_0/BISMARK_COV/4-TML4S4_S7549-S7749.CutAdapt_R1_bismark_bt2_pe.bedGraph.gz.bismark.zero.cov for panel Lung_panel_version_1.1...\n"
     ]
    },
    {
     "name": "stderr",
     "output_type": "stream",
     "text": [
      "100%|██████████| 599/599 [00:00<00:00, 11814.55it/s]\n"
     ]
    },
    {
     "name": "stdout",
     "output_type": "stream",
     "text": [
      "Processing /workdir/outdir/pipeline_output/SampleSheet_batch_20250604/UMT_DISTANCE_0/BISMARK_COV/5-TML4S5_S7550-S7750.CutAdapt_R1_bismark_bt2_pe.bedGraph.gz.bismark.zero.cov for panel Lung_panel_version_1.1...\n"
     ]
    },
    {
     "name": "stderr",
     "output_type": "stream",
     "text": [
      "100%|██████████| 1113/1113 [00:00<00:00, 13534.17it/s]\n"
     ]
    },
    {
     "name": "stdout",
     "output_type": "stream",
     "text": [
      "Processing /workdir/outdir/pipeline_output/SampleSheet_batch_20250604/UMT_DISTANCE_0/BISMARK_COV/6-TML7S1_S7551-S7751.CutAdapt_R1_bismark_bt2_pe.bedGraph.gz.bismark.zero.cov for panel Lung_panel_version_1.1...\n"
     ]
    },
    {
     "name": "stderr",
     "output_type": "stream",
     "text": [
      "100%|██████████| 1916/1916 [00:00<00:00, 13429.67it/s]\n"
     ]
    },
    {
     "name": "stdout",
     "output_type": "stream",
     "text": [
      "Processing /workdir/outdir/pipeline_output/SampleSheet_batch_20250604/UMT_DISTANCE_0/BISMARK_COV/7-TML7S2_S7552-S7752.CutAdapt_R1_bismark_bt2_pe.bedGraph.gz.bismark.zero.cov for panel Lung_panel_version_1.1...\n"
     ]
    },
    {
     "name": "stderr",
     "output_type": "stream",
     "text": [
      "100%|██████████| 1266/1266 [00:00<00:00, 13651.09it/s]\n"
     ]
    },
    {
     "name": "stdout",
     "output_type": "stream",
     "text": [
      "Processing /workdir/outdir/pipeline_output/SampleSheet_batch_20250604/UMT_DISTANCE_0/BISMARK_COV/8-TML7S3_S7553-S7753.CutAdapt_R1_bismark_bt2_pe.bedGraph.gz.bismark.zero.cov for panel Lung_panel_version_1.1...\n"
     ]
    },
    {
     "name": "stderr",
     "output_type": "stream",
     "text": [
      "100%|██████████| 1883/1883 [00:00<00:00, 12739.51it/s]\n"
     ]
    },
    {
     "name": "stdout",
     "output_type": "stream",
     "text": [
      "Processing /workdir/outdir/pipeline_output/SampleSheet_batch_20250604/UMT_DISTANCE_0/BISMARK_COV/9-TML7S4_S7554-S7754.CutAdapt_R1_bismark_bt2_pe.bedGraph.gz.bismark.zero.cov for panel Lung_panel_version_1.1...\n"
     ]
    },
    {
     "name": "stderr",
     "output_type": "stream",
     "text": [
      "100%|██████████| 1782/1782 [00:00<00:00, 13244.02it/s]\n"
     ]
    },
    {
     "name": "stdout",
     "output_type": "stream",
     "text": [
      "Processing /workdir/outdir/pipeline_output/SampleSheet_batch_20250604/UMT_DISTANCE_0/BISMARK_COV/10-TML7S5_S7555-S7755.CutAdapt_R1_bismark_bt2_pe.bedGraph.gz.bismark.zero.cov for panel Lung_panel_version_1.1...\n"
     ]
    },
    {
     "name": "stderr",
     "output_type": "stream",
     "text": [
      "100%|██████████| 1000/1000 [00:00<00:00, 13203.59it/s]\n"
     ]
    },
    {
     "name": "stdout",
     "output_type": "stream",
     "text": [
      "Processing /workdir/outdir/pipeline_output/SampleSheet_batch_20250604/UMT_DISTANCE_0/BISMARK_COV/11-TML12S1_S7556-S7756.CutAdapt_R1_bismark_bt2_pe.bedGraph.gz.bismark.zero.cov for panel Lung_panel_version_1.1...\n"
     ]
    },
    {
     "name": "stderr",
     "output_type": "stream",
     "text": [
      "100%|██████████| 1692/1692 [00:00<00:00, 13302.55it/s]\n"
     ]
    },
    {
     "name": "stdout",
     "output_type": "stream",
     "text": [
      "Processing /workdir/outdir/pipeline_output/SampleSheet_batch_20250604/UMT_DISTANCE_0/BISMARK_COV/12-TML12S2_S7557-S7757.CutAdapt_R1_bismark_bt2_pe.bedGraph.gz.bismark.zero.cov for panel Lung_panel_version_1.1...\n"
     ]
    },
    {
     "name": "stderr",
     "output_type": "stream",
     "text": [
      "100%|██████████| 1705/1705 [00:00<00:00, 13343.80it/s]\n"
     ]
    },
    {
     "name": "stdout",
     "output_type": "stream",
     "text": [
      "Processing /workdir/outdir/pipeline_output/SampleSheet_batch_20250604/UMT_DISTANCE_0/BISMARK_COV/13-TML12S3_S7558-S7758.CutAdapt_R1_bismark_bt2_pe.bedGraph.gz.bismark.zero.cov for panel Lung_panel_version_1.1...\n"
     ]
    },
    {
     "name": "stderr",
     "output_type": "stream",
     "text": [
      "100%|██████████| 2375/2375 [00:00<00:00, 13403.94it/s]\n"
     ]
    },
    {
     "name": "stdout",
     "output_type": "stream",
     "text": [
      "Processing /workdir/outdir/pipeline_output/SampleSheet_batch_20250604/UMT_DISTANCE_0/BISMARK_COV/14-TML12S4_S7559-S7759.CutAdapt_R1_bismark_bt2_pe.bedGraph.gz.bismark.zero.cov for panel Lung_panel_version_1.1...\n"
     ]
    },
    {
     "name": "stderr",
     "output_type": "stream",
     "text": [
      "100%|██████████| 1458/1458 [00:00<00:00, 13291.72it/s]\n"
     ]
    },
    {
     "name": "stdout",
     "output_type": "stream",
     "text": [
      "Processing /workdir/outdir/pipeline_output/SampleSheet_batch_20250604/UMT_DISTANCE_0/BISMARK_COV/15-TML12S5_S7560-S7760.CutAdapt_R1_bismark_bt2_pe.bedGraph.gz.bismark.zero.cov for panel Lung_panel_version_1.1...\n"
     ]
    },
    {
     "name": "stderr",
     "output_type": "stream",
     "text": [
      "100%|██████████| 1636/1636 [00:00<00:00, 13358.62it/s]\n"
     ]
    },
    {
     "name": "stdout",
     "output_type": "stream",
     "text": [
      "Processing /workdir/outdir/pipeline_output/SampleSheet_batch_20250604/UMT_DISTANCE_0/BISMARK_COV/16-TML13S1_S7561-S7761.CutAdapt_R1_bismark_bt2_pe.bedGraph.gz.bismark.zero.cov for panel Lung_panel_version_1.1...\n"
     ]
    },
    {
     "name": "stderr",
     "output_type": "stream",
     "text": [
      "100%|██████████| 2107/2107 [00:00<00:00, 13352.91it/s]\n"
     ]
    },
    {
     "name": "stdout",
     "output_type": "stream",
     "text": [
      "Processing /workdir/outdir/pipeline_output/SampleSheet_batch_20250604/UMT_DISTANCE_0/BISMARK_COV/17-TML13S2_S7562-S7762.CutAdapt_R1_bismark_bt2_pe.bedGraph.gz.bismark.zero.cov for panel Lung_panel_version_1.1...\n"
     ]
    },
    {
     "name": "stderr",
     "output_type": "stream",
     "text": [
      "100%|██████████| 1212/1212 [00:00<00:00, 13274.67it/s]\n"
     ]
    },
    {
     "name": "stdout",
     "output_type": "stream",
     "text": [
      "Processing /workdir/outdir/pipeline_output/SampleSheet_batch_20250604/UMT_DISTANCE_0/BISMARK_COV/18-TML13S3_S7563-S7763.CutAdapt_R1_bismark_bt2_pe.bedGraph.gz.bismark.zero.cov for panel Lung_panel_version_1.1...\n"
     ]
    },
    {
     "name": "stderr",
     "output_type": "stream",
     "text": [
      "100%|██████████| 1501/1501 [00:00<00:00, 13322.49it/s]\n"
     ]
    },
    {
     "name": "stdout",
     "output_type": "stream",
     "text": [
      "Processing /workdir/outdir/pipeline_output/SampleSheet_batch_20250604/UMT_DISTANCE_0/BISMARK_COV/19-TML13S4_S7564-S7764.CutAdapt_R1_bismark_bt2_pe.bedGraph.gz.bismark.zero.cov for panel Lung_panel_version_1.1...\n"
     ]
    },
    {
     "name": "stderr",
     "output_type": "stream",
     "text": [
      "100%|██████████| 99/99 [00:00<00:00, 12086.28it/s]\n"
     ]
    },
    {
     "name": "stdout",
     "output_type": "stream",
     "text": [
      "Processing /workdir/outdir/pipeline_output/SampleSheet_batch_20250604/UMT_DISTANCE_0/BISMARK_COV/20-TML13S5_S7565-S7765.CutAdapt_R1_bismark_bt2_pe.bedGraph.gz.bismark.zero.cov for panel Lung_panel_version_1.1...\n"
     ]
    },
    {
     "name": "stderr",
     "output_type": "stream",
     "text": [
      "100%|██████████| 68/68 [00:00<00:00, 11587.42it/s]\n"
     ]
    },
    {
     "name": "stdout",
     "output_type": "stream",
     "text": [
      "Processing /workdir/outdir/pipeline_output/SampleSheet_batch_20250604/UMT_DISTANCE_0/BISMARK_COV/21-TML6S1_S7566-S7766.CutAdapt_R1_bismark_bt2_pe.bedGraph.gz.bismark.zero.cov for panel Lung_panel_version_1.1...\n"
     ]
    },
    {
     "name": "stderr",
     "output_type": "stream",
     "text": [
      "100%|██████████| 26/26 [00:00<00:00, 9266.03it/s]\n"
     ]
    },
    {
     "name": "stdout",
     "output_type": "stream",
     "text": [
      "Processing /workdir/outdir/pipeline_output/SampleSheet_batch_20250604/UMT_DISTANCE_0/BISMARK_COV/22-TML6S2_S7567-S7767.CutAdapt_R1_bismark_bt2_pe.bedGraph.gz.bismark.zero.cov for panel Lung_panel_version_1.1...\n"
     ]
    },
    {
     "name": "stderr",
     "output_type": "stream",
     "text": [
      "100%|██████████| 35/35 [00:00<00:00, 9778.23it/s]\n"
     ]
    },
    {
     "name": "stdout",
     "output_type": "stream",
     "text": [
      "Processing /workdir/outdir/pipeline_output/SampleSheet_batch_20250604/UMT_DISTANCE_0/BISMARK_COV/23-TML6S3_S7568-S7768.CutAdapt_R1_bismark_bt2_pe.bedGraph.gz.bismark.zero.cov for panel Lung_panel_version_1.1...\n"
     ]
    },
    {
     "name": "stderr",
     "output_type": "stream",
     "text": [
      "100%|██████████| 53/53 [00:00<00:00, 11361.45it/s]\n"
     ]
    },
    {
     "name": "stdout",
     "output_type": "stream",
     "text": [
      "Processing /workdir/outdir/pipeline_output/SampleSheet_batch_20250604/UMT_DISTANCE_0/BISMARK_COV/24-TML6S4_S7569-S7769.CutAdapt_R1_bismark_bt2_pe.bedGraph.gz.bismark.zero.cov for panel Lung_panel_version_1.1...\n"
     ]
    },
    {
     "name": "stderr",
     "output_type": "stream",
     "text": [
      "100%|██████████| 74/74 [00:00<00:00, 11919.75it/s]\n"
     ]
    },
    {
     "name": "stdout",
     "output_type": "stream",
     "text": [
      "Processing /workdir/outdir/pipeline_output/SampleSheet_batch_20250604/UMT_DISTANCE_0/BISMARK_COV/25-TML6S5_S7570-S7770.CutAdapt_R1_bismark_bt2_pe.bedGraph.gz.bismark.zero.cov for panel Lung_panel_version_1.1...\n"
     ]
    },
    {
     "name": "stderr",
     "output_type": "stream",
     "text": [
      "100%|██████████| 159/159 [00:00<00:00, 12236.59it/s]\n"
     ]
    },
    {
     "name": "stdout",
     "output_type": "stream",
     "text": [
      "Processing /workdir/outdir/pipeline_output/SampleSheet_batch_20250604/UMT_DISTANCE_0/BISMARK_COV/26-TML14S1_S7571-S7771.CutAdapt_R1_bismark_bt2_pe.bedGraph.gz.bismark.zero.cov for panel Lung_panel_version_1.1...\n"
     ]
    },
    {
     "name": "stderr",
     "output_type": "stream",
     "text": [
      "100%|██████████| 137/137 [00:00<00:00, 8165.92it/s]\n"
     ]
    },
    {
     "name": "stdout",
     "output_type": "stream",
     "text": [
      "Processing /workdir/outdir/pipeline_output/SampleSheet_batch_20250604/UMT_DISTANCE_0/BISMARK_COV/27-TML14S2_S7572-S7772.CutAdapt_R1_bismark_bt2_pe.bedGraph.gz.bismark.zero.cov for panel Lung_panel_version_1.1...\n"
     ]
    },
    {
     "name": "stderr",
     "output_type": "stream",
     "text": [
      "100%|██████████| 100/100 [00:00<00:00, 12098.84it/s]\n"
     ]
    },
    {
     "name": "stdout",
     "output_type": "stream",
     "text": [
      "Processing /workdir/outdir/pipeline_output/SampleSheet_batch_20250604/UMT_DISTANCE_0/BISMARK_COV/28-TML14S3_S7573-S7773.CutAdapt_R1_bismark_bt2_pe.bedGraph.gz.bismark.zero.cov for panel Lung_panel_version_1.1...\n"
     ]
    },
    {
     "name": "stderr",
     "output_type": "stream",
     "text": [
      "100%|██████████| 34/34 [00:00<00:00, 10295.00it/s]\n"
     ]
    },
    {
     "name": "stdout",
     "output_type": "stream",
     "text": [
      "Processing /workdir/outdir/pipeline_output/SampleSheet_batch_20250604/UMT_DISTANCE_0/BISMARK_COV/29-TML14S4_S7574-S7774.CutAdapt_R1_bismark_bt2_pe.bedGraph.gz.bismark.zero.cov for panel Lung_panel_version_1.1...\n"
     ]
    },
    {
     "name": "stderr",
     "output_type": "stream",
     "text": [
      "100%|██████████| 37/37 [00:00<00:00, 10649.09it/s]\n"
     ]
    },
    {
     "name": "stdout",
     "output_type": "stream",
     "text": [
      "Processing /workdir/outdir/pipeline_output/SampleSheet_batch_20250604/UMT_DISTANCE_0/BISMARK_COV/30-TML14S5_S7575-S7775.CutAdapt_R1_bismark_bt2_pe.bedGraph.gz.bismark.zero.cov for panel Lung_panel_version_1.1...\n"
     ]
    },
    {
     "name": "stderr",
     "output_type": "stream",
     "text": [
      "100%|██████████| 23/23 [00:00<00:00, 10435.85it/s]\n"
     ]
    },
    {
     "name": "stdout",
     "output_type": "stream",
     "text": [
      "Processing /workdir/outdir/pipeline_output/SampleSheet_batch_20250604/UMT_DISTANCE_0/BISMARK_COV/31-TML15S1_S7576-S7776.CutAdapt_R1_bismark_bt2_pe.bedGraph.gz.bismark.zero.cov for panel Lung_panel_version_1.1...\n"
     ]
    },
    {
     "name": "stderr",
     "output_type": "stream",
     "text": [
      "100%|██████████| 18/18 [00:00<00:00, 8636.18it/s]\n"
     ]
    },
    {
     "name": "stdout",
     "output_type": "stream",
     "text": [
      "Processing /workdir/outdir/pipeline_output/SampleSheet_batch_20250604/UMT_DISTANCE_0/BISMARK_COV/32-TML15S2_S7577-S7777.CutAdapt_R1_bismark_bt2_pe.bedGraph.gz.bismark.zero.cov for panel Lung_panel_version_1.1...\n"
     ]
    },
    {
     "name": "stderr",
     "output_type": "stream",
     "text": [
      "100%|██████████| 12/12 [00:00<00:00, 7624.85it/s]\n"
     ]
    },
    {
     "name": "stdout",
     "output_type": "stream",
     "text": [
      "Processing /workdir/outdir/pipeline_output/SampleSheet_batch_20250604/UMT_DISTANCE_0/BISMARK_COV/33-TML15S3_S7578-S7778.CutAdapt_R1_bismark_bt2_pe.bedGraph.gz.bismark.zero.cov for panel Lung_panel_version_1.1...\n"
     ]
    },
    {
     "name": "stderr",
     "output_type": "stream",
     "text": [
      "100%|██████████| 22/22 [00:00<00:00, 10105.65it/s]\n"
     ]
    },
    {
     "name": "stdout",
     "output_type": "stream",
     "text": [
      "Processing /workdir/outdir/pipeline_output/SampleSheet_batch_20250604/UMT_DISTANCE_0/BISMARK_COV/34-TML15S4_S7579-S7779.CutAdapt_R1_bismark_bt2_pe.bedGraph.gz.bismark.zero.cov for panel Lung_panel_version_1.1...\n"
     ]
    },
    {
     "name": "stderr",
     "output_type": "stream",
     "text": [
      "100%|██████████| 11/11 [00:00<00:00, 7310.62it/s]\n"
     ]
    },
    {
     "name": "stdout",
     "output_type": "stream",
     "text": [
      "Processing /workdir/outdir/pipeline_output/SampleSheet_batch_20250604/UMT_DISTANCE_0/BISMARK_COV/35-TML15S5_S7580-S7780.CutAdapt_R1_bismark_bt2_pe.bedGraph.gz.bismark.zero.cov for panel Lung_panel_version_1.1...\n"
     ]
    },
    {
     "name": "stderr",
     "output_type": "stream",
     "text": [
      "100%|██████████| 24/24 [00:00<00:00, 9815.06it/s]\n"
     ]
    },
    {
     "name": "stdout",
     "output_type": "stream",
     "text": [
      "Processing /workdir/outdir/pipeline_output/SampleSheet_batch_20250604/UMT_DISTANCE_0/BISMARK_COV/36-TML16S1_S7581-S7781.CutAdapt_R1_bismark_bt2_pe.bedGraph.gz.bismark.zero.cov for panel Lung_panel_version_1.1...\n"
     ]
    },
    {
     "name": "stderr",
     "output_type": "stream",
     "text": [
      "100%|██████████| 1774/1774 [00:00<00:00, 12930.29it/s]\n"
     ]
    },
    {
     "name": "stdout",
     "output_type": "stream",
     "text": [
      "Processing /workdir/outdir/pipeline_output/SampleSheet_batch_20250604/UMT_DISTANCE_0/BISMARK_COV/37-TML16S2_S7582-S7782.CutAdapt_R1_bismark_bt2_pe.bedGraph.gz.bismark.zero.cov for panel Lung_panel_version_1.1...\n"
     ]
    },
    {
     "name": "stderr",
     "output_type": "stream",
     "text": [
      "100%|██████████| 2743/2743 [00:00<00:00, 13213.49it/s]\n"
     ]
    },
    {
     "name": "stdout",
     "output_type": "stream",
     "text": [
      "Processing /workdir/outdir/pipeline_output/SampleSheet_batch_20250604/UMT_DISTANCE_0/BISMARK_COV/38-TML16S3_S7583-S7783.CutAdapt_R1_bismark_bt2_pe.bedGraph.gz.bismark.zero.cov for panel Lung_panel_version_1.1...\n"
     ]
    },
    {
     "name": "stderr",
     "output_type": "stream",
     "text": [
      "100%|██████████| 1088/1088 [00:00<00:00, 13200.89it/s]\n"
     ]
    },
    {
     "name": "stdout",
     "output_type": "stream",
     "text": [
      "Processing /workdir/outdir/pipeline_output/SampleSheet_batch_20250604/UMT_DISTANCE_0/BISMARK_COV/39-TML16S4_S7584-S7784.CutAdapt_R1_bismark_bt2_pe.bedGraph.gz.bismark.zero.cov for panel Lung_panel_version_1.1...\n"
     ]
    },
    {
     "name": "stderr",
     "output_type": "stream",
     "text": [
      "100%|██████████| 2282/2282 [00:00<00:00, 13338.32it/s]\n"
     ]
    },
    {
     "name": "stdout",
     "output_type": "stream",
     "text": [
      "Processing /workdir/outdir/pipeline_output/SampleSheet_batch_20250604/UMT_DISTANCE_0/BISMARK_COV/40-TML16S5_S7585-S7785.CutAdapt_R1_bismark_bt2_pe.bedGraph.gz.bismark.zero.cov for panel Lung_panel_version_1.1...\n"
     ]
    },
    {
     "name": "stderr",
     "output_type": "stream",
     "text": [
      "100%|██████████| 1845/1845 [00:00<00:00, 13176.00it/s]\n"
     ]
    },
    {
     "name": "stdout",
     "output_type": "stream",
     "text": [
      "Processing /workdir/outdir/pipeline_output/SampleSheet_batch_20250604/UMT_DISTANCE_0/BISMARK_COV/41-TML17S1_S7586-S7786.CutAdapt_R1_bismark_bt2_pe.bedGraph.gz.bismark.zero.cov for panel Lung_panel_version_1.1...\n"
     ]
    },
    {
     "name": "stderr",
     "output_type": "stream",
     "text": [
      "100%|██████████| 1806/1806 [00:00<00:00, 6721.71it/s]\n"
     ]
    },
    {
     "name": "stdout",
     "output_type": "stream",
     "text": [
      "Processing /workdir/outdir/pipeline_output/SampleSheet_batch_20250604/UMT_DISTANCE_0/BISMARK_COV/42-TML17S2_S7587-S7787.CutAdapt_R1_bismark_bt2_pe.bedGraph.gz.bismark.zero.cov for panel Lung_panel_version_1.1...\n"
     ]
    },
    {
     "name": "stderr",
     "output_type": "stream",
     "text": [
      "100%|██████████| 1671/1671 [00:00<00:00, 13409.84it/s]\n"
     ]
    },
    {
     "name": "stdout",
     "output_type": "stream",
     "text": [
      "Processing /workdir/outdir/pipeline_output/SampleSheet_batch_20250604/UMT_DISTANCE_0/BISMARK_COV/43-TML17S3_S7588-S7788.CutAdapt_R1_bismark_bt2_pe.bedGraph.gz.bismark.zero.cov for panel Lung_panel_version_1.1...\n"
     ]
    },
    {
     "name": "stderr",
     "output_type": "stream",
     "text": [
      "100%|██████████| 2652/2652 [00:00<00:00, 13418.11it/s]\n"
     ]
    },
    {
     "name": "stdout",
     "output_type": "stream",
     "text": [
      "Processing /workdir/outdir/pipeline_output/SampleSheet_batch_20250604/UMT_DISTANCE_0/BISMARK_COV/44-TML17S4_S7589-S7789.CutAdapt_R1_bismark_bt2_pe.bedGraph.gz.bismark.zero.cov for panel Lung_panel_version_1.1...\n"
     ]
    },
    {
     "name": "stderr",
     "output_type": "stream",
     "text": [
      "100%|██████████| 1487/1487 [00:00<00:00, 13210.90it/s]\n"
     ]
    },
    {
     "name": "stdout",
     "output_type": "stream",
     "text": [
      "Processing /workdir/outdir/pipeline_output/SampleSheet_batch_20250604/UMT_DISTANCE_0/BISMARK_COV/45-TML17S5_S7590-S7790.CutAdapt_R1_bismark_bt2_pe.bedGraph.gz.bismark.zero.cov for panel Lung_panel_version_1.1...\n"
     ]
    },
    {
     "name": "stderr",
     "output_type": "stream",
     "text": [
      "100%|██████████| 1382/1382 [00:00<00:00, 5658.35it/s]\n"
     ]
    },
    {
     "name": "stdout",
     "output_type": "stream",
     "text": [
      "Processing /workdir/outdir/pipeline_output/SampleSheet_batch_20250604/UMT_DISTANCE_0/BISMARK_COV/1-TMPL1S1_S7509-S7709.CutAdapt_R1_bismark_bt2_pe.bedGraph.gz.bismark.zero.cov for panel Lung_panel_version_1.1...\n"
     ]
    },
    {
     "name": "stderr",
     "output_type": "stream",
     "text": [
      "100%|██████████| 122/122 [00:00<00:00, 12488.23it/s]\n"
     ]
    },
    {
     "name": "stdout",
     "output_type": "stream",
     "text": [
      "Processing /workdir/outdir/pipeline_output/SampleSheet_batch_20250604/UMT_DISTANCE_0/BISMARK_COV/2-TMPL1S2_S7510-S7710.CutAdapt_R1_bismark_bt2_pe.bedGraph.gz.bismark.zero.cov for panel Lung_panel_version_1.1...\n"
     ]
    },
    {
     "name": "stderr",
     "output_type": "stream",
     "text": [
      "100%|██████████| 115/115 [00:00<00:00, 12624.52it/s]\n"
     ]
    },
    {
     "name": "stdout",
     "output_type": "stream",
     "text": [
      "Processing /workdir/outdir/pipeline_output/SampleSheet_batch_20250604/UMT_DISTANCE_0/BISMARK_COV/3-TMPL1S3_S7511-S7711.CutAdapt_R1_bismark_bt2_pe.bedGraph.gz.bismark.zero.cov for panel Lung_panel_version_1.1...\n"
     ]
    },
    {
     "name": "stderr",
     "output_type": "stream",
     "text": [
      "100%|██████████| 73/73 [00:00<00:00, 12141.49it/s]\n"
     ]
    },
    {
     "name": "stdout",
     "output_type": "stream",
     "text": [
      "Processing /workdir/outdir/pipeline_output/SampleSheet_batch_20250604/UMT_DISTANCE_0/BISMARK_COV/4-TMPL1S4_S7512-S7712.CutAdapt_R1_bismark_bt2_pe.bedGraph.gz.bismark.zero.cov for panel Lung_panel_version_1.1...\n"
     ]
    },
    {
     "name": "stderr",
     "output_type": "stream",
     "text": [
      "100%|██████████| 98/98 [00:00<00:00, 12486.46it/s]\n"
     ]
    },
    {
     "name": "stdout",
     "output_type": "stream",
     "text": [
      "Processing /workdir/outdir/pipeline_output/SampleSheet_batch_20250604/UMT_DISTANCE_0/BISMARK_COV/5-TMPL1S5_S7513-S7713.CutAdapt_R1_bismark_bt2_pe.bedGraph.gz.bismark.zero.cov for panel Lung_panel_version_1.1...\n"
     ]
    },
    {
     "name": "stderr",
     "output_type": "stream",
     "text": [
      "100%|██████████| 98/98 [00:00<00:00, 12271.74it/s]\n"
     ]
    },
    {
     "name": "stdout",
     "output_type": "stream",
     "text": [
      "Processing /workdir/outdir/pipeline_output/SampleSheet_batch_20250604/UMT_DISTANCE_0/BISMARK_COV/6-TMPL2S1_S7514-S7714.CutAdapt_R1_bismark_bt2_pe.bedGraph.gz.bismark.zero.cov for panel Lung_panel_version_1.1...\n"
     ]
    },
    {
     "name": "stderr",
     "output_type": "stream",
     "text": [
      "100%|██████████| 26/26 [00:00<00:00, 9953.62it/s]\n"
     ]
    },
    {
     "name": "stdout",
     "output_type": "stream",
     "text": [
      "Processing /workdir/outdir/pipeline_output/SampleSheet_batch_20250604/UMT_DISTANCE_0/BISMARK_COV/7-TMPL2S2_S7515-S7715.CutAdapt_R1_bismark_bt2_pe.bedGraph.gz.bismark.zero.cov for panel Lung_panel_version_1.1...\n"
     ]
    },
    {
     "name": "stderr",
     "output_type": "stream",
     "text": [
      "100%|██████████| 42/42 [00:00<00:00, 10955.27it/s]\n"
     ]
    },
    {
     "name": "stdout",
     "output_type": "stream",
     "text": [
      "Processing /workdir/outdir/pipeline_output/SampleSheet_batch_20250604/UMT_DISTANCE_0/BISMARK_COV/8-TMPL2S3_S7516-S7716.CutAdapt_R1_bismark_bt2_pe.bedGraph.gz.bismark.zero.cov for panel Lung_panel_version_1.1...\n"
     ]
    },
    {
     "name": "stderr",
     "output_type": "stream",
     "text": [
      "100%|██████████| 84/84 [00:00<00:00, 11809.40it/s]\n"
     ]
    },
    {
     "name": "stdout",
     "output_type": "stream",
     "text": [
      "Processing /workdir/outdir/pipeline_output/SampleSheet_batch_20250613_smallsize/UMT_DISTANCE_0/BISMARK_COV/9-TMPL2S4_S7517-S7717.CutAdapt_R1_bismark_bt2_pe.bedGraph.gz.bismark.zero.cov for panel Lung_panel_version_1.1...\n"
     ]
    },
    {
     "name": "stderr",
     "output_type": "stream",
     "text": [
      "100%|██████████| 26/26 [00:00<00:00, 9667.72it/s]\n"
     ]
    },
    {
     "name": "stdout",
     "output_type": "stream",
     "text": [
      "Processing /workdir/outdir/pipeline_output/SampleSheet_batch_20250604/UMT_DISTANCE_0/BISMARK_COV/10-TMPL2S5_S7518-S7718.CutAdapt_R1_bismark_bt2_pe.bedGraph.gz.bismark.zero.cov for panel Lung_panel_version_1.1...\n"
     ]
    },
    {
     "name": "stderr",
     "output_type": "stream",
     "text": [
      "100%|██████████| 27/27 [00:00<00:00, 10242.04it/s]\n"
     ]
    },
    {
     "name": "stdout",
     "output_type": "stream",
     "text": [
      "Processing /workdir/outdir/pipeline_output/SampleSheet_batch_20250604/UMT_DISTANCE_0/BISMARK_COV/11-TMPL3S1_S7519-S7719.CutAdapt_R1_bismark_bt2_pe.bedGraph.gz.bismark.zero.cov for panel Lung_panel_version_1.1...\n"
     ]
    },
    {
     "name": "stderr",
     "output_type": "stream",
     "text": [
      "100%|██████████| 7/7 [00:00<00:00, 6914.77it/s]\n"
     ]
    },
    {
     "name": "stdout",
     "output_type": "stream",
     "text": [
      "Processing /workdir/outdir/pipeline_output/SampleSheet_batch_20250604/UMT_DISTANCE_0/BISMARK_COV/12-TMPL3S2_S7520-S7720.CutAdapt_R1_bismark_bt2_pe.bedGraph.gz.bismark.zero.cov for panel Lung_panel_version_1.1...\n"
     ]
    },
    {
     "name": "stderr",
     "output_type": "stream",
     "text": [
      "100%|██████████| 22/22 [00:00<00:00, 9176.08it/s]\n"
     ]
    },
    {
     "name": "stdout",
     "output_type": "stream",
     "text": [
      "Processing /workdir/outdir/pipeline_output/SampleSheet_batch_20250604/UMT_DISTANCE_0/BISMARK_COV/13-TMPL3S3_S7521-S7721.CutAdapt_R1_bismark_bt2_pe.bedGraph.gz.bismark.zero.cov for panel Lung_panel_version_1.1...\n"
     ]
    },
    {
     "name": "stderr",
     "output_type": "stream",
     "text": [
      "100%|██████████| 13/13 [00:00<00:00, 7872.65it/s]\n"
     ]
    },
    {
     "name": "stdout",
     "output_type": "stream",
     "text": [
      "Processing /workdir/outdir/pipeline_output/SampleSheet_batch_20250604/UMT_DISTANCE_0/BISMARK_COV/14-TMPL3S4_S7522-S7722.CutAdapt_R1_bismark_bt2_pe.bedGraph.gz.bismark.zero.cov for panel Lung_panel_version_1.1...\n"
     ]
    },
    {
     "name": "stderr",
     "output_type": "stream",
     "text": [
      "100%|██████████| 13/13 [00:00<00:00, 7840.95it/s]\n"
     ]
    },
    {
     "name": "stdout",
     "output_type": "stream",
     "text": [
      "Processing /workdir/outdir/pipeline_output/SampleSheet_batch_20250604/UMT_DISTANCE_0/BISMARK_COV/15-TMPL3S5_S7523-S7723.CutAdapt_R1_bismark_bt2_pe.bedGraph.gz.bismark.zero.cov for panel Lung_panel_version_1.1...\n"
     ]
    },
    {
     "name": "stderr",
     "output_type": "stream",
     "text": [
      "100%|██████████| 27/27 [00:00<00:00, 9925.17it/s]\n"
     ]
    },
    {
     "name": "stdout",
     "output_type": "stream",
     "text": [
      "Processing /workdir/outdir/pipeline_output/SampleSheet_batch_20250604/UMT_DISTANCE_0/BISMARK_COV/16-TMPL4S1_S7524-S7724.CutAdapt_R1_bismark_bt2_pe.bedGraph.gz.bismark.zero.cov for panel Lung_panel_version_1.1...\n"
     ]
    },
    {
     "name": "stderr",
     "output_type": "stream",
     "text": [
      "100%|██████████| 47/47 [00:00<00:00, 10902.73it/s]\n"
     ]
    },
    {
     "name": "stdout",
     "output_type": "stream",
     "text": [
      "Processing /workdir/outdir/pipeline_output/SampleSheet_batch_20250604/UMT_DISTANCE_0/BISMARK_COV/17-TMPL4S2_S7525-S7725.CutAdapt_R1_bismark_bt2_pe.bedGraph.gz.bismark.zero.cov for panel Lung_panel_version_1.1...\n"
     ]
    },
    {
     "name": "stderr",
     "output_type": "stream",
     "text": [
      "100%|██████████| 44/44 [00:00<00:00, 10916.85it/s]\n"
     ]
    },
    {
     "name": "stdout",
     "output_type": "stream",
     "text": [
      "Processing /workdir/outdir/pipeline_output/SampleSheet_batch_20250604/UMT_DISTANCE_0/BISMARK_COV/18-TMPL4S3_S7526-S7726.CutAdapt_R1_bismark_bt2_pe.bedGraph.gz.bismark.zero.cov for panel Lung_panel_version_1.1...\n"
     ]
    },
    {
     "name": "stderr",
     "output_type": "stream",
     "text": [
      "100%|██████████| 61/61 [00:00<00:00, 12025.97it/s]\n"
     ]
    },
    {
     "name": "stdout",
     "output_type": "stream",
     "text": [
      "Processing /workdir/outdir/pipeline_output/SampleSheet_batch_20250604/UMT_DISTANCE_0/BISMARK_COV/19-TMPL4S4_S7527-S7727.CutAdapt_R1_bismark_bt2_pe.bedGraph.gz.bismark.zero.cov for panel Lung_panel_version_1.1...\n"
     ]
    },
    {
     "name": "stderr",
     "output_type": "stream",
     "text": [
      "100%|██████████| 57/57 [00:00<00:00, 11677.59it/s]\n"
     ]
    },
    {
     "name": "stdout",
     "output_type": "stream",
     "text": [
      "Processing /workdir/outdir/pipeline_output/SampleSheet_batch_20250604/UMT_DISTANCE_0/BISMARK_COV/20-TMPL4S5_S7528-S7728.CutAdapt_R1_bismark_bt2_pe.bedGraph.gz.bismark.zero.cov for panel Lung_panel_version_1.1...\n"
     ]
    },
    {
     "name": "stderr",
     "output_type": "stream",
     "text": [
      "100%|██████████| 45/45 [00:00<00:00, 11203.40it/s]\n"
     ]
    },
    {
     "name": "stdout",
     "output_type": "stream",
     "text": [
      "Processing /workdir/outdir/pipeline_output/SampleSheet_batch_20250605/UMT_DISTANCE_0/BISMARK_COV/1-TMH1S1CF_S7501-S7701.CutAdapt_R1_bismark_bt2_pe.bedGraph.gz.bismark.zero.cov for panel CRC_panel_version_1.2...\n"
     ]
    },
    {
     "name": "stderr",
     "output_type": "stream",
     "text": [
      "100%|██████████| 30/30 [00:00<00:00, 10902.79it/s]\n"
     ]
    },
    {
     "name": "stdout",
     "output_type": "stream",
     "text": [
      "Processing /workdir/outdir/pipeline_output/SampleSheet_batch_20250605/UMT_DISTANCE_0/BISMARK_COV/2-TMH1S2CF_S7502-S7702.CutAdapt_R1_bismark_bt2_pe.bedGraph.gz.bismark.zero.cov for panel CRC_panel_version_1.2...\n"
     ]
    },
    {
     "name": "stderr",
     "output_type": "stream",
     "text": [
      "100%|██████████| 35/35 [00:00<00:00, 11019.41it/s]\n"
     ]
    },
    {
     "name": "stdout",
     "output_type": "stream",
     "text": [
      "Processing /workdir/outdir/pipeline_output/SampleSheet_batch_20250605/UMT_DISTANCE_0/BISMARK_COV/3-TMH1S3CF_S7503-S7703.CutAdapt_R1_bismark_bt2_pe.bedGraph.gz.bismark.zero.cov for panel CRC_panel_version_1.2...\n"
     ]
    },
    {
     "name": "stderr",
     "output_type": "stream",
     "text": [
      "100%|██████████| 33/33 [00:00<00:00, 10650.36it/s]\n"
     ]
    },
    {
     "name": "stdout",
     "output_type": "stream",
     "text": [
      "Processing /workdir/outdir/pipeline_output/SampleSheet_batch_20250605/UMT_DISTANCE_0/BISMARK_COV/4-TMH1S4CF_S7504-S7704.CutAdapt_R1_bismark_bt2_pe.bedGraph.gz.bismark.zero.cov for panel CRC_panel_version_1.2...\n"
     ]
    },
    {
     "name": "stderr",
     "output_type": "stream",
     "text": [
      "100%|██████████| 23/23 [00:00<00:00, 9645.93it/s]\n"
     ]
    },
    {
     "name": "stdout",
     "output_type": "stream",
     "text": [
      "Processing /workdir/outdir/pipeline_output/SampleSheet_batch_20250605/UMT_DISTANCE_0/BISMARK_COV/5-TMH1S5CF_S7505-S7705.CutAdapt_R1_bismark_bt2_pe.bedGraph.gz.bismark.zero.cov for panel CRC_panel_version_1.2...\n"
     ]
    },
    {
     "name": "stderr",
     "output_type": "stream",
     "text": [
      "100%|██████████| 38/38 [00:00<00:00, 10830.63it/s]\n"
     ]
    },
    {
     "name": "stdout",
     "output_type": "stream",
     "text": [
      "Processing /workdir/outdir/pipeline_output/SampleSheet_batch_20250605/UMT_DISTANCE_0/BISMARK_COV/6-TMH1S6CF_S7506-S7706.CutAdapt_R1_bismark_bt2_pe.bedGraph.gz.bismark.zero.cov for panel CRC_panel_version_1.2...\n"
     ]
    },
    {
     "name": "stderr",
     "output_type": "stream",
     "text": [
      "100%|██████████| 29/29 [00:00<00:00, 10572.34it/s]\n"
     ]
    },
    {
     "name": "stdout",
     "output_type": "stream",
     "text": [
      "Processing /workdir/outdir/pipeline_output/SampleSheet_batch_20250605/UMT_DISTANCE_0/BISMARK_COV/7-TMH1S7CF_S7507-S7707.CutAdapt_R1_bismark_bt2_pe.bedGraph.gz.bismark.zero.cov for panel CRC_panel_version_1.2...\n"
     ]
    },
    {
     "name": "stderr",
     "output_type": "stream",
     "text": [
      "100%|██████████| 29/29 [00:00<00:00, 10007.80it/s]\n"
     ]
    },
    {
     "name": "stdout",
     "output_type": "stream",
     "text": [
      "Processing /workdir/outdir/pipeline_output/SampleSheet_batch_20250605/UMT_DISTANCE_0/BISMARK_COV/8-TMH2S1CF_S7508-S7708.CutAdapt_R1_bismark_bt2_pe.bedGraph.gz.bismark.zero.cov for panel CRC_panel_version_1.2...\n"
     ]
    },
    {
     "name": "stderr",
     "output_type": "stream",
     "text": [
      "100%|██████████| 37/37 [00:00<00:00, 10064.15it/s]\n"
     ]
    },
    {
     "name": "stdout",
     "output_type": "stream",
     "text": [
      "Processing /workdir/outdir/pipeline_output/SampleSheet_batch_20250605/UMT_DISTANCE_0/BISMARK_COV/9-TMH2S2CF_S7524-S7724.CutAdapt_R1_bismark_bt2_pe.bedGraph.gz.bismark.zero.cov for panel CRC_panel_version_1.2...\n"
     ]
    },
    {
     "name": "stderr",
     "output_type": "stream",
     "text": [
      "100%|██████████| 21/21 [00:00<00:00, 9500.63it/s]\n"
     ]
    },
    {
     "name": "stdout",
     "output_type": "stream",
     "text": [
      "Processing /workdir/outdir/pipeline_output/SampleSheet_batch_20250605/UMT_DISTANCE_0/BISMARK_COV/10-TMH2S3CF_S7525-S7725.CutAdapt_R1_bismark_bt2_pe.bedGraph.gz.bismark.zero.cov for panel CRC_panel_version_1.2...\n"
     ]
    },
    {
     "name": "stderr",
     "output_type": "stream",
     "text": [
      "100%|██████████| 31/31 [00:00<00:00, 10237.26it/s]\n"
     ]
    },
    {
     "name": "stdout",
     "output_type": "stream",
     "text": [
      "Processing /workdir/outdir/pipeline_output/SampleSheet_batch_20250605/UMT_DISTANCE_0/BISMARK_COV/11-TMH2S4CF_S7526-S7726.CutAdapt_R1_bismark_bt2_pe.bedGraph.gz.bismark.zero.cov for panel CRC_panel_version_1.2...\n"
     ]
    },
    {
     "name": "stderr",
     "output_type": "stream",
     "text": [
      "100%|██████████| 33/33 [00:00<00:00, 10137.11it/s]\n"
     ]
    },
    {
     "name": "stdout",
     "output_type": "stream",
     "text": [
      "Processing /workdir/outdir/pipeline_output/SampleSheet_batch_20250605/UMT_DISTANCE_0/BISMARK_COV/12-TMH2S5CF_S7527-S7727.CutAdapt_R1_bismark_bt2_pe.bedGraph.gz.bismark.zero.cov for panel CRC_panel_version_1.2...\n"
     ]
    },
    {
     "name": "stderr",
     "output_type": "stream",
     "text": [
      "100%|██████████| 30/30 [00:00<00:00, 10171.30it/s]\n"
     ]
    },
    {
     "name": "stdout",
     "output_type": "stream",
     "text": [
      "Processing /workdir/outdir/pipeline_output/SampleSheet_batch_20250605/UMT_DISTANCE_0/BISMARK_COV/13-TMH2S6CF_S7528-S7728.CutAdapt_R1_bismark_bt2_pe.bedGraph.gz.bismark.zero.cov for panel CRC_panel_version_1.2...\n"
     ]
    },
    {
     "name": "stderr",
     "output_type": "stream",
     "text": [
      "100%|██████████| 33/33 [00:00<00:00, 10162.41it/s]\n"
     ]
    },
    {
     "name": "stdout",
     "output_type": "stream",
     "text": [
      "Processing /workdir/outdir/pipeline_output/SampleSheet_batch_20250605/UMT_DISTANCE_0/BISMARK_COV/14-TMH2S7CF_S7529-S7729.CutAdapt_R1_bismark_bt2_pe.bedGraph.gz.bismark.zero.cov for panel CRC_panel_version_1.2...\n"
     ]
    },
    {
     "name": "stderr",
     "output_type": "stream",
     "text": [
      "100%|██████████| 23/23 [00:00<00:00, 9327.89it/s]\n"
     ]
    },
    {
     "name": "stdout",
     "output_type": "stream",
     "text": [
      "Processing /workdir/outdir/pipeline_output/SampleSheet_batch_20250605/UMT_DISTANCE_0/BISMARK_COV/15-TMH3S1CF_S7557-S7757.CutAdapt_R1_bismark_bt2_pe.bedGraph.gz.bismark.zero.cov for panel CRC_panel_version_1.2...\n"
     ]
    },
    {
     "name": "stderr",
     "output_type": "stream",
     "text": [
      "100%|██████████| 18/18 [00:00<00:00, 9582.11it/s]\n"
     ]
    },
    {
     "name": "stdout",
     "output_type": "stream",
     "text": [
      "Processing /workdir/outdir/pipeline_output/SampleSheet_batch_20250605/UMT_DISTANCE_0/BISMARK_COV/16-TMH3S2CF_S7564-S7764.CutAdapt_R1_bismark_bt2_pe.bedGraph.gz.bismark.zero.cov for panel CRC_panel_version_1.2...\n"
     ]
    },
    {
     "name": "stderr",
     "output_type": "stream",
     "text": [
      "100%|██████████| 24/24 [00:00<00:00, 8741.93it/s]\n"
     ]
    },
    {
     "name": "stdout",
     "output_type": "stream",
     "text": [
      "Processing /workdir/outdir/pipeline_output/SampleSheet_batch_20250605/UMT_DISTANCE_0/BISMARK_COV/17-TMH3S3CF_S7565-S7765.CutAdapt_R1_bismark_bt2_pe.bedGraph.gz.bismark.zero.cov for panel CRC_panel_version_1.2...\n"
     ]
    },
    {
     "name": "stderr",
     "output_type": "stream",
     "text": [
      "100%|██████████| 32/32 [00:00<00:00, 10209.78it/s]\n"
     ]
    },
    {
     "name": "stdout",
     "output_type": "stream",
     "text": [
      "Processing /workdir/outdir/pipeline_output/SampleSheet_batch_20250605/UMT_DISTANCE_0/BISMARK_COV/18-TMH3S4CF_S7566-S7766.CutAdapt_R1_bismark_bt2_pe.bedGraph.gz.bismark.zero.cov for panel CRC_panel_version_1.2...\n"
     ]
    },
    {
     "name": "stderr",
     "output_type": "stream",
     "text": [
      "100%|██████████| 15/15 [00:00<00:00, 8164.36it/s]\n"
     ]
    },
    {
     "name": "stdout",
     "output_type": "stream",
     "text": [
      "Processing /workdir/outdir/pipeline_output/SampleSheet_batch_20250605/UMT_DISTANCE_0/BISMARK_COV/19-TMH3S5CF_S7567-S7767.CutAdapt_R1_bismark_bt2_pe.bedGraph.gz.bismark.zero.cov for panel CRC_panel_version_1.2...\n"
     ]
    },
    {
     "name": "stderr",
     "output_type": "stream",
     "text": [
      "100%|██████████| 18/18 [00:00<00:00, 8157.48it/s]\n"
     ]
    },
    {
     "name": "stdout",
     "output_type": "stream",
     "text": [
      "Processing /workdir/outdir/pipeline_output/SampleSheet_batch_20250605/UMT_DISTANCE_0/BISMARK_COV/20-TMH3S6CF_S7568-S7768.CutAdapt_R1_bismark_bt2_pe.bedGraph.gz.bismark.zero.cov for panel CRC_panel_version_1.2...\n"
     ]
    },
    {
     "name": "stderr",
     "output_type": "stream",
     "text": [
      "100%|██████████| 19/19 [00:00<00:00, 8322.90it/s]\n"
     ]
    },
    {
     "name": "stdout",
     "output_type": "stream",
     "text": [
      "Processing /workdir/outdir/pipeline_output/SampleSheet_batch_20250605/UMT_DISTANCE_0/BISMARK_COV/21-TMH3S7CF_S7569-S7769.CutAdapt_R1_bismark_bt2_pe.bedGraph.gz.bismark.zero.cov for panel CRC_panel_version_1.2...\n"
     ]
    },
    {
     "name": "stderr",
     "output_type": "stream",
     "text": [
      "100%|██████████| 14/14 [00:00<00:00, 7759.02it/s]\n"
     ]
    },
    {
     "name": "stdout",
     "output_type": "stream",
     "text": [
      "Processing /workdir/outdir/pipeline_output/SampleSheet_batch_20250605/UMT_DISTANCE_0/BISMARK_COV/22-TMH4S1CF_S7570-S7770.CutAdapt_R1_bismark_bt2_pe.bedGraph.gz.bismark.zero.cov for panel CRC_panel_version_1.2...\n"
     ]
    },
    {
     "name": "stderr",
     "output_type": "stream",
     "text": [
      "100%|██████████| 15/15 [00:00<00:00, 8125.35it/s]\n"
     ]
    },
    {
     "name": "stdout",
     "output_type": "stream",
     "text": [
      "Processing /workdir/outdir/pipeline_output/SampleSheet_batch_20250605/UMT_DISTANCE_0/BISMARK_COV/23-TMH4S2CF_S7571-S7771.CutAdapt_R1_bismark_bt2_pe.bedGraph.gz.bismark.zero.cov for panel CRC_panel_version_1.2...\n"
     ]
    },
    {
     "name": "stderr",
     "output_type": "stream",
     "text": [
      "100%|██████████| 14/14 [00:00<00:00, 8883.55it/s]\n"
     ]
    },
    {
     "name": "stdout",
     "output_type": "stream",
     "text": [
      "Input coverage file /workdir/outdir/pipeline_output/SampleSheet_batch_20250605/UMT_DISTANCE_0/BISMARK_COV/24-TMH4S3CF_S7572-S7772.CutAdapt_R1_bismark_bt2_pe.bedGraph.gz.bismark.zero.cov does not exist, skipping...\n",
      "Processing /workdir/outdir/pipeline_output/SampleSheet_batch_20250605/UMT_DISTANCE_0/BISMARK_COV/25-TMH4S4CF_S7573-S7773.CutAdapt_R1_bismark_bt2_pe.bedGraph.gz.bismark.zero.cov for panel CRC_panel_version_1.2...\n"
     ]
    },
    {
     "name": "stderr",
     "output_type": "stream",
     "text": [
      "100%|██████████| 14/14 [00:00<00:00, 7449.92it/s]\n"
     ]
    },
    {
     "name": "stdout",
     "output_type": "stream",
     "text": [
      "Processing /workdir/outdir/pipeline_output/SampleSheet_batch_20250605/UMT_DISTANCE_0/BISMARK_COV/26-TMH4S5CF_S7574-S7774.CutAdapt_R1_bismark_bt2_pe.bedGraph.gz.bismark.zero.cov for panel CRC_panel_version_1.2...\n"
     ]
    },
    {
     "name": "stderr",
     "output_type": "stream",
     "text": [
      "100%|██████████| 16/16 [00:00<00:00, 8256.50it/s]\n"
     ]
    },
    {
     "name": "stdout",
     "output_type": "stream",
     "text": [
      "Processing /workdir/outdir/pipeline_output/SampleSheet_batch_20250605/UMT_DISTANCE_0/BISMARK_COV/27-TMH4S6CF_S7575-S7775.CutAdapt_R1_bismark_bt2_pe.bedGraph.gz.bismark.zero.cov for panel CRC_panel_version_1.2...\n"
     ]
    },
    {
     "name": "stderr",
     "output_type": "stream",
     "text": [
      "100%|██████████| 18/18 [00:00<00:00, 8899.86it/s]\n"
     ]
    },
    {
     "name": "stdout",
     "output_type": "stream",
     "text": [
      "Processing /workdir/outdir/pipeline_output/SampleSheet_batch_20250605/UMT_DISTANCE_0/BISMARK_COV/28-TMH4S7CF_S7576-S7776.CutAdapt_R1_bismark_bt2_pe.bedGraph.gz.bismark.zero.cov for panel CRC_panel_version_1.2...\n"
     ]
    },
    {
     "name": "stderr",
     "output_type": "stream",
     "text": [
      "100%|██████████| 17/17 [00:00<00:00, 7956.17it/s]\n"
     ]
    },
    {
     "name": "stdout",
     "output_type": "stream",
     "text": [
      "Processing /workdir/outdir/pipeline_output/SampleSheet_batch_20250605/UMT_DISTANCE_0/BISMARK_COV/29-TMH5S1CF_S7577-S7777.CutAdapt_R1_bismark_bt2_pe.bedGraph.gz.bismark.zero.cov for panel CRC_panel_version_1.2...\n"
     ]
    },
    {
     "name": "stderr",
     "output_type": "stream",
     "text": [
      "100%|██████████| 26/26 [00:00<00:00, 10125.52it/s]\n"
     ]
    },
    {
     "name": "stdout",
     "output_type": "stream",
     "text": [
      "Processing /workdir/outdir/pipeline_output/SampleSheet_batch_20250605/UMT_DISTANCE_0/BISMARK_COV/30-TMH5S4CF_S7580-S7780.CutAdapt_R1_bismark_bt2_pe.bedGraph.gz.bismark.zero.cov for panel CRC_panel_version_1.2...\n"
     ]
    },
    {
     "name": "stderr",
     "output_type": "stream",
     "text": [
      "100%|██████████| 29/29 [00:00<00:00, 9915.61it/s]\n"
     ]
    },
    {
     "name": "stdout",
     "output_type": "stream",
     "text": [
      "Processing /workdir/outdir/pipeline_output/SampleSheet_batch_20250605/UMT_DISTANCE_0/BISMARK_COV/31-TMH5S5CF_S7581-S7781.CutAdapt_R1_bismark_bt2_pe.bedGraph.gz.bismark.zero.cov for panel CRC_panel_version_1.2...\n"
     ]
    },
    {
     "name": "stderr",
     "output_type": "stream",
     "text": [
      "100%|██████████| 25/25 [00:00<00:00, 9648.29it/s]\n"
     ]
    },
    {
     "name": "stdout",
     "output_type": "stream",
     "text": [
      "Processing /workdir/outdir/pipeline_output/SampleSheet_batch_20250605/UMT_DISTANCE_0/BISMARK_COV/32-TMH5S6CF_S7582-S7782.CutAdapt_R1_bismark_bt2_pe.bedGraph.gz.bismark.zero.cov for panel CRC_panel_version_1.2...\n"
     ]
    },
    {
     "name": "stderr",
     "output_type": "stream",
     "text": [
      "100%|██████████| 30/30 [00:00<00:00, 9565.84it/s]\n"
     ]
    },
    {
     "name": "stdout",
     "output_type": "stream",
     "text": [
      "Processing /workdir/outdir/pipeline_output/SampleSheet_batch_20250605/UMT_DISTANCE_0/BISMARK_COV/33-TMH5S7CF_S7583-S7783.CutAdapt_R1_bismark_bt2_pe.bedGraph.gz.bismark.zero.cov for panel CRC_panel_version_1.2...\n"
     ]
    },
    {
     "name": "stderr",
     "output_type": "stream",
     "text": [
      "100%|██████████| 22/22 [00:00<00:00, 8903.39it/s]\n"
     ]
    },
    {
     "name": "stdout",
     "output_type": "stream",
     "text": [
      "Processing /workdir/outdir/pipeline_output/SampleSheet_batch_20250605/UMT_DISTANCE_0/BISMARK_COV/34-TMS2S1CF_S7584-S7784.CutAdapt_R1_bismark_bt2_pe.bedGraph.gz.bismark.zero.cov for panel CRC_panel_version_1.2...\n"
     ]
    },
    {
     "name": "stderr",
     "output_type": "stream",
     "text": [
      "100%|██████████| 16/16 [00:00<00:00, 7956.94it/s]\n"
     ]
    },
    {
     "name": "stdout",
     "output_type": "stream",
     "text": [
      "Processing /workdir/outdir/pipeline_output/SampleSheet_batch_20250605/UMT_DISTANCE_0/BISMARK_COV/35-TMS2S7CF_S7590-S7790.CutAdapt_R1_bismark_bt2_pe.bedGraph.gz.bismark.zero.cov for panel CRC_panel_version_1.2...\n"
     ]
    },
    {
     "name": "stderr",
     "output_type": "stream",
     "text": [
      "100%|██████████| 19/19 [00:00<00:00, 8416.96it/s]\n"
     ]
    },
    {
     "name": "stdout",
     "output_type": "stream",
     "text": [
      "Processing /workdir/outdir/pipeline_output/SampleSheet_batch_20250605/UMT_DISTANCE_0/BISMARK_COV/36-TMS3S1CF_S7591-S7791.CutAdapt_R1_bismark_bt2_pe.bedGraph.gz.bismark.zero.cov for panel CRC_panel_version_1.2...\n"
     ]
    },
    {
     "name": "stderr",
     "output_type": "stream",
     "text": [
      "100%|██████████| 40/40 [00:00<00:00, 10534.48it/s]\n"
     ]
    },
    {
     "name": "stdout",
     "output_type": "stream",
     "text": [
      "Processing /workdir/outdir/pipeline_output/SampleSheet_batch_20250605/UMT_DISTANCE_0/BISMARK_COV/37-TMS3S2CF_S7592-S7792.CutAdapt_R1_bismark_bt2_pe.bedGraph.gz.bismark.zero.cov for panel CRC_panel_version_1.2...\n"
     ]
    },
    {
     "name": "stderr",
     "output_type": "stream",
     "text": [
      "100%|██████████| 23/23 [00:00<00:00, 9084.56it/s]\n"
     ]
    },
    {
     "name": "stdout",
     "output_type": "stream",
     "text": [
      "Processing /workdir/outdir/pipeline_output/SampleSheet_batch_20250605/UMT_DISTANCE_0/BISMARK_COV/38-TMS3S3CF_S7593-S7793.CutAdapt_R1_bismark_bt2_pe.bedGraph.gz.bismark.zero.cov for panel CRC_panel_version_1.2...\n"
     ]
    },
    {
     "name": "stderr",
     "output_type": "stream",
     "text": [
      "100%|██████████| 17/17 [00:00<00:00, 8306.52it/s]\n"
     ]
    },
    {
     "name": "stdout",
     "output_type": "stream",
     "text": [
      "Processing /workdir/outdir/pipeline_output/SampleSheet_batch_20250605/UMT_DISTANCE_0/BISMARK_COV/39-TMS3S4CF_S7533-S7733.CutAdapt_R1_bismark_bt2_pe.bedGraph.gz.bismark.zero.cov for panel CRC_panel_version_1.2...\n"
     ]
    },
    {
     "name": "stderr",
     "output_type": "stream",
     "text": [
      "100%|██████████| 22/22 [00:00<00:00, 8772.19it/s]\n"
     ]
    },
    {
     "name": "stdout",
     "output_type": "stream",
     "text": [
      "Processing /workdir/outdir/pipeline_output/SampleSheet_batch_20250605/UMT_DISTANCE_0/BISMARK_COV/40-TMS3S5CF_S7534-S7734.CutAdapt_R1_bismark_bt2_pe.bedGraph.gz.bismark.zero.cov for panel CRC_panel_version_1.2...\n"
     ]
    },
    {
     "name": "stderr",
     "output_type": "stream",
     "text": [
      "100%|██████████| 16/16 [00:00<00:00, 8618.06it/s]\n"
     ]
    },
    {
     "name": "stdout",
     "output_type": "stream",
     "text": [
      "Processing /workdir/outdir/pipeline_output/SampleSheet_batch_20250605/UMT_DISTANCE_0/BISMARK_COV/41-TMS3S6CF_S7535-S7735.CutAdapt_R1_bismark_bt2_pe.bedGraph.gz.bismark.zero.cov for panel CRC_panel_version_1.2...\n"
     ]
    },
    {
     "name": "stderr",
     "output_type": "stream",
     "text": [
      "100%|██████████| 16/16 [00:00<00:00, 8531.51it/s]\n"
     ]
    },
    {
     "name": "stdout",
     "output_type": "stream",
     "text": [
      "Processing /workdir/outdir/pipeline_output/SampleSheet_batch_20250605/UMT_DISTANCE_0/BISMARK_COV/42-TMS3S7CF_S7536-S7736.CutAdapt_R1_bismark_bt2_pe.bedGraph.gz.bismark.zero.cov for panel CRC_panel_version_1.2...\n"
     ]
    },
    {
     "name": "stderr",
     "output_type": "stream",
     "text": [
      "100%|██████████| 16/16 [00:00<00:00, 8707.52it/s]\n"
     ]
    },
    {
     "name": "stdout",
     "output_type": "stream",
     "text": [
      "Processing /workdir/outdir/pipeline_output/SampleSheet_batch_20250605/UMT_DISTANCE_0/BISMARK_COV/43-TMS4S1CF_S7537-S7737.CutAdapt_R1_bismark_bt2_pe.bedGraph.gz.bismark.zero.cov for panel CRC_panel_version_1.2...\n"
     ]
    },
    {
     "name": "stderr",
     "output_type": "stream",
     "text": [
      "100%|██████████| 20/20 [00:00<00:00, 8477.62it/s]\n"
     ]
    },
    {
     "name": "stdout",
     "output_type": "stream",
     "text": [
      "Processing /workdir/outdir/pipeline_output/SampleSheet_batch_20250605/UMT_DISTANCE_0/BISMARK_COV/44-TMS4S2CF_S7538-S7738.CutAdapt_R1_bismark_bt2_pe.bedGraph.gz.bismark.zero.cov for panel CRC_panel_version_1.2...\n"
     ]
    },
    {
     "name": "stderr",
     "output_type": "stream",
     "text": [
      "100%|██████████| 18/18 [00:00<00:00, 8649.04it/s]\n"
     ]
    },
    {
     "name": "stdout",
     "output_type": "stream",
     "text": [
      "Processing /workdir/outdir/pipeline_output/SampleSheet_batch_20250605/UMT_DISTANCE_0/BISMARK_COV/45-TMS4S3CF_S7539-S7739.CutAdapt_R1_bismark_bt2_pe.bedGraph.gz.bismark.zero.cov for panel CRC_panel_version_1.2...\n"
     ]
    },
    {
     "name": "stderr",
     "output_type": "stream",
     "text": [
      "100%|██████████| 32/32 [00:00<00:00, 10793.54it/s]\n"
     ]
    },
    {
     "name": "stdout",
     "output_type": "stream",
     "text": [
      "Processing /workdir/outdir/pipeline_output/SampleSheet_batch_20250605/UMT_DISTANCE_0/BISMARK_COV/46-TMS4S4CF_S7540-S7740.CutAdapt_R1_bismark_bt2_pe.bedGraph.gz.bismark.zero.cov for panel CRC_panel_version_1.2...\n"
     ]
    },
    {
     "name": "stderr",
     "output_type": "stream",
     "text": [
      "100%|██████████| 20/20 [00:00<00:00, 8836.62it/s]\n"
     ]
    },
    {
     "name": "stdout",
     "output_type": "stream",
     "text": [
      "Processing /workdir/outdir/pipeline_output/SampleSheet_batch_20250605/UMT_DISTANCE_0/BISMARK_COV/47-TMS4S5CF_S7541-S7741.CutAdapt_R1_bismark_bt2_pe.bedGraph.gz.bismark.zero.cov for panel CRC_panel_version_1.2...\n"
     ]
    },
    {
     "name": "stderr",
     "output_type": "stream",
     "text": [
      "100%|██████████| 19/19 [00:00<00:00, 9908.22it/s]\n"
     ]
    },
    {
     "name": "stdout",
     "output_type": "stream",
     "text": [
      "Processing /workdir/outdir/pipeline_output/SampleSheet_batch_20250605/UMT_DISTANCE_0/BISMARK_COV/48-TMS4S6CF_S7542-S7742.CutAdapt_R1_bismark_bt2_pe.bedGraph.gz.bismark.zero.cov for panel CRC_panel_version_1.2...\n"
     ]
    },
    {
     "name": "stderr",
     "output_type": "stream",
     "text": [
      "100%|██████████| 22/22 [00:00<00:00, 8940.48it/s]\n"
     ]
    },
    {
     "name": "stdout",
     "output_type": "stream",
     "text": [
      "Processing /workdir/outdir/pipeline_output/SampleSheet_batch_20250605/UMT_DISTANCE_0/BISMARK_COV/49-TMS4S7CF_S7543-S7743.CutAdapt_R1_bismark_bt2_pe.bedGraph.gz.bismark.zero.cov for panel CRC_panel_version_1.2...\n"
     ]
    },
    {
     "name": "stderr",
     "output_type": "stream",
     "text": [
      "100%|██████████| 25/25 [00:00<00:00, 9828.25it/s]\n"
     ]
    },
    {
     "name": "stdout",
     "output_type": "stream",
     "text": [
      "Processing /workdir/outdir/pipeline_output/SampleSheet_batch_20250605/UMT_DISTANCE_0/BISMARK_COV/50-TMS5S1CF_S7550-S7750.CutAdapt_R1_bismark_bt2_pe.bedGraph.gz.bismark.zero.cov for panel CRC_panel_version_1.2...\n"
     ]
    },
    {
     "name": "stderr",
     "output_type": "stream",
     "text": [
      "100%|██████████| 13/13 [00:00<00:00, 7120.13it/s]\n"
     ]
    },
    {
     "name": "stdout",
     "output_type": "stream",
     "text": [
      "Processing /workdir/outdir/pipeline_output/SampleSheet_batch_20250605/UMT_DISTANCE_0/BISMARK_COV/51-TMS5S2CF_S7551-S7751.CutAdapt_R1_bismark_bt2_pe.bedGraph.gz.bismark.zero.cov for panel CRC_panel_version_1.2...\n"
     ]
    },
    {
     "name": "stderr",
     "output_type": "stream",
     "text": [
      "100%|██████████| 13/13 [00:00<00:00, 8886.24it/s]\n"
     ]
    },
    {
     "name": "stdout",
     "output_type": "stream",
     "text": [
      "Processing /workdir/outdir/pipeline_output/SampleSheet_batch_20250605/UMT_DISTANCE_0/BISMARK_COV/52-TMS5S3CF_S7552-S7752.CutAdapt_R1_bismark_bt2_pe.bedGraph.gz.bismark.zero.cov for panel CRC_panel_version_1.2...\n"
     ]
    },
    {
     "name": "stderr",
     "output_type": "stream",
     "text": [
      "100%|██████████| 15/15 [00:00<00:00, 8285.86it/s]\n"
     ]
    },
    {
     "name": "stdout",
     "output_type": "stream",
     "text": [
      "Processing /workdir/outdir/pipeline_output/SampleSheet_batch_20250605/UMT_DISTANCE_0/BISMARK_COV/53-TMS5S4CF_S7553-S7753.CutAdapt_R1_bismark_bt2_pe.bedGraph.gz.bismark.zero.cov for panel CRC_panel_version_1.2...\n"
     ]
    },
    {
     "name": "stderr",
     "output_type": "stream",
     "text": [
      "100%|██████████| 12/12 [00:00<00:00, 7688.92it/s]\n"
     ]
    },
    {
     "name": "stdout",
     "output_type": "stream",
     "text": [
      "Processing /workdir/outdir/pipeline_output/SampleSheet_batch_20250605/UMT_DISTANCE_0/BISMARK_COV/54-TMS5S5CF_S7554-S7754.CutAdapt_R1_bismark_bt2_pe.bedGraph.gz.bismark.zero.cov for panel CRC_panel_version_1.2...\n"
     ]
    },
    {
     "name": "stderr",
     "output_type": "stream",
     "text": [
      "100%|██████████| 11/11 [00:00<00:00, 7303.68it/s]\n"
     ]
    },
    {
     "name": "stdout",
     "output_type": "stream",
     "text": [
      "Processing /workdir/outdir/pipeline_output/SampleSheet_batch_20250605/UMT_DISTANCE_0/BISMARK_COV/55-TMS5S6CF_S7555-S7755.CutAdapt_R1_bismark_bt2_pe.bedGraph.gz.bismark.zero.cov for panel CRC_panel_version_1.2...\n"
     ]
    },
    {
     "name": "stderr",
     "output_type": "stream",
     "text": [
      "100%|██████████| 18/18 [00:00<00:00, 8654.00it/s]\n"
     ]
    },
    {
     "name": "stdout",
     "output_type": "stream",
     "text": [
      "Processing /workdir/outdir/pipeline_output/SampleSheet_batch_20250605/UMT_DISTANCE_0/BISMARK_COV/56-TMS5S7CF_S7556-S7756.CutAdapt_R1_bismark_bt2_pe.bedGraph.gz.bismark.zero.cov for panel CRC_panel_version_3.1...\n"
     ]
    },
    {
     "name": "stderr",
     "output_type": "stream",
     "text": [
      "100%|██████████| 13/13 [00:00<00:00, 7470.33it/s]\n"
     ]
    },
    {
     "name": "stdout",
     "output_type": "stream",
     "text": [
      "Processing /workdir/outdir/pipeline_output/SampleSheet_batch_20250605/UMT_DISTANCE_0/BISMARK_COV/1-TMC155_S7525-S7725.CutAdapt_R1_bismark_bt2_pe.bedGraph.gz.bismark.zero.cov for panel CRC_panel_version_3.1...\n"
     ]
    },
    {
     "name": "stderr",
     "output_type": "stream",
     "text": [
      "100%|██████████| 47/47 [00:00<00:00, 9970.28it/s]\n"
     ]
    },
    {
     "name": "stdout",
     "output_type": "stream",
     "text": [
      "Processing /workdir/outdir/pipeline_output/SampleSheet_batch_20250605/UMT_DISTANCE_0/BISMARK_COV/2-TMC255_S7526-S7726.CutAdapt_R1_bismark_bt2_pe.bedGraph.gz.bismark.zero.cov for panel CRC_panel_version_3.1...\n"
     ]
    },
    {
     "name": "stderr",
     "output_type": "stream",
     "text": [
      "100%|██████████| 47/47 [00:00<00:00, 10566.13it/s]\n"
     ]
    },
    {
     "name": "stdout",
     "output_type": "stream",
     "text": [
      "Processing /workdir/outdir/pipeline_output/SampleSheet_batch_20250605/UMT_DISTANCE_0/BISMARK_COV/3-TMC355_S7527-S7727.CutAdapt_R1_bismark_bt2_pe.bedGraph.gz.bismark.zero.cov for panel CRC_panel_version_3.1...\n"
     ]
    },
    {
     "name": "stderr",
     "output_type": "stream",
     "text": [
      "100%|██████████| 81/81 [00:00<00:00, 11625.73it/s]\n"
     ]
    },
    {
     "name": "stdout",
     "output_type": "stream",
     "text": [
      "Processing /workdir/outdir/pipeline_output/SampleSheet_batch_20250605/UMT_DISTANCE_0/BISMARK_COV/4-TMC455_S7528-S7728.CutAdapt_R1_bismark_bt2_pe.bedGraph.gz.bismark.zero.cov for panel CRC_panel_version_3.1...\n"
     ]
    },
    {
     "name": "stderr",
     "output_type": "stream",
     "text": [
      "100%|██████████| 36/36 [00:00<00:00, 9852.85it/s]\n"
     ]
    },
    {
     "name": "stdout",
     "output_type": "stream",
     "text": [
      "Processing /workdir/outdir/pipeline_output/SampleSheet_batch_20250605/UMT_DISTANCE_0/BISMARK_COV/5-TMC555_S7529-S7729.CutAdapt_R1_bismark_bt2_pe.bedGraph.gz.bismark.zero.cov for panel CRC_panel_version_3.1...\n"
     ]
    },
    {
     "name": "stderr",
     "output_type": "stream",
     "text": [
      "100%|██████████| 80/80 [00:00<00:00, 11385.19it/s]\n"
     ]
    },
    {
     "name": "stdout",
     "output_type": "stream",
     "text": [
      "Processing /workdir/outdir/pipeline_output/SampleSheet_batch_20250605/UMT_DISTANCE_0/BISMARK_COV/6-TMC655_S7530-S7730.CutAdapt_R1_bismark_bt2_pe.bedGraph.gz.bismark.zero.cov for panel CRC_panel_version_3.1...\n"
     ]
    },
    {
     "name": "stderr",
     "output_type": "stream",
     "text": [
      "100%|██████████| 68/68 [00:00<00:00, 11517.23it/s]\n"
     ]
    },
    {
     "name": "stdout",
     "output_type": "stream",
     "text": [
      "Processing /workdir/outdir/pipeline_output/SampleSheet_batch_20250605/UMT_DISTANCE_0/BISMARK_COV/1-TMM9P2S1CF_S7537-S7737.CutAdapt_R1_bismark_bt2_pe.bedGraph.gz.bismark.zero.cov for panel CRC_panel_version_1.2...\n"
     ]
    },
    {
     "name": "stderr",
     "output_type": "stream",
     "text": [
      "100%|██████████| 19/19 [00:00<00:00, 8658.39it/s]\n"
     ]
    },
    {
     "name": "stdout",
     "output_type": "stream",
     "text": [
      "Processing /workdir/outdir/pipeline_output/SampleSheet_batch_20250605/UMT_DISTANCE_0/BISMARK_COV/2-TMM9P2S2CF_S7538-S7738.CutAdapt_R1_bismark_bt2_pe.bedGraph.gz.bismark.zero.cov for panel CRC_panel_version_1.2...\n"
     ]
    },
    {
     "name": "stderr",
     "output_type": "stream",
     "text": [
      "100%|██████████| 21/21 [00:00<00:00, 8913.21it/s]\n"
     ]
    },
    {
     "name": "stdout",
     "output_type": "stream",
     "text": [
      "Processing /workdir/outdir/pipeline_output/SampleSheet_batch_20250605/UMT_DISTANCE_0/BISMARK_COV/3-TMM9P2S3CF_S7539-S7739.CutAdapt_R1_bismark_bt2_pe.bedGraph.gz.bismark.zero.cov for panel CRC_panel_version_1.2...\n"
     ]
    },
    {
     "name": "stderr",
     "output_type": "stream",
     "text": [
      "100%|██████████| 17/17 [00:00<00:00, 9429.14it/s]\n"
     ]
    },
    {
     "name": "stdout",
     "output_type": "stream",
     "text": [
      "Processing /workdir/outdir/pipeline_output/SampleSheet_batch_20250605/UMT_DISTANCE_0/BISMARK_COV/4-TMM9P2S4CF_S7540-S7740.CutAdapt_R1_bismark_bt2_pe.bedGraph.gz.bismark.zero.cov for panel CRC_panel_version_1.2...\n"
     ]
    },
    {
     "name": "stderr",
     "output_type": "stream",
     "text": [
      "100%|██████████| 35/35 [00:00<00:00, 10660.13it/s]\n"
     ]
    },
    {
     "name": "stdout",
     "output_type": "stream",
     "text": [
      "Processing /workdir/outdir/pipeline_output/SampleSheet_batch_20250605/UMT_DISTANCE_0/BISMARK_COV/5-TMM9P2S5CF_S7541-S7741.CutAdapt_R1_bismark_bt2_pe.bedGraph.gz.bismark.zero.cov for panel CRC_panel_version_1.2...\n"
     ]
    },
    {
     "name": "stderr",
     "output_type": "stream",
     "text": [
      "100%|██████████| 16/16 [00:00<00:00, 8922.86it/s]\n"
     ]
    },
    {
     "name": "stdout",
     "output_type": "stream",
     "text": [
      "Processing /workdir/outdir/pipeline_output/SampleSheet_batch_20250605/UMT_DISTANCE_0/BISMARK_COV/6-TMM9P2S6CF_S7542-S7742.CutAdapt_R1_bismark_bt2_pe.bedGraph.gz.bismark.zero.cov for panel CRC_panel_version_1.2...\n"
     ]
    },
    {
     "name": "stderr",
     "output_type": "stream",
     "text": [
      "100%|██████████| 22/22 [00:00<00:00, 9007.68it/s]\n"
     ]
    },
    {
     "name": "stdout",
     "output_type": "stream",
     "text": [
      "Processing /workdir/outdir/pipeline_output/SampleSheet_batch_20250605/UMT_DISTANCE_0/BISMARK_COV/7-TMM9P2S7CF_S7543-S7743.CutAdapt_R1_bismark_bt2_pe.bedGraph.gz.bismark.zero.cov for panel CRC_panel_version_1.2...\n"
     ]
    },
    {
     "name": "stderr",
     "output_type": "stream",
     "text": [
      "100%|██████████| 18/18 [00:00<00:00, 7778.43it/s]\n"
     ]
    },
    {
     "name": "stdout",
     "output_type": "stream",
     "text": [
      "Processing /workdir/outdir/pipeline_output/SampleSheet_batch_20250605/UMT_DISTANCE_0/BISMARK_COV/8-TMPC1_S7501-S7701.CutAdapt_R1_bismark_bt2_pe.bedGraph.gz.bismark.zero.cov for panel CRC_panel_version_3.1...\n"
     ]
    },
    {
     "name": "stderr",
     "output_type": "stream",
     "text": [
      "100%|██████████| 49/49 [00:00<00:00, 11189.68it/s]\n"
     ]
    },
    {
     "name": "stdout",
     "output_type": "stream",
     "text": [
      "Processing /workdir/outdir/pipeline_output/SampleSheet_batch_20250605/UMT_DISTANCE_0/BISMARK_COV/9-TMPC2_S7502-S7702.CutAdapt_R1_bismark_bt2_pe.bedGraph.gz.bismark.zero.cov for panel CRC_panel_version_3.1...\n"
     ]
    },
    {
     "name": "stderr",
     "output_type": "stream",
     "text": [
      "100%|██████████| 40/40 [00:00<00:00, 10904.21it/s]\n"
     ]
    },
    {
     "name": "stdout",
     "output_type": "stream",
     "text": [
      "Processing /workdir/outdir/pipeline_output/SampleSheet_batch_20250605/UMT_DISTANCE_0/BISMARK_COV/10-TMPL5S1_S7503-S7703.CutAdapt_R1_bismark_bt2_pe.bedGraph.gz.bismark.zero.cov for panel Lung_panel_version_1.1...\n"
     ]
    },
    {
     "name": "stderr",
     "output_type": "stream",
     "text": [
      "100%|██████████| 74/74 [00:00<00:00, 11252.12it/s]\n"
     ]
    },
    {
     "name": "stdout",
     "output_type": "stream",
     "text": [
      "Processing /workdir/outdir/pipeline_output/SampleSheet_batch_20250605/UMT_DISTANCE_0/BISMARK_COV/11-TMPL5S2_S7504-S7704.CutAdapt_R1_bismark_bt2_pe.bedGraph.gz.bismark.zero.cov for panel Lung_panel_version_1.1...\n"
     ]
    },
    {
     "name": "stderr",
     "output_type": "stream",
     "text": [
      "100%|██████████| 71/71 [00:00<00:00, 11678.26it/s]\n"
     ]
    },
    {
     "name": "stdout",
     "output_type": "stream",
     "text": [
      "Processing /workdir/outdir/pipeline_output/SampleSheet_batch_20250605/UMT_DISTANCE_0/BISMARK_COV/12-TMPL5S3_S7505-S7705.CutAdapt_R1_bismark_bt2_pe.bedGraph.gz.bismark.zero.cov for panel Lung_panel_version_1.1...\n"
     ]
    },
    {
     "name": "stderr",
     "output_type": "stream",
     "text": [
      "100%|██████████| 80/80 [00:00<00:00, 12401.39it/s]\n"
     ]
    },
    {
     "name": "stdout",
     "output_type": "stream",
     "text": [
      "Processing /workdir/outdir/pipeline_output/SampleSheet_batch_20250605/UMT_DISTANCE_0/BISMARK_COV/13-TMPL5S4_S7506-S7706.CutAdapt_R1_bismark_bt2_pe.bedGraph.gz.bismark.zero.cov for panel Lung_panel_version_1.1...\n"
     ]
    },
    {
     "name": "stderr",
     "output_type": "stream",
     "text": [
      "100%|██████████| 61/61 [00:00<00:00, 10537.15it/s]\n"
     ]
    },
    {
     "name": "stdout",
     "output_type": "stream",
     "text": [
      "Processing /workdir/outdir/pipeline_output/SampleSheet_batch_20250605/UMT_DISTANCE_0/BISMARK_COV/14-TMPL5S5_S7507-S7707.CutAdapt_R1_bismark_bt2_pe.bedGraph.gz.bismark.zero.cov for panel Lung_panel_version_1.1...\n"
     ]
    },
    {
     "name": "stderr",
     "output_type": "stream",
     "text": [
      "100%|██████████| 71/71 [00:00<00:00, 11458.08it/s]\n"
     ]
    },
    {
     "name": "stdout",
     "output_type": "stream",
     "text": [
      "Processing /workdir/outdir/pipeline_output/SampleSheet_batch_20250605/UMT_DISTANCE_0/BISMARK_COV/15-TMPL6S1_S7508-S7708.CutAdapt_R1_bismark_bt2_pe.bedGraph.gz.bismark.zero.cov for panel Lung_panel_version_1.1...\n"
     ]
    },
    {
     "name": "stderr",
     "output_type": "stream",
     "text": [
      "100%|██████████| 90/90 [00:00<00:00, 11651.92it/s]\n"
     ]
    },
    {
     "name": "stdout",
     "output_type": "stream",
     "text": [
      "Processing /workdir/outdir/pipeline_output/SampleSheet_batch_20250605/UMT_DISTANCE_0/BISMARK_COV/16-TMPL6S2_S7545-S7745.CutAdapt_R1_bismark_bt2_pe.bedGraph.gz.bismark.zero.cov for panel Lung_panel_version_1.1...\n"
     ]
    },
    {
     "name": "stderr",
     "output_type": "stream",
     "text": [
      "100%|██████████| 36/36 [00:00<00:00, 10668.01it/s]"
     ]
    },
    {
     "name": "stdout",
     "output_type": "stream",
     "text": [
      "Processing /workdir/outdir/pipeline_output/SampleSheet_batch_20250605/UMT_DISTANCE_0/BISMARK_COV/17-TMPL6S3_S7546-S7746.CutAdapt_R1_bismark_bt2_pe.bedGraph.gz.bismark.zero.cov for panel Lung_panel_version_1.1...\n"
     ]
    },
    {
     "name": "stderr",
     "output_type": "stream",
     "text": [
      "\n",
      "100%|██████████| 27/27 [00:00<00:00, 10262.46it/s]\n"
     ]
    },
    {
     "name": "stdout",
     "output_type": "stream",
     "text": [
      "Processing /workdir/outdir/pipeline_output/SampleSheet_batch_20250605/UMT_DISTANCE_0/BISMARK_COV/18-TMPL6S4_S7547-S7747.CutAdapt_R1_bismark_bt2_pe.bedGraph.gz.bismark.zero.cov for panel Lung_panel_version_1.1...\n"
     ]
    },
    {
     "name": "stderr",
     "output_type": "stream",
     "text": [
      "100%|██████████| 8/8 [00:00<00:00, 6488.96it/s]\n"
     ]
    },
    {
     "name": "stdout",
     "output_type": "stream",
     "text": [
      "Processing /workdir/outdir/pipeline_output/SampleSheet_batch_20250605/UMT_DISTANCE_0/BISMARK_COV/19-TMPL6S5_S7548-S7748.CutAdapt_R1_bismark_bt2_pe.bedGraph.gz.bismark.zero.cov for panel Lung_panel_version_1.1...\n"
     ]
    },
    {
     "name": "stderr",
     "output_type": "stream",
     "text": [
      "100%|██████████| 55/55 [00:00<00:00, 10990.84it/s]\n"
     ]
    },
    {
     "name": "stdout",
     "output_type": "stream",
     "text": [
      "Processing /workdir/outdir/pipeline_output/SampleSheet_batch_20250607/UMT_DISTANCE_0/BISMARK_COV/17-TML1S1_S7537-S7737.CutAdapt_R1_bismark_bt2_pe.bedGraph.gz.bismark.zero.cov for panel Lung_panel_version_1.1...\n"
     ]
    },
    {
     "name": "stderr",
     "output_type": "stream",
     "text": [
      "100%|██████████| 18/18 [00:00<00:00, 8890.42it/s]\n"
     ]
    },
    {
     "name": "stdout",
     "output_type": "stream",
     "text": [
      "Processing /workdir/outdir/pipeline_output/SampleSheet_batch_20250607/UMT_DISTANCE_0/BISMARK_COV/18-TML2S1_S7538-S7738.CutAdapt_R1_bismark_bt2_pe.bedGraph.gz.bismark.zero.cov for panel Lung_panel_version_1.1...\n"
     ]
    },
    {
     "name": "stderr",
     "output_type": "stream",
     "text": [
      "100%|██████████| 22/22 [00:00<00:00, 9644.09it/s]\n"
     ]
    },
    {
     "name": "stdout",
     "output_type": "stream",
     "text": [
      "Processing /workdir/outdir/pipeline_output/SampleSheet_batch_20250607/UMT_DISTANCE_0/BISMARK_COV/19-TML3S1_S7539-S7739.CutAdapt_R1_bismark_bt2_pe.bedGraph.gz.bismark.zero.cov for panel Lung_panel_version_1.1...\n"
     ]
    },
    {
     "name": "stderr",
     "output_type": "stream",
     "text": [
      "100%|██████████| 18/18 [00:00<00:00, 8831.15it/s]\n"
     ]
    },
    {
     "name": "stdout",
     "output_type": "stream",
     "text": [
      "Processing /workdir/outdir/pipeline_output/SampleSheet_batch_20250607/UMT_DISTANCE_0/BISMARK_COV/20-TML5S1_S7540-S7740.CutAdapt_R1_bismark_bt2_pe.bedGraph.gz.bismark.zero.cov for panel Lung_panel_version_1.1...\n"
     ]
    },
    {
     "name": "stderr",
     "output_type": "stream",
     "text": [
      "100%|██████████| 18/18 [00:00<00:00, 8843.56it/s]\n"
     ]
    },
    {
     "name": "stdout",
     "output_type": "stream",
     "text": [
      "Processing /workdir/outdir/pipeline_output/SampleSheet_batch_20250607/UMT_DISTANCE_0/BISMARK_COV/21-TML6S1_S7541-S7741.CutAdapt_R1_bismark_bt2_pe.bedGraph.gz.bismark.zero.cov for panel Lung_panel_version_1.1...\n"
     ]
    },
    {
     "name": "stderr",
     "output_type": "stream",
     "text": [
      "100%|██████████| 1/1 [00:00<00:00, 1460.41it/s]\n"
     ]
    },
    {
     "name": "stdout",
     "output_type": "stream",
     "text": [
      "Processing /workdir/outdir/pipeline_output/SampleSheet_batch_20250607/UMT_DISTANCE_0/BISMARK_COV/22-TML8S1_S7542-S7742.CutAdapt_R1_bismark_bt2_pe.bedGraph.gz.bismark.zero.cov for panel Lung_panel_version_1.1...\n"
     ]
    },
    {
     "name": "stderr",
     "output_type": "stream",
     "text": [
      "100%|██████████| 132/132 [00:00<00:00, 11885.45it/s]\n"
     ]
    },
    {
     "name": "stdout",
     "output_type": "stream",
     "text": [
      "Processing /workdir/outdir/pipeline_output/SampleSheet_batch_20250607/UMT_DISTANCE_0/BISMARK_COV/23-TML9S1_S7543-S7743.CutAdapt_R1_bismark_bt2_pe.bedGraph.gz.bismark.zero.cov for panel Lung_panel_version_1.1...\n"
     ]
    },
    {
     "name": "stderr",
     "output_type": "stream",
     "text": [
      "100%|██████████| 28/28 [00:00<00:00, 10208.67it/s]\n"
     ]
    },
    {
     "name": "stdout",
     "output_type": "stream",
     "text": [
      "Processing /workdir/outdir/pipeline_output/SampleSheet_batch_20250607/UMT_DISTANCE_0/BISMARK_COV/24-TML12S1_S7544-S7744.CutAdapt_R1_bismark_bt2_pe.bedGraph.gz.bismark.zero.cov for panel Lung_panel_version_1.1...\n"
     ]
    },
    {
     "name": "stderr",
     "output_type": "stream",
     "text": [
      "100%|██████████| 8/8 [00:00<00:00, 6442.86it/s]\n"
     ]
    },
    {
     "name": "stdout",
     "output_type": "stream",
     "text": [
      "Processing /workdir/outdir/pipeline_output/SampleSheet_batch_20250607/UMT_DISTANCE_0/BISMARK_COV/25-TML1S2_S7545-S7745.CutAdapt_R1_bismark_bt2_pe.bedGraph.gz.bismark.zero.cov for panel Lung_panel_version_1.1...\n"
     ]
    },
    {
     "name": "stderr",
     "output_type": "stream",
     "text": [
      "100%|██████████| 35/35 [00:00<00:00, 10399.59it/s]\n"
     ]
    },
    {
     "name": "stdout",
     "output_type": "stream",
     "text": [
      "Processing /workdir/outdir/pipeline_output/SampleSheet_batch_20250607/UMT_DISTANCE_0/BISMARK_COV/26-TML2S2_S7546-S7746.CutAdapt_R1_bismark_bt2_pe.bedGraph.gz.bismark.zero.cov for panel Lung_panel_version_1.1...\n"
     ]
    },
    {
     "name": "stderr",
     "output_type": "stream",
     "text": [
      "100%|██████████| 15/15 [00:00<00:00, 8415.54it/s]\n"
     ]
    },
    {
     "name": "stdout",
     "output_type": "stream",
     "text": [
      "Processing /workdir/outdir/pipeline_output/SampleSheet_batch_20250607/UMT_DISTANCE_0/BISMARK_COV/27-TML3S2_S7547-S7747.CutAdapt_R1_bismark_bt2_pe.bedGraph.gz.bismark.zero.cov for panel Lung_panel_version_1.1...\n"
     ]
    },
    {
     "name": "stderr",
     "output_type": "stream",
     "text": [
      "100%|██████████| 17/17 [00:00<00:00, 8660.65it/s]\n"
     ]
    },
    {
     "name": "stdout",
     "output_type": "stream",
     "text": [
      "Processing /workdir/outdir/pipeline_output/SampleSheet_batch_20250607/UMT_DISTANCE_0/BISMARK_COV/28-TML5S2_S7548-S7748.CutAdapt_R1_bismark_bt2_pe.bedGraph.gz.bismark.zero.cov for panel Lung_panel_version_1.1...\n"
     ]
    },
    {
     "name": "stderr",
     "output_type": "stream",
     "text": [
      "100%|██████████| 12/12 [00:00<00:00, 7302.91it/s]\n"
     ]
    },
    {
     "name": "stdout",
     "output_type": "stream",
     "text": [
      "Input coverage file /workdir/outdir/pipeline_output/SampleSheet_batch_20250607/UMT_DISTANCE_0/BISMARK_COV/29-TML6S2_S7549-S7749.CutAdapt_R1_bismark_bt2_pe.bedGraph.gz.bismark.zero.cov does not exist, skipping...\n",
      "Processing /workdir/outdir/pipeline_output/SampleSheet_batch_20250607/UMT_DISTANCE_0/BISMARK_COV/30-TML8S2_S7550-S7750.CutAdapt_R1_bismark_bt2_pe.bedGraph.gz.bismark.zero.cov for panel Lung_panel_version_1.1...\n"
     ]
    },
    {
     "name": "stderr",
     "output_type": "stream",
     "text": [
      "100%|██████████| 36/36 [00:00<00:00, 10485.03it/s]\n"
     ]
    },
    {
     "name": "stdout",
     "output_type": "stream",
     "text": [
      "Processing /workdir/outdir/pipeline_output/SampleSheet_batch_20250607/UMT_DISTANCE_0/BISMARK_COV/31-TML9S2_S7551-S7751.CutAdapt_R1_bismark_bt2_pe.bedGraph.gz.bismark.zero.cov for panel Lung_panel_version_1.1...\n"
     ]
    },
    {
     "name": "stderr",
     "output_type": "stream",
     "text": [
      "100%|██████████| 27/27 [00:00<00:00, 9920.82it/s]\n"
     ]
    },
    {
     "name": "stdout",
     "output_type": "stream",
     "text": [
      "Processing /workdir/outdir/pipeline_output/SampleSheet_batch_20250607/UMT_DISTANCE_0/BISMARK_COV/32-TML12S2_S7552-S7752.CutAdapt_R1_bismark_bt2_pe.bedGraph.gz.bismark.zero.cov for panel Lung_panel_version_1.1...\n"
     ]
    },
    {
     "name": "stderr",
     "output_type": "stream",
     "text": [
      "100%|██████████| 14/14 [00:00<00:00, 8053.80it/s]\n"
     ]
    },
    {
     "name": "stdout",
     "output_type": "stream",
     "text": [
      "Processing /workdir/outdir/pipeline_output/SampleSheet_batch_20250607/UMT_DISTANCE_0/BISMARK_COV/33-TML1S3_S7553-S7753.CutAdapt_R1_bismark_bt2_pe.bedGraph.gz.bismark.zero.cov for panel Lung_panel_version_1.1...\n"
     ]
    },
    {
     "name": "stderr",
     "output_type": "stream",
     "text": [
      "100%|██████████| 49/49 [00:00<00:00, 10927.31it/s]\n"
     ]
    },
    {
     "name": "stdout",
     "output_type": "stream",
     "text": [
      "Processing /workdir/outdir/pipeline_output/SampleSheet_batch_20250607/UMT_DISTANCE_0/BISMARK_COV/34-TML2S3_S7554-S7754.CutAdapt_R1_bismark_bt2_pe.bedGraph.gz.bismark.zero.cov for panel Lung_panel_version_1.1...\n"
     ]
    },
    {
     "name": "stderr",
     "output_type": "stream",
     "text": [
      "100%|██████████| 21/21 [00:00<00:00, 9316.73it/s]\n"
     ]
    },
    {
     "name": "stdout",
     "output_type": "stream",
     "text": [
      "Processing /workdir/outdir/pipeline_output/SampleSheet_batch_20250607/UMT_DISTANCE_0/BISMARK_COV/35-TML3S3_S7555-S7755.CutAdapt_R1_bismark_bt2_pe.bedGraph.gz.bismark.zero.cov for panel Lung_panel_version_1.1...\n"
     ]
    },
    {
     "name": "stderr",
     "output_type": "stream",
     "text": [
      "100%|██████████| 41/41 [00:00<00:00, 10780.92it/s]\n"
     ]
    },
    {
     "name": "stdout",
     "output_type": "stream",
     "text": [
      "Processing /workdir/outdir/pipeline_output/SampleSheet_batch_20250607/UMT_DISTANCE_0/BISMARK_COV/36-TML5S3_S7556-S7756.CutAdapt_R1_bismark_bt2_pe.bedGraph.gz.bismark.zero.cov for panel Lung_panel_version_1.1...\n"
     ]
    },
    {
     "name": "stderr",
     "output_type": "stream",
     "text": [
      "100%|██████████| 22/22 [00:00<00:00, 9487.42it/s]\n"
     ]
    },
    {
     "name": "stdout",
     "output_type": "stream",
     "text": [
      "Processing /workdir/outdir/pipeline_output/SampleSheet_batch_20250607/UMT_DISTANCE_0/BISMARK_COV/37-TML6S3_S7557-S7757.CutAdapt_R1_bismark_bt2_pe.bedGraph.gz.bismark.zero.cov for panel Lung_panel_version_1.1...\n"
     ]
    },
    {
     "name": "stderr",
     "output_type": "stream",
     "text": [
      "100%|██████████| 18/18 [00:00<00:00, 8792.07it/s]\n"
     ]
    },
    {
     "name": "stdout",
     "output_type": "stream",
     "text": [
      "Processing /workdir/outdir/pipeline_output/SampleSheet_batch_20250607/UMT_DISTANCE_0/BISMARK_COV/38-TML8S3_S7558-S7758.CutAdapt_R1_bismark_bt2_pe.bedGraph.gz.bismark.zero.cov for panel Lung_panel_version_1.1...\n"
     ]
    },
    {
     "name": "stderr",
     "output_type": "stream",
     "text": [
      "100%|██████████| 46/46 [00:00<00:00, 10974.23it/s]\n"
     ]
    },
    {
     "name": "stdout",
     "output_type": "stream",
     "text": [
      "Processing /workdir/outdir/pipeline_output/SampleSheet_batch_20250607/UMT_DISTANCE_0/BISMARK_COV/39-TML9S3_S7559-S7759.CutAdapt_R1_bismark_bt2_pe.bedGraph.gz.bismark.zero.cov for panel Lung_panel_version_1.1...\n"
     ]
    },
    {
     "name": "stderr",
     "output_type": "stream",
     "text": [
      "100%|██████████| 41/41 [00:00<00:00, 10890.85it/s]\n"
     ]
    },
    {
     "name": "stdout",
     "output_type": "stream",
     "text": [
      "Processing /workdir/outdir/pipeline_output/SampleSheet_batch_20250607/UMT_DISTANCE_0/BISMARK_COV/40-TML12S3_S7560-S7760.CutAdapt_R1_bismark_bt2_pe.bedGraph.gz.bismark.zero.cov for panel Lung_panel_version_1.1...\n"
     ]
    },
    {
     "name": "stderr",
     "output_type": "stream",
     "text": [
      "100%|██████████| 26/26 [00:00<00:00, 9680.60it/s]\n"
     ]
    },
    {
     "name": "stdout",
     "output_type": "stream",
     "text": [
      "Processing /workdir/outdir/pipeline_output/SampleSheet_batch_20250607/UMT_DISTANCE_0/BISMARK_COV/41-TML1S4_S7561-S7761.CutAdapt_R1_bismark_bt2_pe.bedGraph.gz.bismark.zero.cov for panel Lung_panel_version_1.1...\n"
     ]
    },
    {
     "name": "stderr",
     "output_type": "stream",
     "text": [
      "100%|██████████| 21/21 [00:00<00:00, 10000.04it/s]\n"
     ]
    },
    {
     "name": "stdout",
     "output_type": "stream",
     "text": [
      "Processing /workdir/outdir/pipeline_output/SampleSheet_batch_20250607/UMT_DISTANCE_0/BISMARK_COV/42-TML2S4_S7562-S7762.CutAdapt_R1_bismark_bt2_pe.bedGraph.gz.bismark.zero.cov for panel Lung_panel_version_1.1...\n"
     ]
    },
    {
     "name": "stderr",
     "output_type": "stream",
     "text": [
      "100%|██████████| 35/35 [00:00<00:00, 10806.88it/s]\n"
     ]
    },
    {
     "name": "stdout",
     "output_type": "stream",
     "text": [
      "Processing /workdir/outdir/pipeline_output/SampleSheet_batch_20250607/UMT_DISTANCE_0/BISMARK_COV/43-TML3S4_S7563-S7763.CutAdapt_R1_bismark_bt2_pe.bedGraph.gz.bismark.zero.cov for panel Lung_panel_version_1.1...\n"
     ]
    },
    {
     "name": "stderr",
     "output_type": "stream",
     "text": [
      "100%|██████████| 21/21 [00:00<00:00, 8403.01it/s]\n"
     ]
    },
    {
     "name": "stdout",
     "output_type": "stream",
     "text": [
      "Processing /workdir/outdir/pipeline_output/SampleSheet_batch_20250607/UMT_DISTANCE_0/BISMARK_COV/44-TML5S4_S7564-S7764.CutAdapt_R1_bismark_bt2_pe.bedGraph.gz.bismark.zero.cov for panel Lung_panel_version_1.1...\n"
     ]
    },
    {
     "name": "stderr",
     "output_type": "stream",
     "text": [
      "100%|██████████| 42/42 [00:00<00:00, 11148.00it/s]\n"
     ]
    },
    {
     "name": "stdout",
     "output_type": "stream",
     "text": [
      "Processing /workdir/outdir/pipeline_output/SampleSheet_batch_20250607/UMT_DISTANCE_0/BISMARK_COV/45-TML6S4_S7565-S7765.CutAdapt_R1_bismark_bt2_pe.bedGraph.gz.bismark.zero.cov for panel Lung_panel_version_1.1...\n"
     ]
    },
    {
     "name": "stderr",
     "output_type": "stream",
     "text": [
      "100%|██████████| 11/11 [00:00<00:00, 7607.15it/s]\n"
     ]
    },
    {
     "name": "stdout",
     "output_type": "stream",
     "text": [
      "Processing /workdir/outdir/pipeline_output/SampleSheet_batch_20250607/UMT_DISTANCE_0/BISMARK_COV/46-TML8S4_S7566-S7766.CutAdapt_R1_bismark_bt2_pe.bedGraph.gz.bismark.zero.cov for panel Lung_panel_version_1.1...\n"
     ]
    },
    {
     "name": "stderr",
     "output_type": "stream",
     "text": [
      "100%|██████████| 40/40 [00:00<00:00, 10845.00it/s]\n"
     ]
    },
    {
     "name": "stdout",
     "output_type": "stream",
     "text": [
      "Processing /workdir/outdir/pipeline_output/SampleSheet_batch_20250607/UMT_DISTANCE_0/BISMARK_COV/47-TML9S4_S7567-S7767.CutAdapt_R1_bismark_bt2_pe.bedGraph.gz.bismark.zero.cov for panel Lung_panel_version_1.1...\n"
     ]
    },
    {
     "name": "stderr",
     "output_type": "stream",
     "text": [
      "100%|██████████| 51/51 [00:00<00:00, 11435.34it/s]\n"
     ]
    },
    {
     "name": "stdout",
     "output_type": "stream",
     "text": [
      "Processing /workdir/outdir/pipeline_output/SampleSheet_batch_20250607/UMT_DISTANCE_0/BISMARK_COV/48-TML12S4_S7568-S7768.CutAdapt_R1_bismark_bt2_pe.bedGraph.gz.bismark.zero.cov for panel Lung_panel_version_1.1...\n"
     ]
    },
    {
     "name": "stderr",
     "output_type": "stream",
     "text": [
      "100%|██████████| 17/17 [00:00<00:00, 8464.29it/s]\n"
     ]
    },
    {
     "name": "stdout",
     "output_type": "stream",
     "text": [
      "Processing /workdir/outdir/pipeline_output/SampleSheet_batch_20250607/UMT_DISTANCE_0/BISMARK_COV/49-TML1S5_S7569-S7769.CutAdapt_R1_bismark_bt2_pe.bedGraph.gz.bismark.zero.cov for panel Lung_panel_version_1.1...\n"
     ]
    },
    {
     "name": "stderr",
     "output_type": "stream",
     "text": [
      "100%|██████████| 23/23 [00:00<00:00, 9445.71it/s]\n"
     ]
    },
    {
     "name": "stdout",
     "output_type": "stream",
     "text": [
      "Processing /workdir/outdir/pipeline_output/SampleSheet_batch_20250607/UMT_DISTANCE_0/BISMARK_COV/50-TML2S5_S7570-S7770.CutAdapt_R1_bismark_bt2_pe.bedGraph.gz.bismark.zero.cov for panel Lung_panel_version_1.1...\n"
     ]
    },
    {
     "name": "stderr",
     "output_type": "stream",
     "text": [
      "100%|██████████| 37/37 [00:00<00:00, 10557.09it/s]\n"
     ]
    },
    {
     "name": "stdout",
     "output_type": "stream",
     "text": [
      "Processing /workdir/outdir/pipeline_output/SampleSheet_batch_20250607/UMT_DISTANCE_0/BISMARK_COV/51-TML3S5_S7571-S7771.CutAdapt_R1_bismark_bt2_pe.bedGraph.gz.bismark.zero.cov for panel Lung_panel_version_1.1...\n"
     ]
    },
    {
     "name": "stderr",
     "output_type": "stream",
     "text": [
      "100%|██████████| 25/25 [00:00<00:00, 9930.64it/s]\n"
     ]
    },
    {
     "name": "stdout",
     "output_type": "stream",
     "text": [
      "Processing /workdir/outdir/pipeline_output/SampleSheet_batch_20250607/UMT_DISTANCE_0/BISMARK_COV/52-TML5S5_S7572-S7772.CutAdapt_R1_bismark_bt2_pe.bedGraph.gz.bismark.zero.cov for panel Lung_panel_version_1.1...\n"
     ]
    },
    {
     "name": "stderr",
     "output_type": "stream",
     "text": [
      "100%|██████████| 29/29 [00:00<00:00, 10966.98it/s]\n"
     ]
    },
    {
     "name": "stdout",
     "output_type": "stream",
     "text": [
      "Processing /workdir/outdir/pipeline_output/SampleSheet_batch_20250607/UMT_DISTANCE_0/BISMARK_COV/53-TML6S5_S7573-S7773.CutAdapt_R1_bismark_bt2_pe.bedGraph.gz.bismark.zero.cov for panel Lung_panel_version_1.1...\n"
     ]
    },
    {
     "name": "stderr",
     "output_type": "stream",
     "text": [
      "100%|██████████| 17/17 [00:00<00:00, 8565.97it/s]\n"
     ]
    },
    {
     "name": "stdout",
     "output_type": "stream",
     "text": [
      "Processing /workdir/outdir/pipeline_output/SampleSheet_batch_20250607/UMT_DISTANCE_0/BISMARK_COV/54-TML8S5_S7574-S7774.CutAdapt_R1_bismark_bt2_pe.bedGraph.gz.bismark.zero.cov for panel Lung_panel_version_1.1...\n"
     ]
    },
    {
     "name": "stderr",
     "output_type": "stream",
     "text": [
      "100%|██████████| 39/39 [00:00<00:00, 10465.63it/s]\n"
     ]
    },
    {
     "name": "stdout",
     "output_type": "stream",
     "text": [
      "Processing /workdir/outdir/pipeline_output/SampleSheet_batch_20250607/UMT_DISTANCE_0/BISMARK_COV/55-TML9S5_S7575-S7775.CutAdapt_R1_bismark_bt2_pe.bedGraph.gz.bismark.zero.cov for panel Lung_panel_version_1.1...\n"
     ]
    },
    {
     "name": "stderr",
     "output_type": "stream",
     "text": [
      "100%|██████████| 35/35 [00:00<00:00, 10556.64it/s]\n"
     ]
    },
    {
     "name": "stdout",
     "output_type": "stream",
     "text": [
      "Processing /workdir/outdir/pipeline_output/SampleSheet_batch_20250607/UMT_DISTANCE_0/BISMARK_COV/56-TML12S5_S7576-S7776.CutAdapt_R1_bismark_bt2_pe.bedGraph.gz.bismark.zero.cov for panel Lung_panel_version_1.1...\n"
     ]
    },
    {
     "name": "stderr",
     "output_type": "stream",
     "text": [
      "100%|██████████| 29/29 [00:00<00:00, 10479.44it/s]\n"
     ]
    },
    {
     "name": "stdout",
     "output_type": "stream",
     "text": [
      "Processing /workdir/outdir/pipeline_output/SampleSheet_batch_20250607/UMT_DISTANCE_0/BISMARK_COV/57-TML1S6_S7577-S7777.CutAdapt_R1_bismark_bt2_pe.bedGraph.gz.bismark.zero.cov for panel Lung_panel_version_1.1...\n"
     ]
    },
    {
     "name": "stderr",
     "output_type": "stream",
     "text": [
      "100%|██████████| 60/60 [00:00<00:00, 11824.38it/s]\n"
     ]
    },
    {
     "name": "stdout",
     "output_type": "stream",
     "text": [
      "Processing /workdir/outdir/pipeline_output/SampleSheet_batch_20250607/UMT_DISTANCE_0/BISMARK_COV/58-TML2S6_S7578-S7778.CutAdapt_R1_bismark_bt2_pe.bedGraph.gz.bismark.zero.cov for panel Lung_panel_version_1.1...\n"
     ]
    },
    {
     "name": "stderr",
     "output_type": "stream",
     "text": [
      "100%|██████████| 36/36 [00:00<00:00, 11045.72it/s]\n"
     ]
    },
    {
     "name": "stdout",
     "output_type": "stream",
     "text": [
      "Processing /workdir/outdir/pipeline_output/SampleSheet_batch_20250607/UMT_DISTANCE_0/BISMARK_COV/59-TML3S6_S7579-S7779.CutAdapt_R1_bismark_bt2_pe.bedGraph.gz.bismark.zero.cov for panel Lung_panel_version_1.1...\n"
     ]
    },
    {
     "name": "stderr",
     "output_type": "stream",
     "text": [
      "100%|██████████| 50/50 [00:00<00:00, 10994.82it/s]\n"
     ]
    },
    {
     "name": "stdout",
     "output_type": "stream",
     "text": [
      "Processing /workdir/outdir/pipeline_output/SampleSheet_batch_20250607/UMT_DISTANCE_0/BISMARK_COV/60-TML5S6_S7580-S7780.CutAdapt_R1_bismark_bt2_pe.bedGraph.gz.bismark.zero.cov for panel Lung_panel_version_1.1...\n"
     ]
    },
    {
     "name": "stderr",
     "output_type": "stream",
     "text": [
      "100%|██████████| 30/30 [00:00<00:00, 9951.69it/s]\n"
     ]
    },
    {
     "name": "stdout",
     "output_type": "stream",
     "text": [
      "Processing /workdir/outdir/pipeline_output/SampleSheet_batch_20250607/UMT_DISTANCE_0/BISMARK_COV/61-TML6S6_S7581-S7781.CutAdapt_R1_bismark_bt2_pe.bedGraph.gz.bismark.zero.cov for panel Lung_panel_version_1.1...\n"
     ]
    },
    {
     "name": "stderr",
     "output_type": "stream",
     "text": [
      "100%|██████████| 19/19 [00:00<00:00, 9200.16it/s]\n"
     ]
    },
    {
     "name": "stdout",
     "output_type": "stream",
     "text": [
      "Processing /workdir/outdir/pipeline_output/SampleSheet_batch_20250607/UMT_DISTANCE_0/BISMARK_COV/62-TML8S6_S7582-S7782.CutAdapt_R1_bismark_bt2_pe.bedGraph.gz.bismark.zero.cov for panel Lung_panel_version_1.1...\n"
     ]
    },
    {
     "name": "stderr",
     "output_type": "stream",
     "text": [
      "100%|██████████| 37/37 [00:00<00:00, 10752.39it/s]\n"
     ]
    },
    {
     "name": "stdout",
     "output_type": "stream",
     "text": [
      "Processing /workdir/outdir/pipeline_output/SampleSheet_batch_20250607/UMT_DISTANCE_0/BISMARK_COV/63-TML9S6_S7583-S7783.CutAdapt_R1_bismark_bt2_pe.bedGraph.gz.bismark.zero.cov for panel Lung_panel_version_1.1...\n"
     ]
    },
    {
     "name": "stderr",
     "output_type": "stream",
     "text": [
      "100%|██████████| 42/42 [00:00<00:00, 10921.99it/s]\n"
     ]
    },
    {
     "name": "stdout",
     "output_type": "stream",
     "text": [
      "Processing /workdir/outdir/pipeline_output/SampleSheet_batch_20250607/UMT_DISTANCE_0/BISMARK_COV/64-TML12S6_S7584-S7784.CutAdapt_R1_bismark_bt2_pe.bedGraph.gz.bismark.zero.cov for panel Lung_panel_version_1.1...\n"
     ]
    },
    {
     "name": "stderr",
     "output_type": "stream",
     "text": [
      "100%|██████████| 21/21 [00:00<00:00, 9397.25it/s]\n"
     ]
    },
    {
     "name": "stdout",
     "output_type": "stream",
     "text": [
      "Processing /workdir/outdir/pipeline_output/SampleSheet_batch_20250607/UMT_DISTANCE_0/BISMARK_COV/17-TML1S7_S7525-S7725.CutAdapt_R1_bismark_bt2_pe.bedGraph.gz.bismark.zero.cov for panel Lung_panel_version_1.1...\n"
     ]
    },
    {
     "name": "stderr",
     "output_type": "stream",
     "text": [
      "100%|██████████| 13/13 [00:00<00:00, 8017.34it/s]\n"
     ]
    },
    {
     "name": "stdout",
     "output_type": "stream",
     "text": [
      "Processing /workdir/outdir/pipeline_output/SampleSheet_batch_20250607/UMT_DISTANCE_0/BISMARK_COV/18-TML2S7_S7526-S7726.CutAdapt_R1_bismark_bt2_pe.bedGraph.gz.bismark.zero.cov for panel Lung_panel_version_1.1...\n"
     ]
    },
    {
     "name": "stderr",
     "output_type": "stream",
     "text": [
      "100%|██████████| 18/18 [00:00<00:00, 9028.64it/s]\n"
     ]
    },
    {
     "name": "stdout",
     "output_type": "stream",
     "text": [
      "Processing /workdir/outdir/pipeline_output/SampleSheet_batch_20250607/UMT_DISTANCE_0/BISMARK_COV/19-TML3S7_S7527-S7727.CutAdapt_R1_bismark_bt2_pe.bedGraph.gz.bismark.zero.cov for panel Lung_panel_version_1.1...\n"
     ]
    },
    {
     "name": "stderr",
     "output_type": "stream",
     "text": [
      "100%|██████████| 17/17 [00:00<00:00, 8655.40it/s]\n"
     ]
    },
    {
     "name": "stdout",
     "output_type": "stream",
     "text": [
      "Processing /workdir/outdir/pipeline_output/SampleSheet_batch_20250607/UMT_DISTANCE_0/BISMARK_COV/20-TML5S7_S7528-S7728.CutAdapt_R1_bismark_bt2_pe.bedGraph.gz.bismark.zero.cov for panel Lung_panel_version_1.1...\n"
     ]
    },
    {
     "name": "stderr",
     "output_type": "stream",
     "text": [
      "100%|██████████| 12/12 [00:00<00:00, 6949.01it/s]\n"
     ]
    },
    {
     "name": "stdout",
     "output_type": "stream",
     "text": [
      "Processing /workdir/outdir/pipeline_output/SampleSheet_batch_20250607/UMT_DISTANCE_0/BISMARK_COV/21-TML6S7_S7529-S7729.CutAdapt_R1_bismark_bt2_pe.bedGraph.gz.bismark.zero.cov for panel Lung_panel_version_1.1...\n"
     ]
    },
    {
     "name": "stderr",
     "output_type": "stream",
     "text": [
      "100%|██████████| 20/20 [00:00<00:00, 9190.98it/s]\n"
     ]
    },
    {
     "name": "stdout",
     "output_type": "stream",
     "text": [
      "Processing /workdir/outdir/pipeline_output/SampleSheet_batch_20250607/UMT_DISTANCE_0/BISMARK_COV/22-TML8S7_S7530-S7730.CutAdapt_R1_bismark_bt2_pe.bedGraph.gz.bismark.zero.cov for panel Lung_panel_version_1.1...\n"
     ]
    },
    {
     "name": "stderr",
     "output_type": "stream",
     "text": [
      "100%|██████████| 26/26 [00:00<00:00, 9191.06it/s]\n"
     ]
    },
    {
     "name": "stdout",
     "output_type": "stream",
     "text": [
      "Processing /workdir/outdir/pipeline_output/SampleSheet_batch_20250607/UMT_DISTANCE_0/BISMARK_COV/23-TML9S7_S7531-S7731.CutAdapt_R1_bismark_bt2_pe.bedGraph.gz.bismark.zero.cov for panel Lung_panel_version_1.1...\n"
     ]
    },
    {
     "name": "stderr",
     "output_type": "stream",
     "text": [
      "100%|██████████| 32/32 [00:00<00:00, 9161.62it/s]\n"
     ]
    },
    {
     "name": "stdout",
     "output_type": "stream",
     "text": [
      "Processing /workdir/outdir/pipeline_output/SampleSheet_batch_20250607/UMT_DISTANCE_0/BISMARK_COV/24-TML12S7_S7532-S7732.CutAdapt_R1_bismark_bt2_pe.bedGraph.gz.bismark.zero.cov for panel Lung_panel_version_1.1...\n"
     ]
    },
    {
     "name": "stderr",
     "output_type": "stream",
     "text": [
      "100%|██████████| 7/7 [00:00<00:00, 5983.32it/s]\n"
     ]
    },
    {
     "name": "stdout",
     "output_type": "stream",
     "text": [
      "Processing /workdir/outdir/pipeline_output/SampleSheet_batch_20250607/UMT_DISTANCE_0/BISMARK_COV/25-TML3S138_S7533-S7733.CutAdapt_R1_bismark_bt2_pe.bedGraph.gz.bismark.zero.cov for panel Lung_panel_version_1.1...\n"
     ]
    },
    {
     "name": "stderr",
     "output_type": "stream",
     "text": [
      "100%|██████████| 24/24 [00:00<00:00, 9172.05it/s]\n"
     ]
    },
    {
     "name": "stdout",
     "output_type": "stream",
     "text": [
      "Processing /workdir/outdir/pipeline_output/SampleSheet_batch_20250607/UMT_DISTANCE_0/BISMARK_COV/26-TML3S238_S7534-S7734.CutAdapt_R1_bismark_bt2_pe.bedGraph.gz.bismark.zero.cov for panel Lung_panel_version_1.1...\n"
     ]
    },
    {
     "name": "stderr",
     "output_type": "stream",
     "text": [
      "100%|██████████| 37/37 [00:00<00:00, 10710.83it/s]\n"
     ]
    },
    {
     "name": "stdout",
     "output_type": "stream",
     "text": [
      "Processing /workdir/outdir/pipeline_output/SampleSheet_batch_20250607/UMT_DISTANCE_0/BISMARK_COV/27-TML3S338_S7535-S7735.CutAdapt_R1_bismark_bt2_pe.bedGraph.gz.bismark.zero.cov for panel Lung_panel_version_1.1...\n"
     ]
    },
    {
     "name": "stderr",
     "output_type": "stream",
     "text": [
      "100%|██████████| 14/14 [00:00<00:00, 8140.89it/s]\n"
     ]
    },
    {
     "name": "stdout",
     "output_type": "stream",
     "text": [
      "Processing /workdir/outdir/pipeline_output/SampleSheet_batch_20250607/UMT_DISTANCE_0/BISMARK_COV/28-TML3S438_S7536-S7736.CutAdapt_R1_bismark_bt2_pe.bedGraph.gz.bismark.zero.cov for panel Lung_panel_version_1.1...\n"
     ]
    },
    {
     "name": "stderr",
     "output_type": "stream",
     "text": [
      "100%|██████████| 28/28 [00:00<00:00, 10255.92it/s]\n"
     ]
    },
    {
     "name": "stdout",
     "output_type": "stream",
     "text": [
      "Processing /workdir/outdir/pipeline_output/SampleSheet_batch_20250607/UMT_DISTANCE_0/BISMARK_COV/29-TML3S538_S7537-S7737.CutAdapt_R1_bismark_bt2_pe.bedGraph.gz.bismark.zero.cov for panel Lung_panel_version_1.1...\n"
     ]
    },
    {
     "name": "stderr",
     "output_type": "stream",
     "text": [
      "100%|██████████| 2/2 [00:00<00:00, 2595.49it/s]\n"
     ]
    },
    {
     "name": "stdout",
     "output_type": "stream",
     "text": [
      "Processing /workdir/outdir/pipeline_output/SampleSheet_batch_20250607/UMT_DISTANCE_0/BISMARK_COV/30-TML3S638_S7538-S7738.CutAdapt_R1_bismark_bt2_pe.bedGraph.gz.bismark.zero.cov for panel Lung_panel_version_1.1...\n"
     ]
    },
    {
     "name": "stderr",
     "output_type": "stream",
     "text": [
      "100%|██████████| 7/7 [00:00<00:00, 6175.88it/s]\n"
     ]
    },
    {
     "name": "stdout",
     "output_type": "stream",
     "text": [
      "Processing /workdir/outdir/pipeline_output/SampleSheet_batch_20250607/UMT_DISTANCE_0/BISMARK_COV/31-TML3S738_S7539-S7739.CutAdapt_R1_bismark_bt2_pe.bedGraph.gz.bismark.zero.cov for panel Lung_panel_version_1.1...\n"
     ]
    },
    {
     "name": "stderr",
     "output_type": "stream",
     "text": [
      "100%|██████████| 19/19 [00:00<00:00, 9149.46it/s]\n"
     ]
    },
    {
     "name": "stdout",
     "output_type": "stream",
     "text": [
      "Input coverage file /workdir/outdir/pipeline_output/SampleSheet_batch_20250613_smallsize/UMT_DISTANCE_0/BISMARK_COV/1-TMPC3S1_S7585-S7785.CutAdapt_R1_bismark_bt2_pe.bedGraph.gz.bismark.zero.cov does not exist, skipping...\n",
      "Processing /workdir/outdir/pipeline_output/SampleSheet_batch_20250613_smallsize/UMT_DISTANCE_0/BISMARK_COV/2-TMPC3S2_S7586-S7786.CutAdapt_R1_bismark_bt2_pe.bedGraph.gz.bismark.zero.cov for panel CRC_panel_version_1.1...\n"
     ]
    },
    {
     "name": "stderr",
     "output_type": "stream",
     "text": [
      "100%|██████████| 4/4 [00:00<00:00, 5443.61it/s]"
     ]
    },
    {
     "name": "stdout",
     "output_type": "stream",
     "text": [
      "Input coverage file /workdir/outdir/pipeline_output/SampleSheet_batch_20250613_smallsize/UMT_DISTANCE_0/BISMARK_COV/3-TMPC3S3_S7542-S7742.CutAdapt_R1_bismark_bt2_pe.bedGraph.gz.bismark.zero.cov does not exist, skipping...\n"
     ]
    },
    {
     "name": "stderr",
     "output_type": "stream",
     "text": [
      "\n"
     ]
    },
    {
     "name": "stdout",
     "output_type": "stream",
     "text": [
      "Input coverage file /workdir/outdir/pipeline_output/SampleSheet_batch_20250613_smallsize/UMT_DISTANCE_0/BISMARK_COV/4-TMPC4S4_S7543-S7743.CutAdapt_R1_bismark_bt2_pe.bedGraph.gz.bismark.zero.cov does not exist, skipping...\n",
      "Input coverage file /workdir/outdir/pipeline_output/SampleSheet_batch_20250613_smallsize/UMT_DISTANCE_0/BISMARK_COV/5-TMPC3S5_S7544-S7744.CutAdapt_R1_bismark_bt2_pe.bedGraph.gz.bismark.zero.cov does not exist, skipping...\n",
      "Input coverage file /workdir/outdir/pipeline_output/SampleSheet_batch_20250613_smallsize/UMT_DISTANCE_0/BISMARK_COV/6-TMPC3S6_S7557-S7757.CutAdapt_R1_bismark_bt2_pe.bedGraph.gz.bismark.zero.cov does not exist, skipping...\n",
      "Input coverage file /workdir/outdir/pipeline_output/SampleSheet_batch_20250613_smallsize/UMT_DISTANCE_0/BISMARK_COV/7-TMPC3S7_S7558-S7758.CutAdapt_R1_bismark_bt2_pe.bedGraph.gz.bismark.zero.cov does not exist, skipping...\n",
      "Processing /workdir/outdir/pipeline_output/SampleSheet_batch_20250612/UMT_DISTANCE_0/BISMARK_COV/8-TMC1S1_S7581-S7781.CutAdapt_R1_bismark_bt2_pe.bedGraph.gz.bismark.zero.cov for panel CRC_panel_version_3.1...\n"
     ]
    },
    {
     "name": "stderr",
     "output_type": "stream",
     "text": [
      "100%|██████████| 12/12 [00:00<00:00, 7882.80it/s]\n"
     ]
    },
    {
     "name": "stdout",
     "output_type": "stream",
     "text": [
      "Processing /workdir/outdir/pipeline_output/SampleSheet_batch_20250612/UMT_DISTANCE_0/BISMARK_COV/9-TMC2S1_S7582-S7782.CutAdapt_R1_bismark_bt2_pe.bedGraph.gz.bismark.zero.cov for panel CRC_panel_version_3.1...\n"
     ]
    },
    {
     "name": "stderr",
     "output_type": "stream",
     "text": [
      "100%|██████████| 6/6 [00:00<00:00, 5482.75it/s]\n"
     ]
    },
    {
     "name": "stdout",
     "output_type": "stream",
     "text": [
      "Processing /workdir/outdir/pipeline_output/SampleSheet_batch_20250612/UMT_DISTANCE_0/BISMARK_COV/10-TMC3S1_S7583-S7783.CutAdapt_R1_bismark_bt2_pe.bedGraph.gz.bismark.zero.cov for panel CRC_panel_version_3.1...\n"
     ]
    },
    {
     "name": "stderr",
     "output_type": "stream",
     "text": [
      "100%|██████████| 19/19 [00:00<00:00, 8559.80it/s]\n"
     ]
    },
    {
     "name": "stdout",
     "output_type": "stream",
     "text": [
      "Processing /workdir/outdir/pipeline_output/SampleSheet_batch_20250612/UMT_DISTANCE_0/BISMARK_COV/11-TMC4S1_S7584-S7784.CutAdapt_R1_bismark_bt2_pe.bedGraph.gz.bismark.zero.cov for panel CRC_panel_version_3.1...\n"
     ]
    },
    {
     "name": "stderr",
     "output_type": "stream",
     "text": [
      "100%|██████████| 2/2 [00:00<00:00, 2580.32it/s]"
     ]
    },
    {
     "name": "stdout",
     "output_type": "stream",
     "text": [
      "Processing /workdir/outdir/pipeline_output/SampleSheet_batch_20250612/UMT_DISTANCE_0/BISMARK_COV/12-TMC5S1_S7546-S7746.CutAdapt_R1_bismark_bt2_pe.bedGraph.gz.bismark.zero.cov for panel CRC_panel_version_3.1...\n"
     ]
    },
    {
     "name": "stderr",
     "output_type": "stream",
     "text": [
      "\n",
      "100%|██████████| 16/16 [00:00<00:00, 8506.64it/s]\n"
     ]
    },
    {
     "name": "stdout",
     "output_type": "stream",
     "text": [
      "Processing /workdir/outdir/pipeline_output/SampleSheet_batch_20250612/UMT_DISTANCE_0/BISMARK_COV/13-TMC6S1_S7549-S7749.CutAdapt_R1_bismark_bt2_pe.bedGraph.gz.bismark.zero.cov for panel CRC_panel_version_3.1...\n"
     ]
    },
    {
     "name": "stderr",
     "output_type": "stream",
     "text": [
      "100%|██████████| 13/13 [00:00<00:00, 7874.92it/s]\n"
     ]
    },
    {
     "name": "stdout",
     "output_type": "stream",
     "text": [
      "Processing /workdir/outdir/pipeline_output/SampleSheet_batch_20250612/UMT_DISTANCE_0/BISMARK_COV/14-TMC1S2_S7502-S7702.CutAdapt_R1_bismark_bt2_pe.bedGraph.gz.bismark.zero.cov for panel CRC_panel_version_3.1...\n"
     ]
    },
    {
     "name": "stderr",
     "output_type": "stream",
     "text": [
      "100%|██████████| 7/7 [00:00<00:00, 6010.26it/s]\n"
     ]
    },
    {
     "name": "stdout",
     "output_type": "stream",
     "text": [
      "Processing /workdir/outdir/pipeline_output/SampleSheet_batch_20250612/UMT_DISTANCE_0/BISMARK_COV/15-TMC2S2_S7503-S7703.CutAdapt_R1_bismark_bt2_pe.bedGraph.gz.bismark.zero.cov for panel CRC_panel_version_3.1...\n"
     ]
    },
    {
     "name": "stderr",
     "output_type": "stream",
     "text": [
      "100%|██████████| 6/6 [00:00<00:00, 5521.24it/s]\n"
     ]
    },
    {
     "name": "stdout",
     "output_type": "stream",
     "text": [
      "Processing /workdir/outdir/pipeline_output/SampleSheet_batch_20250612/UMT_DISTANCE_0/BISMARK_COV/16-TMC3S2_S7504-S7704.CutAdapt_R1_bismark_bt2_pe.bedGraph.gz.bismark.zero.cov for panel CRC_panel_version_3.1...\n"
     ]
    },
    {
     "name": "stderr",
     "output_type": "stream",
     "text": [
      "100%|██████████| 19/19 [00:00<00:00, 8934.06it/s]\n"
     ]
    },
    {
     "name": "stdout",
     "output_type": "stream",
     "text": [
      "Processing /workdir/outdir/pipeline_output/SampleSheet_batch_20250612/UMT_DISTANCE_0/BISMARK_COV/17-TMC4S2_S7505-S7705.CutAdapt_R1_bismark_bt2_pe.bedGraph.gz.bismark.zero.cov for panel CRC_panel_version_3.1...\n"
     ]
    },
    {
     "name": "stderr",
     "output_type": "stream",
     "text": [
      "100%|██████████| 10/10 [00:00<00:00, 7204.23it/s]\n"
     ]
    },
    {
     "name": "stdout",
     "output_type": "stream",
     "text": [
      "Processing /workdir/outdir/pipeline_output/SampleSheet_batch_20250612/UMT_DISTANCE_0/BISMARK_COV/18-TMC5S2_S7506-S7706.CutAdapt_R1_bismark_bt2_pe.bedGraph.gz.bismark.zero.cov for panel CRC_panel_version_3.1...\n"
     ]
    },
    {
     "name": "stderr",
     "output_type": "stream",
     "text": [
      "100%|██████████| 19/19 [00:00<00:00, 9110.76it/s]\n"
     ]
    },
    {
     "name": "stdout",
     "output_type": "stream",
     "text": [
      "Processing /workdir/outdir/pipeline_output/SampleSheet_batch_20250612/UMT_DISTANCE_0/BISMARK_COV/19-TMC6S2_S7507-S7707.CutAdapt_R1_bismark_bt2_pe.bedGraph.gz.bismark.zero.cov for panel CRC_panel_version_3.1...\n"
     ]
    },
    {
     "name": "stderr",
     "output_type": "stream",
     "text": [
      "100%|██████████| 13/13 [00:00<00:00, 7614.29it/s]\n"
     ]
    },
    {
     "name": "stdout",
     "output_type": "stream",
     "text": [
      "Processing /workdir/outdir/pipeline_output/SampleSheet_batch_20250612/UMT_DISTANCE_0/BISMARK_COV/20-TMC1S3_S7508-S7708.CutAdapt_R1_bismark_bt2_pe.bedGraph.gz.bismark.zero.cov for panel CRC_panel_version_3.1...\n"
     ]
    },
    {
     "name": "stderr",
     "output_type": "stream",
     "text": [
      "100%|██████████| 10/10 [00:00<00:00, 6744.34it/s]\n"
     ]
    },
    {
     "name": "stdout",
     "output_type": "stream",
     "text": [
      "Processing /workdir/outdir/pipeline_output/SampleSheet_batch_20250612/UMT_DISTANCE_0/BISMARK_COV/21-TMC2S3_S7564-S7764.CutAdapt_R1_bismark_bt2_pe.bedGraph.gz.bismark.zero.cov for panel CRC_panel_version_3.1...\n"
     ]
    },
    {
     "name": "stderr",
     "output_type": "stream",
     "text": [
      "100%|██████████| 5/5 [00:00<00:00, 5011.12it/s]\n"
     ]
    },
    {
     "name": "stdout",
     "output_type": "stream",
     "text": [
      "Processing /workdir/outdir/pipeline_output/SampleSheet_batch_20250612/UMT_DISTANCE_0/BISMARK_COV/22-TMC3S3_S7540-S7740.CutAdapt_R1_bismark_bt2_pe.bedGraph.gz.bismark.zero.cov for panel CRC_panel_version_3.1...\n"
     ]
    },
    {
     "name": "stderr",
     "output_type": "stream",
     "text": [
      "100%|██████████| 8/8 [00:00<00:00, 5953.59it/s]\n"
     ]
    },
    {
     "name": "stdout",
     "output_type": "stream",
     "text": [
      "Processing /workdir/outdir/pipeline_output/SampleSheet_batch_20250612/UMT_DISTANCE_0/BISMARK_COV/23-TMC4S3_S7556-S7756.CutAdapt_R1_bismark_bt2_pe.bedGraph.gz.bismark.zero.cov for panel CRC_panel_version_3.1...\n"
     ]
    },
    {
     "name": "stderr",
     "output_type": "stream",
     "text": [
      "100%|██████████| 1/1 [00:00<00:00, 1490.51it/s]\n"
     ]
    },
    {
     "name": "stdout",
     "output_type": "stream",
     "text": [
      "Processing /workdir/outdir/pipeline_output/SampleSheet_batch_20250612/UMT_DISTANCE_0/BISMARK_COV/24-TMC5S3_S7511-S7711.CutAdapt_R1_bismark_bt2_pe.bedGraph.gz.bismark.zero.cov for panel CRC_panel_version_3.1...\n"
     ]
    },
    {
     "name": "stderr",
     "output_type": "stream",
     "text": [
      "100%|██████████| 16/16 [00:00<00:00, 8376.04it/s]\n"
     ]
    },
    {
     "name": "stdout",
     "output_type": "stream",
     "text": [
      "Processing /workdir/outdir/pipeline_output/SampleSheet_batch_20250612/UMT_DISTANCE_0/BISMARK_COV/26-TMC1S4_S7514-S7714.CutAdapt_R1_bismark_bt2_pe.bedGraph.gz.bismark.zero.cov for panel CRC_panel_version_3.1...\n"
     ]
    },
    {
     "name": "stderr",
     "output_type": "stream",
     "text": [
      "100%|██████████| 7/7 [00:00<00:00, 6011.49it/s]\n"
     ]
    },
    {
     "name": "stdout",
     "output_type": "stream",
     "text": [
      "Processing /workdir/outdir/pipeline_output/SampleSheet_batch_20250612/UMT_DISTANCE_0/BISMARK_COV/27-TMC2S4_S7515-S7715.CutAdapt_R1_bismark_bt2_pe.bedGraph.gz.bismark.zero.cov for panel CRC_panel_version_3.1...\n"
     ]
    },
    {
     "name": "stderr",
     "output_type": "stream",
     "text": [
      "100%|██████████| 5/5 [00:00<00:00, 4656.20it/s]\n"
     ]
    },
    {
     "name": "stdout",
     "output_type": "stream",
     "text": [
      "Processing /workdir/outdir/pipeline_output/SampleSheet_batch_20250612/UMT_DISTANCE_0/BISMARK_COV/29-TMC4S4_S7517-S7717.CutAdapt_R1_bismark_bt2_pe.bedGraph.gz.bismark.zero.cov for panel CRC_panel_version_3.1...\n"
     ]
    },
    {
     "name": "stderr",
     "output_type": "stream",
     "text": [
      "100%|██████████| 1/1 [00:00<00:00, 1472.20it/s]\n"
     ]
    },
    {
     "name": "stdout",
     "output_type": "stream",
     "text": [
      "Processing /workdir/outdir/pipeline_output/SampleSheet_batch_20250612/UMT_DISTANCE_0/BISMARK_COV/30-TMC5S4_S7518-S7718.CutAdapt_R1_bismark_bt2_pe.bedGraph.gz.bismark.zero.cov for panel CRC_panel_version_3.1...\n"
     ]
    },
    {
     "name": "stderr",
     "output_type": "stream",
     "text": [
      "100%|██████████| 13/13 [00:00<00:00, 7266.25it/s]\n"
     ]
    },
    {
     "name": "stdout",
     "output_type": "stream",
     "text": [
      "Processing /workdir/outdir/pipeline_output/SampleSheet_batch_20250612/UMT_DISTANCE_0/BISMARK_COV/31-TMC6S4_S7519-S7719.CutAdapt_R1_bismark_bt2_pe.bedGraph.gz.bismark.zero.cov for panel CRC_panel_version_3.1...\n"
     ]
    },
    {
     "name": "stderr",
     "output_type": "stream",
     "text": [
      "100%|██████████| 13/13 [00:00<00:00, 7723.22it/s]\n"
     ]
    },
    {
     "name": "stdout",
     "output_type": "stream",
     "text": [
      "Processing /workdir/outdir/pipeline_output/SampleSheet_batch_20250612/UMT_DISTANCE_0/BISMARK_COV/32-TMC1S5_S7520-S7720.CutAdapt_R1_bismark_bt2_pe.bedGraph.gz.bismark.zero.cov for panel CRC_panel_version_3.1...\n"
     ]
    },
    {
     "name": "stderr",
     "output_type": "stream",
     "text": [
      "100%|██████████| 10/10 [00:00<00:00, 6936.17it/s]\n"
     ]
    },
    {
     "name": "stdout",
     "output_type": "stream",
     "text": [
      "Processing /workdir/outdir/pipeline_output/SampleSheet_batch_20250612/UMT_DISTANCE_0/BISMARK_COV/33-TMC2S5_S7521-S7721.CutAdapt_R1_bismark_bt2_pe.bedGraph.gz.bismark.zero.cov for panel CRC_panel_version_3.1...\n"
     ]
    },
    {
     "name": "stderr",
     "output_type": "stream",
     "text": [
      "100%|██████████| 5/5 [00:00<00:00, 4546.18it/s]\n"
     ]
    },
    {
     "name": "stdout",
     "output_type": "stream",
     "text": [
      "Processing /workdir/outdir/pipeline_output/SampleSheet_batch_20250612/UMT_DISTANCE_0/BISMARK_COV/34-TMC3S5_S7522-S7722.CutAdapt_R1_bismark_bt2_pe.bedGraph.gz.bismark.zero.cov for panel CRC_panel_version_3.1...\n"
     ]
    },
    {
     "name": "stderr",
     "output_type": "stream",
     "text": [
      "100%|██████████| 20/20 [00:00<00:00, 9306.20it/s]\n"
     ]
    },
    {
     "name": "stdout",
     "output_type": "stream",
     "text": [
      "Processing /workdir/outdir/pipeline_output/SampleSheet_batch_20250612/UMT_DISTANCE_0/BISMARK_COV/35-TMC4S5_S7523-S7723.CutAdapt_R1_bismark_bt2_pe.bedGraph.gz.bismark.zero.cov for panel CRC_panel_version_3.1...\n"
     ]
    },
    {
     "name": "stderr",
     "output_type": "stream",
     "text": [
      "100%|██████████| 1/1 [00:00<00:00, 1604.55it/s]\n"
     ]
    },
    {
     "name": "stdout",
     "output_type": "stream",
     "text": [
      "Processing /workdir/outdir/pipeline_output/SampleSheet_batch_20250612/UMT_DISTANCE_0/BISMARK_COV/36-TMC5S5_S7524-S7724.CutAdapt_R1_bismark_bt2_pe.bedGraph.gz.bismark.zero.cov for panel CRC_panel_version_3.1...\n"
     ]
    },
    {
     "name": "stderr",
     "output_type": "stream",
     "text": [
      "100%|██████████| 14/14 [00:00<00:00, 8041.67it/s]\n"
     ]
    },
    {
     "name": "stdout",
     "output_type": "stream",
     "text": [
      "Processing /workdir/outdir/pipeline_output/SampleSheet_batch_20250612/UMT_DISTANCE_0/BISMARK_COV/37-TMC6S5_S7525-S7725.CutAdapt_R1_bismark_bt2_pe.bedGraph.gz.bismark.zero.cov for panel CRC_panel_version_3.1...\n"
     ]
    },
    {
     "name": "stderr",
     "output_type": "stream",
     "text": [
      "100%|██████████| 14/14 [00:00<00:00, 7670.84it/s]\n"
     ]
    },
    {
     "name": "stdout",
     "output_type": "stream",
     "text": [
      "Processing /workdir/outdir/pipeline_output/SampleSheet_batch_20250612/UMT_DISTANCE_0/BISMARK_COV/38-TMC1S6_S7526-S7726.CutAdapt_R1_bismark_bt2_pe.bedGraph.gz.bismark.zero.cov for panel CRC_panel_version_3.1...\n"
     ]
    },
    {
     "name": "stderr",
     "output_type": "stream",
     "text": [
      "100%|██████████| 10/10 [00:00<00:00, 8089.30it/s]\n"
     ]
    },
    {
     "name": "stdout",
     "output_type": "stream",
     "text": [
      "Processing /workdir/outdir/pipeline_output/SampleSheet_batch_20250612/UMT_DISTANCE_0/BISMARK_COV/39-TMC2S6_S7527-S7727.CutAdapt_R1_bismark_bt2_pe.bedGraph.gz.bismark.zero.cov for panel CRC_panel_version_3.1...\n"
     ]
    },
    {
     "name": "stderr",
     "output_type": "stream",
     "text": [
      "100%|██████████| 5/5 [00:00<00:00, 4793.49it/s]\n"
     ]
    },
    {
     "name": "stdout",
     "output_type": "stream",
     "text": [
      "Processing /workdir/outdir/pipeline_output/SampleSheet_batch_20250612/UMT_DISTANCE_0/BISMARK_COV/40-TMC3S6_S7528-S7728.CutAdapt_R1_bismark_bt2_pe.bedGraph.gz.bismark.zero.cov for panel CRC_panel_version_3.1...\n"
     ]
    },
    {
     "name": "stderr",
     "output_type": "stream",
     "text": [
      "100%|██████████| 18/18 [00:00<00:00, 7930.41it/s]\n"
     ]
    },
    {
     "name": "stdout",
     "output_type": "stream",
     "text": [
      "Processing /workdir/outdir/pipeline_output/SampleSheet_batch_20250612/UMT_DISTANCE_0/BISMARK_COV/41-TMC4S6_S7529-S7729.CutAdapt_R1_bismark_bt2_pe.bedGraph.gz.bismark.zero.cov for panel CRC_panel_version_3.1...\n"
     ]
    },
    {
     "name": "stderr",
     "output_type": "stream",
     "text": [
      "100%|██████████| 1/1 [00:00<00:00, 1446.81it/s]\n"
     ]
    },
    {
     "name": "stdout",
     "output_type": "stream",
     "text": [
      "Processing /workdir/outdir/pipeline_output/SampleSheet_batch_20250612/UMT_DISTANCE_0/BISMARK_COV/42-TMC5S6_S7530-S7730.CutAdapt_R1_bismark_bt2_pe.bedGraph.gz.bismark.zero.cov for panel CRC_panel_version_3.1...\n"
     ]
    },
    {
     "name": "stderr",
     "output_type": "stream",
     "text": [
      "100%|██████████| 13/13 [00:00<00:00, 7258.51it/s]\n"
     ]
    },
    {
     "name": "stdout",
     "output_type": "stream",
     "text": [
      "Processing /workdir/outdir/pipeline_output/SampleSheet_batch_20250613_smallsize/UMT_DISTANCE_0/BISMARK_COV/43-TMC6S6_S7531-S7731.CutAdapt_R1_bismark_bt2_pe.bedGraph.gz.bismark.zero.cov for panel CRC_panel_version_3.1...\n"
     ]
    },
    {
     "name": "stderr",
     "output_type": "stream",
     "text": [
      "100%|██████████| 11/11 [00:00<00:00, 7511.78it/s]\n"
     ]
    },
    {
     "name": "stdout",
     "output_type": "stream",
     "text": [
      "Processing /workdir/outdir/pipeline_output/SampleSheet_batch_20250612/UMT_DISTANCE_0/BISMARK_COV/44-TMC1S7_S7532-S7732.CutAdapt_R1_bismark_bt2_pe.bedGraph.gz.bismark.zero.cov for panel CRC_panel_version_3.1...\n"
     ]
    },
    {
     "name": "stderr",
     "output_type": "stream",
     "text": [
      "100%|██████████| 7/7 [00:00<00:00, 5826.58it/s]\n"
     ]
    },
    {
     "name": "stdout",
     "output_type": "stream",
     "text": [
      "Processing /workdir/outdir/pipeline_output/SampleSheet_batch_20250612/UMT_DISTANCE_0/BISMARK_COV/45-TMC2S7_S7533-S7733.CutAdapt_R1_bismark_bt2_pe.bedGraph.gz.bismark.zero.cov for panel CRC_panel_version_3.1...\n"
     ]
    },
    {
     "name": "stderr",
     "output_type": "stream",
     "text": [
      "100%|██████████| 6/6 [00:00<00:00, 5433.04it/s]\n"
     ]
    },
    {
     "name": "stdout",
     "output_type": "stream",
     "text": [
      "Processing /workdir/outdir/pipeline_output/SampleSheet_batch_20250612/UMT_DISTANCE_0/BISMARK_COV/46-TMC3S7_S7534-S7734.CutAdapt_R1_bismark_bt2_pe.bedGraph.gz.bismark.zero.cov for panel CRC_panel_version_3.1...\n"
     ]
    },
    {
     "name": "stderr",
     "output_type": "stream",
     "text": [
      "100%|██████████| 49/49 [00:00<00:00, 10630.02it/s]\n"
     ]
    },
    {
     "name": "stdout",
     "output_type": "stream",
     "text": [
      "Processing /workdir/outdir/pipeline_output/SampleSheet_batch_20250612/UMT_DISTANCE_0/BISMARK_COV/47-TMC4S7_S7535-S7735.CutAdapt_R1_bismark_bt2_pe.bedGraph.gz.bismark.zero.cov for panel CRC_panel_version_3.1...\n"
     ]
    },
    {
     "name": "stderr",
     "output_type": "stream",
     "text": [
      "100%|██████████| 1/1 [00:00<00:00, 1488.40it/s]\n"
     ]
    },
    {
     "name": "stdout",
     "output_type": "stream",
     "text": [
      "Processing /workdir/outdir/pipeline_output/SampleSheet_batch_20250612/UMT_DISTANCE_0/BISMARK_COV/48-TMC5S7_S7536-S7736.CutAdapt_R1_bismark_bt2_pe.bedGraph.gz.bismark.zero.cov for panel CRC_panel_version_3.1...\n"
     ]
    },
    {
     "name": "stderr",
     "output_type": "stream",
     "text": [
      "100%|██████████| 15/15 [00:00<00:00, 7638.04it/s]\n"
     ]
    },
    {
     "name": "stdout",
     "output_type": "stream",
     "text": [
      "Processing /workdir/outdir/pipeline_output/SampleSheet_batch_20250612/UMT_DISTANCE_0/BISMARK_COV/49-TMC6S7_S7541-S7741.CutAdapt_R1_bismark_bt2_pe.bedGraph.gz.bismark.zero.cov for panel CRC_panel_version_3.1...\n"
     ]
    },
    {
     "name": "stderr",
     "output_type": "stream",
     "text": [
      "100%|██████████| 19/19 [00:00<00:00, 8455.36it/s]\n"
     ]
    },
    {
     "name": "stdout",
     "output_type": "stream",
     "text": [
      "Processing /workdir/outdir/pipeline_output/SampleSheet_batch_20250612/UMT_DISTANCE_0/BISMARK_COV/1-TMPL5S1I3_S7561-S7761.CutAdapt_R1_bismark_bt2_pe.bedGraph.gz.bismark.zero.cov for panel Lung_panel_version_1.1...\n"
     ]
    },
    {
     "name": "stderr",
     "output_type": "stream",
     "text": [
      "100%|██████████| 61/61 [00:00<00:00, 11690.24it/s]\n"
     ]
    },
    {
     "name": "stdout",
     "output_type": "stream",
     "text": [
      "Processing /workdir/outdir/pipeline_output/SampleSheet_batch_20250612/UMT_DISTANCE_0/BISMARK_COV/2-TMPL5S2I3_S7562-S7762.CutAdapt_R1_bismark_bt2_pe.bedGraph.gz.bismark.zero.cov for panel Lung_panel_version_1.1...\n"
     ]
    },
    {
     "name": "stderr",
     "output_type": "stream",
     "text": [
      "100%|██████████| 62/62 [00:00<00:00, 12114.92it/s]\n"
     ]
    },
    {
     "name": "stdout",
     "output_type": "stream",
     "text": [
      "Processing /workdir/outdir/pipeline_output/SampleSheet_batch_20250612/UMT_DISTANCE_0/BISMARK_COV/3-TMPL5S3I3_S7563-S7763.CutAdapt_R1_bismark_bt2_pe.bedGraph.gz.bismark.zero.cov for panel Lung_panel_version_1.1...\n"
     ]
    },
    {
     "name": "stderr",
     "output_type": "stream",
     "text": [
      "100%|██████████| 75/75 [00:00<00:00, 12248.77it/s]\n"
     ]
    },
    {
     "name": "stdout",
     "output_type": "stream",
     "text": [
      "Processing /workdir/outdir/pipeline_output/SampleSheet_batch_20250612/UMT_DISTANCE_0/BISMARK_COV/4-TMPL5S4I3_S7564-S7764.CutAdapt_R1_bismark_bt2_pe.bedGraph.gz.bismark.zero.cov for panel Lung_panel_version_1.1...\n"
     ]
    },
    {
     "name": "stderr",
     "output_type": "stream",
     "text": [
      "100%|██████████| 65/65 [00:00<00:00, 12073.41it/s]\n"
     ]
    },
    {
     "name": "stdout",
     "output_type": "stream",
     "text": [
      "Processing /workdir/outdir/pipeline_output/SampleSheet_batch_20250612/UMT_DISTANCE_0/BISMARK_COV/5-TMPL5S5I3_S7585-S7785.CutAdapt_R1_bismark_bt2_pe.bedGraph.gz.bismark.zero.cov for panel Lung_panel_version_1.1...\n"
     ]
    },
    {
     "name": "stderr",
     "output_type": "stream",
     "text": [
      "100%|██████████| 82/82 [00:00<00:00, 12746.28it/s]\n"
     ]
    },
    {
     "name": "stdout",
     "output_type": "stream",
     "text": [
      "Processing /workdir/outdir/pipeline_output/SampleSheet_batch_20250612/UMT_DISTANCE_0/BISMARK_COV/6-TMPL5S6I3_S7586-S7786.CutAdapt_R1_bismark_bt2_pe.bedGraph.gz.bismark.zero.cov for panel Lung_panel_version_1.1...\n"
     ]
    },
    {
     "name": "stderr",
     "output_type": "stream",
     "text": [
      "100%|██████████| 69/69 [00:00<00:00, 12570.34it/s]\n"
     ]
    },
    {
     "name": "stdout",
     "output_type": "stream",
     "text": [
      "Processing /workdir/outdir/pipeline_output/SampleSheet_batch_20250612/UMT_DISTANCE_0/BISMARK_COV/7-TMPL5S7I3_S7587-S7787.CutAdapt_R1_bismark_bt2_pe.bedGraph.gz.bismark.zero.cov for panel Lung_panel_version_1.1...\n"
     ]
    },
    {
     "name": "stderr",
     "output_type": "stream",
     "text": [
      "100%|██████████| 74/74 [00:00<00:00, 12494.61it/s]\n"
     ]
    },
    {
     "name": "stdout",
     "output_type": "stream",
     "text": [
      "Processing /workdir/outdir/pipeline_output/SampleSheet_batch_20250612/UMT_DISTANCE_0/BISMARK_COV/8-TMPL6S1I3_S7588-S7788.CutAdapt_R1_bismark_bt2_pe.bedGraph.gz.bismark.zero.cov for panel Lung_panel_version_1.1...\n"
     ]
    },
    {
     "name": "stderr",
     "output_type": "stream",
     "text": [
      "100%|██████████| 82/82 [00:00<00:00, 12590.90it/s]\n"
     ]
    },
    {
     "name": "stdout",
     "output_type": "stream",
     "text": [
      "Processing /workdir/outdir/pipeline_output/SampleSheet_batch_20250612/UMT_DISTANCE_0/BISMARK_COV/9-TMPL6S2I3_S7589-S7789.CutAdapt_R1_bismark_bt2_pe.bedGraph.gz.bismark.zero.cov for panel Lung_panel_version_1.1...\n"
     ]
    },
    {
     "name": "stderr",
     "output_type": "stream",
     "text": [
      "100%|██████████| 41/41 [00:00<00:00, 11781.75it/s]\n"
     ]
    },
    {
     "name": "stdout",
     "output_type": "stream",
     "text": [
      "Processing /workdir/outdir/pipeline_output/SampleSheet_batch_20250612/UMT_DISTANCE_0/BISMARK_COV/10-TMPL6S3I3_S7590-S7790.CutAdapt_R1_bismark_bt2_pe.bedGraph.gz.bismark.zero.cov for panel Lung_panel_version_1.1...\n"
     ]
    },
    {
     "name": "stderr",
     "output_type": "stream",
     "text": [
      "100%|██████████| 98/98 [00:00<00:00, 12708.83it/s]\n"
     ]
    },
    {
     "name": "stdout",
     "output_type": "stream",
     "text": [
      "Processing /workdir/outdir/pipeline_output/SampleSheet_batch_20250612/UMT_DISTANCE_0/BISMARK_COV/11-TMPL6S4I3_S7591-S7791.CutAdapt_R1_bismark_bt2_pe.bedGraph.gz.bismark.zero.cov for panel Lung_panel_version_1.1...\n"
     ]
    },
    {
     "name": "stderr",
     "output_type": "stream",
     "text": [
      "100%|██████████| 46/46 [00:00<00:00, 12211.26it/s]\n"
     ]
    },
    {
     "name": "stdout",
     "output_type": "stream",
     "text": [
      "Processing /workdir/outdir/pipeline_output/SampleSheet_batch_20250612/UMT_DISTANCE_0/BISMARK_COV/12-TMPL6S5I3_S7592-S7792.CutAdapt_R1_bismark_bt2_pe.bedGraph.gz.bismark.zero.cov for panel Lung_panel_version_1.1...\n"
     ]
    },
    {
     "name": "stderr",
     "output_type": "stream",
     "text": [
      "100%|██████████| 32/32 [00:00<00:00, 11052.18it/s]\n"
     ]
    },
    {
     "name": "stdout",
     "output_type": "stream",
     "text": [
      "Processing /workdir/outdir/pipeline_output/SampleSheet_batch_20250612/UMT_DISTANCE_0/BISMARK_COV/13-TMPL6S6I3_S7593-S7793.CutAdapt_R1_bismark_bt2_pe.bedGraph.gz.bismark.zero.cov for panel Lung_panel_version_1.1...\n"
     ]
    },
    {
     "name": "stderr",
     "output_type": "stream",
     "text": [
      "100%|██████████| 45/45 [00:00<00:00, 11570.85it/s]\n"
     ]
    },
    {
     "name": "stdout",
     "output_type": "stream",
     "text": [
      "Processing /workdir/outdir/pipeline_output/SampleSheet_batch_20250612/UMT_DISTANCE_0/BISMARK_COV/14-TMPL6S7I3_S7594-S7794.CutAdapt_R1_bismark_bt2_pe.bedGraph.gz.bismark.zero.cov for panel Lung_panel_version_1.1...\n"
     ]
    },
    {
     "name": "stderr",
     "output_type": "stream",
     "text": [
      "100%|██████████| 45/45 [00:00<00:00, 11735.60it/s]\n"
     ]
    }
   ],
   "source": [
    "\n",
    "def generate_cov(input_cov_file, panel_name, sampleid, outputdir):\n",
    "    os.system(f\"mkdir -p {outputdir}\")\n",
    "    if os.path.exists(input_cov_file) == False:\n",
    "        print(f\"Input coverage file {input_cov_file} does not exist, skipping...\")\n",
    "        covdf = pd.DataFrame(columns=[\"chrom\", \"start\", \"end\", \"meth_density\", \"countC\", \"countT\", \"seq\", \"strand\", \"CpG\", \"check_context\", \"amplicon\"])\n",
    "        status = \"File not available\"\n",
    "    else:\n",
    "        print(f\"Processing {input_cov_file} for panel {panel_name}...\")\n",
    "        # get list of CpG which are not in primer regions\n",
    "        cpgdf = all_cpgdf[panel_name]\n",
    "        covdf = pd.read_csv(input_cov_file, header = None, sep = \"\\t\")\n",
    "        covdf.columns = [\"chrom\", \"start\", \"end\", \"meth_density\", \"countC\", \"countT\"]\n",
    "        if covdf.shape[0] != 0:\n",
    "            covdf = covdf[covdf[\"chrom\"].isin([\"chrX\", \"chrY\", \"chrMT\"]) == False]\n",
    "            covdf = covdf[covdf[\"chrom\"].str.contains(\"chrUn\") == False]\n",
    "            covdf = covdf[covdf[\"chrom\"].str.contains(\"_\") == False]\n",
    "            covdf[\"seq\"] = covdf[[\"chrom\", \"start\"]].progress_apply(lambda x: get_refseq(path_to_all_fa= path_to_all_fa, \n",
    "                                                                    chrom = x[0], start = x[1], end = x[1] + 1), axis = 1)\n",
    "            covdf[\"strand\"] = covdf[\"seq\"].apply(lambda x: \"+\" if x != \"CG\" else \"-\")\n",
    "            covdf_raw = covdf.copy()\n",
    "            covdf[\"start\"] = covdf[[\"seq\", \"start\"]].apply(lambda x: x[1] + 1 if x[0] != \"CG\" else x[1], axis = 1)\n",
    "\n",
    "            covdf[\"chrom\"] = covdf[\"chrom\"].apply(lambda x: str(x))\n",
    "            covdf[\"CpG\"] = covdf[[\"chrom\", \"start\"]].apply(lambda x: f\"{str(x[0])}:{x[1]}-{x[1] + 1}\", axis = 1)\n",
    "            covdf[\"check_context\"] = covdf[\"CpG\"].apply(lambda x: \"CpG_context\" if x in cpgdf[\"CpG\"].values else \"False\")\n",
    "            covdf[\"amplicon\"] = covdf[\"CpG\"].apply(lambda x: cpgdf[cpgdf[\"CpG\"] == x][\"region_name\"].values[0] if x in cpgdf[\"CpG\"].values else \"NA\")\n",
    "            status = \"Processed\"\n",
    "        else:\n",
    "            print(f\"Coverage file {input_cov_file} is empty, skipping...\")\n",
    "            covdf = pd.DataFrame(columns=[\"chrom\", \"start\", \"end\", \"meth_density\", \"countC\", \"countT\", \"seq\", \"strand\", \"CpG\", \"check_context\", \"amplicon\"])\n",
    "            status = \"Empty file\"\n",
    "        covdf.to_excel(os.path.join(outputdir, f\"{sampleid}.xlsx\"))\n",
    "    return status, os.path.join(outputdir, f\"{sampleid}.xlsx\")\n",
    "\n",
    "# mode = \"UMI\"  # or \"ignore_UMI\" \n",
    "for mode in [\"UMI\", \"ignore_UMI\"]:\n",
    "    all_status = []\n",
    "    all_finished_path = []\n",
    "    for j in range(final_umi_rundf.shape[0]):\n",
    "        panel_name = final_umi_rundf.Panel_version.values[j].replace(\" \", \"_\")\n",
    "        run = final_umi_rundf.Run.values[j]\n",
    "        sampleid = final_umi_rundf.SampleID.values[j]\n",
    "        if mode == \"UMI\":\n",
    "            input_cov_file = final_umi_rundf.UMI_cov_file.values[j]\n",
    "        elif mode == \"ignore_UMI\":\n",
    "            input_cov_file = final_umi_rundf.nonUMI_cov_file.values[j]\n",
    "\n",
    "        outputdir = os.path.join(path_to_01_output, \"UMI_cov\", run, panel_name, mode)\n",
    "        status, output_cov_path = generate_cov(input_cov_file=input_cov_file, panel_name=panel_name, sampleid=sampleid, outputdir=outputdir)\n",
    "        all_status.append(status)\n",
    "        all_finished_path.append(output_cov_path)\n",
    "    final_umi_rundf[f\"{mode}_status\"] = all_status\n",
    "    final_umi_rundf[f\"{mode}_processed_cov\"] = all_finished_path"
   ]
  },
  {
   "cell_type": "code",
   "execution_count": 6,
   "id": "2cef2039",
   "metadata": {},
   "outputs": [
    {
     "data": {
      "text/html": [
       "<div>\n",
       "<style scoped>\n",
       "    .dataframe tbody tr th:only-of-type {\n",
       "        vertical-align: middle;\n",
       "    }\n",
       "\n",
       "    .dataframe tbody tr th {\n",
       "        vertical-align: top;\n",
       "    }\n",
       "\n",
       "    .dataframe thead th {\n",
       "        text-align: right;\n",
       "    }\n",
       "</style>\n",
       "<table border=\"1\" class=\"dataframe\">\n",
       "  <thead>\n",
       "    <tr style=\"text-align: right;\">\n",
       "      <th></th>\n",
       "      <th>Run</th>\n",
       "      <th>SampleID</th>\n",
       "      <th>UMI</th>\n",
       "      <th>Panel_version</th>\n",
       "      <th>Name</th>\n",
       "      <th>amplicon_name</th>\n",
       "      <th>serial</th>\n",
       "      <th>uniqueID</th>\n",
       "      <th>filename</th>\n",
       "      <th>FASTQ1</th>\n",
       "      <th>...</th>\n",
       "      <th>count_unmapped_bam</th>\n",
       "      <th>count_connor_annotated</th>\n",
       "      <th>count_connor_fastq</th>\n",
       "      <th>count_umi_bam</th>\n",
       "      <th>count_non_umi_bam</th>\n",
       "      <th>count_UMI_cov_file</th>\n",
       "      <th>UMI_status</th>\n",
       "      <th>UMI_processed_cov</th>\n",
       "      <th>ignore_UMI_status</th>\n",
       "      <th>ignore_UMI_processed_cov</th>\n",
       "    </tr>\n",
       "  </thead>\n",
       "  <tbody>\n",
       "    <tr>\n",
       "      <th>0</th>\n",
       "      <td>R7288</td>\n",
       "      <td>TML1S1</td>\n",
       "      <td>Yes</td>\n",
       "      <td>Lung_panel version 1.1</td>\n",
       "      <td>Vi</td>\n",
       "      <td>L1</td>\n",
       "      <td>S1</td>\n",
       "      <td>TML1S1_R7288</td>\n",
       "      <td>1-TML1S1_S7501-S7701</td>\n",
       "      <td>/mnt/GS-BACKUP05/FASTQ/2025/R7288/zatm/1-TML1S...</td>\n",
       "      <td>...</td>\n",
       "      <td>2645274</td>\n",
       "      <td>2639164</td>\n",
       "      <td>34584</td>\n",
       "      <td>340</td>\n",
       "      <td>2645274</td>\n",
       "      <td>4</td>\n",
       "      <td>Processed</td>\n",
       "      <td>/workdir/outdir/pipeline_output/data_analysis/...</td>\n",
       "      <td>Processed</td>\n",
       "      <td>/workdir/outdir/pipeline_output/data_analysis/...</td>\n",
       "    </tr>\n",
       "    <tr>\n",
       "      <th>1</th>\n",
       "      <td>R7288</td>\n",
       "      <td>TML1S2</td>\n",
       "      <td>Yes</td>\n",
       "      <td>Lung_panel version 1.1</td>\n",
       "      <td>Vi</td>\n",
       "      <td>L1</td>\n",
       "      <td>S2</td>\n",
       "      <td>TML1S2_R7288</td>\n",
       "      <td>2-TML1S2_S7502-S7702</td>\n",
       "      <td>/mnt/GS-BACKUP05/FASTQ/2025/R7288/zatm/2-TML1S...</td>\n",
       "      <td>...</td>\n",
       "      <td>2195246</td>\n",
       "      <td>2181957</td>\n",
       "      <td>32044</td>\n",
       "      <td>466</td>\n",
       "      <td>2195246</td>\n",
       "      <td>4</td>\n",
       "      <td>Processed</td>\n",
       "      <td>/workdir/outdir/pipeline_output/data_analysis/...</td>\n",
       "      <td>Processed</td>\n",
       "      <td>/workdir/outdir/pipeline_output/data_analysis/...</td>\n",
       "    </tr>\n",
       "    <tr>\n",
       "      <th>2</th>\n",
       "      <td>R7288</td>\n",
       "      <td>TML1S3</td>\n",
       "      <td>Yes</td>\n",
       "      <td>Lung_panel version 1.1</td>\n",
       "      <td>Vi</td>\n",
       "      <td>L1</td>\n",
       "      <td>S3</td>\n",
       "      <td>TML1S3_R7288</td>\n",
       "      <td>3-TML1S3_S7503-S7703</td>\n",
       "      <td>/mnt/GS-BACKUP05/FASTQ/2025/R7288/zatm/3-TML1S...</td>\n",
       "      <td>...</td>\n",
       "      <td>3528722</td>\n",
       "      <td>3519234</td>\n",
       "      <td>38204</td>\n",
       "      <td>542</td>\n",
       "      <td>3528722</td>\n",
       "      <td>4</td>\n",
       "      <td>Processed</td>\n",
       "      <td>/workdir/outdir/pipeline_output/data_analysis/...</td>\n",
       "      <td>Processed</td>\n",
       "      <td>/workdir/outdir/pipeline_output/data_analysis/...</td>\n",
       "    </tr>\n",
       "    <tr>\n",
       "      <th>3</th>\n",
       "      <td>R7288</td>\n",
       "      <td>TML1S4</td>\n",
       "      <td>Yes</td>\n",
       "      <td>Lung_panel version 1.1</td>\n",
       "      <td>Vi</td>\n",
       "      <td>L1</td>\n",
       "      <td>S4</td>\n",
       "      <td>TML1S4_R7288</td>\n",
       "      <td>4-TML1S4_S7504-S7704</td>\n",
       "      <td>/mnt/GS-BACKUP05/FASTQ/2025/R7288/zatm/4-TML1S...</td>\n",
       "      <td>...</td>\n",
       "      <td>3210054</td>\n",
       "      <td>3200836</td>\n",
       "      <td>36748</td>\n",
       "      <td>498</td>\n",
       "      <td>3210054</td>\n",
       "      <td>4</td>\n",
       "      <td>Processed</td>\n",
       "      <td>/workdir/outdir/pipeline_output/data_analysis/...</td>\n",
       "      <td>Processed</td>\n",
       "      <td>/workdir/outdir/pipeline_output/data_analysis/...</td>\n",
       "    </tr>\n",
       "    <tr>\n",
       "      <th>4</th>\n",
       "      <td>R7288</td>\n",
       "      <td>TML1S5</td>\n",
       "      <td>Yes</td>\n",
       "      <td>Lung_panel version 1.1</td>\n",
       "      <td>Vi</td>\n",
       "      <td>L1</td>\n",
       "      <td>S5</td>\n",
       "      <td>TML1S5_R7288</td>\n",
       "      <td>5-TML1S5_S7505-S7705</td>\n",
       "      <td>/mnt/GS-BACKUP05/FASTQ/2025/R7288/zatm/5-TML1S...</td>\n",
       "      <td>...</td>\n",
       "      <td>3048870</td>\n",
       "      <td>3039512</td>\n",
       "      <td>36012</td>\n",
       "      <td>596</td>\n",
       "      <td>3048870</td>\n",
       "      <td>4</td>\n",
       "      <td>Processed</td>\n",
       "      <td>/workdir/outdir/pipeline_output/data_analysis/...</td>\n",
       "      <td>Processed</td>\n",
       "      <td>/workdir/outdir/pipeline_output/data_analysis/...</td>\n",
       "    </tr>\n",
       "    <tr>\n",
       "      <th>...</th>\n",
       "      <td>...</td>\n",
       "      <td>...</td>\n",
       "      <td>...</td>\n",
       "      <td>...</td>\n",
       "      <td>...</td>\n",
       "      <td>...</td>\n",
       "      <td>...</td>\n",
       "      <td>...</td>\n",
       "      <td>...</td>\n",
       "      <td>...</td>\n",
       "      <td>...</td>\n",
       "      <td>...</td>\n",
       "      <td>...</td>\n",
       "      <td>...</td>\n",
       "      <td>...</td>\n",
       "      <td>...</td>\n",
       "      <td>...</td>\n",
       "      <td>...</td>\n",
       "      <td>...</td>\n",
       "      <td>...</td>\n",
       "      <td>...</td>\n",
       "    </tr>\n",
       "    <tr>\n",
       "      <th>309</th>\n",
       "      <td>R7400</td>\n",
       "      <td>TMPL6S3I3</td>\n",
       "      <td>Yes</td>\n",
       "      <td>Lung_panel version 1.1</td>\n",
       "      <td>Vi</td>\n",
       "      <td>L3, L6, L12</td>\n",
       "      <td>S3</td>\n",
       "      <td>TMPL6S3I3_R7400</td>\n",
       "      <td>10-TMPL6S3I3_S7590-S7790</td>\n",
       "      <td>/mnt/GS-BACKUP05/FASTQ/2025/R7400/zatm/10-TMPL...</td>\n",
       "      <td>...</td>\n",
       "      <td>191490</td>\n",
       "      <td>189409</td>\n",
       "      <td>16324</td>\n",
       "      <td>262</td>\n",
       "      <td>191490</td>\n",
       "      <td>13</td>\n",
       "      <td>Processed</td>\n",
       "      <td>/workdir/outdir/pipeline_output/data_analysis/...</td>\n",
       "      <td>Processed</td>\n",
       "      <td>/workdir/outdir/pipeline_output/data_analysis/...</td>\n",
       "    </tr>\n",
       "    <tr>\n",
       "      <th>310</th>\n",
       "      <td>R7400</td>\n",
       "      <td>TMPL6S4I3</td>\n",
       "      <td>Yes</td>\n",
       "      <td>Lung_panel version 1.1</td>\n",
       "      <td>Vi</td>\n",
       "      <td>L3, L6, L12</td>\n",
       "      <td>S4</td>\n",
       "      <td>TMPL6S4I3_R7400</td>\n",
       "      <td>11-TMPL6S4I3_S7591-S7791</td>\n",
       "      <td>/mnt/GS-BACKUP05/FASTQ/2025/R7400/zatm/11-TMPL...</td>\n",
       "      <td>...</td>\n",
       "      <td>363520</td>\n",
       "      <td>359986</td>\n",
       "      <td>17832</td>\n",
       "      <td>166</td>\n",
       "      <td>363520</td>\n",
       "      <td>35</td>\n",
       "      <td>Processed</td>\n",
       "      <td>/workdir/outdir/pipeline_output/data_analysis/...</td>\n",
       "      <td>Processed</td>\n",
       "      <td>/workdir/outdir/pipeline_output/data_analysis/...</td>\n",
       "    </tr>\n",
       "    <tr>\n",
       "      <th>311</th>\n",
       "      <td>R7400</td>\n",
       "      <td>TMPL6S5I3</td>\n",
       "      <td>Yes</td>\n",
       "      <td>Lung_panel version 1.1</td>\n",
       "      <td>Vi</td>\n",
       "      <td>L3, L6, L12</td>\n",
       "      <td>S5</td>\n",
       "      <td>TMPL6S5I3_R7400</td>\n",
       "      <td>12-TMPL6S5I3_S7592-S7792</td>\n",
       "      <td>/mnt/GS-BACKUP05/FASTQ/2025/R7400/zatm/12-TMPL...</td>\n",
       "      <td>...</td>\n",
       "      <td>23070</td>\n",
       "      <td>22344</td>\n",
       "      <td>5640</td>\n",
       "      <td>16</td>\n",
       "      <td>23070</td>\n",
       "      <td>15</td>\n",
       "      <td>Processed</td>\n",
       "      <td>/workdir/outdir/pipeline_output/data_analysis/...</td>\n",
       "      <td>Processed</td>\n",
       "      <td>/workdir/outdir/pipeline_output/data_analysis/...</td>\n",
       "    </tr>\n",
       "    <tr>\n",
       "      <th>312</th>\n",
       "      <td>R7400</td>\n",
       "      <td>TMPL6S6I3</td>\n",
       "      <td>Yes</td>\n",
       "      <td>Lung_panel version 1.1</td>\n",
       "      <td>Vi</td>\n",
       "      <td>L3, L6, L12</td>\n",
       "      <td>S6</td>\n",
       "      <td>TMPL6S6I3_R7400</td>\n",
       "      <td>13-TMPL6S6I3_S7593-S7793</td>\n",
       "      <td>/mnt/GS-BACKUP05/FASTQ/2025/R7400/zatm/13-TMPL...</td>\n",
       "      <td>...</td>\n",
       "      <td>1135294</td>\n",
       "      <td>1113771</td>\n",
       "      <td>33808</td>\n",
       "      <td>352</td>\n",
       "      <td>1135294</td>\n",
       "      <td>35</td>\n",
       "      <td>Processed</td>\n",
       "      <td>/workdir/outdir/pipeline_output/data_analysis/...</td>\n",
       "      <td>Processed</td>\n",
       "      <td>/workdir/outdir/pipeline_output/data_analysis/...</td>\n",
       "    </tr>\n",
       "    <tr>\n",
       "      <th>313</th>\n",
       "      <td>R7400</td>\n",
       "      <td>TMPL6S7I3</td>\n",
       "      <td>Yes</td>\n",
       "      <td>Lung_panel version 1.1</td>\n",
       "      <td>Vi</td>\n",
       "      <td>L3, L6, L12</td>\n",
       "      <td>S7</td>\n",
       "      <td>TMPL6S7I3_R7400</td>\n",
       "      <td>14-TMPL6S7I3_S7594-S7794</td>\n",
       "      <td>/mnt/GS-BACKUP05/FASTQ/2025/R7400/zatm/14-TMPL...</td>\n",
       "      <td>...</td>\n",
       "      <td>1552282</td>\n",
       "      <td>1511620</td>\n",
       "      <td>34396</td>\n",
       "      <td>406</td>\n",
       "      <td>1552282</td>\n",
       "      <td>35</td>\n",
       "      <td>Processed</td>\n",
       "      <td>/workdir/outdir/pipeline_output/data_analysis/...</td>\n",
       "      <td>Processed</td>\n",
       "      <td>/workdir/outdir/pipeline_output/data_analysis/...</td>\n",
       "    </tr>\n",
       "  </tbody>\n",
       "</table>\n",
       "<p>314 rows × 31 columns</p>\n",
       "</div>"
      ],
      "text/plain": [
       "       Run   SampleID  UMI           Panel_version Name amplicon_name serial  \\\n",
       "0    R7288     TML1S1  Yes  Lung_panel version 1.1   Vi            L1     S1   \n",
       "1    R7288     TML1S2  Yes  Lung_panel version 1.1   Vi            L1     S2   \n",
       "2    R7288     TML1S3  Yes  Lung_panel version 1.1   Vi            L1     S3   \n",
       "3    R7288     TML1S4  Yes  Lung_panel version 1.1   Vi            L1     S4   \n",
       "4    R7288     TML1S5  Yes  Lung_panel version 1.1   Vi            L1     S5   \n",
       "..     ...        ...  ...                     ...  ...           ...    ...   \n",
       "309  R7400  TMPL6S3I3  Yes  Lung_panel version 1.1   Vi   L3, L6, L12     S3   \n",
       "310  R7400  TMPL6S4I3  Yes  Lung_panel version 1.1   Vi   L3, L6, L12     S4   \n",
       "311  R7400  TMPL6S5I3  Yes  Lung_panel version 1.1   Vi   L3, L6, L12     S5   \n",
       "312  R7400  TMPL6S6I3  Yes  Lung_panel version 1.1   Vi   L3, L6, L12     S6   \n",
       "313  R7400  TMPL6S7I3  Yes  Lung_panel version 1.1   Vi   L3, L6, L12     S7   \n",
       "\n",
       "            uniqueID                  filename  \\\n",
       "0       TML1S1_R7288      1-TML1S1_S7501-S7701   \n",
       "1       TML1S2_R7288      2-TML1S2_S7502-S7702   \n",
       "2       TML1S3_R7288      3-TML1S3_S7503-S7703   \n",
       "3       TML1S4_R7288      4-TML1S4_S7504-S7704   \n",
       "4       TML1S5_R7288      5-TML1S5_S7505-S7705   \n",
       "..               ...                       ...   \n",
       "309  TMPL6S3I3_R7400  10-TMPL6S3I3_S7590-S7790   \n",
       "310  TMPL6S4I3_R7400  11-TMPL6S4I3_S7591-S7791   \n",
       "311  TMPL6S5I3_R7400  12-TMPL6S5I3_S7592-S7792   \n",
       "312  TMPL6S6I3_R7400  13-TMPL6S6I3_S7593-S7793   \n",
       "313  TMPL6S7I3_R7400  14-TMPL6S7I3_S7594-S7794   \n",
       "\n",
       "                                                FASTQ1  ...  \\\n",
       "0    /mnt/GS-BACKUP05/FASTQ/2025/R7288/zatm/1-TML1S...  ...   \n",
       "1    /mnt/GS-BACKUP05/FASTQ/2025/R7288/zatm/2-TML1S...  ...   \n",
       "2    /mnt/GS-BACKUP05/FASTQ/2025/R7288/zatm/3-TML1S...  ...   \n",
       "3    /mnt/GS-BACKUP05/FASTQ/2025/R7288/zatm/4-TML1S...  ...   \n",
       "4    /mnt/GS-BACKUP05/FASTQ/2025/R7288/zatm/5-TML1S...  ...   \n",
       "..                                                 ...  ...   \n",
       "309  /mnt/GS-BACKUP05/FASTQ/2025/R7400/zatm/10-TMPL...  ...   \n",
       "310  /mnt/GS-BACKUP05/FASTQ/2025/R7400/zatm/11-TMPL...  ...   \n",
       "311  /mnt/GS-BACKUP05/FASTQ/2025/R7400/zatm/12-TMPL...  ...   \n",
       "312  /mnt/GS-BACKUP05/FASTQ/2025/R7400/zatm/13-TMPL...  ...   \n",
       "313  /mnt/GS-BACKUP05/FASTQ/2025/R7400/zatm/14-TMPL...  ...   \n",
       "\n",
       "    count_unmapped_bam count_connor_annotated count_connor_fastq  \\\n",
       "0              2645274                2639164              34584   \n",
       "1              2195246                2181957              32044   \n",
       "2              3528722                3519234              38204   \n",
       "3              3210054                3200836              36748   \n",
       "4              3048870                3039512              36012   \n",
       "..                 ...                    ...                ...   \n",
       "309             191490                 189409              16324   \n",
       "310             363520                 359986              17832   \n",
       "311              23070                  22344               5640   \n",
       "312            1135294                1113771              33808   \n",
       "313            1552282                1511620              34396   \n",
       "\n",
       "    count_umi_bam  count_non_umi_bam  count_UMI_cov_file UMI_status  \\\n",
       "0             340            2645274                   4  Processed   \n",
       "1             466            2195246                   4  Processed   \n",
       "2             542            3528722                   4  Processed   \n",
       "3             498            3210054                   4  Processed   \n",
       "4             596            3048870                   4  Processed   \n",
       "..            ...                ...                 ...        ...   \n",
       "309           262             191490                  13  Processed   \n",
       "310           166             363520                  35  Processed   \n",
       "311            16              23070                  15  Processed   \n",
       "312           352            1135294                  35  Processed   \n",
       "313           406            1552282                  35  Processed   \n",
       "\n",
       "                                     UMI_processed_cov ignore_UMI_status  \\\n",
       "0    /workdir/outdir/pipeline_output/data_analysis/...         Processed   \n",
       "1    /workdir/outdir/pipeline_output/data_analysis/...         Processed   \n",
       "2    /workdir/outdir/pipeline_output/data_analysis/...         Processed   \n",
       "3    /workdir/outdir/pipeline_output/data_analysis/...         Processed   \n",
       "4    /workdir/outdir/pipeline_output/data_analysis/...         Processed   \n",
       "..                                                 ...               ...   \n",
       "309  /workdir/outdir/pipeline_output/data_analysis/...         Processed   \n",
       "310  /workdir/outdir/pipeline_output/data_analysis/...         Processed   \n",
       "311  /workdir/outdir/pipeline_output/data_analysis/...         Processed   \n",
       "312  /workdir/outdir/pipeline_output/data_analysis/...         Processed   \n",
       "313  /workdir/outdir/pipeline_output/data_analysis/...         Processed   \n",
       "\n",
       "                              ignore_UMI_processed_cov  \n",
       "0    /workdir/outdir/pipeline_output/data_analysis/...  \n",
       "1    /workdir/outdir/pipeline_output/data_analysis/...  \n",
       "2    /workdir/outdir/pipeline_output/data_analysis/...  \n",
       "3    /workdir/outdir/pipeline_output/data_analysis/...  \n",
       "4    /workdir/outdir/pipeline_output/data_analysis/...  \n",
       "..                                                 ...  \n",
       "309  /workdir/outdir/pipeline_output/data_analysis/...  \n",
       "310  /workdir/outdir/pipeline_output/data_analysis/...  \n",
       "311  /workdir/outdir/pipeline_output/data_analysis/...  \n",
       "312  /workdir/outdir/pipeline_output/data_analysis/...  \n",
       "313  /workdir/outdir/pipeline_output/data_analysis/...  \n",
       "\n",
       "[314 rows x 31 columns]"
      ]
     },
     "execution_count": 6,
     "metadata": {},
     "output_type": "execute_result"
    }
   ],
   "source": [
    "final_umi_rundf"
   ]
  },
  {
   "cell_type": "markdown",
   "id": "3abc32e4",
   "metadata": {},
   "source": [
    "# Main analysis"
   ]
  },
  {
   "cell_type": "markdown",
   "id": "026242e8",
   "metadata": {},
   "source": [
    "## Generate RUN cov file"
   ]
  },
  {
   "cell_type": "code",
   "execution_count": 7,
   "id": "a587e45e",
   "metadata": {},
   "outputs": [
    {
     "data": {
      "text/html": [
       "<div>\n",
       "<style scoped>\n",
       "    .dataframe tbody tr th:only-of-type {\n",
       "        vertical-align: middle;\n",
       "    }\n",
       "\n",
       "    .dataframe tbody tr th {\n",
       "        vertical-align: top;\n",
       "    }\n",
       "\n",
       "    .dataframe thead th {\n",
       "        text-align: right;\n",
       "    }\n",
       "</style>\n",
       "<table border=\"1\" class=\"dataframe\">\n",
       "  <thead>\n",
       "    <tr style=\"text-align: right;\">\n",
       "      <th></th>\n",
       "      <th>Run</th>\n",
       "      <th>SampleID</th>\n",
       "      <th>UMI</th>\n",
       "      <th>Panel_version</th>\n",
       "      <th>Name</th>\n",
       "      <th>amplicon_name</th>\n",
       "      <th>serial</th>\n",
       "      <th>uniqueID</th>\n",
       "      <th>filename</th>\n",
       "      <th>FASTQ1</th>\n",
       "      <th>...</th>\n",
       "      <th>count_unmapped_bam</th>\n",
       "      <th>count_connor_annotated</th>\n",
       "      <th>count_connor_fastq</th>\n",
       "      <th>count_umi_bam</th>\n",
       "      <th>count_non_umi_bam</th>\n",
       "      <th>count_UMI_cov_file</th>\n",
       "      <th>UMI_status</th>\n",
       "      <th>UMI_processed_cov</th>\n",
       "      <th>ignore_UMI_status</th>\n",
       "      <th>ignore_UMI_processed_cov</th>\n",
       "    </tr>\n",
       "  </thead>\n",
       "  <tbody>\n",
       "    <tr>\n",
       "      <th>0</th>\n",
       "      <td>R7288</td>\n",
       "      <td>TML1S1</td>\n",
       "      <td>Yes</td>\n",
       "      <td>Lung_panel version 1.1</td>\n",
       "      <td>Vi</td>\n",
       "      <td>L1</td>\n",
       "      <td>S1</td>\n",
       "      <td>TML1S1_R7288</td>\n",
       "      <td>1-TML1S1_S7501-S7701</td>\n",
       "      <td>/mnt/GS-BACKUP05/FASTQ/2025/R7288/zatm/1-TML1S...</td>\n",
       "      <td>...</td>\n",
       "      <td>2645274</td>\n",
       "      <td>2639164</td>\n",
       "      <td>34584</td>\n",
       "      <td>340</td>\n",
       "      <td>2645274</td>\n",
       "      <td>4</td>\n",
       "      <td>Processed</td>\n",
       "      <td>/workdir/outdir/pipeline_output/data_analysis/...</td>\n",
       "      <td>Processed</td>\n",
       "      <td>/workdir/outdir/pipeline_output/data_analysis/...</td>\n",
       "    </tr>\n",
       "    <tr>\n",
       "      <th>1</th>\n",
       "      <td>R7288</td>\n",
       "      <td>TML1S2</td>\n",
       "      <td>Yes</td>\n",
       "      <td>Lung_panel version 1.1</td>\n",
       "      <td>Vi</td>\n",
       "      <td>L1</td>\n",
       "      <td>S2</td>\n",
       "      <td>TML1S2_R7288</td>\n",
       "      <td>2-TML1S2_S7502-S7702</td>\n",
       "      <td>/mnt/GS-BACKUP05/FASTQ/2025/R7288/zatm/2-TML1S...</td>\n",
       "      <td>...</td>\n",
       "      <td>2195246</td>\n",
       "      <td>2181957</td>\n",
       "      <td>32044</td>\n",
       "      <td>466</td>\n",
       "      <td>2195246</td>\n",
       "      <td>4</td>\n",
       "      <td>Processed</td>\n",
       "      <td>/workdir/outdir/pipeline_output/data_analysis/...</td>\n",
       "      <td>Processed</td>\n",
       "      <td>/workdir/outdir/pipeline_output/data_analysis/...</td>\n",
       "    </tr>\n",
       "    <tr>\n",
       "      <th>2</th>\n",
       "      <td>R7288</td>\n",
       "      <td>TML1S3</td>\n",
       "      <td>Yes</td>\n",
       "      <td>Lung_panel version 1.1</td>\n",
       "      <td>Vi</td>\n",
       "      <td>L1</td>\n",
       "      <td>S3</td>\n",
       "      <td>TML1S3_R7288</td>\n",
       "      <td>3-TML1S3_S7503-S7703</td>\n",
       "      <td>/mnt/GS-BACKUP05/FASTQ/2025/R7288/zatm/3-TML1S...</td>\n",
       "      <td>...</td>\n",
       "      <td>3528722</td>\n",
       "      <td>3519234</td>\n",
       "      <td>38204</td>\n",
       "      <td>542</td>\n",
       "      <td>3528722</td>\n",
       "      <td>4</td>\n",
       "      <td>Processed</td>\n",
       "      <td>/workdir/outdir/pipeline_output/data_analysis/...</td>\n",
       "      <td>Processed</td>\n",
       "      <td>/workdir/outdir/pipeline_output/data_analysis/...</td>\n",
       "    </tr>\n",
       "    <tr>\n",
       "      <th>3</th>\n",
       "      <td>R7288</td>\n",
       "      <td>TML1S4</td>\n",
       "      <td>Yes</td>\n",
       "      <td>Lung_panel version 1.1</td>\n",
       "      <td>Vi</td>\n",
       "      <td>L1</td>\n",
       "      <td>S4</td>\n",
       "      <td>TML1S4_R7288</td>\n",
       "      <td>4-TML1S4_S7504-S7704</td>\n",
       "      <td>/mnt/GS-BACKUP05/FASTQ/2025/R7288/zatm/4-TML1S...</td>\n",
       "      <td>...</td>\n",
       "      <td>3210054</td>\n",
       "      <td>3200836</td>\n",
       "      <td>36748</td>\n",
       "      <td>498</td>\n",
       "      <td>3210054</td>\n",
       "      <td>4</td>\n",
       "      <td>Processed</td>\n",
       "      <td>/workdir/outdir/pipeline_output/data_analysis/...</td>\n",
       "      <td>Processed</td>\n",
       "      <td>/workdir/outdir/pipeline_output/data_analysis/...</td>\n",
       "    </tr>\n",
       "    <tr>\n",
       "      <th>4</th>\n",
       "      <td>R7288</td>\n",
       "      <td>TML1S5</td>\n",
       "      <td>Yes</td>\n",
       "      <td>Lung_panel version 1.1</td>\n",
       "      <td>Vi</td>\n",
       "      <td>L1</td>\n",
       "      <td>S5</td>\n",
       "      <td>TML1S5_R7288</td>\n",
       "      <td>5-TML1S5_S7505-S7705</td>\n",
       "      <td>/mnt/GS-BACKUP05/FASTQ/2025/R7288/zatm/5-TML1S...</td>\n",
       "      <td>...</td>\n",
       "      <td>3048870</td>\n",
       "      <td>3039512</td>\n",
       "      <td>36012</td>\n",
       "      <td>596</td>\n",
       "      <td>3048870</td>\n",
       "      <td>4</td>\n",
       "      <td>Processed</td>\n",
       "      <td>/workdir/outdir/pipeline_output/data_analysis/...</td>\n",
       "      <td>Processed</td>\n",
       "      <td>/workdir/outdir/pipeline_output/data_analysis/...</td>\n",
       "    </tr>\n",
       "    <tr>\n",
       "      <th>5</th>\n",
       "      <td>R7288</td>\n",
       "      <td>TML2S1</td>\n",
       "      <td>Yes</td>\n",
       "      <td>Lung_panel version 1.1</td>\n",
       "      <td>Vi</td>\n",
       "      <td>L2</td>\n",
       "      <td>S1</td>\n",
       "      <td>TML2S1_R7288</td>\n",
       "      <td>6-TML2S1_S7506-S7706</td>\n",
       "      <td>/mnt/GS-BACKUP05/FASTQ/2025/R7288/zatm/6-TML2S...</td>\n",
       "      <td>...</td>\n",
       "      <td>2948432</td>\n",
       "      <td>2943330</td>\n",
       "      <td>23984</td>\n",
       "      <td>110</td>\n",
       "      <td>2948432</td>\n",
       "      <td>14</td>\n",
       "      <td>Processed</td>\n",
       "      <td>/workdir/outdir/pipeline_output/data_analysis/...</td>\n",
       "      <td>Processed</td>\n",
       "      <td>/workdir/outdir/pipeline_output/data_analysis/...</td>\n",
       "    </tr>\n",
       "    <tr>\n",
       "      <th>6</th>\n",
       "      <td>R7288</td>\n",
       "      <td>TML2S2</td>\n",
       "      <td>Yes</td>\n",
       "      <td>Lung_panel version 1.1</td>\n",
       "      <td>Vi</td>\n",
       "      <td>L2</td>\n",
       "      <td>S2</td>\n",
       "      <td>TML2S2_R7288</td>\n",
       "      <td>7-TML2S2_S7507-S7707</td>\n",
       "      <td>/mnt/GS-BACKUP05/FASTQ/2025/R7288/zatm/7-TML2S...</td>\n",
       "      <td>...</td>\n",
       "      <td>1807688</td>\n",
       "      <td>1804105</td>\n",
       "      <td>20268</td>\n",
       "      <td>80</td>\n",
       "      <td>1807688</td>\n",
       "      <td>15</td>\n",
       "      <td>Processed</td>\n",
       "      <td>/workdir/outdir/pipeline_output/data_analysis/...</td>\n",
       "      <td>Processed</td>\n",
       "      <td>/workdir/outdir/pipeline_output/data_analysis/...</td>\n",
       "    </tr>\n",
       "    <tr>\n",
       "      <th>7</th>\n",
       "      <td>R7288</td>\n",
       "      <td>TML2S3</td>\n",
       "      <td>Yes</td>\n",
       "      <td>Lung_panel version 1.1</td>\n",
       "      <td>Vi</td>\n",
       "      <td>L2</td>\n",
       "      <td>S3</td>\n",
       "      <td>TML2S3_R7288</td>\n",
       "      <td>8-TML2S3_S7508-S7708</td>\n",
       "      <td>/mnt/GS-BACKUP05/FASTQ/2025/R7288/zatm/8-TML2S...</td>\n",
       "      <td>...</td>\n",
       "      <td>2295430</td>\n",
       "      <td>2292264</td>\n",
       "      <td>21420</td>\n",
       "      <td>78</td>\n",
       "      <td>2295430</td>\n",
       "      <td>14</td>\n",
       "      <td>Processed</td>\n",
       "      <td>/workdir/outdir/pipeline_output/data_analysis/...</td>\n",
       "      <td>Processed</td>\n",
       "      <td>/workdir/outdir/pipeline_output/data_analysis/...</td>\n",
       "    </tr>\n",
       "    <tr>\n",
       "      <th>8</th>\n",
       "      <td>R7288</td>\n",
       "      <td>TML2S4</td>\n",
       "      <td>Yes</td>\n",
       "      <td>Lung_panel version 1.1</td>\n",
       "      <td>Vi</td>\n",
       "      <td>L2</td>\n",
       "      <td>S4</td>\n",
       "      <td>TML2S4_R7288</td>\n",
       "      <td>9-TML2S4_S7509-S7709</td>\n",
       "      <td>/mnt/GS-BACKUP05/FASTQ/2025/R7288/zatm/9-TML2S...</td>\n",
       "      <td>...</td>\n",
       "      <td>2364928</td>\n",
       "      <td>2360907</td>\n",
       "      <td>21884</td>\n",
       "      <td>60</td>\n",
       "      <td>2364928</td>\n",
       "      <td>14</td>\n",
       "      <td>Processed</td>\n",
       "      <td>/workdir/outdir/pipeline_output/data_analysis/...</td>\n",
       "      <td>Processed</td>\n",
       "      <td>/workdir/outdir/pipeline_output/data_analysis/...</td>\n",
       "    </tr>\n",
       "    <tr>\n",
       "      <th>9</th>\n",
       "      <td>R7288</td>\n",
       "      <td>TML2S5</td>\n",
       "      <td>Yes</td>\n",
       "      <td>Lung_panel version 1.1</td>\n",
       "      <td>Vi</td>\n",
       "      <td>L2</td>\n",
       "      <td>S5</td>\n",
       "      <td>TML2S5_R7288</td>\n",
       "      <td>10-TML2S5_S7510-S7710</td>\n",
       "      <td>/mnt/GS-BACKUP05/FASTQ/2025/R7288/zatm/10-TML2...</td>\n",
       "      <td>...</td>\n",
       "      <td>2859666</td>\n",
       "      <td>2856735</td>\n",
       "      <td>23616</td>\n",
       "      <td>124</td>\n",
       "      <td>2859666</td>\n",
       "      <td>14</td>\n",
       "      <td>Processed</td>\n",
       "      <td>/workdir/outdir/pipeline_output/data_analysis/...</td>\n",
       "      <td>Processed</td>\n",
       "      <td>/workdir/outdir/pipeline_output/data_analysis/...</td>\n",
       "    </tr>\n",
       "    <tr>\n",
       "      <th>10</th>\n",
       "      <td>R7288</td>\n",
       "      <td>TML3S1</td>\n",
       "      <td>Yes</td>\n",
       "      <td>Lung_panel version 1.1</td>\n",
       "      <td>Vi</td>\n",
       "      <td>L3</td>\n",
       "      <td>S1</td>\n",
       "      <td>TML3S1_R7288</td>\n",
       "      <td>11-TML3S1_S7511-S7711</td>\n",
       "      <td>/mnt/GS-BACKUP05/FASTQ/2025/R7288/zatm/11-TML3...</td>\n",
       "      <td>...</td>\n",
       "      <td>419212</td>\n",
       "      <td>415074</td>\n",
       "      <td>16740</td>\n",
       "      <td>272</td>\n",
       "      <td>419212</td>\n",
       "      <td>13</td>\n",
       "      <td>Processed</td>\n",
       "      <td>/workdir/outdir/pipeline_output/data_analysis/...</td>\n",
       "      <td>Processed</td>\n",
       "      <td>/workdir/outdir/pipeline_output/data_analysis/...</td>\n",
       "    </tr>\n",
       "    <tr>\n",
       "      <th>11</th>\n",
       "      <td>R7288</td>\n",
       "      <td>TML3S2</td>\n",
       "      <td>Yes</td>\n",
       "      <td>Lung_panel version 1.1</td>\n",
       "      <td>Vi</td>\n",
       "      <td>L3</td>\n",
       "      <td>S2</td>\n",
       "      <td>TML3S2_R7288</td>\n",
       "      <td>12-TML3S2_S7512-S7712</td>\n",
       "      <td>/mnt/GS-BACKUP05/FASTQ/2025/R7288/zatm/12-TML3...</td>\n",
       "      <td>...</td>\n",
       "      <td>346982</td>\n",
       "      <td>290902</td>\n",
       "      <td>16432</td>\n",
       "      <td>264</td>\n",
       "      <td>346982</td>\n",
       "      <td>13</td>\n",
       "      <td>Processed</td>\n",
       "      <td>/workdir/outdir/pipeline_output/data_analysis/...</td>\n",
       "      <td>Processed</td>\n",
       "      <td>/workdir/outdir/pipeline_output/data_analysis/...</td>\n",
       "    </tr>\n",
       "    <tr>\n",
       "      <th>12</th>\n",
       "      <td>R7288</td>\n",
       "      <td>TML3S3</td>\n",
       "      <td>Yes</td>\n",
       "      <td>Lung_panel version 1.1</td>\n",
       "      <td>Vi</td>\n",
       "      <td>L3</td>\n",
       "      <td>S3</td>\n",
       "      <td>TML3S3_R7288</td>\n",
       "      <td>13-TML3S3_S7513-S7713</td>\n",
       "      <td>/mnt/GS-BACKUP05/FASTQ/2025/R7288/zatm/13-TML3...</td>\n",
       "      <td>...</td>\n",
       "      <td>306902</td>\n",
       "      <td>304192</td>\n",
       "      <td>16608</td>\n",
       "      <td>280</td>\n",
       "      <td>306902</td>\n",
       "      <td>14</td>\n",
       "      <td>Processed</td>\n",
       "      <td>/workdir/outdir/pipeline_output/data_analysis/...</td>\n",
       "      <td>Processed</td>\n",
       "      <td>/workdir/outdir/pipeline_output/data_analysis/...</td>\n",
       "    </tr>\n",
       "    <tr>\n",
       "      <th>13</th>\n",
       "      <td>R7288</td>\n",
       "      <td>TML3S4</td>\n",
       "      <td>Yes</td>\n",
       "      <td>Lung_panel version 1.1</td>\n",
       "      <td>Vi</td>\n",
       "      <td>L3</td>\n",
       "      <td>S4</td>\n",
       "      <td>TML3S4_R7288</td>\n",
       "      <td>14-TML3S4_S7514-S7714</td>\n",
       "      <td>/mnt/GS-BACKUP05/FASTQ/2025/R7288/zatm/14-TML3...</td>\n",
       "      <td>...</td>\n",
       "      <td>1623828</td>\n",
       "      <td>1468385</td>\n",
       "      <td>19516</td>\n",
       "      <td>48</td>\n",
       "      <td>1623828</td>\n",
       "      <td>13</td>\n",
       "      <td>Processed</td>\n",
       "      <td>/workdir/outdir/pipeline_output/data_analysis/...</td>\n",
       "      <td>Processed</td>\n",
       "      <td>/workdir/outdir/pipeline_output/data_analysis/...</td>\n",
       "    </tr>\n",
       "    <tr>\n",
       "      <th>14</th>\n",
       "      <td>R7288</td>\n",
       "      <td>TML3S5</td>\n",
       "      <td>Yes</td>\n",
       "      <td>Lung_panel version 1.1</td>\n",
       "      <td>Vi</td>\n",
       "      <td>L3</td>\n",
       "      <td>S5</td>\n",
       "      <td>TML3S5_R7288</td>\n",
       "      <td>15-TML3S5_S7515-S7715</td>\n",
       "      <td>/mnt/GS-BACKUP05/FASTQ/2025/R7288/zatm/15-TML3...</td>\n",
       "      <td>...</td>\n",
       "      <td>2572720</td>\n",
       "      <td>2475495</td>\n",
       "      <td>23264</td>\n",
       "      <td>334</td>\n",
       "      <td>2572720</td>\n",
       "      <td>13</td>\n",
       "      <td>Processed</td>\n",
       "      <td>/workdir/outdir/pipeline_output/data_analysis/...</td>\n",
       "      <td>Processed</td>\n",
       "      <td>/workdir/outdir/pipeline_output/data_analysis/...</td>\n",
       "    </tr>\n",
       "    <tr>\n",
       "      <th>15</th>\n",
       "      <td>R7288</td>\n",
       "      <td>TML5S1</td>\n",
       "      <td>Yes</td>\n",
       "      <td>Lung_panel version 1.1</td>\n",
       "      <td>Vi</td>\n",
       "      <td>L5</td>\n",
       "      <td>S1</td>\n",
       "      <td>TML5S1_R7288</td>\n",
       "      <td>16-TML5S1_S7516-S7716</td>\n",
       "      <td>/mnt/GS-BACKUP05/FASTQ/2025/R7288/zatm/16-TML5...</td>\n",
       "      <td>...</td>\n",
       "      <td>3454198</td>\n",
       "      <td>3401257</td>\n",
       "      <td>132</td>\n",
       "      <td>34</td>\n",
       "      <td>3454198</td>\n",
       "      <td>9</td>\n",
       "      <td>Processed</td>\n",
       "      <td>/workdir/outdir/pipeline_output/data_analysis/...</td>\n",
       "      <td>Processed</td>\n",
       "      <td>/workdir/outdir/pipeline_output/data_analysis/...</td>\n",
       "    </tr>\n",
       "    <tr>\n",
       "      <th>16</th>\n",
       "      <td>R7288</td>\n",
       "      <td>TML5S2</td>\n",
       "      <td>Yes</td>\n",
       "      <td>Lung_panel version 1.1</td>\n",
       "      <td>Vi</td>\n",
       "      <td>L5</td>\n",
       "      <td>S2</td>\n",
       "      <td>TML5S2_R7288</td>\n",
       "      <td>17-TML5S2_S7517-S7717</td>\n",
       "      <td>/mnt/GS-BACKUP05/FASTQ/2025/R7288/zatm/17-TML5...</td>\n",
       "      <td>...</td>\n",
       "      <td>3923654</td>\n",
       "      <td>3873690</td>\n",
       "      <td>136</td>\n",
       "      <td>36</td>\n",
       "      <td>3923654</td>\n",
       "      <td>9</td>\n",
       "      <td>Processed</td>\n",
       "      <td>/workdir/outdir/pipeline_output/data_analysis/...</td>\n",
       "      <td>Processed</td>\n",
       "      <td>/workdir/outdir/pipeline_output/data_analysis/...</td>\n",
       "    </tr>\n",
       "    <tr>\n",
       "      <th>17</th>\n",
       "      <td>R7288</td>\n",
       "      <td>TML5S3</td>\n",
       "      <td>Yes</td>\n",
       "      <td>Lung_panel version 1.1</td>\n",
       "      <td>Vi</td>\n",
       "      <td>L5</td>\n",
       "      <td>S3</td>\n",
       "      <td>TML5S3_R7288</td>\n",
       "      <td>18-TML5S3_S7518-S7718</td>\n",
       "      <td>/mnt/GS-BACKUP05/FASTQ/2025/R7288/zatm/18-TML5...</td>\n",
       "      <td>...</td>\n",
       "      <td>4216264</td>\n",
       "      <td>4171813</td>\n",
       "      <td>128</td>\n",
       "      <td>22</td>\n",
       "      <td>4216264</td>\n",
       "      <td>9</td>\n",
       "      <td>Processed</td>\n",
       "      <td>/workdir/outdir/pipeline_output/data_analysis/...</td>\n",
       "      <td>Processed</td>\n",
       "      <td>/workdir/outdir/pipeline_output/data_analysis/...</td>\n",
       "    </tr>\n",
       "    <tr>\n",
       "      <th>18</th>\n",
       "      <td>R7288</td>\n",
       "      <td>TML5S4</td>\n",
       "      <td>Yes</td>\n",
       "      <td>Lung_panel version 1.1</td>\n",
       "      <td>Vi</td>\n",
       "      <td>L5</td>\n",
       "      <td>S4</td>\n",
       "      <td>TML5S4_R7288</td>\n",
       "      <td>19-TML5S4_S7519-S7719</td>\n",
       "      <td>/mnt/GS-BACKUP05/FASTQ/2025/R7288/zatm/19-TML5...</td>\n",
       "      <td>...</td>\n",
       "      <td>4048552</td>\n",
       "      <td>4015007</td>\n",
       "      <td>144</td>\n",
       "      <td>16</td>\n",
       "      <td>4048552</td>\n",
       "      <td>9</td>\n",
       "      <td>Processed</td>\n",
       "      <td>/workdir/outdir/pipeline_output/data_analysis/...</td>\n",
       "      <td>Processed</td>\n",
       "      <td>/workdir/outdir/pipeline_output/data_analysis/...</td>\n",
       "    </tr>\n",
       "    <tr>\n",
       "      <th>19</th>\n",
       "      <td>R7288</td>\n",
       "      <td>TML5S5</td>\n",
       "      <td>Yes</td>\n",
       "      <td>Lung_panel version 1.1</td>\n",
       "      <td>Vi</td>\n",
       "      <td>L5</td>\n",
       "      <td>S5</td>\n",
       "      <td>TML5S5_R7288</td>\n",
       "      <td>20-TML5S5_S7520-S7720</td>\n",
       "      <td>/mnt/GS-BACKUP05/FASTQ/2025/R7288/zatm/20-TML5...</td>\n",
       "      <td>...</td>\n",
       "      <td>3184478</td>\n",
       "      <td>3170380</td>\n",
       "      <td>116</td>\n",
       "      <td>32</td>\n",
       "      <td>3184478</td>\n",
       "      <td>9</td>\n",
       "      <td>Processed</td>\n",
       "      <td>/workdir/outdir/pipeline_output/data_analysis/...</td>\n",
       "      <td>Processed</td>\n",
       "      <td>/workdir/outdir/pipeline_output/data_analysis/...</td>\n",
       "    </tr>\n",
       "    <tr>\n",
       "      <th>20</th>\n",
       "      <td>R7288</td>\n",
       "      <td>TML8S1</td>\n",
       "      <td>Yes</td>\n",
       "      <td>Lung_panel version 1.1</td>\n",
       "      <td>Vi</td>\n",
       "      <td>L8</td>\n",
       "      <td>S1</td>\n",
       "      <td>TML8S1_R7288</td>\n",
       "      <td>21-TML8S1_S7521-S7721</td>\n",
       "      <td>/mnt/GS-BACKUP05/FASTQ/2025/R7288/zatm/21-TML8...</td>\n",
       "      <td>...</td>\n",
       "      <td>3126670</td>\n",
       "      <td>3120599</td>\n",
       "      <td>48636</td>\n",
       "      <td>1246</td>\n",
       "      <td>3126670</td>\n",
       "      <td>16</td>\n",
       "      <td>Processed</td>\n",
       "      <td>/workdir/outdir/pipeline_output/data_analysis/...</td>\n",
       "      <td>Processed</td>\n",
       "      <td>/workdir/outdir/pipeline_output/data_analysis/...</td>\n",
       "    </tr>\n",
       "    <tr>\n",
       "      <th>21</th>\n",
       "      <td>R7288</td>\n",
       "      <td>TML8S2</td>\n",
       "      <td>Yes</td>\n",
       "      <td>Lung_panel version 1.1</td>\n",
       "      <td>Vi</td>\n",
       "      <td>L8</td>\n",
       "      <td>S2</td>\n",
       "      <td>TML8S2_R7288</td>\n",
       "      <td>22-TML8S2_S7522-S7722</td>\n",
       "      <td>/mnt/GS-BACKUP05/FASTQ/2025/R7288/zatm/22-TML8...</td>\n",
       "      <td>...</td>\n",
       "      <td>2956264</td>\n",
       "      <td>2947279</td>\n",
       "      <td>43000</td>\n",
       "      <td>894</td>\n",
       "      <td>2956264</td>\n",
       "      <td>16</td>\n",
       "      <td>Processed</td>\n",
       "      <td>/workdir/outdir/pipeline_output/data_analysis/...</td>\n",
       "      <td>Processed</td>\n",
       "      <td>/workdir/outdir/pipeline_output/data_analysis/...</td>\n",
       "    </tr>\n",
       "    <tr>\n",
       "      <th>22</th>\n",
       "      <td>R7288</td>\n",
       "      <td>TML8S3</td>\n",
       "      <td>Yes</td>\n",
       "      <td>Lung_panel version 1.1</td>\n",
       "      <td>Vi</td>\n",
       "      <td>L8</td>\n",
       "      <td>S3</td>\n",
       "      <td>TML8S3_R7288</td>\n",
       "      <td>23-TML8S3_S7523-S7723</td>\n",
       "      <td>/mnt/GS-BACKUP05/FASTQ/2025/R7288/zatm/23-TML8...</td>\n",
       "      <td>...</td>\n",
       "      <td>3355038</td>\n",
       "      <td>3347334</td>\n",
       "      <td>46204</td>\n",
       "      <td>1038</td>\n",
       "      <td>3355038</td>\n",
       "      <td>16</td>\n",
       "      <td>Processed</td>\n",
       "      <td>/workdir/outdir/pipeline_output/data_analysis/...</td>\n",
       "      <td>Processed</td>\n",
       "      <td>/workdir/outdir/pipeline_output/data_analysis/...</td>\n",
       "    </tr>\n",
       "    <tr>\n",
       "      <th>23</th>\n",
       "      <td>R7288</td>\n",
       "      <td>TML8S4</td>\n",
       "      <td>Yes</td>\n",
       "      <td>Lung_panel version 1.1</td>\n",
       "      <td>Vi</td>\n",
       "      <td>L8</td>\n",
       "      <td>S4</td>\n",
       "      <td>TML8S4_R7288</td>\n",
       "      <td>24-TML8S4_S7524-S7724</td>\n",
       "      <td>/mnt/GS-BACKUP05/FASTQ/2025/R7288/zatm/24-TML8...</td>\n",
       "      <td>...</td>\n",
       "      <td>2957470</td>\n",
       "      <td>2953274</td>\n",
       "      <td>42188</td>\n",
       "      <td>570</td>\n",
       "      <td>2957470</td>\n",
       "      <td>16</td>\n",
       "      <td>Processed</td>\n",
       "      <td>/workdir/outdir/pipeline_output/data_analysis/...</td>\n",
       "      <td>Processed</td>\n",
       "      <td>/workdir/outdir/pipeline_output/data_analysis/...</td>\n",
       "    </tr>\n",
       "    <tr>\n",
       "      <th>24</th>\n",
       "      <td>R7288</td>\n",
       "      <td>TML8S5</td>\n",
       "      <td>Yes</td>\n",
       "      <td>Lung_panel version 1.1</td>\n",
       "      <td>Vi</td>\n",
       "      <td>L8</td>\n",
       "      <td>S5</td>\n",
       "      <td>TML8S5_R7288</td>\n",
       "      <td>25-TML8S5_S7525-S7725</td>\n",
       "      <td>/mnt/GS-BACKUP05/FASTQ/2025/R7288/zatm/25-TML8...</td>\n",
       "      <td>...</td>\n",
       "      <td>3127116</td>\n",
       "      <td>3125135</td>\n",
       "      <td>43976</td>\n",
       "      <td>996</td>\n",
       "      <td>3127116</td>\n",
       "      <td>16</td>\n",
       "      <td>Processed</td>\n",
       "      <td>/workdir/outdir/pipeline_output/data_analysis/...</td>\n",
       "      <td>Processed</td>\n",
       "      <td>/workdir/outdir/pipeline_output/data_analysis/...</td>\n",
       "    </tr>\n",
       "    <tr>\n",
       "      <th>25</th>\n",
       "      <td>R7288</td>\n",
       "      <td>TML9S1</td>\n",
       "      <td>Yes</td>\n",
       "      <td>Lung_panel version 1.1</td>\n",
       "      <td>Vi</td>\n",
       "      <td>L9</td>\n",
       "      <td>S1</td>\n",
       "      <td>TML9S1_R7288</td>\n",
       "      <td>26-TML9S1_S7526-S7726</td>\n",
       "      <td>/mnt/GS-BACKUP05/FASTQ/2025/R7288/zatm/26-TML9...</td>\n",
       "      <td>...</td>\n",
       "      <td>3591092</td>\n",
       "      <td>3579150</td>\n",
       "      <td>37112</td>\n",
       "      <td>444</td>\n",
       "      <td>3591092</td>\n",
       "      <td>15</td>\n",
       "      <td>Processed</td>\n",
       "      <td>/workdir/outdir/pipeline_output/data_analysis/...</td>\n",
       "      <td>Processed</td>\n",
       "      <td>/workdir/outdir/pipeline_output/data_analysis/...</td>\n",
       "    </tr>\n",
       "    <tr>\n",
       "      <th>26</th>\n",
       "      <td>R7288</td>\n",
       "      <td>TML9S2</td>\n",
       "      <td>Yes</td>\n",
       "      <td>Lung_panel version 1.1</td>\n",
       "      <td>Vi</td>\n",
       "      <td>L9</td>\n",
       "      <td>S2</td>\n",
       "      <td>TML9S2_R7288</td>\n",
       "      <td>27-TML9S2_S7527-S7727</td>\n",
       "      <td>/mnt/GS-BACKUP05/FASTQ/2025/R7288/zatm/27-TML9...</td>\n",
       "      <td>...</td>\n",
       "      <td>2401304</td>\n",
       "      <td>2386635</td>\n",
       "      <td>34204</td>\n",
       "      <td>292</td>\n",
       "      <td>2401304</td>\n",
       "      <td>20</td>\n",
       "      <td>Processed</td>\n",
       "      <td>/workdir/outdir/pipeline_output/data_analysis/...</td>\n",
       "      <td>Processed</td>\n",
       "      <td>/workdir/outdir/pipeline_output/data_analysis/...</td>\n",
       "    </tr>\n",
       "    <tr>\n",
       "      <th>27</th>\n",
       "      <td>R7288</td>\n",
       "      <td>TML9S3</td>\n",
       "      <td>Yes</td>\n",
       "      <td>Lung_panel version 1.1</td>\n",
       "      <td>Vi</td>\n",
       "      <td>L9</td>\n",
       "      <td>S3</td>\n",
       "      <td>TML9S3_R7288</td>\n",
       "      <td>28-TML9S3_S7528-S7728</td>\n",
       "      <td>/mnt/GS-BACKUP05/FASTQ/2025/R7288/zatm/28-TML9...</td>\n",
       "      <td>...</td>\n",
       "      <td>3648024</td>\n",
       "      <td>3636281</td>\n",
       "      <td>36944</td>\n",
       "      <td>510</td>\n",
       "      <td>3648024</td>\n",
       "      <td>15</td>\n",
       "      <td>Processed</td>\n",
       "      <td>/workdir/outdir/pipeline_output/data_analysis/...</td>\n",
       "      <td>Processed</td>\n",
       "      <td>/workdir/outdir/pipeline_output/data_analysis/...</td>\n",
       "    </tr>\n",
       "    <tr>\n",
       "      <th>28</th>\n",
       "      <td>R7288</td>\n",
       "      <td>TML9S4</td>\n",
       "      <td>Yes</td>\n",
       "      <td>Lung_panel version 1.1</td>\n",
       "      <td>Vi</td>\n",
       "      <td>L9</td>\n",
       "      <td>S4</td>\n",
       "      <td>TML9S4_R7288</td>\n",
       "      <td>29-TML9S4_S7529-S7729</td>\n",
       "      <td>/mnt/GS-BACKUP05/FASTQ/2025/R7288/zatm/29-TML9...</td>\n",
       "      <td>...</td>\n",
       "      <td>3345504</td>\n",
       "      <td>3331773</td>\n",
       "      <td>39160</td>\n",
       "      <td>310</td>\n",
       "      <td>3345504</td>\n",
       "      <td>16</td>\n",
       "      <td>Processed</td>\n",
       "      <td>/workdir/outdir/pipeline_output/data_analysis/...</td>\n",
       "      <td>Processed</td>\n",
       "      <td>/workdir/outdir/pipeline_output/data_analysis/...</td>\n",
       "    </tr>\n",
       "    <tr>\n",
       "      <th>29</th>\n",
       "      <td>R7288</td>\n",
       "      <td>TML9S5</td>\n",
       "      <td>Yes</td>\n",
       "      <td>Lung_panel version 1.1</td>\n",
       "      <td>Vi</td>\n",
       "      <td>L9</td>\n",
       "      <td>S5</td>\n",
       "      <td>TML9S5_R7288</td>\n",
       "      <td>30-TML9S5_S7530-S7730</td>\n",
       "      <td>/mnt/GS-BACKUP05/FASTQ/2025/R7288/zatm/30-TML9...</td>\n",
       "      <td>...</td>\n",
       "      <td>3605548</td>\n",
       "      <td>3597681</td>\n",
       "      <td>36880</td>\n",
       "      <td>370</td>\n",
       "      <td>3605548</td>\n",
       "      <td>18</td>\n",
       "      <td>Processed</td>\n",
       "      <td>/workdir/outdir/pipeline_output/data_analysis/...</td>\n",
       "      <td>Processed</td>\n",
       "      <td>/workdir/outdir/pipeline_output/data_analysis/...</td>\n",
       "    </tr>\n",
       "    <tr>\n",
       "      <th>30</th>\n",
       "      <td>R7288</td>\n",
       "      <td>TML10S1</td>\n",
       "      <td>Yes</td>\n",
       "      <td>Lung_panel version 1.1</td>\n",
       "      <td>Vi</td>\n",
       "      <td>L10</td>\n",
       "      <td>S1</td>\n",
       "      <td>TML10S1_R7288</td>\n",
       "      <td>31-TML10S1_S7531-S7731</td>\n",
       "      <td>/mnt/GS-BACKUP05/FASTQ/2025/R7288/zatm/31-TML1...</td>\n",
       "      <td>...</td>\n",
       "      <td>20050</td>\n",
       "      <td>18984</td>\n",
       "      <td>5972</td>\n",
       "      <td>168</td>\n",
       "      <td>20050</td>\n",
       "      <td>12</td>\n",
       "      <td>Processed</td>\n",
       "      <td>/workdir/outdir/pipeline_output/data_analysis/...</td>\n",
       "      <td>Processed</td>\n",
       "      <td>/workdir/outdir/pipeline_output/data_analysis/...</td>\n",
       "    </tr>\n",
       "    <tr>\n",
       "      <th>31</th>\n",
       "      <td>R7288</td>\n",
       "      <td>TML10S2</td>\n",
       "      <td>Yes</td>\n",
       "      <td>Lung_panel version 1.1</td>\n",
       "      <td>Vi</td>\n",
       "      <td>L10</td>\n",
       "      <td>S2</td>\n",
       "      <td>TML10S2_R7288</td>\n",
       "      <td>32-TML10S2_S7532-S7732</td>\n",
       "      <td>/mnt/GS-BACKUP05/FASTQ/2025/R7288/zatm/32-TML1...</td>\n",
       "      <td>...</td>\n",
       "      <td>35966</td>\n",
       "      <td>34049</td>\n",
       "      <td>10300</td>\n",
       "      <td>326</td>\n",
       "      <td>35966</td>\n",
       "      <td>12</td>\n",
       "      <td>Processed</td>\n",
       "      <td>/workdir/outdir/pipeline_output/data_analysis/...</td>\n",
       "      <td>Processed</td>\n",
       "      <td>/workdir/outdir/pipeline_output/data_analysis/...</td>\n",
       "    </tr>\n",
       "    <tr>\n",
       "      <th>32</th>\n",
       "      <td>R7288</td>\n",
       "      <td>TML10S3</td>\n",
       "      <td>Yes</td>\n",
       "      <td>Lung_panel version 1.1</td>\n",
       "      <td>Vi</td>\n",
       "      <td>L10</td>\n",
       "      <td>S3</td>\n",
       "      <td>TML10S3_R7288</td>\n",
       "      <td>33-TML10S3_S7533-S7733</td>\n",
       "      <td>/mnt/GS-BACKUP05/FASTQ/2025/R7288/zatm/33-TML1...</td>\n",
       "      <td>...</td>\n",
       "      <td>62012</td>\n",
       "      <td>60169</td>\n",
       "      <td>14056</td>\n",
       "      <td>400</td>\n",
       "      <td>62012</td>\n",
       "      <td>12</td>\n",
       "      <td>Processed</td>\n",
       "      <td>/workdir/outdir/pipeline_output/data_analysis/...</td>\n",
       "      <td>Processed</td>\n",
       "      <td>/workdir/outdir/pipeline_output/data_analysis/...</td>\n",
       "    </tr>\n",
       "    <tr>\n",
       "      <th>33</th>\n",
       "      <td>R7288</td>\n",
       "      <td>TML10S4</td>\n",
       "      <td>Yes</td>\n",
       "      <td>Lung_panel version 1.1</td>\n",
       "      <td>Vi</td>\n",
       "      <td>L10</td>\n",
       "      <td>S4</td>\n",
       "      <td>TML10S4_R7288</td>\n",
       "      <td>34-TML10S4_S7534-S7734</td>\n",
       "      <td>/mnt/GS-BACKUP05/FASTQ/2025/R7288/zatm/34-TML1...</td>\n",
       "      <td>...</td>\n",
       "      <td>129486</td>\n",
       "      <td>125192</td>\n",
       "      <td>16096</td>\n",
       "      <td>432</td>\n",
       "      <td>129486</td>\n",
       "      <td>12</td>\n",
       "      <td>Processed</td>\n",
       "      <td>/workdir/outdir/pipeline_output/data_analysis/...</td>\n",
       "      <td>Processed</td>\n",
       "      <td>/workdir/outdir/pipeline_output/data_analysis/...</td>\n",
       "    </tr>\n",
       "    <tr>\n",
       "      <th>34</th>\n",
       "      <td>R7288</td>\n",
       "      <td>TML10S5</td>\n",
       "      <td>Yes</td>\n",
       "      <td>Lung_panel version 1.1</td>\n",
       "      <td>Vi</td>\n",
       "      <td>L10</td>\n",
       "      <td>S5</td>\n",
       "      <td>TML10S5_R7288</td>\n",
       "      <td>35-TML10S5_S7535-S7735</td>\n",
       "      <td>/mnt/GS-BACKUP05/FASTQ/2025/R7288/zatm/35-TML1...</td>\n",
       "      <td>...</td>\n",
       "      <td>100284</td>\n",
       "      <td>99435</td>\n",
       "      <td>15632</td>\n",
       "      <td>620</td>\n",
       "      <td>100284</td>\n",
       "      <td>12</td>\n",
       "      <td>Processed</td>\n",
       "      <td>/workdir/outdir/pipeline_output/data_analysis/...</td>\n",
       "      <td>Processed</td>\n",
       "      <td>/workdir/outdir/pipeline_output/data_analysis/...</td>\n",
       "    </tr>\n",
       "    <tr>\n",
       "      <th>36</th>\n",
       "      <td>R7288</td>\n",
       "      <td>TML11S2</td>\n",
       "      <td>Yes</td>\n",
       "      <td>Lung_panel version 1.1</td>\n",
       "      <td>Vi</td>\n",
       "      <td>L11</td>\n",
       "      <td>S2</td>\n",
       "      <td>TML11S2_R7288</td>\n",
       "      <td>37-TML11S2_S7537-S7737</td>\n",
       "      <td>/mnt/GS-BACKUP05/FASTQ/2025/R7288/zatm/37-TML1...</td>\n",
       "      <td>...</td>\n",
       "      <td>42106</td>\n",
       "      <td>36143</td>\n",
       "      <td>9860</td>\n",
       "      <td>732</td>\n",
       "      <td>42106</td>\n",
       "      <td>13</td>\n",
       "      <td>Processed</td>\n",
       "      <td>/workdir/outdir/pipeline_output/data_analysis/...</td>\n",
       "      <td>Processed</td>\n",
       "      <td>/workdir/outdir/pipeline_output/data_analysis/...</td>\n",
       "    </tr>\n",
       "    <tr>\n",
       "      <th>37</th>\n",
       "      <td>R7288</td>\n",
       "      <td>TML11S3</td>\n",
       "      <td>Yes</td>\n",
       "      <td>Lung_panel version 1.1</td>\n",
       "      <td>Vi</td>\n",
       "      <td>L11</td>\n",
       "      <td>S3</td>\n",
       "      <td>TML11S3_R7288</td>\n",
       "      <td>38-TML11S3_S7538-S7738</td>\n",
       "      <td>/mnt/GS-BACKUP05/FASTQ/2025/R7288/zatm/38-TML1...</td>\n",
       "      <td>...</td>\n",
       "      <td>81990</td>\n",
       "      <td>71868</td>\n",
       "      <td>14072</td>\n",
       "      <td>880</td>\n",
       "      <td>81990</td>\n",
       "      <td>13</td>\n",
       "      <td>Processed</td>\n",
       "      <td>/workdir/outdir/pipeline_output/data_analysis/...</td>\n",
       "      <td>Processed</td>\n",
       "      <td>/workdir/outdir/pipeline_output/data_analysis/...</td>\n",
       "    </tr>\n",
       "    <tr>\n",
       "      <th>38</th>\n",
       "      <td>R7288</td>\n",
       "      <td>TML11S4</td>\n",
       "      <td>Yes</td>\n",
       "      <td>Lung_panel version 1.1</td>\n",
       "      <td>Vi</td>\n",
       "      <td>L11</td>\n",
       "      <td>S4</td>\n",
       "      <td>TML11S4_R7288</td>\n",
       "      <td>39-TML11S4_S7539-S7739</td>\n",
       "      <td>/mnt/GS-BACKUP05/FASTQ/2025/R7288/zatm/39-TML1...</td>\n",
       "      <td>...</td>\n",
       "      <td>172094</td>\n",
       "      <td>166218</td>\n",
       "      <td>16372</td>\n",
       "      <td>950</td>\n",
       "      <td>172094</td>\n",
       "      <td>13</td>\n",
       "      <td>Processed</td>\n",
       "      <td>/workdir/outdir/pipeline_output/data_analysis/...</td>\n",
       "      <td>Processed</td>\n",
       "      <td>/workdir/outdir/pipeline_output/data_analysis/...</td>\n",
       "    </tr>\n",
       "    <tr>\n",
       "      <th>39</th>\n",
       "      <td>R7288</td>\n",
       "      <td>TML11S5</td>\n",
       "      <td>Yes</td>\n",
       "      <td>Lung_panel version 1.1</td>\n",
       "      <td>Vi</td>\n",
       "      <td>L11</td>\n",
       "      <td>S5</td>\n",
       "      <td>TML11S5_R7288</td>\n",
       "      <td>40-TML11S5_S7540-S7740</td>\n",
       "      <td>/mnt/GS-BACKUP05/FASTQ/2025/R7288/zatm/40-TML1...</td>\n",
       "      <td>...</td>\n",
       "      <td>1363230</td>\n",
       "      <td>1331624</td>\n",
       "      <td>22616</td>\n",
       "      <td>1438</td>\n",
       "      <td>1363230</td>\n",
       "      <td>13</td>\n",
       "      <td>Processed</td>\n",
       "      <td>/workdir/outdir/pipeline_output/data_analysis/...</td>\n",
       "      <td>Processed</td>\n",
       "      <td>/workdir/outdir/pipeline_output/data_analysis/...</td>\n",
       "    </tr>\n",
       "    <tr>\n",
       "      <th>40</th>\n",
       "      <td>R7288</td>\n",
       "      <td>TMPANEL1</td>\n",
       "      <td>Yes</td>\n",
       "      <td>Lung_panel version 1.1</td>\n",
       "      <td>Vi</td>\n",
       "      <td>NaN</td>\n",
       "      <td>NaN</td>\n",
       "      <td>TMPANEL1_R7288</td>\n",
       "      <td>41-TMPANEL1_S7541-S7741</td>\n",
       "      <td>/mnt/GS-BACKUP05/FASTQ/2025/R7288/zatm/41-TMPA...</td>\n",
       "      <td>...</td>\n",
       "      <td>3745654</td>\n",
       "      <td>3666329</td>\n",
       "      <td>40900</td>\n",
       "      <td>740</td>\n",
       "      <td>3745654</td>\n",
       "      <td>13</td>\n",
       "      <td>Processed</td>\n",
       "      <td>/workdir/outdir/pipeline_output/data_analysis/...</td>\n",
       "      <td>Processed</td>\n",
       "      <td>/workdir/outdir/pipeline_output/data_analysis/...</td>\n",
       "    </tr>\n",
       "    <tr>\n",
       "      <th>41</th>\n",
       "      <td>R7288</td>\n",
       "      <td>TMPANEL2</td>\n",
       "      <td>Yes</td>\n",
       "      <td>Lung_panel version 1.1</td>\n",
       "      <td>Vi</td>\n",
       "      <td>NaN</td>\n",
       "      <td>NaN</td>\n",
       "      <td>TMPANEL2_R7288</td>\n",
       "      <td>42-TMPANEL2_S7542-S7742</td>\n",
       "      <td>/mnt/GS-BACKUP05/FASTQ/2025/R7288/zatm/42-TMPA...</td>\n",
       "      <td>...</td>\n",
       "      <td>97838</td>\n",
       "      <td>97656</td>\n",
       "      <td>20716</td>\n",
       "      <td>98</td>\n",
       "      <td>97838</td>\n",
       "      <td>26</td>\n",
       "      <td>Processed</td>\n",
       "      <td>/workdir/outdir/pipeline_output/data_analysis/...</td>\n",
       "      <td>Processed</td>\n",
       "      <td>/workdir/outdir/pipeline_output/data_analysis/...</td>\n",
       "    </tr>\n",
       "    <tr>\n",
       "      <th>43</th>\n",
       "      <td>R7288</td>\n",
       "      <td>TMPANEL4</td>\n",
       "      <td>Yes</td>\n",
       "      <td>Lung_panel version 1.1</td>\n",
       "      <td>Vi</td>\n",
       "      <td>NaN</td>\n",
       "      <td>NaN</td>\n",
       "      <td>TMPANEL4_R7288</td>\n",
       "      <td>44-TMPANEL4_S7544-S7744</td>\n",
       "      <td>/mnt/GS-BACKUP05/FASTQ/2025/R7288/zatm/44-TMPA...</td>\n",
       "      <td>...</td>\n",
       "      <td>125348</td>\n",
       "      <td>121254</td>\n",
       "      <td>23028</td>\n",
       "      <td>136</td>\n",
       "      <td>125348</td>\n",
       "      <td>35</td>\n",
       "      <td>Processed</td>\n",
       "      <td>/workdir/outdir/pipeline_output/data_analysis/...</td>\n",
       "      <td>Processed</td>\n",
       "      <td>/workdir/outdir/pipeline_output/data_analysis/...</td>\n",
       "    </tr>\n",
       "  </tbody>\n",
       "</table>\n",
       "<p>42 rows × 31 columns</p>\n",
       "</div>"
      ],
      "text/plain": [
       "      Run  SampleID  UMI           Panel_version Name amplicon_name serial  \\\n",
       "0   R7288    TML1S1  Yes  Lung_panel version 1.1   Vi            L1     S1   \n",
       "1   R7288    TML1S2  Yes  Lung_panel version 1.1   Vi            L1     S2   \n",
       "2   R7288    TML1S3  Yes  Lung_panel version 1.1   Vi            L1     S3   \n",
       "3   R7288    TML1S4  Yes  Lung_panel version 1.1   Vi            L1     S4   \n",
       "4   R7288    TML1S5  Yes  Lung_panel version 1.1   Vi            L1     S5   \n",
       "5   R7288    TML2S1  Yes  Lung_panel version 1.1   Vi            L2     S1   \n",
       "6   R7288    TML2S2  Yes  Lung_panel version 1.1   Vi            L2     S2   \n",
       "7   R7288    TML2S3  Yes  Lung_panel version 1.1   Vi            L2     S3   \n",
       "8   R7288    TML2S4  Yes  Lung_panel version 1.1   Vi            L2     S4   \n",
       "9   R7288    TML2S5  Yes  Lung_panel version 1.1   Vi            L2     S5   \n",
       "10  R7288    TML3S1  Yes  Lung_panel version 1.1   Vi            L3     S1   \n",
       "11  R7288    TML3S2  Yes  Lung_panel version 1.1   Vi            L3     S2   \n",
       "12  R7288    TML3S3  Yes  Lung_panel version 1.1   Vi            L3     S3   \n",
       "13  R7288    TML3S4  Yes  Lung_panel version 1.1   Vi            L3     S4   \n",
       "14  R7288    TML3S5  Yes  Lung_panel version 1.1   Vi            L3     S5   \n",
       "15  R7288    TML5S1  Yes  Lung_panel version 1.1   Vi            L5     S1   \n",
       "16  R7288    TML5S2  Yes  Lung_panel version 1.1   Vi            L5     S2   \n",
       "17  R7288    TML5S3  Yes  Lung_panel version 1.1   Vi            L5     S3   \n",
       "18  R7288    TML5S4  Yes  Lung_panel version 1.1   Vi            L5     S4   \n",
       "19  R7288    TML5S5  Yes  Lung_panel version 1.1   Vi            L5     S5   \n",
       "20  R7288    TML8S1  Yes  Lung_panel version 1.1   Vi            L8     S1   \n",
       "21  R7288    TML8S2  Yes  Lung_panel version 1.1   Vi            L8     S2   \n",
       "22  R7288    TML8S3  Yes  Lung_panel version 1.1   Vi            L8     S3   \n",
       "23  R7288    TML8S4  Yes  Lung_panel version 1.1   Vi            L8     S4   \n",
       "24  R7288    TML8S5  Yes  Lung_panel version 1.1   Vi            L8     S5   \n",
       "25  R7288    TML9S1  Yes  Lung_panel version 1.1   Vi            L9     S1   \n",
       "26  R7288    TML9S2  Yes  Lung_panel version 1.1   Vi            L9     S2   \n",
       "27  R7288    TML9S3  Yes  Lung_panel version 1.1   Vi            L9     S3   \n",
       "28  R7288    TML9S4  Yes  Lung_panel version 1.1   Vi            L9     S4   \n",
       "29  R7288    TML9S5  Yes  Lung_panel version 1.1   Vi            L9     S5   \n",
       "30  R7288   TML10S1  Yes  Lung_panel version 1.1   Vi           L10     S1   \n",
       "31  R7288   TML10S2  Yes  Lung_panel version 1.1   Vi           L10     S2   \n",
       "32  R7288   TML10S3  Yes  Lung_panel version 1.1   Vi           L10     S3   \n",
       "33  R7288   TML10S4  Yes  Lung_panel version 1.1   Vi           L10     S4   \n",
       "34  R7288   TML10S5  Yes  Lung_panel version 1.1   Vi           L10     S5   \n",
       "36  R7288   TML11S2  Yes  Lung_panel version 1.1   Vi           L11     S2   \n",
       "37  R7288   TML11S3  Yes  Lung_panel version 1.1   Vi           L11     S3   \n",
       "38  R7288   TML11S4  Yes  Lung_panel version 1.1   Vi           L11     S4   \n",
       "39  R7288   TML11S5  Yes  Lung_panel version 1.1   Vi           L11     S5   \n",
       "40  R7288  TMPANEL1  Yes  Lung_panel version 1.1   Vi           NaN    NaN   \n",
       "41  R7288  TMPANEL2  Yes  Lung_panel version 1.1   Vi           NaN    NaN   \n",
       "43  R7288  TMPANEL4  Yes  Lung_panel version 1.1   Vi           NaN    NaN   \n",
       "\n",
       "          uniqueID                 filename  \\\n",
       "0     TML1S1_R7288     1-TML1S1_S7501-S7701   \n",
       "1     TML1S2_R7288     2-TML1S2_S7502-S7702   \n",
       "2     TML1S3_R7288     3-TML1S3_S7503-S7703   \n",
       "3     TML1S4_R7288     4-TML1S4_S7504-S7704   \n",
       "4     TML1S5_R7288     5-TML1S5_S7505-S7705   \n",
       "5     TML2S1_R7288     6-TML2S1_S7506-S7706   \n",
       "6     TML2S2_R7288     7-TML2S2_S7507-S7707   \n",
       "7     TML2S3_R7288     8-TML2S3_S7508-S7708   \n",
       "8     TML2S4_R7288     9-TML2S4_S7509-S7709   \n",
       "9     TML2S5_R7288    10-TML2S5_S7510-S7710   \n",
       "10    TML3S1_R7288    11-TML3S1_S7511-S7711   \n",
       "11    TML3S2_R7288    12-TML3S2_S7512-S7712   \n",
       "12    TML3S3_R7288    13-TML3S3_S7513-S7713   \n",
       "13    TML3S4_R7288    14-TML3S4_S7514-S7714   \n",
       "14    TML3S5_R7288    15-TML3S5_S7515-S7715   \n",
       "15    TML5S1_R7288    16-TML5S1_S7516-S7716   \n",
       "16    TML5S2_R7288    17-TML5S2_S7517-S7717   \n",
       "17    TML5S3_R7288    18-TML5S3_S7518-S7718   \n",
       "18    TML5S4_R7288    19-TML5S4_S7519-S7719   \n",
       "19    TML5S5_R7288    20-TML5S5_S7520-S7720   \n",
       "20    TML8S1_R7288    21-TML8S1_S7521-S7721   \n",
       "21    TML8S2_R7288    22-TML8S2_S7522-S7722   \n",
       "22    TML8S3_R7288    23-TML8S3_S7523-S7723   \n",
       "23    TML8S4_R7288    24-TML8S4_S7524-S7724   \n",
       "24    TML8S5_R7288    25-TML8S5_S7525-S7725   \n",
       "25    TML9S1_R7288    26-TML9S1_S7526-S7726   \n",
       "26    TML9S2_R7288    27-TML9S2_S7527-S7727   \n",
       "27    TML9S3_R7288    28-TML9S3_S7528-S7728   \n",
       "28    TML9S4_R7288    29-TML9S4_S7529-S7729   \n",
       "29    TML9S5_R7288    30-TML9S5_S7530-S7730   \n",
       "30   TML10S1_R7288   31-TML10S1_S7531-S7731   \n",
       "31   TML10S2_R7288   32-TML10S2_S7532-S7732   \n",
       "32   TML10S3_R7288   33-TML10S3_S7533-S7733   \n",
       "33   TML10S4_R7288   34-TML10S4_S7534-S7734   \n",
       "34   TML10S5_R7288   35-TML10S5_S7535-S7735   \n",
       "36   TML11S2_R7288   37-TML11S2_S7537-S7737   \n",
       "37   TML11S3_R7288   38-TML11S3_S7538-S7738   \n",
       "38   TML11S4_R7288   39-TML11S4_S7539-S7739   \n",
       "39   TML11S5_R7288   40-TML11S5_S7540-S7740   \n",
       "40  TMPANEL1_R7288  41-TMPANEL1_S7541-S7741   \n",
       "41  TMPANEL2_R7288  42-TMPANEL2_S7542-S7742   \n",
       "43  TMPANEL4_R7288  44-TMPANEL4_S7544-S7744   \n",
       "\n",
       "                                               FASTQ1  ... count_unmapped_bam  \\\n",
       "0   /mnt/GS-BACKUP05/FASTQ/2025/R7288/zatm/1-TML1S...  ...            2645274   \n",
       "1   /mnt/GS-BACKUP05/FASTQ/2025/R7288/zatm/2-TML1S...  ...            2195246   \n",
       "2   /mnt/GS-BACKUP05/FASTQ/2025/R7288/zatm/3-TML1S...  ...            3528722   \n",
       "3   /mnt/GS-BACKUP05/FASTQ/2025/R7288/zatm/4-TML1S...  ...            3210054   \n",
       "4   /mnt/GS-BACKUP05/FASTQ/2025/R7288/zatm/5-TML1S...  ...            3048870   \n",
       "5   /mnt/GS-BACKUP05/FASTQ/2025/R7288/zatm/6-TML2S...  ...            2948432   \n",
       "6   /mnt/GS-BACKUP05/FASTQ/2025/R7288/zatm/7-TML2S...  ...            1807688   \n",
       "7   /mnt/GS-BACKUP05/FASTQ/2025/R7288/zatm/8-TML2S...  ...            2295430   \n",
       "8   /mnt/GS-BACKUP05/FASTQ/2025/R7288/zatm/9-TML2S...  ...            2364928   \n",
       "9   /mnt/GS-BACKUP05/FASTQ/2025/R7288/zatm/10-TML2...  ...            2859666   \n",
       "10  /mnt/GS-BACKUP05/FASTQ/2025/R7288/zatm/11-TML3...  ...             419212   \n",
       "11  /mnt/GS-BACKUP05/FASTQ/2025/R7288/zatm/12-TML3...  ...             346982   \n",
       "12  /mnt/GS-BACKUP05/FASTQ/2025/R7288/zatm/13-TML3...  ...             306902   \n",
       "13  /mnt/GS-BACKUP05/FASTQ/2025/R7288/zatm/14-TML3...  ...            1623828   \n",
       "14  /mnt/GS-BACKUP05/FASTQ/2025/R7288/zatm/15-TML3...  ...            2572720   \n",
       "15  /mnt/GS-BACKUP05/FASTQ/2025/R7288/zatm/16-TML5...  ...            3454198   \n",
       "16  /mnt/GS-BACKUP05/FASTQ/2025/R7288/zatm/17-TML5...  ...            3923654   \n",
       "17  /mnt/GS-BACKUP05/FASTQ/2025/R7288/zatm/18-TML5...  ...            4216264   \n",
       "18  /mnt/GS-BACKUP05/FASTQ/2025/R7288/zatm/19-TML5...  ...            4048552   \n",
       "19  /mnt/GS-BACKUP05/FASTQ/2025/R7288/zatm/20-TML5...  ...            3184478   \n",
       "20  /mnt/GS-BACKUP05/FASTQ/2025/R7288/zatm/21-TML8...  ...            3126670   \n",
       "21  /mnt/GS-BACKUP05/FASTQ/2025/R7288/zatm/22-TML8...  ...            2956264   \n",
       "22  /mnt/GS-BACKUP05/FASTQ/2025/R7288/zatm/23-TML8...  ...            3355038   \n",
       "23  /mnt/GS-BACKUP05/FASTQ/2025/R7288/zatm/24-TML8...  ...            2957470   \n",
       "24  /mnt/GS-BACKUP05/FASTQ/2025/R7288/zatm/25-TML8...  ...            3127116   \n",
       "25  /mnt/GS-BACKUP05/FASTQ/2025/R7288/zatm/26-TML9...  ...            3591092   \n",
       "26  /mnt/GS-BACKUP05/FASTQ/2025/R7288/zatm/27-TML9...  ...            2401304   \n",
       "27  /mnt/GS-BACKUP05/FASTQ/2025/R7288/zatm/28-TML9...  ...            3648024   \n",
       "28  /mnt/GS-BACKUP05/FASTQ/2025/R7288/zatm/29-TML9...  ...            3345504   \n",
       "29  /mnt/GS-BACKUP05/FASTQ/2025/R7288/zatm/30-TML9...  ...            3605548   \n",
       "30  /mnt/GS-BACKUP05/FASTQ/2025/R7288/zatm/31-TML1...  ...              20050   \n",
       "31  /mnt/GS-BACKUP05/FASTQ/2025/R7288/zatm/32-TML1...  ...              35966   \n",
       "32  /mnt/GS-BACKUP05/FASTQ/2025/R7288/zatm/33-TML1...  ...              62012   \n",
       "33  /mnt/GS-BACKUP05/FASTQ/2025/R7288/zatm/34-TML1...  ...             129486   \n",
       "34  /mnt/GS-BACKUP05/FASTQ/2025/R7288/zatm/35-TML1...  ...             100284   \n",
       "36  /mnt/GS-BACKUP05/FASTQ/2025/R7288/zatm/37-TML1...  ...              42106   \n",
       "37  /mnt/GS-BACKUP05/FASTQ/2025/R7288/zatm/38-TML1...  ...              81990   \n",
       "38  /mnt/GS-BACKUP05/FASTQ/2025/R7288/zatm/39-TML1...  ...             172094   \n",
       "39  /mnt/GS-BACKUP05/FASTQ/2025/R7288/zatm/40-TML1...  ...            1363230   \n",
       "40  /mnt/GS-BACKUP05/FASTQ/2025/R7288/zatm/41-TMPA...  ...            3745654   \n",
       "41  /mnt/GS-BACKUP05/FASTQ/2025/R7288/zatm/42-TMPA...  ...              97838   \n",
       "43  /mnt/GS-BACKUP05/FASTQ/2025/R7288/zatm/44-TMPA...  ...             125348   \n",
       "\n",
       "   count_connor_annotated count_connor_fastq count_umi_bam  count_non_umi_bam  \\\n",
       "0                 2639164              34584           340            2645274   \n",
       "1                 2181957              32044           466            2195246   \n",
       "2                 3519234              38204           542            3528722   \n",
       "3                 3200836              36748           498            3210054   \n",
       "4                 3039512              36012           596            3048870   \n",
       "5                 2943330              23984           110            2948432   \n",
       "6                 1804105              20268            80            1807688   \n",
       "7                 2292264              21420            78            2295430   \n",
       "8                 2360907              21884            60            2364928   \n",
       "9                 2856735              23616           124            2859666   \n",
       "10                 415074              16740           272             419212   \n",
       "11                 290902              16432           264             346982   \n",
       "12                 304192              16608           280             306902   \n",
       "13                1468385              19516            48            1623828   \n",
       "14                2475495              23264           334            2572720   \n",
       "15                3401257                132            34            3454198   \n",
       "16                3873690                136            36            3923654   \n",
       "17                4171813                128            22            4216264   \n",
       "18                4015007                144            16            4048552   \n",
       "19                3170380                116            32            3184478   \n",
       "20                3120599              48636          1246            3126670   \n",
       "21                2947279              43000           894            2956264   \n",
       "22                3347334              46204          1038            3355038   \n",
       "23                2953274              42188           570            2957470   \n",
       "24                3125135              43976           996            3127116   \n",
       "25                3579150              37112           444            3591092   \n",
       "26                2386635              34204           292            2401304   \n",
       "27                3636281              36944           510            3648024   \n",
       "28                3331773              39160           310            3345504   \n",
       "29                3597681              36880           370            3605548   \n",
       "30                  18984               5972           168              20050   \n",
       "31                  34049              10300           326              35966   \n",
       "32                  60169              14056           400              62012   \n",
       "33                 125192              16096           432             129486   \n",
       "34                  99435              15632           620             100284   \n",
       "36                  36143               9860           732              42106   \n",
       "37                  71868              14072           880              81990   \n",
       "38                 166218              16372           950             172094   \n",
       "39                1331624              22616          1438            1363230   \n",
       "40                3666329              40900           740            3745654   \n",
       "41                  97656              20716            98              97838   \n",
       "43                 121254              23028           136             125348   \n",
       "\n",
       "    count_UMI_cov_file UMI_status  \\\n",
       "0                    4  Processed   \n",
       "1                    4  Processed   \n",
       "2                    4  Processed   \n",
       "3                    4  Processed   \n",
       "4                    4  Processed   \n",
       "5                   14  Processed   \n",
       "6                   15  Processed   \n",
       "7                   14  Processed   \n",
       "8                   14  Processed   \n",
       "9                   14  Processed   \n",
       "10                  13  Processed   \n",
       "11                  13  Processed   \n",
       "12                  14  Processed   \n",
       "13                  13  Processed   \n",
       "14                  13  Processed   \n",
       "15                   9  Processed   \n",
       "16                   9  Processed   \n",
       "17                   9  Processed   \n",
       "18                   9  Processed   \n",
       "19                   9  Processed   \n",
       "20                  16  Processed   \n",
       "21                  16  Processed   \n",
       "22                  16  Processed   \n",
       "23                  16  Processed   \n",
       "24                  16  Processed   \n",
       "25                  15  Processed   \n",
       "26                  20  Processed   \n",
       "27                  15  Processed   \n",
       "28                  16  Processed   \n",
       "29                  18  Processed   \n",
       "30                  12  Processed   \n",
       "31                  12  Processed   \n",
       "32                  12  Processed   \n",
       "33                  12  Processed   \n",
       "34                  12  Processed   \n",
       "36                  13  Processed   \n",
       "37                  13  Processed   \n",
       "38                  13  Processed   \n",
       "39                  13  Processed   \n",
       "40                  13  Processed   \n",
       "41                  26  Processed   \n",
       "43                  35  Processed   \n",
       "\n",
       "                                    UMI_processed_cov ignore_UMI_status  \\\n",
       "0   /workdir/outdir/pipeline_output/data_analysis/...         Processed   \n",
       "1   /workdir/outdir/pipeline_output/data_analysis/...         Processed   \n",
       "2   /workdir/outdir/pipeline_output/data_analysis/...         Processed   \n",
       "3   /workdir/outdir/pipeline_output/data_analysis/...         Processed   \n",
       "4   /workdir/outdir/pipeline_output/data_analysis/...         Processed   \n",
       "5   /workdir/outdir/pipeline_output/data_analysis/...         Processed   \n",
       "6   /workdir/outdir/pipeline_output/data_analysis/...         Processed   \n",
       "7   /workdir/outdir/pipeline_output/data_analysis/...         Processed   \n",
       "8   /workdir/outdir/pipeline_output/data_analysis/...         Processed   \n",
       "9   /workdir/outdir/pipeline_output/data_analysis/...         Processed   \n",
       "10  /workdir/outdir/pipeline_output/data_analysis/...         Processed   \n",
       "11  /workdir/outdir/pipeline_output/data_analysis/...         Processed   \n",
       "12  /workdir/outdir/pipeline_output/data_analysis/...         Processed   \n",
       "13  /workdir/outdir/pipeline_output/data_analysis/...         Processed   \n",
       "14  /workdir/outdir/pipeline_output/data_analysis/...         Processed   \n",
       "15  /workdir/outdir/pipeline_output/data_analysis/...         Processed   \n",
       "16  /workdir/outdir/pipeline_output/data_analysis/...         Processed   \n",
       "17  /workdir/outdir/pipeline_output/data_analysis/...         Processed   \n",
       "18  /workdir/outdir/pipeline_output/data_analysis/...         Processed   \n",
       "19  /workdir/outdir/pipeline_output/data_analysis/...         Processed   \n",
       "20  /workdir/outdir/pipeline_output/data_analysis/...         Processed   \n",
       "21  /workdir/outdir/pipeline_output/data_analysis/...         Processed   \n",
       "22  /workdir/outdir/pipeline_output/data_analysis/...         Processed   \n",
       "23  /workdir/outdir/pipeline_output/data_analysis/...         Processed   \n",
       "24  /workdir/outdir/pipeline_output/data_analysis/...         Processed   \n",
       "25  /workdir/outdir/pipeline_output/data_analysis/...         Processed   \n",
       "26  /workdir/outdir/pipeline_output/data_analysis/...         Processed   \n",
       "27  /workdir/outdir/pipeline_output/data_analysis/...         Processed   \n",
       "28  /workdir/outdir/pipeline_output/data_analysis/...         Processed   \n",
       "29  /workdir/outdir/pipeline_output/data_analysis/...         Processed   \n",
       "30  /workdir/outdir/pipeline_output/data_analysis/...         Processed   \n",
       "31  /workdir/outdir/pipeline_output/data_analysis/...         Processed   \n",
       "32  /workdir/outdir/pipeline_output/data_analysis/...         Processed   \n",
       "33  /workdir/outdir/pipeline_output/data_analysis/...         Processed   \n",
       "34  /workdir/outdir/pipeline_output/data_analysis/...         Processed   \n",
       "36  /workdir/outdir/pipeline_output/data_analysis/...         Processed   \n",
       "37  /workdir/outdir/pipeline_output/data_analysis/...         Processed   \n",
       "38  /workdir/outdir/pipeline_output/data_analysis/...         Processed   \n",
       "39  /workdir/outdir/pipeline_output/data_analysis/...         Processed   \n",
       "40  /workdir/outdir/pipeline_output/data_analysis/...         Processed   \n",
       "41  /workdir/outdir/pipeline_output/data_analysis/...         Processed   \n",
       "43  /workdir/outdir/pipeline_output/data_analysis/...         Processed   \n",
       "\n",
       "                             ignore_UMI_processed_cov  \n",
       "0   /workdir/outdir/pipeline_output/data_analysis/...  \n",
       "1   /workdir/outdir/pipeline_output/data_analysis/...  \n",
       "2   /workdir/outdir/pipeline_output/data_analysis/...  \n",
       "3   /workdir/outdir/pipeline_output/data_analysis/...  \n",
       "4   /workdir/outdir/pipeline_output/data_analysis/...  \n",
       "5   /workdir/outdir/pipeline_output/data_analysis/...  \n",
       "6   /workdir/outdir/pipeline_output/data_analysis/...  \n",
       "7   /workdir/outdir/pipeline_output/data_analysis/...  \n",
       "8   /workdir/outdir/pipeline_output/data_analysis/...  \n",
       "9   /workdir/outdir/pipeline_output/data_analysis/...  \n",
       "10  /workdir/outdir/pipeline_output/data_analysis/...  \n",
       "11  /workdir/outdir/pipeline_output/data_analysis/...  \n",
       "12  /workdir/outdir/pipeline_output/data_analysis/...  \n",
       "13  /workdir/outdir/pipeline_output/data_analysis/...  \n",
       "14  /workdir/outdir/pipeline_output/data_analysis/...  \n",
       "15  /workdir/outdir/pipeline_output/data_analysis/...  \n",
       "16  /workdir/outdir/pipeline_output/data_analysis/...  \n",
       "17  /workdir/outdir/pipeline_output/data_analysis/...  \n",
       "18  /workdir/outdir/pipeline_output/data_analysis/...  \n",
       "19  /workdir/outdir/pipeline_output/data_analysis/...  \n",
       "20  /workdir/outdir/pipeline_output/data_analysis/...  \n",
       "21  /workdir/outdir/pipeline_output/data_analysis/...  \n",
       "22  /workdir/outdir/pipeline_output/data_analysis/...  \n",
       "23  /workdir/outdir/pipeline_output/data_analysis/...  \n",
       "24  /workdir/outdir/pipeline_output/data_analysis/...  \n",
       "25  /workdir/outdir/pipeline_output/data_analysis/...  \n",
       "26  /workdir/outdir/pipeline_output/data_analysis/...  \n",
       "27  /workdir/outdir/pipeline_output/data_analysis/...  \n",
       "28  /workdir/outdir/pipeline_output/data_analysis/...  \n",
       "29  /workdir/outdir/pipeline_output/data_analysis/...  \n",
       "30  /workdir/outdir/pipeline_output/data_analysis/...  \n",
       "31  /workdir/outdir/pipeline_output/data_analysis/...  \n",
       "32  /workdir/outdir/pipeline_output/data_analysis/...  \n",
       "33  /workdir/outdir/pipeline_output/data_analysis/...  \n",
       "34  /workdir/outdir/pipeline_output/data_analysis/...  \n",
       "36  /workdir/outdir/pipeline_output/data_analysis/...  \n",
       "37  /workdir/outdir/pipeline_output/data_analysis/...  \n",
       "38  /workdir/outdir/pipeline_output/data_analysis/...  \n",
       "39  /workdir/outdir/pipeline_output/data_analysis/...  \n",
       "40  /workdir/outdir/pipeline_output/data_analysis/...  \n",
       "41  /workdir/outdir/pipeline_output/data_analysis/...  \n",
       "43  /workdir/outdir/pipeline_output/data_analysis/...  \n",
       "\n",
       "[42 rows x 31 columns]"
      ]
     },
     "execution_count": 7,
     "metadata": {},
     "output_type": "execute_result"
    }
   ],
   "source": [
    "run = \"R7288\"\n",
    "\n",
    "all_inputs = final_umi_rundf[(final_umi_rundf[\"Run\"] == run) & (final_umi_rundf[\"UMI_status\"] == \"Processed\")]\n",
    "all_inputs\n"
   ]
  }
 ],
 "metadata": {
  "kernelspec": {
   "display_name": "nextflow_dev",
   "language": "python",
   "name": "python3"
  },
  "language_info": {
   "codemirror_mode": {
    "name": "ipython",
    "version": 3
   },
   "file_extension": ".py",
   "mimetype": "text/x-python",
   "name": "python",
   "nbconvert_exporter": "python",
   "pygments_lexer": "ipython3",
   "version": "3.13.2"
  }
 },
 "nbformat": 4,
 "nbformat_minor": 5
}
